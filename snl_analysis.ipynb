{
 "cells": [
  {
   "cell_type": "markdown",
   "metadata": {},
   "source": [
    "### Analysis of the Saturday Night Live database\n",
    "\n",
    "If you have downloaded the snl database you have the following files available:\n",
    "\n",
    "* snl_season (sid, year)\n",
    "* snl_episode (sid, eid, year, aired)\n",
    "* snl_title (sid, eid, tid, title, titleType)\n",
    "* snl_actor (aid, name, isCast)\n",
    "* snl_actor_sketch (sid, eid, tid, aid, actorType)\n",
    "* snl_rating (lots of rating data from IMDb)\n",
    "\n",
    "In this notebook I want to have a first look at the data and show some interesting analysis that is possible with this dataset. Feel free to take your own look at it."
   ]
  },
  {
   "cell_type": "markdown",
   "metadata": {},
   "source": [
    "#### Imports & setup"
   ]
  },
  {
   "cell_type": "code",
   "execution_count": 1,
   "metadata": {
    "collapsed": false
   },
   "outputs": [
    {
     "data": {
      "text/html": [
       "\n",
       "    <div class=\"bk-root\">\n",
       "        <a href=\"http://bokeh.pydata.org\" target=\"_blank\" class=\"bk-logo bk-logo-small bk-logo-notebook\"></a>\n",
       "        <span id=\"df105a79-18ae-49ab-bb92-9c859781f469\">Loading BokehJS ...</span>\n",
       "    </div>"
      ]
     },
     "metadata": {},
     "output_type": "display_data"
    },
    {
     "data": {
      "application/javascript": [
       "\n",
       "(function(global) {\n",
       "  function now() {\n",
       "    return new Date();\n",
       "  }\n",
       "\n",
       "  var force = true;\n",
       "\n",
       "  if (typeof (window._bokeh_onload_callbacks) === \"undefined\" || force === true) {\n",
       "    window._bokeh_onload_callbacks = [];\n",
       "    window._bokeh_is_loading = undefined;\n",
       "  }\n",
       "\n",
       "\n",
       "  \n",
       "  if (typeof (window._bokeh_timeout) === \"undefined\" || force === true) {\n",
       "    window._bokeh_timeout = Date.now() + 5000;\n",
       "    window._bokeh_failed_load = false;\n",
       "  }\n",
       "\n",
       "  var NB_LOAD_WARNING = {'data': {'text/html':\n",
       "     \"<div style='background-color: #fdd'>\\n\"+\n",
       "     \"<p>\\n\"+\n",
       "     \"BokehJS does not appear to have successfully loaded. If loading BokehJS from CDN, this \\n\"+\n",
       "     \"may be due to a slow or bad network connection. Possible fixes:\\n\"+\n",
       "     \"</p>\\n\"+\n",
       "     \"<ul>\\n\"+\n",
       "     \"<li>re-rerun `output_notebook()` to attempt to load from CDN again, or</li>\\n\"+\n",
       "     \"<li>use INLINE resources instead, as so:</li>\\n\"+\n",
       "     \"</ul>\\n\"+\n",
       "     \"<code>\\n\"+\n",
       "     \"from bokeh.resources import INLINE\\n\"+\n",
       "     \"output_notebook(resources=INLINE)\\n\"+\n",
       "     \"</code>\\n\"+\n",
       "     \"</div>\"}};\n",
       "\n",
       "  function display_loaded() {\n",
       "    if (window.Bokeh !== undefined) {\n",
       "      document.getElementById(\"df105a79-18ae-49ab-bb92-9c859781f469\").textContent = \"BokehJS successfully loaded.\";\n",
       "    } else if (Date.now() < window._bokeh_timeout) {\n",
       "      setTimeout(display_loaded, 100)\n",
       "    }\n",
       "  }\n",
       "\n",
       "  function run_callbacks() {\n",
       "    window._bokeh_onload_callbacks.forEach(function(callback) { callback() });\n",
       "    delete window._bokeh_onload_callbacks\n",
       "    console.info(\"Bokeh: all callbacks have finished\");\n",
       "  }\n",
       "\n",
       "  function load_libs(js_urls, callback) {\n",
       "    window._bokeh_onload_callbacks.push(callback);\n",
       "    if (window._bokeh_is_loading > 0) {\n",
       "      console.log(\"Bokeh: BokehJS is being loaded, scheduling callback at\", now());\n",
       "      return null;\n",
       "    }\n",
       "    if (js_urls == null || js_urls.length === 0) {\n",
       "      run_callbacks();\n",
       "      return null;\n",
       "    }\n",
       "    console.log(\"Bokeh: BokehJS not loaded, scheduling load and callback at\", now());\n",
       "    window._bokeh_is_loading = js_urls.length;\n",
       "    for (var i = 0; i < js_urls.length; i++) {\n",
       "      var url = js_urls[i];\n",
       "      var s = document.createElement('script');\n",
       "      s.src = url;\n",
       "      s.async = false;\n",
       "      s.onreadystatechange = s.onload = function() {\n",
       "        window._bokeh_is_loading--;\n",
       "        if (window._bokeh_is_loading === 0) {\n",
       "          console.log(\"Bokeh: all BokehJS libraries loaded\");\n",
       "          run_callbacks()\n",
       "        }\n",
       "      };\n",
       "      s.onerror = function() {\n",
       "        console.warn(\"failed to load library \" + url);\n",
       "      };\n",
       "      console.log(\"Bokeh: injecting script tag for BokehJS library: \", url);\n",
       "      document.getElementsByTagName(\"head\")[0].appendChild(s);\n",
       "    }\n",
       "  };var element = document.getElementById(\"df105a79-18ae-49ab-bb92-9c859781f469\");\n",
       "  if (element == null) {\n",
       "    console.log(\"Bokeh: ERROR: autoload.js configured with elementid 'df105a79-18ae-49ab-bb92-9c859781f469' but no matching script tag was found. \")\n",
       "    return false;\n",
       "  }\n",
       "\n",
       "  var js_urls = [\"https://cdn.pydata.org/bokeh/release/bokeh-0.12.4.min.js\", \"https://cdn.pydata.org/bokeh/release/bokeh-widgets-0.12.4.min.js\"];\n",
       "\n",
       "  var inline_js = [\n",
       "    function(Bokeh) {\n",
       "      Bokeh.set_log_level(\"info\");\n",
       "    },\n",
       "    \n",
       "    function(Bokeh) {\n",
       "      \n",
       "      document.getElementById(\"df105a79-18ae-49ab-bb92-9c859781f469\").textContent = \"BokehJS is loading...\";\n",
       "    },\n",
       "    function(Bokeh) {\n",
       "      console.log(\"Bokeh: injecting CSS: https://cdn.pydata.org/bokeh/release/bokeh-0.12.4.min.css\");\n",
       "      Bokeh.embed.inject_css(\"https://cdn.pydata.org/bokeh/release/bokeh-0.12.4.min.css\");\n",
       "      console.log(\"Bokeh: injecting CSS: https://cdn.pydata.org/bokeh/release/bokeh-widgets-0.12.4.min.css\");\n",
       "      Bokeh.embed.inject_css(\"https://cdn.pydata.org/bokeh/release/bokeh-widgets-0.12.4.min.css\");\n",
       "    }\n",
       "  ];\n",
       "\n",
       "  function run_inline_js() {\n",
       "    \n",
       "    if ((window.Bokeh !== undefined) || (force === true)) {\n",
       "      for (var i = 0; i < inline_js.length; i++) {\n",
       "        inline_js[i](window.Bokeh);\n",
       "      }if (force === true) {\n",
       "        display_loaded();\n",
       "      }} else if (Date.now() < window._bokeh_timeout) {\n",
       "      setTimeout(run_inline_js, 100);\n",
       "    } else if (!window._bokeh_failed_load) {\n",
       "      console.log(\"Bokeh: BokehJS failed to load within specified timeout.\");\n",
       "      window._bokeh_failed_load = true;\n",
       "    } else if (force !== true) {\n",
       "      var cell = $(document.getElementById(\"df105a79-18ae-49ab-bb92-9c859781f469\")).parents('.cell').data().cell;\n",
       "      cell.output_area.append_execute_result(NB_LOAD_WARNING)\n",
       "    }\n",
       "\n",
       "  }\n",
       "\n",
       "  if (window._bokeh_is_loading === 0) {\n",
       "    console.log(\"Bokeh: BokehJS loaded, going straight to plotting\");\n",
       "    run_inline_js();\n",
       "  } else {\n",
       "    load_libs(js_urls, function() {\n",
       "      console.log(\"Bokeh: BokehJS plotting callback run at\", now());\n",
       "      run_inline_js();\n",
       "    });\n",
       "  }\n",
       "}(this));"
      ]
     },
     "metadata": {},
     "output_type": "display_data"
    }
   ],
   "source": [
    "import pandas as pd\n",
    "import numpy as np\n",
    "import bokeh\n",
    "from bokeh.io import output_notebook\n",
    "from bokeh.plotting import figure, show\n",
    "output_notebook()"
   ]
  },
  {
   "cell_type": "markdown",
   "metadata": {},
   "source": [
    "#### Load the data"
   ]
  },
  {
   "cell_type": "code",
   "execution_count": 2,
   "metadata": {
    "collapsed": false
   },
   "outputs": [],
   "source": [
    "dfs = pd.read_csv('./db/snl_season.csv', encoding=\"utf-8\")\n",
    "dfe = pd.read_csv('./db/snl_episode.csv', encoding=\"utf-8\",parse_dates=['aired'])\n",
    "dft = pd.read_csv('./db/snl_title.csv', encoding=\"utf-8\")\n",
    "dfa = pd.read_csv('./db/snl_actor.csv', encoding=\"utf-8\")\n",
    "dfat = pd.read_csv('./db/snl_actor_title.csv', encoding=\"utf-8\")\n",
    "dfr = pd.read_csv('./db/snl_rating.csv', encoding=\"utf-8\")"
   ]
  },
  {
   "cell_type": "markdown",
   "metadata": {},
   "source": [
    "#### Have a look at the data"
   ]
  },
  {
   "cell_type": "code",
   "execution_count": 3,
   "metadata": {
    "collapsed": false
   },
   "outputs": [
    {
     "data": {
      "text/html": [
       "<div>\n",
       "<table border=\"1\" class=\"dataframe\">\n",
       "  <thead>\n",
       "    <tr style=\"text-align: right;\">\n",
       "      <th></th>\n",
       "      <th>sid</th>\n",
       "      <th>year</th>\n",
       "    </tr>\n",
       "  </thead>\n",
       "  <tbody>\n",
       "    <tr>\n",
       "      <th>0</th>\n",
       "      <td>1</td>\n",
       "      <td>1975</td>\n",
       "    </tr>\n",
       "    <tr>\n",
       "      <th>1</th>\n",
       "      <td>2</td>\n",
       "      <td>1976</td>\n",
       "    </tr>\n",
       "  </tbody>\n",
       "</table>\n",
       "</div>"
      ],
      "text/plain": [
       "   sid  year\n",
       "0    1  1975\n",
       "1    2  1976"
      ]
     },
     "execution_count": 3,
     "metadata": {},
     "output_type": "execute_result"
    }
   ],
   "source": [
    "dfs.head(2)"
   ]
  },
  {
   "cell_type": "code",
   "execution_count": 4,
   "metadata": {
    "collapsed": false
   },
   "outputs": [
    {
     "data": {
      "text/html": [
       "<div>\n",
       "<table border=\"1\" class=\"dataframe\">\n",
       "  <thead>\n",
       "    <tr style=\"text-align: right;\">\n",
       "      <th></th>\n",
       "      <th>sid</th>\n",
       "      <th>eid</th>\n",
       "      <th>year</th>\n",
       "      <th>aired</th>\n",
       "    </tr>\n",
       "  </thead>\n",
       "  <tbody>\n",
       "    <tr>\n",
       "      <th>0</th>\n",
       "      <td>10</td>\n",
       "      <td>17</td>\n",
       "      <td>1984</td>\n",
       "      <td>1985-04-13</td>\n",
       "    </tr>\n",
       "    <tr>\n",
       "      <th>1</th>\n",
       "      <td>9</td>\n",
       "      <td>12</td>\n",
       "      <td>1983</td>\n",
       "      <td>1984-02-11</td>\n",
       "    </tr>\n",
       "  </tbody>\n",
       "</table>\n",
       "</div>"
      ],
      "text/plain": [
       "   sid  eid  year      aired\n",
       "0   10   17  1984 1985-04-13\n",
       "1    9   12  1983 1984-02-11"
      ]
     },
     "execution_count": 4,
     "metadata": {},
     "output_type": "execute_result"
    }
   ],
   "source": [
    "dfe.head(2)"
   ]
  },
  {
   "cell_type": "code",
   "execution_count": 5,
   "metadata": {
    "collapsed": false
   },
   "outputs": [
    {
     "data": {
      "text/html": [
       "<div>\n",
       "<table border=\"1\" class=\"dataframe\">\n",
       "  <thead>\n",
       "    <tr style=\"text-align: right;\">\n",
       "      <th></th>\n",
       "      <th>sid</th>\n",
       "      <th>eid</th>\n",
       "      <th>tid</th>\n",
       "      <th>title</th>\n",
       "      <th>titleType</th>\n",
       "    </tr>\n",
       "  </thead>\n",
       "  <tbody>\n",
       "    <tr>\n",
       "      <th>0</th>\n",
       "      <td>9</td>\n",
       "      <td>12</td>\n",
       "      <td>1984021118</td>\n",
       "      <td>NaN</td>\n",
       "      <td>Goodnights</td>\n",
       "    </tr>\n",
       "    <tr>\n",
       "      <th>1</th>\n",
       "      <td>10</td>\n",
       "      <td>17</td>\n",
       "      <td>1985041314</td>\n",
       "      <td>NaN</td>\n",
       "      <td>Goodnights</td>\n",
       "    </tr>\n",
       "  </tbody>\n",
       "</table>\n",
       "</div>"
      ],
      "text/plain": [
       "   sid  eid         tid title   titleType\n",
       "0    9   12  1984021118   NaN  Goodnights\n",
       "1   10   17  1985041314   NaN  Goodnights"
      ]
     },
     "execution_count": 5,
     "metadata": {},
     "output_type": "execute_result"
    }
   ],
   "source": [
    "dft.head(2)"
   ]
  },
  {
   "cell_type": "code",
   "execution_count": 6,
   "metadata": {
    "collapsed": false
   },
   "outputs": [
    {
     "data": {
      "text/html": [
       "<div>\n",
       "<table border=\"1\" class=\"dataframe\">\n",
       "  <thead>\n",
       "    <tr style=\"text-align: right;\">\n",
       "      <th></th>\n",
       "      <th>aid</th>\n",
       "      <th>name</th>\n",
       "      <th>isCast</th>\n",
       "    </tr>\n",
       "  </thead>\n",
       "  <tbody>\n",
       "    <tr>\n",
       "      <th>0</th>\n",
       "      <td>MiOD</td>\n",
       "      <td>Michael O'Donoghue</td>\n",
       "      <td>1</td>\n",
       "    </tr>\n",
       "    <tr>\n",
       "      <th>1</th>\n",
       "      <td>Chevy Chase</td>\n",
       "      <td>Chevy Chase</td>\n",
       "      <td>0</td>\n",
       "    </tr>\n",
       "  </tbody>\n",
       "</table>\n",
       "</div>"
      ],
      "text/plain": [
       "           aid                name  isCast\n",
       "0         MiOD  Michael O'Donoghue       1\n",
       "1  Chevy Chase         Chevy Chase       0"
      ]
     },
     "execution_count": 6,
     "metadata": {},
     "output_type": "execute_result"
    }
   ],
   "source": [
    "dfa.head(2)"
   ]
  },
  {
   "cell_type": "code",
   "execution_count": 7,
   "metadata": {
    "collapsed": false
   },
   "outputs": [
    {
     "data": {
      "text/html": [
       "<div>\n",
       "<table border=\"1\" class=\"dataframe\">\n",
       "  <thead>\n",
       "    <tr style=\"text-align: right;\">\n",
       "      <th></th>\n",
       "      <th>sid</th>\n",
       "      <th>eid</th>\n",
       "      <th>tid</th>\n",
       "      <th>aid</th>\n",
       "      <th>actorType</th>\n",
       "    </tr>\n",
       "  </thead>\n",
       "  <tbody>\n",
       "    <tr>\n",
       "      <th>0</th>\n",
       "      <td>4</td>\n",
       "      <td>20</td>\n",
       "      <td>1979052614</td>\n",
       "      <td>MiOD</td>\n",
       "      <td>cast</td>\n",
       "    </tr>\n",
       "    <tr>\n",
       "      <th>1</th>\n",
       "      <td>6</td>\n",
       "      <td>13</td>\n",
       "      <td>1981041112</td>\n",
       "      <td>Chevy Chase</td>\n",
       "      <td>cameo</td>\n",
       "    </tr>\n",
       "  </tbody>\n",
       "</table>\n",
       "</div>"
      ],
      "text/plain": [
       "   sid  eid         tid          aid actorType\n",
       "0    4   20  1979052614         MiOD      cast\n",
       "1    6   13  1981041112  Chevy Chase     cameo"
      ]
     },
     "execution_count": 7,
     "metadata": {},
     "output_type": "execute_result"
    }
   ],
   "source": [
    "dfat.head(2)"
   ]
  },
  {
   "cell_type": "code",
   "execution_count": 8,
   "metadata": {
    "collapsed": false
   },
   "outputs": [
    {
     "data": {
      "text/html": [
       "<div>\n",
       "<table border=\"1\" class=\"dataframe\">\n",
       "  <thead>\n",
       "    <tr style=\"text-align: right;\">\n",
       "      <th></th>\n",
       "      <th>sid</th>\n",
       "      <th>eid</th>\n",
       "      <th>1</th>\n",
       "      <th>10</th>\n",
       "      <th>2</th>\n",
       "      <th>3</th>\n",
       "      <th>4</th>\n",
       "      <th>5</th>\n",
       "      <th>6</th>\n",
       "      <th>7</th>\n",
       "      <th>...</th>\n",
       "      <th>Males Aged 45+_avg</th>\n",
       "      <th>Males under 18</th>\n",
       "      <th>Males under 18_avg</th>\n",
       "      <th>Males_avg</th>\n",
       "      <th>Non-US users</th>\n",
       "      <th>Non-US users_avg</th>\n",
       "      <th>Top 1000 voters</th>\n",
       "      <th>Top 1000 voters_avg</th>\n",
       "      <th>US users</th>\n",
       "      <th>US users_avg</th>\n",
       "    </tr>\n",
       "  </thead>\n",
       "  <tbody>\n",
       "    <tr>\n",
       "      <th>0</th>\n",
       "      <td>8</td>\n",
       "      <td>20</td>\n",
       "      <td>0</td>\n",
       "      <td>4</td>\n",
       "      <td>0</td>\n",
       "      <td>0</td>\n",
       "      <td>0</td>\n",
       "      <td>3</td>\n",
       "      <td>0</td>\n",
       "      <td>6</td>\n",
       "      <td>...</td>\n",
       "      <td>7.9</td>\n",
       "      <td>0</td>\n",
       "      <td>NaN</td>\n",
       "      <td>7.8</td>\n",
       "      <td>2</td>\n",
       "      <td>8.5</td>\n",
       "      <td>8</td>\n",
       "      <td>6.9</td>\n",
       "      <td>13</td>\n",
       "      <td>7.5</td>\n",
       "    </tr>\n",
       "    <tr>\n",
       "      <th>1</th>\n",
       "      <td>4</td>\n",
       "      <td>1</td>\n",
       "      <td>0</td>\n",
       "      <td>13</td>\n",
       "      <td>3</td>\n",
       "      <td>0</td>\n",
       "      <td>1</td>\n",
       "      <td>5</td>\n",
       "      <td>4</td>\n",
       "      <td>12</td>\n",
       "      <td>...</td>\n",
       "      <td>7.3</td>\n",
       "      <td>0</td>\n",
       "      <td>NaN</td>\n",
       "      <td>7.5</td>\n",
       "      <td>12</td>\n",
       "      <td>7.3</td>\n",
       "      <td>18</td>\n",
       "      <td>7.4</td>\n",
       "      <td>25</td>\n",
       "      <td>7.2</td>\n",
       "    </tr>\n",
       "  </tbody>\n",
       "</table>\n",
       "<p>2 rows × 50 columns</p>\n",
       "</div>"
      ],
      "text/plain": [
       "   sid  eid  1  10  2  3  4  5  6   7      ...       Males Aged 45+_avg  \\\n",
       "0    8   20  0   4  0  0  0  3  0   6      ...                      7.9   \n",
       "1    4    1  0  13  3  0  1  5  4  12      ...                      7.3   \n",
       "\n",
       "   Males under 18  Males under 18_avg  Males_avg  Non-US users  \\\n",
       "0               0                 NaN        7.8             2   \n",
       "1               0                 NaN        7.5            12   \n",
       "\n",
       "   Non-US users_avg  Top 1000 voters  Top 1000 voters_avg  US users  \\\n",
       "0               8.5                8                  6.9        13   \n",
       "1               7.3               18                  7.4        25   \n",
       "\n",
       "   US users_avg  \n",
       "0           7.5  \n",
       "1           7.2  \n",
       "\n",
       "[2 rows x 50 columns]"
      ]
     },
     "execution_count": 8,
     "metadata": {},
     "output_type": "execute_result"
    }
   ],
   "source": [
    "dfr.head(2)"
   ]
  },
  {
   "cell_type": "markdown",
   "metadata": {},
   "source": [
    "#### Combine episodes and ratings\n",
    "Since the ratings are for the episode we combine the two dataframes."
   ]
  },
  {
   "cell_type": "code",
   "execution_count": 9,
   "metadata": {
    "collapsed": false
   },
   "outputs": [],
   "source": [
    "dfer = pd.merge(dfe, dfr, on=['sid', 'eid'])"
   ]
  },
  {
   "cell_type": "markdown",
   "metadata": {},
   "source": [
    "#### Ratings over time (per episode)\n",
    "Now we can create our first graph. Let us look at the ratings over time. First sort the dataframe by season and episode."
   ]
  },
  {
   "cell_type": "code",
   "execution_count": 10,
   "metadata": {
    "collapsed": false
   },
   "outputs": [],
   "source": [
    "dfer = dfer.sort_values(['sid', 'eid'], ascending=[True, True]).reset_index(drop=True)"
   ]
  },
  {
   "cell_type": "code",
   "execution_count": 11,
   "metadata": {
    "collapsed": false
   },
   "outputs": [
    {
     "data": {
      "text/html": [
       "\n",
       "\n",
       "    <div class=\"bk-root\">\n",
       "        <div class=\"bk-plotdiv\" id=\"f6198d9c-53e4-4332-800f-56e102a63ad4\"></div>\n",
       "    </div>\n",
       "<script type=\"text/javascript\">\n",
       "  \n",
       "  (function(global) {\n",
       "    function now() {\n",
       "      return new Date();\n",
       "    }\n",
       "  \n",
       "    var force = false;\n",
       "  \n",
       "    if (typeof (window._bokeh_onload_callbacks) === \"undefined\" || force === true) {\n",
       "      window._bokeh_onload_callbacks = [];\n",
       "      window._bokeh_is_loading = undefined;\n",
       "    }\n",
       "  \n",
       "  \n",
       "    \n",
       "    if (typeof (window._bokeh_timeout) === \"undefined\" || force === true) {\n",
       "      window._bokeh_timeout = Date.now() + 0;\n",
       "      window._bokeh_failed_load = false;\n",
       "    }\n",
       "  \n",
       "    var NB_LOAD_WARNING = {'data': {'text/html':\n",
       "       \"<div style='background-color: #fdd'>\\n\"+\n",
       "       \"<p>\\n\"+\n",
       "       \"BokehJS does not appear to have successfully loaded. If loading BokehJS from CDN, this \\n\"+\n",
       "       \"may be due to a slow or bad network connection. Possible fixes:\\n\"+\n",
       "       \"</p>\\n\"+\n",
       "       \"<ul>\\n\"+\n",
       "       \"<li>re-rerun `output_notebook()` to attempt to load from CDN again, or</li>\\n\"+\n",
       "       \"<li>use INLINE resources instead, as so:</li>\\n\"+\n",
       "       \"</ul>\\n\"+\n",
       "       \"<code>\\n\"+\n",
       "       \"from bokeh.resources import INLINE\\n\"+\n",
       "       \"output_notebook(resources=INLINE)\\n\"+\n",
       "       \"</code>\\n\"+\n",
       "       \"</div>\"}};\n",
       "  \n",
       "    function display_loaded() {\n",
       "      if (window.Bokeh !== undefined) {\n",
       "        document.getElementById(\"f6198d9c-53e4-4332-800f-56e102a63ad4\").textContent = \"BokehJS successfully loaded.\";\n",
       "      } else if (Date.now() < window._bokeh_timeout) {\n",
       "        setTimeout(display_loaded, 100)\n",
       "      }\n",
       "    }if ((window.Jupyter !== undefined) && Jupyter.notebook.kernel) {\n",
       "      comm_manager = Jupyter.notebook.kernel.comm_manager\n",
       "      comm_manager.register_target(\"37112074-adc5-43f3-bcb8-dcb8b4634fe8\", function () {});\n",
       "    }\n",
       "  \n",
       "    function run_callbacks() {\n",
       "      window._bokeh_onload_callbacks.forEach(function(callback) { callback() });\n",
       "      delete window._bokeh_onload_callbacks\n",
       "      console.info(\"Bokeh: all callbacks have finished\");\n",
       "    }\n",
       "  \n",
       "    function load_libs(js_urls, callback) {\n",
       "      window._bokeh_onload_callbacks.push(callback);\n",
       "      if (window._bokeh_is_loading > 0) {\n",
       "        console.log(\"Bokeh: BokehJS is being loaded, scheduling callback at\", now());\n",
       "        return null;\n",
       "      }\n",
       "      if (js_urls == null || js_urls.length === 0) {\n",
       "        run_callbacks();\n",
       "        return null;\n",
       "      }\n",
       "      console.log(\"Bokeh: BokehJS not loaded, scheduling load and callback at\", now());\n",
       "      window._bokeh_is_loading = js_urls.length;\n",
       "      for (var i = 0; i < js_urls.length; i++) {\n",
       "        var url = js_urls[i];\n",
       "        var s = document.createElement('script');\n",
       "        s.src = url;\n",
       "        s.async = false;\n",
       "        s.onreadystatechange = s.onload = function() {\n",
       "          window._bokeh_is_loading--;\n",
       "          if (window._bokeh_is_loading === 0) {\n",
       "            console.log(\"Bokeh: all BokehJS libraries loaded\");\n",
       "            run_callbacks()\n",
       "          }\n",
       "        };\n",
       "        s.onerror = function() {\n",
       "          console.warn(\"failed to load library \" + url);\n",
       "        };\n",
       "        console.log(\"Bokeh: injecting script tag for BokehJS library: \", url);\n",
       "        document.getElementsByTagName(\"head\")[0].appendChild(s);\n",
       "      }\n",
       "    };var element = document.getElementById(\"f6198d9c-53e4-4332-800f-56e102a63ad4\");\n",
       "    if (element == null) {\n",
       "      console.log(\"Bokeh: ERROR: autoload.js configured with elementid 'f6198d9c-53e4-4332-800f-56e102a63ad4' but no matching script tag was found. \")\n",
       "      return false;\n",
       "    }\n",
       "  \n",
       "    var js_urls = [];\n",
       "  \n",
       "    var inline_js = [\n",
       "      function(Bokeh) {\n",
       "        (function() {\n",
       "          var fn = function() {\n",
       "            var docs_json = {\"4f9f9730-3ba2-4b10-a3d5-a9fb41cfa553\":{\"roots\":{\"references\":[{\"attributes\":{\"dimension\":1,\"plot\":{\"id\":\"c9e4dcb5-c498-41b8-a0ac-9bb89bd48584\",\"subtype\":\"Figure\",\"type\":\"Plot\"},\"ticker\":{\"id\":\"532d84e0-e9ca-4963-9b8a-7168d0b6aed7\",\"type\":\"BasicTicker\"}},\"id\":\"a3841831-df49-4181-a0ec-a552875c6dda\",\"type\":\"Grid\"},{\"attributes\":{},\"id\":\"532d84e0-e9ca-4963-9b8a-7168d0b6aed7\",\"type\":\"BasicTicker\"},{\"attributes\":{\"plot\":null,\"text\":\"\"},\"id\":\"701f68c3-ba42-408e-8c7d-d0a723b899ec\",\"type\":\"Title\"},{\"attributes\":{\"formatter\":{\"id\":\"e1326af0-b267-4359-9d1a-4258dcba276a\",\"type\":\"BasicTickFormatter\"},\"plot\":{\"id\":\"c9e4dcb5-c498-41b8-a0ac-9bb89bd48584\",\"subtype\":\"Figure\",\"type\":\"Plot\"},\"ticker\":{\"id\":\"532d84e0-e9ca-4963-9b8a-7168d0b6aed7\",\"type\":\"BasicTicker\"}},\"id\":\"a72b3f89-99c0-4fc4-a1ef-42199a4b317c\",\"type\":\"LinearAxis\"},{\"attributes\":{\"plot\":{\"id\":\"c9e4dcb5-c498-41b8-a0ac-9bb89bd48584\",\"subtype\":\"Figure\",\"type\":\"Plot\"},\"ticker\":{\"id\":\"2b7d6dc9-00d6-461f-9aa6-2329e5a61b9e\",\"type\":\"BasicTicker\"}},\"id\":\"efff5410-04b9-4ecc-b1cc-1a0141fe565c\",\"type\":\"Grid\"},{\"attributes\":{},\"id\":\"e1326af0-b267-4359-9d1a-4258dcba276a\",\"type\":\"BasicTickFormatter\"},{\"attributes\":{},\"id\":\"2b7d6dc9-00d6-461f-9aa6-2329e5a61b9e\",\"type\":\"BasicTicker\"},{\"attributes\":{\"formatter\":{\"id\":\"662cfeb3-e62c-4db2-8b63-1f257525487a\",\"type\":\"BasicTickFormatter\"},\"plot\":{\"id\":\"c9e4dcb5-c498-41b8-a0ac-9bb89bd48584\",\"subtype\":\"Figure\",\"type\":\"Plot\"},\"ticker\":{\"id\":\"2b7d6dc9-00d6-461f-9aa6-2329e5a61b9e\",\"type\":\"BasicTicker\"}},\"id\":\"c9585141-9eb6-47d5-9567-9b619a6ce5b4\",\"type\":\"LinearAxis\"},{\"attributes\":{\"active_drag\":\"auto\",\"active_scroll\":\"auto\",\"active_tap\":\"auto\",\"tools\":[{\"id\":\"8f3fc25e-db62-4127-81ba-bc53e97ef312\",\"type\":\"PanTool\"},{\"id\":\"f461c33e-1d20-4d72-89a4-122bb7c3f107\",\"type\":\"WheelZoomTool\"},{\"id\":\"b68a76ea-6842-4291-9880-b1ad5e58dfa4\",\"type\":\"BoxZoomTool\"},{\"id\":\"b2d78e8b-3f2f-4840-84c4-3a1dadbb1e69\",\"type\":\"SaveTool\"},{\"id\":\"dcc7a4a7-22bf-45e8-86e1-7e44d9b7b409\",\"type\":\"ResetTool\"},{\"id\":\"90c1126b-8a77-4de6-8708-b49d727d317e\",\"type\":\"HelpTool\"}]},\"id\":\"58e07a6e-ad54-44a4-9c9f-8fd395b9c81f\",\"type\":\"Toolbar\"},{\"attributes\":{\"callback\":null},\"id\":\"fb77c9fb-c543-4f09-b754-bb07176ad661\",\"type\":\"DataRange1d\"},{\"attributes\":{},\"id\":\"bd3cd832-9784-4249-b08f-f2b7e22d111b\",\"type\":\"ToolEvents\"},{\"attributes\":{\"data_source\":{\"id\":\"922aa6bb-324b-491e-8944-b83168bb300f\",\"type\":\"ColumnDataSource\"},\"glyph\":{\"id\":\"e7957973-39c2-4e1f-bef3-d059baf9a274\",\"type\":\"MultiLine\"},\"hover_glyph\":null,\"nonselection_glyph\":{\"id\":\"4635deb3-ceb5-4e75-9c5e-23c2416a8869\",\"type\":\"MultiLine\"},\"selection_glyph\":null},\"id\":\"781bf851-ea91-4c9c-981f-3369600980db\",\"type\":\"GlyphRenderer\"},{\"attributes\":{\"callback\":null,\"column_names\":[\"xs\",\"ys\",\"line_color\"],\"data\":{\"line_color\":[\"blue\",\"red\"],\"xs\":[[0,1,2,3,4,5,6,7,8,9,10,11,12,13,14,15,16,17,18,19,20,21,22,23,24,25,26,27,28,29,30,31,32,33,34,35,36,37,38,39,40,41,42,43,44,45,46,47,48,49,50,51,52,53,54,55,56,57,58,59,60,61,62,63,64,65,66,67,68,69,70,71,72,73,74,75,76,77,78,79,80,81,82,83,84,85,86,87,88,89,90,91,92,93,94,95,96,97,98,99,100,101,102,103,104,105,106,107,108,109,110,111,112,113,114,115,116,117,118,119,120,121,122,123,124,125,126,127,128,129,130,131,132,133,134,135,136,137,138,139,140,141,142,143,144,145,146,147,148,149,150,151,152,153,154,155,156,157,158,159,160,161,162,163,164,165,166,167,168,169,170,171,172,173,174,175,176,177,178,179,180,181,182,183,184,185,186,187,188,189,190,191,192,193,194,195,196,197,198,199,200,201,202,203,204,205,206,207,208,209,210,211,212,213,214,215,216,217,218,219,220,221,222,223,224,225,226,227,228,229,230,231,232,233,234,235,236,237,238,239,240,241,242,243,244,245,246,247,248,249,250,251,252,253,254,255,256,257,258,259,260,261,262,263,264,265,266,267,268,269,270,271,272,273,274,275,276,277,278,279,280,281,282,283,284,285,286,287,288,289,290,291,292,293,294,295,296,297,298,299,300,301,302,303,304,305,306,307,308,309,310,311,312,313,314,315,316,317,318,319,320,321,322,323,324,325,326,327,328,329,330,331,332,333,334,335,336,337,338,339,340,341,342,343,344,345,346,347,348,349,350,351,352,353,354,355,356,357,358,359,360,361,362,363,364,365,366,367,368,369,370,371,372,373,374,375,376,377,378,379,380,381,382,383,384,385,386,387,388,389,390,391,392,393,394,395,396,397,398,399,400,401,402,403,404,405,406,407,408,409,410,411,412,413,414,415,416,417,418,419,420,421,422,423,424,425,426,427,428,429,430,431,432,433,434,435,436,437,438,439,440,441,442,443,444,445,446,447,448,449,450,451,452,453,454,455,456,457,458,459,460,461,462,463,464,465,466,467,468,469,470,471,472,473,474,475,476,477,478,479,480,481,482,483,484,485,486,487,488,489,490,491,492,493,494,495,496,497,498,499,500,501,502,503,504,505,506,507,508,509,510,511,512,513,514,515,516,517,518,519,520,521,522,523,524,525,526,527,528,529,530,531,532,533,534,535,536,537,538,539,540,541,542,543,544,545,546,547,548,549,550,551,552,553,554,555,556,557,558,559,560,561,562,563,564,565,566,567,568,569,570,571,572,573,574,575,576,577,578,579,580,581,582,583,584,585,586,587,588,589,590,591,592,593,594,595,596,597,598,599,600,601,602,603,604,605,606,607,608,609,610,611,612,613,614,615,616,617,618,619,620,621,622,623,624,625,626,627,628,629,630,631,632,633,634,635,636,637,638,639,640,641,642,643,644,645,646,647,648,649,650,651,652,653,654,655,656,657,658,659,660,661,662,663,664,665,666,667,668,669,670,671,672,673,674,675,676,677,678,679,680,681,682,683,684,685,686,687,688,689,690,691,692,693,694,695,696,697,698,699,700,701,702,703,704,705,706,707,708,709,710,711,712,713,714,715,716,717,718,719,720,721,722,723,724,725,726,727,728,729,730,731,732,733,734,735,736,737,738,739,740,741,742,743,744,745,746,747,748,749,750,751,752,753,754,755,756,757,758,759,760,761,762,763,764,765,766,767,768,769,770,771,772,773,774,775,776,777,778,779,780,781,782,783,784,785,786,787,788,789,790,791,792,793,794,795,796,797,798,799,800,801,802,803,804,805,806,807,808,809,810,811,812,813,814,815,816,817,818,819,820],[0,1,2,3,4,5,6,7,8,9,10,11,12,13,14,15,16,17,18,19,20,21,22,23,24,25,26,27,28,29,30,31,32,33,34,35,36,37,38,39,40,41,42,43,44,45,46,47,48,49,50,51,52,53,54,55,56,57,58,59,60,61,62,63,64,65,66,67,68,69,70,71,72,73,74,75,76,77,78,79,80,81,82,83,84,85,86,87,88,89,90,91,92,93,94,95,96,97,98,99,100,101,102,103,104,105,106,107,108,109,110,111,112,113,114,115,116,117,118,119,120,121,122,123,124,125,126,127,128,129,130,131,132,133,134,135,136,137,138,139,140,141,142,143,144,145,146,147,148,149,150,151,152,153,154,155,156,157,158,159,160,161,162,163,164,165,166,167,168,169,170,171,172,173,174,175,176,177,178,179,180,181,182,183,184,185,186,187,188,189,190,191,192,193,194,195,196,197,198,199,200,201,202,203,204,205,206,207,208,209,210,211,212,213,214,215,216,217,218,219,220,221,222,223,224,225,226,227,228,229,230,231,232,233,234,235,236,237,238,239,240,241,242,243,244,245,246,247,248,249,250,251,252,253,254,255,256,257,258,259,260,261,262,263,264,265,266,267,268,269,270,271,272,273,274,275,276,277,278,279,280,281,282,283,284,285,286,287,288,289,290,291,292,293,294,295,296,297,298,299,300,301,302,303,304,305,306,307,308,309,310,311,312,313,314,315,316,317,318,319,320,321,322,323,324,325,326,327,328,329,330,331,332,333,334,335,336,337,338,339,340,341,342,343,344,345,346,347,348,349,350,351,352,353,354,355,356,357,358,359,360,361,362,363,364,365,366,367,368,369,370,371,372,373,374,375,376,377,378,379,380,381,382,383,384,385,386,387,388,389,390,391,392,393,394,395,396,397,398,399,400,401,402,403,404,405,406,407,408,409,410,411,412,413,414,415,416,417,418,419,420,421,422,423,424,425,426,427,428,429,430,431,432,433,434,435,436,437,438,439,440,441,442,443,444,445,446,447,448,449,450,451,452,453,454,455,456,457,458,459,460,461,462,463,464,465,466,467,468,469,470,471,472,473,474,475,476,477,478,479,480,481,482,483,484,485,486,487,488,489,490,491,492,493,494,495,496,497,498,499,500,501,502,503,504,505,506,507,508,509,510,511,512,513,514,515,516,517,518,519,520,521,522,523,524,525,526,527,528,529,530,531,532,533,534,535,536,537,538,539,540,541,542,543,544,545,546,547,548,549,550,551,552,553,554,555,556,557,558,559,560,561,562,563,564,565,566,567,568,569,570,571,572,573,574,575,576,577,578,579,580,581,582,583,584,585,586,587,588,589,590,591,592,593,594,595,596,597,598,599,600,601,602,603,604,605,606,607,608,609,610,611,612,613,614,615,616,617,618,619,620,621,622,623,624,625,626,627,628,629,630,631,632,633,634,635,636,637,638,639,640,641,642,643,644,645,646,647,648,649,650,651,652,653,654,655,656,657,658,659,660,661,662,663,664,665,666,667,668,669,670,671,672,673,674,675,676,677,678,679,680,681,682,683,684,685,686,687,688,689,690,691,692,693,694,695,696,697,698,699,700,701,702,703,704,705,706,707,708,709,710,711,712,713,714,715,716,717,718,719,720,721,722,723,724,725,726,727,728,729,730,731,732,733,734,735,736,737,738,739,740,741,742,743,744,745,746,747,748,749,750,751,752,753,754,755,756,757,758,759,760,761,762,763,764,765,766,767,768,769,770,771,772,773,774,775,776,777,778,779,780,781,782,783,784,785,786,787,788,789,790,791,792,793,794,795,796,797,798,799,800,801,802,803,804,805,806,807,808,809,810,811,812,813,814,815,816,817,818,819,820]],\"ys\":[{\"__ndarray__\":\"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\",\"dtype\":\"float64\",\"shape\":[821]},{\"__ndarray__\":\"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\",\"dtype\":\"float64\",\"shape\":[821]}]}},\"id\":\"922aa6bb-324b-491e-8944-b83168bb300f\",\"type\":\"ColumnDataSource\"},{\"attributes\":{\"bottom_units\":\"screen\",\"fill_alpha\":{\"value\":0.5},\"fill_color\":{\"value\":\"lightgrey\"},\"left_units\":\"screen\",\"level\":\"overlay\",\"line_alpha\":{\"value\":1.0},\"line_color\":{\"value\":\"black\"},\"line_dash\":[4,4],\"line_width\":{\"value\":2},\"plot\":null,\"render_mode\":\"css\",\"right_units\":\"screen\",\"top_units\":\"screen\"},\"id\":\"7e680c70-847d-4a6b-8a7a-eac56757f4c9\",\"type\":\"BoxAnnotation\"},{\"attributes\":{\"plot\":{\"id\":\"c9e4dcb5-c498-41b8-a0ac-9bb89bd48584\",\"subtype\":\"Figure\",\"type\":\"Plot\"}},\"id\":\"8f3fc25e-db62-4127-81ba-bc53e97ef312\",\"type\":\"PanTool\"},{\"attributes\":{\"plot\":{\"id\":\"c9e4dcb5-c498-41b8-a0ac-9bb89bd48584\",\"subtype\":\"Figure\",\"type\":\"Plot\"}},\"id\":\"f461c33e-1d20-4d72-89a4-122bb7c3f107\",\"type\":\"WheelZoomTool\"},{\"attributes\":{\"overlay\":{\"id\":\"7e680c70-847d-4a6b-8a7a-eac56757f4c9\",\"type\":\"BoxAnnotation\"},\"plot\":{\"id\":\"c9e4dcb5-c498-41b8-a0ac-9bb89bd48584\",\"subtype\":\"Figure\",\"type\":\"Plot\"}},\"id\":\"b68a76ea-6842-4291-9880-b1ad5e58dfa4\",\"type\":\"BoxZoomTool\"},{\"attributes\":{\"plot\":{\"id\":\"c9e4dcb5-c498-41b8-a0ac-9bb89bd48584\",\"subtype\":\"Figure\",\"type\":\"Plot\"}},\"id\":\"b2d78e8b-3f2f-4840-84c4-3a1dadbb1e69\",\"type\":\"SaveTool\"},{\"attributes\":{\"line_alpha\":{\"value\":0.1},\"line_color\":{\"value\":\"#1f77b4\"},\"xs\":{\"field\":\"xs\"},\"ys\":{\"field\":\"ys\"}},\"id\":\"4635deb3-ceb5-4e75-9c5e-23c2416a8869\",\"type\":\"MultiLine\"},{\"attributes\":{\"plot\":{\"id\":\"c9e4dcb5-c498-41b8-a0ac-9bb89bd48584\",\"subtype\":\"Figure\",\"type\":\"Plot\"}},\"id\":\"dcc7a4a7-22bf-45e8-86e1-7e44d9b7b409\",\"type\":\"ResetTool\"},{\"attributes\":{\"plot\":{\"id\":\"c9e4dcb5-c498-41b8-a0ac-9bb89bd48584\",\"subtype\":\"Figure\",\"type\":\"Plot\"}},\"id\":\"90c1126b-8a77-4de6-8708-b49d727d317e\",\"type\":\"HelpTool\"},{\"attributes\":{\"callback\":null,\"end\":10},\"id\":\"96679143-881a-4b41-8fff-10fef13ada8e\",\"type\":\"Range1d\"},{\"attributes\":{\"below\":[{\"id\":\"c9585141-9eb6-47d5-9567-9b619a6ce5b4\",\"type\":\"LinearAxis\"}],\"left\":[{\"id\":\"a72b3f89-99c0-4fc4-a1ef-42199a4b317c\",\"type\":\"LinearAxis\"}],\"plot_height\":200,\"plot_width\":800,\"renderers\":[{\"id\":\"c9585141-9eb6-47d5-9567-9b619a6ce5b4\",\"type\":\"LinearAxis\"},{\"id\":\"efff5410-04b9-4ecc-b1cc-1a0141fe565c\",\"type\":\"Grid\"},{\"id\":\"a72b3f89-99c0-4fc4-a1ef-42199a4b317c\",\"type\":\"LinearAxis\"},{\"id\":\"a3841831-df49-4181-a0ec-a552875c6dda\",\"type\":\"Grid\"},{\"id\":\"7e680c70-847d-4a6b-8a7a-eac56757f4c9\",\"type\":\"BoxAnnotation\"},{\"id\":\"781bf851-ea91-4c9c-981f-3369600980db\",\"type\":\"GlyphRenderer\"}],\"title\":{\"id\":\"701f68c3-ba42-408e-8c7d-d0a723b899ec\",\"type\":\"Title\"},\"tool_events\":{\"id\":\"bd3cd832-9784-4249-b08f-f2b7e22d111b\",\"type\":\"ToolEvents\"},\"toolbar\":{\"id\":\"58e07a6e-ad54-44a4-9c9f-8fd395b9c81f\",\"type\":\"Toolbar\"},\"x_range\":{\"id\":\"fb77c9fb-c543-4f09-b754-bb07176ad661\",\"type\":\"DataRange1d\"},\"y_range\":{\"id\":\"96679143-881a-4b41-8fff-10fef13ada8e\",\"type\":\"Range1d\"}},\"id\":\"c9e4dcb5-c498-41b8-a0ac-9bb89bd48584\",\"subtype\":\"Figure\",\"type\":\"Plot\"},{\"attributes\":{},\"id\":\"662cfeb3-e62c-4db2-8b63-1f257525487a\",\"type\":\"BasicTickFormatter\"},{\"attributes\":{\"line_color\":{\"field\":\"line_color\"},\"xs\":{\"field\":\"xs\"},\"ys\":{\"field\":\"ys\"}},\"id\":\"e7957973-39c2-4e1f-bef3-d059baf9a274\",\"type\":\"MultiLine\"}],\"root_ids\":[\"c9e4dcb5-c498-41b8-a0ac-9bb89bd48584\"]},\"title\":\"Bokeh Application\",\"version\":\"0.12.4\"}};\n",
       "            var render_items = [{\"docid\":\"4f9f9730-3ba2-4b10-a3d5-a9fb41cfa553\",\"elementid\":\"f6198d9c-53e4-4332-800f-56e102a63ad4\",\"modelid\":\"c9e4dcb5-c498-41b8-a0ac-9bb89bd48584\",\"notebook_comms_target\":\"37112074-adc5-43f3-bcb8-dcb8b4634fe8\"}];\n",
       "            \n",
       "            Bokeh.embed.embed_items(docs_json, render_items);\n",
       "          };\n",
       "          if (document.readyState != \"loading\") fn();\n",
       "          else document.addEventListener(\"DOMContentLoaded\", fn);\n",
       "        })();\n",
       "      },\n",
       "      function(Bokeh) {\n",
       "      }\n",
       "    ];\n",
       "  \n",
       "    function run_inline_js() {\n",
       "      \n",
       "      if ((window.Bokeh !== undefined) || (force === true)) {\n",
       "        for (var i = 0; i < inline_js.length; i++) {\n",
       "          inline_js[i](window.Bokeh);\n",
       "        }if (force === true) {\n",
       "          display_loaded();\n",
       "        }} else if (Date.now() < window._bokeh_timeout) {\n",
       "        setTimeout(run_inline_js, 100);\n",
       "      } else if (!window._bokeh_failed_load) {\n",
       "        console.log(\"Bokeh: BokehJS failed to load within specified timeout.\");\n",
       "        window._bokeh_failed_load = true;\n",
       "      } else if (force !== true) {\n",
       "        var cell = $(document.getElementById(\"f6198d9c-53e4-4332-800f-56e102a63ad4\")).parents('.cell').data().cell;\n",
       "        cell.output_area.append_execute_result(NB_LOAD_WARNING)\n",
       "      }\n",
       "  \n",
       "    }\n",
       "  \n",
       "    if (window._bokeh_is_loading === 0) {\n",
       "      console.log(\"Bokeh: BokehJS loaded, going straight to plotting\");\n",
       "      run_inline_js();\n",
       "    } else {\n",
       "      load_libs(js_urls, function() {\n",
       "        console.log(\"Bokeh: BokehJS plotting callback run at\", now());\n",
       "        run_inline_js();\n",
       "      });\n",
       "    }\n",
       "  }(this));\n",
       "</script>"
      ]
     },
     "metadata": {},
     "output_type": "display_data"
    }
   ],
   "source": [
    "# plot a trend line, too\n",
    "trend = np.polyfit(dfer.index, dfer[\"IMDb users_avg\"].values, 10)\n",
    "trend_func = np.poly1d(trend)\n",
    "\n",
    "p = figure(plot_width=800, plot_height=200, y_range=(0,10))\n",
    "r = p.multi_line([dfer.index, dfer.index],[dfer[\"IMDb users_avg\"].values, trend_func(dfer.index)], color=['blue', 'red'])\n",
    "t = show(p, notebook_handle=True)"
   ]
  },
  {
   "cell_type": "markdown",
   "metadata": {},
   "source": [
    "#### Ratings over time (per season)\n",
    "It is also interesting to see how the average ratings of the season developed over the years."
   ]
  },
  {
   "cell_type": "code",
   "execution_count": 12,
   "metadata": {
    "collapsed": false
   },
   "outputs": [],
   "source": [
    "sSeasonRatingAverage = dfer.groupby(\"sid\")[\"IMDb users_avg\"].mean()"
   ]
  },
  {
   "cell_type": "code",
   "execution_count": 13,
   "metadata": {
    "collapsed": false
   },
   "outputs": [
    {
     "data": {
      "text/html": [
       "\n",
       "\n",
       "    <div class=\"bk-root\">\n",
       "        <div class=\"bk-plotdiv\" id=\"9190b8bd-89ba-47f0-b88e-2b857d233ef9\"></div>\n",
       "    </div>\n",
       "<script type=\"text/javascript\">\n",
       "  \n",
       "  (function(global) {\n",
       "    function now() {\n",
       "      return new Date();\n",
       "    }\n",
       "  \n",
       "    var force = false;\n",
       "  \n",
       "    if (typeof (window._bokeh_onload_callbacks) === \"undefined\" || force === true) {\n",
       "      window._bokeh_onload_callbacks = [];\n",
       "      window._bokeh_is_loading = undefined;\n",
       "    }\n",
       "  \n",
       "  \n",
       "    \n",
       "    if (typeof (window._bokeh_timeout) === \"undefined\" || force === true) {\n",
       "      window._bokeh_timeout = Date.now() + 0;\n",
       "      window._bokeh_failed_load = false;\n",
       "    }\n",
       "  \n",
       "    var NB_LOAD_WARNING = {'data': {'text/html':\n",
       "       \"<div style='background-color: #fdd'>\\n\"+\n",
       "       \"<p>\\n\"+\n",
       "       \"BokehJS does not appear to have successfully loaded. If loading BokehJS from CDN, this \\n\"+\n",
       "       \"may be due to a slow or bad network connection. Possible fixes:\\n\"+\n",
       "       \"</p>\\n\"+\n",
       "       \"<ul>\\n\"+\n",
       "       \"<li>re-rerun `output_notebook()` to attempt to load from CDN again, or</li>\\n\"+\n",
       "       \"<li>use INLINE resources instead, as so:</li>\\n\"+\n",
       "       \"</ul>\\n\"+\n",
       "       \"<code>\\n\"+\n",
       "       \"from bokeh.resources import INLINE\\n\"+\n",
       "       \"output_notebook(resources=INLINE)\\n\"+\n",
       "       \"</code>\\n\"+\n",
       "       \"</div>\"}};\n",
       "  \n",
       "    function display_loaded() {\n",
       "      if (window.Bokeh !== undefined) {\n",
       "        document.getElementById(\"9190b8bd-89ba-47f0-b88e-2b857d233ef9\").textContent = \"BokehJS successfully loaded.\";\n",
       "      } else if (Date.now() < window._bokeh_timeout) {\n",
       "        setTimeout(display_loaded, 100)\n",
       "      }\n",
       "    }if ((window.Jupyter !== undefined) && Jupyter.notebook.kernel) {\n",
       "      comm_manager = Jupyter.notebook.kernel.comm_manager\n",
       "      comm_manager.register_target(\"b894fb7c-6f28-465e-ab9d-35aec7acc775\", function () {});\n",
       "    }\n",
       "  \n",
       "    function run_callbacks() {\n",
       "      window._bokeh_onload_callbacks.forEach(function(callback) { callback() });\n",
       "      delete window._bokeh_onload_callbacks\n",
       "      console.info(\"Bokeh: all callbacks have finished\");\n",
       "    }\n",
       "  \n",
       "    function load_libs(js_urls, callback) {\n",
       "      window._bokeh_onload_callbacks.push(callback);\n",
       "      if (window._bokeh_is_loading > 0) {\n",
       "        console.log(\"Bokeh: BokehJS is being loaded, scheduling callback at\", now());\n",
       "        return null;\n",
       "      }\n",
       "      if (js_urls == null || js_urls.length === 0) {\n",
       "        run_callbacks();\n",
       "        return null;\n",
       "      }\n",
       "      console.log(\"Bokeh: BokehJS not loaded, scheduling load and callback at\", now());\n",
       "      window._bokeh_is_loading = js_urls.length;\n",
       "      for (var i = 0; i < js_urls.length; i++) {\n",
       "        var url = js_urls[i];\n",
       "        var s = document.createElement('script');\n",
       "        s.src = url;\n",
       "        s.async = false;\n",
       "        s.onreadystatechange = s.onload = function() {\n",
       "          window._bokeh_is_loading--;\n",
       "          if (window._bokeh_is_loading === 0) {\n",
       "            console.log(\"Bokeh: all BokehJS libraries loaded\");\n",
       "            run_callbacks()\n",
       "          }\n",
       "        };\n",
       "        s.onerror = function() {\n",
       "          console.warn(\"failed to load library \" + url);\n",
       "        };\n",
       "        console.log(\"Bokeh: injecting script tag for BokehJS library: \", url);\n",
       "        document.getElementsByTagName(\"head\")[0].appendChild(s);\n",
       "      }\n",
       "    };var element = document.getElementById(\"9190b8bd-89ba-47f0-b88e-2b857d233ef9\");\n",
       "    if (element == null) {\n",
       "      console.log(\"Bokeh: ERROR: autoload.js configured with elementid '9190b8bd-89ba-47f0-b88e-2b857d233ef9' but no matching script tag was found. \")\n",
       "      return false;\n",
       "    }\n",
       "  \n",
       "    var js_urls = [];\n",
       "  \n",
       "    var inline_js = [\n",
       "      function(Bokeh) {\n",
       "        (function() {\n",
       "          var fn = function() {\n",
       "            var docs_json = {\"2ce72d06-850c-40c5-b021-3581d544917f\":{\"roots\":{\"references\":[{\"attributes\":{\"plot\":null,\"text\":\"\"},\"id\":\"19977be3-34c9-4fd3-bb27-df799b04013f\",\"type\":\"Title\"},{\"attributes\":{},\"id\":\"a9638714-995e-47dc-9a92-ab98e3d478f2\",\"type\":\"BasicTickFormatter\"},{\"attributes\":{},\"id\":\"5e6dc1fb-d2da-4cec-9c56-c76f8ef3334f\",\"type\":\"BasicTicker\"},{\"attributes\":{\"overlay\":{\"id\":\"a4f6aedc-c4fe-4dd0-82cc-98923dab1da9\",\"type\":\"BoxAnnotation\"},\"plot\":{\"id\":\"1bd89424-a9bd-402d-a47f-c718b7945bea\",\"subtype\":\"Figure\",\"type\":\"Plot\"}},\"id\":\"eeb96a20-8eca-4ee1-a62d-b28d5e2f197a\",\"type\":\"BoxZoomTool\"},{\"attributes\":{\"bottom_units\":\"screen\",\"fill_alpha\":{\"value\":0.5},\"fill_color\":{\"value\":\"lightgrey\"},\"left_units\":\"screen\",\"level\":\"overlay\",\"line_alpha\":{\"value\":1.0},\"line_color\":{\"value\":\"black\"},\"line_dash\":[4,4],\"line_width\":{\"value\":2},\"plot\":null,\"render_mode\":\"css\",\"right_units\":\"screen\",\"top_units\":\"screen\"},\"id\":\"a4f6aedc-c4fe-4dd0-82cc-98923dab1da9\",\"type\":\"BoxAnnotation\"},{\"attributes\":{\"line_alpha\":{\"value\":0.1},\"line_color\":{\"value\":\"#1f77b4\"},\"x\":{\"field\":\"x\"},\"y\":{\"field\":\"y\"}},\"id\":\"b7cb4118-6cb6-4f5a-9d31-34d4170816d5\",\"type\":\"Line\"},{\"attributes\":{\"line_color\":{\"value\":\"#1f77b4\"},\"x\":{\"field\":\"x\"},\"y\":{\"field\":\"y\"}},\"id\":\"f69fe171-2f49-4d1a-9a85-2471512492dd\",\"type\":\"Line\"},{\"attributes\":{\"callback\":null},\"id\":\"e73dbe30-0903-4020-9996-8c6ca0267ec3\",\"type\":\"DataRange1d\"},{\"attributes\":{\"below\":[{\"id\":\"37f40c58-6e97-437a-997b-96690caae6f6\",\"type\":\"LinearAxis\"}],\"left\":[{\"id\":\"93d7a541-314c-4d85-85d1-c4a5e0a404a6\",\"type\":\"LinearAxis\"}],\"plot_height\":200,\"plot_width\":800,\"renderers\":[{\"id\":\"37f40c58-6e97-437a-997b-96690caae6f6\",\"type\":\"LinearAxis\"},{\"id\":\"00f0f7ec-3cfa-4b3c-80cb-c15ad5e099e8\",\"type\":\"Grid\"},{\"id\":\"93d7a541-314c-4d85-85d1-c4a5e0a404a6\",\"type\":\"LinearAxis\"},{\"id\":\"1d664251-a775-4409-8cdd-1f4cb25a3f02\",\"type\":\"Grid\"},{\"id\":\"a4f6aedc-c4fe-4dd0-82cc-98923dab1da9\",\"type\":\"BoxAnnotation\"},{\"id\":\"d6d3d816-8720-41be-aa5c-36828b7816dc\",\"type\":\"GlyphRenderer\"}],\"title\":{\"id\":\"19977be3-34c9-4fd3-bb27-df799b04013f\",\"type\":\"Title\"},\"tool_events\":{\"id\":\"fb686aff-b261-40f9-a9aa-1749ecf85ffe\",\"type\":\"ToolEvents\"},\"toolbar\":{\"id\":\"748a607f-06b1-4627-ab12-8af5573a6349\",\"type\":\"Toolbar\"},\"x_range\":{\"id\":\"e73dbe30-0903-4020-9996-8c6ca0267ec3\",\"type\":\"DataRange1d\"},\"y_range\":{\"id\":\"3d714c82-6286-4236-8d6a-eeee3d960028\",\"type\":\"Range1d\"}},\"id\":\"1bd89424-a9bd-402d-a47f-c718b7945bea\",\"subtype\":\"Figure\",\"type\":\"Plot\"},{\"attributes\":{\"formatter\":{\"id\":\"a9638714-995e-47dc-9a92-ab98e3d478f2\",\"type\":\"BasicTickFormatter\"},\"plot\":{\"id\":\"1bd89424-a9bd-402d-a47f-c718b7945bea\",\"subtype\":\"Figure\",\"type\":\"Plot\"},\"ticker\":{\"id\":\"4d831f1d-2379-4cbd-9996-52905a6bc4de\",\"type\":\"BasicTicker\"}},\"id\":\"37f40c58-6e97-437a-997b-96690caae6f6\",\"type\":\"LinearAxis\"},{\"attributes\":{\"plot\":{\"id\":\"1bd89424-a9bd-402d-a47f-c718b7945bea\",\"subtype\":\"Figure\",\"type\":\"Plot\"}},\"id\":\"ac89105e-1d73-48ae-b5bc-10cb3d407c04\",\"type\":\"HelpTool\"},{\"attributes\":{\"plot\":{\"id\":\"1bd89424-a9bd-402d-a47f-c718b7945bea\",\"subtype\":\"Figure\",\"type\":\"Plot\"}},\"id\":\"9f128f26-a3ce-4bc9-84dc-bb8a4c1807a4\",\"type\":\"ResetTool\"},{\"attributes\":{\"active_drag\":\"auto\",\"active_scroll\":\"auto\",\"active_tap\":\"auto\",\"tools\":[{\"id\":\"a7051b21-2e42-4b34-97c9-27d68d7422d2\",\"type\":\"PanTool\"},{\"id\":\"73e12a04-a6e8-4500-9e2f-bfe606994603\",\"type\":\"WheelZoomTool\"},{\"id\":\"eeb96a20-8eca-4ee1-a62d-b28d5e2f197a\",\"type\":\"BoxZoomTool\"},{\"id\":\"436cfa08-5f97-47c6-8e3c-61c651d76760\",\"type\":\"SaveTool\"},{\"id\":\"9f128f26-a3ce-4bc9-84dc-bb8a4c1807a4\",\"type\":\"ResetTool\"},{\"id\":\"ac89105e-1d73-48ae-b5bc-10cb3d407c04\",\"type\":\"HelpTool\"}]},\"id\":\"748a607f-06b1-4627-ab12-8af5573a6349\",\"type\":\"Toolbar\"},{\"attributes\":{\"data_source\":{\"id\":\"ca32d0ff-663a-4f27-95ba-ee4876e4c6d4\",\"type\":\"ColumnDataSource\"},\"glyph\":{\"id\":\"f69fe171-2f49-4d1a-9a85-2471512492dd\",\"type\":\"Line\"},\"hover_glyph\":null,\"nonselection_glyph\":{\"id\":\"b7cb4118-6cb6-4f5a-9d31-34d4170816d5\",\"type\":\"Line\"},\"selection_glyph\":null},\"id\":\"d6d3d816-8720-41be-aa5c-36828b7816dc\",\"type\":\"GlyphRenderer\"},{\"attributes\":{\"callback\":null,\"column_names\":[\"x\",\"y\"],\"data\":{\"x\":[1,2,3,4,5,6,7,8,9,10,11,12,13,14,15,16,17,18,19,20,21,22,23,24,25,26,27,28,29,30,31,32,33,34,35,36,37,38,39,40,41,42],\"y\":{\"__ndarray__\":\"RURERESEHEDKzMzMzMwcQOtRuB6F6xxAwvUoXI/CHEAVrkfhehQbQAAAAAAAABpA2KNwPQrXGkAoXI/C9SgdQOLU77klThlAHh4eHh4eGkC4YAu2YAsZQAAAAAAAgBpARS/0Qi/0GEDgehSuR+EYQML1KFyPQhhAKlyPwvUoGkB7FK5H4focQBWuR+F6lBpAmpmZmZmZGECF61G4HoUbQK5H4XoUrhpAU7gehetRF0CamZmZmRkYQLRjBcJIOxhA1qNwPQpXGkBcj8L1KFwYQOtRuB6FaxhAH4XrUbieFUAK16NwPQoXQD4K16NwvRdAO1YgjLRjGUAqXI/C9agcQCEiIiIioh1Aw9o3rH3DG0DcN6x9w9oaQH/D2jesfRtA5ClBnhLkHECGYRiGYRgcQGiN1miN1hxAsh/7sR/7G0Datm3btm0bQNuJndiJnRxA\",\"dtype\":\"float64\",\"shape\":[42]}}},\"id\":\"ca32d0ff-663a-4f27-95ba-ee4876e4c6d4\",\"type\":\"ColumnDataSource\"},{\"attributes\":{\"plot\":{\"id\":\"1bd89424-a9bd-402d-a47f-c718b7945bea\",\"subtype\":\"Figure\",\"type\":\"Plot\"}},\"id\":\"436cfa08-5f97-47c6-8e3c-61c651d76760\",\"type\":\"SaveTool\"},{\"attributes\":{},\"id\":\"4d831f1d-2379-4cbd-9996-52905a6bc4de\",\"type\":\"BasicTicker\"},{\"attributes\":{\"formatter\":{\"id\":\"c1050ffc-5451-4c96-98ff-4aa53ea4afc7\",\"type\":\"BasicTickFormatter\"},\"plot\":{\"id\":\"1bd89424-a9bd-402d-a47f-c718b7945bea\",\"subtype\":\"Figure\",\"type\":\"Plot\"},\"ticker\":{\"id\":\"5e6dc1fb-d2da-4cec-9c56-c76f8ef3334f\",\"type\":\"BasicTicker\"}},\"id\":\"93d7a541-314c-4d85-85d1-c4a5e0a404a6\",\"type\":\"LinearAxis\"},{\"attributes\":{},\"id\":\"fb686aff-b261-40f9-a9aa-1749ecf85ffe\",\"type\":\"ToolEvents\"},{\"attributes\":{\"plot\":{\"id\":\"1bd89424-a9bd-402d-a47f-c718b7945bea\",\"subtype\":\"Figure\",\"type\":\"Plot\"}},\"id\":\"a7051b21-2e42-4b34-97c9-27d68d7422d2\",\"type\":\"PanTool\"},{\"attributes\":{\"plot\":{\"id\":\"1bd89424-a9bd-402d-a47f-c718b7945bea\",\"subtype\":\"Figure\",\"type\":\"Plot\"},\"ticker\":{\"id\":\"4d831f1d-2379-4cbd-9996-52905a6bc4de\",\"type\":\"BasicTicker\"}},\"id\":\"00f0f7ec-3cfa-4b3c-80cb-c15ad5e099e8\",\"type\":\"Grid\"},{\"attributes\":{\"callback\":null,\"end\":10},\"id\":\"3d714c82-6286-4236-8d6a-eeee3d960028\",\"type\":\"Range1d\"},{\"attributes\":{\"plot\":{\"id\":\"1bd89424-a9bd-402d-a47f-c718b7945bea\",\"subtype\":\"Figure\",\"type\":\"Plot\"}},\"id\":\"73e12a04-a6e8-4500-9e2f-bfe606994603\",\"type\":\"WheelZoomTool\"},{\"attributes\":{},\"id\":\"c1050ffc-5451-4c96-98ff-4aa53ea4afc7\",\"type\":\"BasicTickFormatter\"},{\"attributes\":{\"dimension\":1,\"plot\":{\"id\":\"1bd89424-a9bd-402d-a47f-c718b7945bea\",\"subtype\":\"Figure\",\"type\":\"Plot\"},\"ticker\":{\"id\":\"5e6dc1fb-d2da-4cec-9c56-c76f8ef3334f\",\"type\":\"BasicTicker\"}},\"id\":\"1d664251-a775-4409-8cdd-1f4cb25a3f02\",\"type\":\"Grid\"}],\"root_ids\":[\"1bd89424-a9bd-402d-a47f-c718b7945bea\"]},\"title\":\"Bokeh Application\",\"version\":\"0.12.4\"}};\n",
       "            var render_items = [{\"docid\":\"2ce72d06-850c-40c5-b021-3581d544917f\",\"elementid\":\"9190b8bd-89ba-47f0-b88e-2b857d233ef9\",\"modelid\":\"1bd89424-a9bd-402d-a47f-c718b7945bea\",\"notebook_comms_target\":\"b894fb7c-6f28-465e-ab9d-35aec7acc775\"}];\n",
       "            \n",
       "            Bokeh.embed.embed_items(docs_json, render_items);\n",
       "          };\n",
       "          if (document.readyState != \"loading\") fn();\n",
       "          else document.addEventListener(\"DOMContentLoaded\", fn);\n",
       "        })();\n",
       "      },\n",
       "      function(Bokeh) {\n",
       "      }\n",
       "    ];\n",
       "  \n",
       "    function run_inline_js() {\n",
       "      \n",
       "      if ((window.Bokeh !== undefined) || (force === true)) {\n",
       "        for (var i = 0; i < inline_js.length; i++) {\n",
       "          inline_js[i](window.Bokeh);\n",
       "        }if (force === true) {\n",
       "          display_loaded();\n",
       "        }} else if (Date.now() < window._bokeh_timeout) {\n",
       "        setTimeout(run_inline_js, 100);\n",
       "      } else if (!window._bokeh_failed_load) {\n",
       "        console.log(\"Bokeh: BokehJS failed to load within specified timeout.\");\n",
       "        window._bokeh_failed_load = true;\n",
       "      } else if (force !== true) {\n",
       "        var cell = $(document.getElementById(\"9190b8bd-89ba-47f0-b88e-2b857d233ef9\")).parents('.cell').data().cell;\n",
       "        cell.output_area.append_execute_result(NB_LOAD_WARNING)\n",
       "      }\n",
       "  \n",
       "    }\n",
       "  \n",
       "    if (window._bokeh_is_loading === 0) {\n",
       "      console.log(\"Bokeh: BokehJS loaded, going straight to plotting\");\n",
       "      run_inline_js();\n",
       "    } else {\n",
       "      load_libs(js_urls, function() {\n",
       "        console.log(\"Bokeh: BokehJS plotting callback run at\", now());\n",
       "        run_inline_js();\n",
       "      });\n",
       "    }\n",
       "  }(this));\n",
       "</script>"
      ]
     },
     "metadata": {},
     "output_type": "display_data"
    }
   ],
   "source": [
    "p = figure(plot_width=800, plot_height=200, y_range=(0,10))\n",
    "r = p.line(dfer.sid.unique(),sSeasonRatingAverage.values)\n",
    "t = show(p, notebook_handle=True)"
   ]
  },
  {
   "cell_type": "markdown",
   "metadata": {},
   "source": [
    "#### Ratings over time (conclusion)"
   ]
  },
  {
   "cell_type": "markdown",
   "metadata": {},
   "source": [
    "As you can see in the graphs there was a steep increase in quality between season 28 and 33. Since then the ratings are fairly constant. There were some quality highs in the mid 90s and 80s."
   ]
  },
  {
   "cell_type": "markdown",
   "metadata": {},
   "source": [
    "#### Moving on to the actors\n",
    "Now let us take a look at the actors. First it would be interesting to know which actors played in the most sketches and which of them were very present during their stay at the show (most sketches per episode). To do that we have to merge most of the dataframes."
   ]
  },
  {
   "cell_type": "code",
   "execution_count": 14,
   "metadata": {
    "collapsed": false
   },
   "outputs": [],
   "source": [
    "dfactors = pd.merge(pd.merge(dfat, dfer, on=['sid', 'eid']), dfa, on='aid')"
   ]
  },
  {
   "cell_type": "markdown",
   "metadata": {},
   "source": [
    "Now let's take a look at the Top 10 actors of SNL when it comes to appearances."
   ]
  },
  {
   "cell_type": "code",
   "execution_count": 22,
   "metadata": {
    "collapsed": false
   },
   "outputs": [
    {
     "data": {
      "text/plain": [
       "Kenan Thompson     928\n",
       "Phil Hartman       913\n",
       "Darrell Hammond    766\n",
       "Fred Armisen       739\n",
       "Bill Hader         696\n",
       "Amy Poehler        687\n",
       "Will Ferrell       654\n",
       "Kevin Nealon       646\n",
       "Bobby Moynihan     640\n",
       "Kristen Wiig       633\n",
       "Name: name, dtype: int64"
      ]
     },
     "execution_count": 22,
     "metadata": {},
     "output_type": "execute_result"
    }
   ],
   "source": [
    "sActorsAppearances = dfactors['name'].value_counts()\n",
    "sActorsAppearances.head(10)"
   ]
  },
  {
   "cell_type": "markdown",
   "metadata": {},
   "source": [
    "The Top 3 are: Kenan Thompson, Phil Hartman and Darrell Hammond. Since Kenan is still on the show he can further increase his lead. But does he also have the most appearances per episode?"
   ]
  },
  {
   "cell_type": "code",
   "execution_count": 24,
   "metadata": {
    "collapsed": false
   },
   "outputs": [
    {
     "data": {
      "text/html": [
       "<div>\n",
       "<table border=\"1\" class=\"dataframe\">\n",
       "  <thead>\n",
       "    <tr style=\"text-align: right;\">\n",
       "      <th></th>\n",
       "      <th>name</th>\n",
       "      <th>sid</th>\n",
       "      <th>eid</th>\n",
       "      <th>aid</th>\n",
       "    </tr>\n",
       "  </thead>\n",
       "  <tbody>\n",
       "    <tr>\n",
       "      <th>0</th>\n",
       "      <td>Ray Charles</td>\n",
       "      <td>3</td>\n",
       "      <td>5</td>\n",
       "      <td>12</td>\n",
       "    </tr>\n",
       "    <tr>\n",
       "      <th>1</th>\n",
       "      <td>Ludacris</td>\n",
       "      <td>32</td>\n",
       "      <td>6</td>\n",
       "      <td>12</td>\n",
       "    </tr>\n",
       "    <tr>\n",
       "      <th>2</th>\n",
       "      <td>Richard Pryor</td>\n",
       "      <td>1</td>\n",
       "      <td>7</td>\n",
       "      <td>12</td>\n",
       "    </tr>\n",
       "    <tr>\n",
       "      <th>3</th>\n",
       "      <td>Betty White</td>\n",
       "      <td>35</td>\n",
       "      <td>21</td>\n",
       "      <td>12</td>\n",
       "    </tr>\n",
       "    <tr>\n",
       "      <th>4</th>\n",
       "      <td>Garth Brooks</td>\n",
       "      <td>25</td>\n",
       "      <td>5</td>\n",
       "      <td>11</td>\n",
       "    </tr>\n",
       "    <tr>\n",
       "      <th>5</th>\n",
       "      <td>Josh Brolin</td>\n",
       "      <td>34</td>\n",
       "      <td>5</td>\n",
       "      <td>11</td>\n",
       "    </tr>\n",
       "    <tr>\n",
       "      <th>6</th>\n",
       "      <td>Phil Hartman</td>\n",
       "      <td>18</td>\n",
       "      <td>7</td>\n",
       "      <td>11</td>\n",
       "    </tr>\n",
       "    <tr>\n",
       "      <th>7</th>\n",
       "      <td>Steve Martin</td>\n",
       "      <td>31</td>\n",
       "      <td>12</td>\n",
       "      <td>11</td>\n",
       "    </tr>\n",
       "    <tr>\n",
       "      <th>8</th>\n",
       "      <td>Justin Bieber</td>\n",
       "      <td>38</td>\n",
       "      <td>13</td>\n",
       "      <td>11</td>\n",
       "    </tr>\n",
       "    <tr>\n",
       "      <th>9</th>\n",
       "      <td>Jennifer Lopez</td>\n",
       "      <td>35</td>\n",
       "      <td>15</td>\n",
       "      <td>11</td>\n",
       "    </tr>\n",
       "  </tbody>\n",
       "</table>\n",
       "</div>"
      ],
      "text/plain": [
       "             name  sid  eid  aid\n",
       "0     Ray Charles    3    5   12\n",
       "1        Ludacris   32    6   12\n",
       "2   Richard Pryor    1    7   12\n",
       "3     Betty White   35   21   12\n",
       "4    Garth Brooks   25    5   11\n",
       "5     Josh Brolin   34    5   11\n",
       "6    Phil Hartman   18    7   11\n",
       "7    Steve Martin   31   12   11\n",
       "8   Justin Bieber   38   13   11\n",
       "9  Jennifer Lopez   35   15   11"
      ]
     },
     "execution_count": 24,
     "metadata": {},
     "output_type": "execute_result"
    }
   ],
   "source": [
    "dfActorsEpisodes = pd.DataFrame(dfactors.groupby(['name','sid', 'eid'])['aid'].count().sort_values(ascending=False)).reset_index()\n",
    "dfActorsEpisodes.head(10)"
   ]
  },
  {
   "cell_type": "markdown",
   "metadata": {},
   "source": [
    "In this category there are four actors that take the first place: Ludacris, Richard Pryor, Ray Charles and Betty White. They were all part of 12 titles in a single episode. But which actor had the biggest presence on set over several episodes? Of course it only makes sense to look at actors who appeared in more than one episode."
   ]
  },
  {
   "cell_type": "code",
   "execution_count": 17,
   "metadata": {
    "collapsed": false
   },
   "outputs": [],
   "source": [
    "# Define the aggregation calculations\n",
    "aggregations = {\n",
    "    'aid': {     # Now work on the \"date\" column\n",
    "        'titles': 'sum',   # Find the max, call the result \"max_date\"\n",
    "        'episodes': 'count'\n",
    "    }\n",
    "}\n",
    " \n",
    "# Perform groupby aggregation by \"month\", but only on the rows that are of type \"call\"\n",
    "dfActorsTitlePerEpisode = dfActorsEpisodes.groupby('name').agg(aggregations)\n",
    "dfActorsTitlePerEpisode.columns = dfActorsTitlePerEpisode.columns.droplevel()"
   ]
  },
  {
   "cell_type": "code",
   "execution_count": 18,
   "metadata": {
    "collapsed": false
   },
   "outputs": [],
   "source": [
    "dfActorsTitlePerEpisode[\"title_avg\"] = dfActorsTitlePerEpisode[\"titles\"] / dfActorsTitlePerEpisode[\"episodes\"]"
   ]
  },
  {
   "cell_type": "markdown",
   "metadata": {
    "collapsed": false
   },
   "source": [
    "Let's take a look at the actors with appearances in at least 3 episodes."
   ]
  },
  {
   "cell_type": "code",
   "execution_count": 19,
   "metadata": {
    "collapsed": false
   },
   "outputs": [
    {
     "data": {
      "text/html": [
       "<div>\n",
       "<table border=\"1\" class=\"dataframe\">\n",
       "  <thead>\n",
       "    <tr style=\"text-align: right;\">\n",
       "      <th></th>\n",
       "      <th>titles</th>\n",
       "      <th>episodes</th>\n",
       "      <th>title_avg</th>\n",
       "    </tr>\n",
       "    <tr>\n",
       "      <th>name</th>\n",
       "      <th></th>\n",
       "      <th></th>\n",
       "      <th></th>\n",
       "    </tr>\n",
       "  </thead>\n",
       "  <tbody>\n",
       "    <tr>\n",
       "      <th>Charles Barkley</th>\n",
       "      <td>25</td>\n",
       "      <td>3</td>\n",
       "      <td>8.333333</td>\n",
       "    </tr>\n",
       "    <tr>\n",
       "      <th>Zach Galifianakis</th>\n",
       "      <td>24</td>\n",
       "      <td>3</td>\n",
       "      <td>8.000000</td>\n",
       "    </tr>\n",
       "    <tr>\n",
       "      <th>Jack Black</th>\n",
       "      <td>23</td>\n",
       "      <td>3</td>\n",
       "      <td>7.666667</td>\n",
       "    </tr>\n",
       "    <tr>\n",
       "      <th>Louis C.K.</th>\n",
       "      <td>23</td>\n",
       "      <td>3</td>\n",
       "      <td>7.666667</td>\n",
       "    </tr>\n",
       "    <tr>\n",
       "      <th>Jennifer Lopez</th>\n",
       "      <td>22</td>\n",
       "      <td>3</td>\n",
       "      <td>7.333333</td>\n",
       "    </tr>\n",
       "    <tr>\n",
       "      <th>Drake</th>\n",
       "      <td>22</td>\n",
       "      <td>3</td>\n",
       "      <td>7.333333</td>\n",
       "    </tr>\n",
       "    <tr>\n",
       "      <th>Lily Tomlin</th>\n",
       "      <td>28</td>\n",
       "      <td>4</td>\n",
       "      <td>7.000000</td>\n",
       "    </tr>\n",
       "    <tr>\n",
       "      <th>Garth Brooks</th>\n",
       "      <td>21</td>\n",
       "      <td>3</td>\n",
       "      <td>7.000000</td>\n",
       "    </tr>\n",
       "    <tr>\n",
       "      <th>Charles Rocket</th>\n",
       "      <td>83</td>\n",
       "      <td>12</td>\n",
       "      <td>6.916667</td>\n",
       "    </tr>\n",
       "    <tr>\n",
       "      <th>Jonah Hill</th>\n",
       "      <td>27</td>\n",
       "      <td>4</td>\n",
       "      <td>6.750000</td>\n",
       "    </tr>\n",
       "  </tbody>\n",
       "</table>\n",
       "</div>"
      ],
      "text/plain": [
       "                   titles  episodes  title_avg\n",
       "name                                          \n",
       "Charles Barkley        25         3   8.333333\n",
       "Zach Galifianakis      24         3   8.000000\n",
       "Jack Black             23         3   7.666667\n",
       "Louis C.K.             23         3   7.666667\n",
       "Jennifer Lopez         22         3   7.333333\n",
       "Drake                  22         3   7.333333\n",
       "Lily Tomlin            28         4   7.000000\n",
       "Garth Brooks           21         3   7.000000\n",
       "Charles Rocket         83        12   6.916667\n",
       "Jonah Hill             27         4   6.750000"
      ]
     },
     "execution_count": 19,
     "metadata": {},
     "output_type": "execute_result"
    }
   ],
   "source": [
    "dfActorsTitlePerEpisode[dfActorsTitlePerEpisode.episodes>=3].sort_values('title_avg', ascending=False).head(10)"
   ]
  },
  {
   "cell_type": "markdown",
   "metadata": {
    "collapsed": true
   },
   "source": [
    "Charles Barkley wins with 8.3 titles per episode. What about 10 episodes?"
   ]
  },
  {
   "cell_type": "code",
   "execution_count": 20,
   "metadata": {
    "collapsed": false
   },
   "outputs": [
    {
     "data": {
      "text/html": [
       "<div>\n",
       "<table border=\"1\" class=\"dataframe\">\n",
       "  <thead>\n",
       "    <tr style=\"text-align: right;\">\n",
       "      <th></th>\n",
       "      <th>titles</th>\n",
       "      <th>episodes</th>\n",
       "      <th>title_avg</th>\n",
       "    </tr>\n",
       "    <tr>\n",
       "      <th>name</th>\n",
       "      <th></th>\n",
       "      <th></th>\n",
       "      <th></th>\n",
       "    </tr>\n",
       "  </thead>\n",
       "  <tbody>\n",
       "    <tr>\n",
       "      <th>Charles Rocket</th>\n",
       "      <td>83</td>\n",
       "      <td>12</td>\n",
       "      <td>6.916667</td>\n",
       "    </tr>\n",
       "    <tr>\n",
       "      <th>Phil Hartman</th>\n",
       "      <td>913</td>\n",
       "      <td>163</td>\n",
       "      <td>5.601227</td>\n",
       "    </tr>\n",
       "    <tr>\n",
       "      <th>Joe Piscopo</th>\n",
       "      <td>364</td>\n",
       "      <td>72</td>\n",
       "      <td>5.055556</td>\n",
       "    </tr>\n",
       "    <tr>\n",
       "      <th>Bill Murray</th>\n",
       "      <td>389</td>\n",
       "      <td>78</td>\n",
       "      <td>4.987179</td>\n",
       "    </tr>\n",
       "    <tr>\n",
       "      <th>Gail Matthius</th>\n",
       "      <td>62</td>\n",
       "      <td>13</td>\n",
       "      <td>4.769231</td>\n",
       "    </tr>\n",
       "    <tr>\n",
       "      <th>Amy Poehler</th>\n",
       "      <td>687</td>\n",
       "      <td>148</td>\n",
       "      <td>4.641892</td>\n",
       "    </tr>\n",
       "    <tr>\n",
       "      <th>Will Ferrell</th>\n",
       "      <td>654</td>\n",
       "      <td>143</td>\n",
       "      <td>4.573427</td>\n",
       "    </tr>\n",
       "    <tr>\n",
       "      <th>John Goodman</th>\n",
       "      <td>86</td>\n",
       "      <td>19</td>\n",
       "      <td>4.526316</td>\n",
       "    </tr>\n",
       "    <tr>\n",
       "      <th>Dan Aykroyd</th>\n",
       "      <td>415</td>\n",
       "      <td>92</td>\n",
       "      <td>4.510870</td>\n",
       "    </tr>\n",
       "    <tr>\n",
       "      <th>Kristen Wiig</th>\n",
       "      <td>633</td>\n",
       "      <td>141</td>\n",
       "      <td>4.489362</td>\n",
       "    </tr>\n",
       "  </tbody>\n",
       "</table>\n",
       "</div>"
      ],
      "text/plain": [
       "                titles  episodes  title_avg\n",
       "name                                       \n",
       "Charles Rocket      83        12   6.916667\n",
       "Phil Hartman       913       163   5.601227\n",
       "Joe Piscopo        364        72   5.055556\n",
       "Bill Murray        389        78   4.987179\n",
       "Gail Matthius       62        13   4.769231\n",
       "Amy Poehler        687       148   4.641892\n",
       "Will Ferrell       654       143   4.573427\n",
       "John Goodman        86        19   4.526316\n",
       "Dan Aykroyd        415        92   4.510870\n",
       "Kristen Wiig       633       141   4.489362"
      ]
     },
     "execution_count": 20,
     "metadata": {},
     "output_type": "execute_result"
    }
   ],
   "source": [
    "dfActorsTitlePerEpisode[dfActorsTitlePerEpisode.episodes>=10].sort_values('title_avg', ascending=False).head(10)"
   ]
  },
  {
   "cell_type": "markdown",
   "metadata": {},
   "source": [
    "Now let's look at people with at least 50 episodes under their belt. These are mostly cast members."
   ]
  },
  {
   "cell_type": "code",
   "execution_count": 21,
   "metadata": {
    "collapsed": false
   },
   "outputs": [
    {
     "data": {
      "text/html": [
       "<div>\n",
       "<table border=\"1\" class=\"dataframe\">\n",
       "  <thead>\n",
       "    <tr style=\"text-align: right;\">\n",
       "      <th></th>\n",
       "      <th>titles</th>\n",
       "      <th>episodes</th>\n",
       "      <th>title_avg</th>\n",
       "    </tr>\n",
       "    <tr>\n",
       "      <th>name</th>\n",
       "      <th></th>\n",
       "      <th></th>\n",
       "      <th></th>\n",
       "    </tr>\n",
       "  </thead>\n",
       "  <tbody>\n",
       "    <tr>\n",
       "      <th>Phil Hartman</th>\n",
       "      <td>913</td>\n",
       "      <td>163</td>\n",
       "      <td>5.601227</td>\n",
       "    </tr>\n",
       "    <tr>\n",
       "      <th>Joe Piscopo</th>\n",
       "      <td>364</td>\n",
       "      <td>72</td>\n",
       "      <td>5.055556</td>\n",
       "    </tr>\n",
       "    <tr>\n",
       "      <th>Bill Murray</th>\n",
       "      <td>389</td>\n",
       "      <td>78</td>\n",
       "      <td>4.987179</td>\n",
       "    </tr>\n",
       "    <tr>\n",
       "      <th>Amy Poehler</th>\n",
       "      <td>687</td>\n",
       "      <td>148</td>\n",
       "      <td>4.641892</td>\n",
       "    </tr>\n",
       "    <tr>\n",
       "      <th>Will Ferrell</th>\n",
       "      <td>654</td>\n",
       "      <td>143</td>\n",
       "      <td>4.573427</td>\n",
       "    </tr>\n",
       "    <tr>\n",
       "      <th>Dan Aykroyd</th>\n",
       "      <td>415</td>\n",
       "      <td>92</td>\n",
       "      <td>4.510870</td>\n",
       "    </tr>\n",
       "    <tr>\n",
       "      <th>Kristen Wiig</th>\n",
       "      <td>633</td>\n",
       "      <td>141</td>\n",
       "      <td>4.489362</td>\n",
       "    </tr>\n",
       "    <tr>\n",
       "      <th>Gilda Radner</th>\n",
       "      <td>464</td>\n",
       "      <td>106</td>\n",
       "      <td>4.377358</td>\n",
       "    </tr>\n",
       "    <tr>\n",
       "      <th>Tim Kazurinsky</th>\n",
       "      <td>260</td>\n",
       "      <td>60</td>\n",
       "      <td>4.333333</td>\n",
       "    </tr>\n",
       "    <tr>\n",
       "      <th>Bill Hader</th>\n",
       "      <td>696</td>\n",
       "      <td>162</td>\n",
       "      <td>4.296296</td>\n",
       "    </tr>\n",
       "  </tbody>\n",
       "</table>\n",
       "</div>"
      ],
      "text/plain": [
       "                titles  episodes  title_avg\n",
       "name                                       \n",
       "Phil Hartman       913       163   5.601227\n",
       "Joe Piscopo        364        72   5.055556\n",
       "Bill Murray        389        78   4.987179\n",
       "Amy Poehler        687       148   4.641892\n",
       "Will Ferrell       654       143   4.573427\n",
       "Dan Aykroyd        415        92   4.510870\n",
       "Kristen Wiig       633       141   4.489362\n",
       "Gilda Radner       464       106   4.377358\n",
       "Tim Kazurinsky     260        60   4.333333\n",
       "Bill Hader         696       162   4.296296"
      ]
     },
     "execution_count": 21,
     "metadata": {},
     "output_type": "execute_result"
    }
   ],
   "source": [
    "dfActorsTitlePerEpisode[dfActorsTitlePerEpisode.episodes>=50].sort_values('title_avg', ascending=False).head(10)"
   ]
  },
  {
   "cell_type": "markdown",
   "metadata": {
    "collapsed": true
   },
   "source": [
    "Here we see Phil Hartmans impressive record of having an average 5.6 titles per episode in over 160 episodes."
   ]
  },
  {
   "cell_type": "markdown",
   "metadata": {},
   "source": [
    "#### End of the initial analysis\n",
    "I hope I could spark your interest in this dataset. Maybe you have some ideas of interesting things to analyse about this TV show that is currently in its 42nd season. I will also add more data to this dataset if you point me towards a source of interesting data that would fit into it."
   ]
  }
 ],
 "metadata": {
  "anaconda-cloud": {},
  "kernelspec": {
   "display_name": "Python 3",
   "language": "python",
   "name": "python3"
  },
  "language_info": {
   "codemirror_mode": {
    "name": "ipython",
    "version": 3
   },
   "file_extension": ".py",
   "mimetype": "text/x-python",
   "name": "python",
   "nbconvert_exporter": "python",
   "pygments_lexer": "ipython3",
   "version": "3.6.0"
  }
 },
 "nbformat": 4,
 "nbformat_minor": 2
}
