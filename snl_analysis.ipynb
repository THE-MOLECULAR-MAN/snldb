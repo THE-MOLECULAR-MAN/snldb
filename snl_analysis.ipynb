{
 "cells": [
  {
   "cell_type": "markdown",
   "metadata": {},
   "source": [
    "### Analysis of the Saturday Night Live database\n",
    "\n",
    "If you have downloaded the snl database you have the following files available:\n",
    "\n",
    "* snl_season (sid, year)\n",
    "* snl_episode (sid, eid, year, aired)\n",
    "* snl_title (sid, eid, tid, title, titleType)\n",
    "* snl_actor (aid, name, isCast)\n",
    "* snl_actor_sketch (sid, eid, tid, aid, actorType)\n",
    "* snl_rating (lots of rating data from IMDb)\n",
    "\n",
    "In this notebook I want to have a first look at the data and show some interesting analysis that is possible with this dataset. Feel free to take your own look at it."
   ]
  },
  {
   "cell_type": "markdown",
   "metadata": {},
   "source": [
    "#### Imports & setup"
   ]
  },
  {
   "cell_type": "code",
   "execution_count": 1,
   "metadata": {
    "collapsed": false
   },
   "outputs": [
    {
     "data": {
      "text/html": [
       "\n",
       "    <div class=\"bk-root\">\n",
       "        <a href=\"http://bokeh.pydata.org\" target=\"_blank\" class=\"bk-logo bk-logo-small bk-logo-notebook\"></a>\n",
       "        <span id=\"508f23e6-ad73-4f9e-a2f9-4e89f61941a3\">Loading BokehJS ...</span>\n",
       "    </div>"
      ]
     },
     "metadata": {},
     "output_type": "display_data"
    },
    {
     "data": {
      "application/javascript": [
       "\n",
       "(function(global) {\n",
       "  function now() {\n",
       "    return new Date();\n",
       "  }\n",
       "\n",
       "  var force = true;\n",
       "\n",
       "  if (typeof (window._bokeh_onload_callbacks) === \"undefined\" || force === true) {\n",
       "    window._bokeh_onload_callbacks = [];\n",
       "    window._bokeh_is_loading = undefined;\n",
       "  }\n",
       "\n",
       "\n",
       "  \n",
       "  if (typeof (window._bokeh_timeout) === \"undefined\" || force === true) {\n",
       "    window._bokeh_timeout = Date.now() + 5000;\n",
       "    window._bokeh_failed_load = false;\n",
       "  }\n",
       "\n",
       "  var NB_LOAD_WARNING = {'data': {'text/html':\n",
       "     \"<div style='background-color: #fdd'>\\n\"+\n",
       "     \"<p>\\n\"+\n",
       "     \"BokehJS does not appear to have successfully loaded. If loading BokehJS from CDN, this \\n\"+\n",
       "     \"may be due to a slow or bad network connection. Possible fixes:\\n\"+\n",
       "     \"</p>\\n\"+\n",
       "     \"<ul>\\n\"+\n",
       "     \"<li>re-rerun `output_notebook()` to attempt to load from CDN again, or</li>\\n\"+\n",
       "     \"<li>use INLINE resources instead, as so:</li>\\n\"+\n",
       "     \"</ul>\\n\"+\n",
       "     \"<code>\\n\"+\n",
       "     \"from bokeh.resources import INLINE\\n\"+\n",
       "     \"output_notebook(resources=INLINE)\\n\"+\n",
       "     \"</code>\\n\"+\n",
       "     \"</div>\"}};\n",
       "\n",
       "  function display_loaded() {\n",
       "    if (window.Bokeh !== undefined) {\n",
       "      document.getElementById(\"508f23e6-ad73-4f9e-a2f9-4e89f61941a3\").textContent = \"BokehJS successfully loaded.\";\n",
       "    } else if (Date.now() < window._bokeh_timeout) {\n",
       "      setTimeout(display_loaded, 100)\n",
       "    }\n",
       "  }\n",
       "\n",
       "  function run_callbacks() {\n",
       "    window._bokeh_onload_callbacks.forEach(function(callback) { callback() });\n",
       "    delete window._bokeh_onload_callbacks\n",
       "    console.info(\"Bokeh: all callbacks have finished\");\n",
       "  }\n",
       "\n",
       "  function load_libs(js_urls, callback) {\n",
       "    window._bokeh_onload_callbacks.push(callback);\n",
       "    if (window._bokeh_is_loading > 0) {\n",
       "      console.log(\"Bokeh: BokehJS is being loaded, scheduling callback at\", now());\n",
       "      return null;\n",
       "    }\n",
       "    if (js_urls == null || js_urls.length === 0) {\n",
       "      run_callbacks();\n",
       "      return null;\n",
       "    }\n",
       "    console.log(\"Bokeh: BokehJS not loaded, scheduling load and callback at\", now());\n",
       "    window._bokeh_is_loading = js_urls.length;\n",
       "    for (var i = 0; i < js_urls.length; i++) {\n",
       "      var url = js_urls[i];\n",
       "      var s = document.createElement('script');\n",
       "      s.src = url;\n",
       "      s.async = false;\n",
       "      s.onreadystatechange = s.onload = function() {\n",
       "        window._bokeh_is_loading--;\n",
       "        if (window._bokeh_is_loading === 0) {\n",
       "          console.log(\"Bokeh: all BokehJS libraries loaded\");\n",
       "          run_callbacks()\n",
       "        }\n",
       "      };\n",
       "      s.onerror = function() {\n",
       "        console.warn(\"failed to load library \" + url);\n",
       "      };\n",
       "      console.log(\"Bokeh: injecting script tag for BokehJS library: \", url);\n",
       "      document.getElementsByTagName(\"head\")[0].appendChild(s);\n",
       "    }\n",
       "  };var element = document.getElementById(\"508f23e6-ad73-4f9e-a2f9-4e89f61941a3\");\n",
       "  if (element == null) {\n",
       "    console.log(\"Bokeh: ERROR: autoload.js configured with elementid '508f23e6-ad73-4f9e-a2f9-4e89f61941a3' but no matching script tag was found. \")\n",
       "    return false;\n",
       "  }\n",
       "\n",
       "  var js_urls = [\"https://cdn.pydata.org/bokeh/release/bokeh-0.12.4.min.js\", \"https://cdn.pydata.org/bokeh/release/bokeh-widgets-0.12.4.min.js\"];\n",
       "\n",
       "  var inline_js = [\n",
       "    function(Bokeh) {\n",
       "      Bokeh.set_log_level(\"info\");\n",
       "    },\n",
       "    \n",
       "    function(Bokeh) {\n",
       "      \n",
       "      document.getElementById(\"508f23e6-ad73-4f9e-a2f9-4e89f61941a3\").textContent = \"BokehJS is loading...\";\n",
       "    },\n",
       "    function(Bokeh) {\n",
       "      console.log(\"Bokeh: injecting CSS: https://cdn.pydata.org/bokeh/release/bokeh-0.12.4.min.css\");\n",
       "      Bokeh.embed.inject_css(\"https://cdn.pydata.org/bokeh/release/bokeh-0.12.4.min.css\");\n",
       "      console.log(\"Bokeh: injecting CSS: https://cdn.pydata.org/bokeh/release/bokeh-widgets-0.12.4.min.css\");\n",
       "      Bokeh.embed.inject_css(\"https://cdn.pydata.org/bokeh/release/bokeh-widgets-0.12.4.min.css\");\n",
       "    }\n",
       "  ];\n",
       "\n",
       "  function run_inline_js() {\n",
       "    \n",
       "    if ((window.Bokeh !== undefined) || (force === true)) {\n",
       "      for (var i = 0; i < inline_js.length; i++) {\n",
       "        inline_js[i](window.Bokeh);\n",
       "      }if (force === true) {\n",
       "        display_loaded();\n",
       "      }} else if (Date.now() < window._bokeh_timeout) {\n",
       "      setTimeout(run_inline_js, 100);\n",
       "    } else if (!window._bokeh_failed_load) {\n",
       "      console.log(\"Bokeh: BokehJS failed to load within specified timeout.\");\n",
       "      window._bokeh_failed_load = true;\n",
       "    } else if (force !== true) {\n",
       "      var cell = $(document.getElementById(\"508f23e6-ad73-4f9e-a2f9-4e89f61941a3\")).parents('.cell').data().cell;\n",
       "      cell.output_area.append_execute_result(NB_LOAD_WARNING)\n",
       "    }\n",
       "\n",
       "  }\n",
       "\n",
       "  if (window._bokeh_is_loading === 0) {\n",
       "    console.log(\"Bokeh: BokehJS loaded, going straight to plotting\");\n",
       "    run_inline_js();\n",
       "  } else {\n",
       "    load_libs(js_urls, function() {\n",
       "      console.log(\"Bokeh: BokehJS plotting callback run at\", now());\n",
       "      run_inline_js();\n",
       "    });\n",
       "  }\n",
       "}(this));"
      ]
     },
     "metadata": {},
     "output_type": "display_data"
    }
   ],
   "source": [
    "import pandas as pd\n",
    "import numpy as np\n",
    "import bokeh\n",
    "from bokeh.io import output_notebook\n",
    "from bokeh.plotting import figure, show\n",
    "output_notebook()"
   ]
  },
  {
   "cell_type": "markdown",
   "metadata": {},
   "source": [
    "#### Load the data"
   ]
  },
  {
   "cell_type": "code",
   "execution_count": 2,
   "metadata": {
    "collapsed": false
   },
   "outputs": [],
   "source": [
    "dfs = pd.read_csv('./db/snl_season.csv', encoding=\"utf-8\")\n",
    "dfe = pd.read_csv('./db/snl_episode.csv', encoding=\"utf-8\",parse_dates=['aired'])\n",
    "dft = pd.read_csv('./db/snl_title.csv', encoding=\"utf-8\")\n",
    "dfa = pd.read_csv('./db/snl_actor.csv', encoding=\"utf-8\")\n",
    "dfat = pd.read_csv('./db/snl_actor_title.csv', encoding=\"utf-8\")\n",
    "dfr = pd.read_csv('./db/snl_rating.csv', encoding=\"utf-8\")"
   ]
  },
  {
   "cell_type": "markdown",
   "metadata": {},
   "source": [
    "#### Have a look at the data"
   ]
  },
  {
   "cell_type": "code",
   "execution_count": 3,
   "metadata": {
    "collapsed": false
   },
   "outputs": [
    {
     "data": {
      "text/html": [
       "<div>\n",
       "<table border=\"1\" class=\"dataframe\">\n",
       "  <thead>\n",
       "    <tr style=\"text-align: right;\">\n",
       "      <th></th>\n",
       "      <th>sid</th>\n",
       "      <th>year</th>\n",
       "    </tr>\n",
       "  </thead>\n",
       "  <tbody>\n",
       "    <tr>\n",
       "      <th>0</th>\n",
       "      <td>1</td>\n",
       "      <td>1975</td>\n",
       "    </tr>\n",
       "    <tr>\n",
       "      <th>1</th>\n",
       "      <td>2</td>\n",
       "      <td>1976</td>\n",
       "    </tr>\n",
       "  </tbody>\n",
       "</table>\n",
       "</div>"
      ],
      "text/plain": [
       "   sid  year\n",
       "0    1  1975\n",
       "1    2  1976"
      ]
     },
     "execution_count": 3,
     "metadata": {},
     "output_type": "execute_result"
    }
   ],
   "source": [
    "dfs.head(2)"
   ]
  },
  {
   "cell_type": "code",
   "execution_count": 4,
   "metadata": {
    "collapsed": false
   },
   "outputs": [
    {
     "data": {
      "text/html": [
       "<div>\n",
       "<table border=\"1\" class=\"dataframe\">\n",
       "  <thead>\n",
       "    <tr style=\"text-align: right;\">\n",
       "      <th></th>\n",
       "      <th>sid</th>\n",
       "      <th>eid</th>\n",
       "      <th>year</th>\n",
       "      <th>aired</th>\n",
       "    </tr>\n",
       "  </thead>\n",
       "  <tbody>\n",
       "    <tr>\n",
       "      <th>0</th>\n",
       "      <td>3</td>\n",
       "      <td>20</td>\n",
       "      <td>1977</td>\n",
       "      <td>1978-05-20</td>\n",
       "    </tr>\n",
       "    <tr>\n",
       "      <th>1</th>\n",
       "      <td>3</td>\n",
       "      <td>19</td>\n",
       "      <td>1977</td>\n",
       "      <td>1978-05-13</td>\n",
       "    </tr>\n",
       "  </tbody>\n",
       "</table>\n",
       "</div>"
      ],
      "text/plain": [
       "   sid  eid  year      aired\n",
       "0    3   20  1977 1978-05-20\n",
       "1    3   19  1977 1978-05-13"
      ]
     },
     "execution_count": 4,
     "metadata": {},
     "output_type": "execute_result"
    }
   ],
   "source": [
    "dfe.head(2)"
   ]
  },
  {
   "cell_type": "code",
   "execution_count": 5,
   "metadata": {
    "collapsed": false
   },
   "outputs": [
    {
     "data": {
      "text/html": [
       "<div>\n",
       "<table border=\"1\" class=\"dataframe\">\n",
       "  <thead>\n",
       "    <tr style=\"text-align: right;\">\n",
       "      <th></th>\n",
       "      <th>sid</th>\n",
       "      <th>eid</th>\n",
       "      <th>tid</th>\n",
       "      <th>title</th>\n",
       "      <th>titleType</th>\n",
       "    </tr>\n",
       "  </thead>\n",
       "  <tbody>\n",
       "    <tr>\n",
       "      <th>0</th>\n",
       "      <td>3</td>\n",
       "      <td>20</td>\n",
       "      <td>1978052013</td>\n",
       "      <td>\"Space is the Place\", \"Space-Loneliness\"</td>\n",
       "      <td>Musical Performance</td>\n",
       "    </tr>\n",
       "    <tr>\n",
       "      <th>1</th>\n",
       "      <td>2</td>\n",
       "      <td>21</td>\n",
       "      <td>1977051416</td>\n",
       "      <td>NaN</td>\n",
       "      <td>Goodnights</td>\n",
       "    </tr>\n",
       "  </tbody>\n",
       "</table>\n",
       "</div>"
      ],
      "text/plain": [
       "   sid  eid         tid                                     title  \\\n",
       "0    3   20  1978052013  \"Space is the Place\", \"Space-Loneliness\"   \n",
       "1    2   21  1977051416                                       NaN   \n",
       "\n",
       "             titleType  \n",
       "0  Musical Performance  \n",
       "1           Goodnights  "
      ]
     },
     "execution_count": 5,
     "metadata": {},
     "output_type": "execute_result"
    }
   ],
   "source": [
    "dft.head(2)"
   ]
  },
  {
   "cell_type": "code",
   "execution_count": 6,
   "metadata": {
    "collapsed": false
   },
   "outputs": [
    {
     "data": {
      "text/html": [
       "<div>\n",
       "<table border=\"1\" class=\"dataframe\">\n",
       "  <thead>\n",
       "    <tr style=\"text-align: right;\">\n",
       "      <th></th>\n",
       "      <th>aid</th>\n",
       "      <th>name</th>\n",
       "      <th>isCast</th>\n",
       "    </tr>\n",
       "  </thead>\n",
       "  <tbody>\n",
       "    <tr>\n",
       "      <th>0</th>\n",
       "      <td>Sun Ra</td>\n",
       "      <td>Sun Ra</td>\n",
       "      <td>0</td>\n",
       "    </tr>\n",
       "    <tr>\n",
       "      <th>1</th>\n",
       "      <td>Steve Martin</td>\n",
       "      <td>Steve Martin</td>\n",
       "      <td>0</td>\n",
       "    </tr>\n",
       "  </tbody>\n",
       "</table>\n",
       "</div>"
      ],
      "text/plain": [
       "            aid          name  isCast\n",
       "0        Sun Ra        Sun Ra       0\n",
       "1  Steve Martin  Steve Martin       0"
      ]
     },
     "execution_count": 6,
     "metadata": {},
     "output_type": "execute_result"
    }
   ],
   "source": [
    "dfa.head(2)"
   ]
  },
  {
   "cell_type": "code",
   "execution_count": 7,
   "metadata": {
    "collapsed": false
   },
   "outputs": [
    {
     "data": {
      "text/html": [
       "<div>\n",
       "<table border=\"1\" class=\"dataframe\">\n",
       "  <thead>\n",
       "    <tr style=\"text-align: right;\">\n",
       "      <th></th>\n",
       "      <th>sid</th>\n",
       "      <th>eid</th>\n",
       "      <th>tid</th>\n",
       "      <th>aid</th>\n",
       "      <th>actorType</th>\n",
       "    </tr>\n",
       "  </thead>\n",
       "  <tbody>\n",
       "    <tr>\n",
       "      <th>0</th>\n",
       "      <td>3</td>\n",
       "      <td>20</td>\n",
       "      <td>1978052013</td>\n",
       "      <td>Sun Ra</td>\n",
       "      <td>music</td>\n",
       "    </tr>\n",
       "    <tr>\n",
       "      <th>1</th>\n",
       "      <td>3</td>\n",
       "      <td>18</td>\n",
       "      <td>1978042214</td>\n",
       "      <td>Steve Martin</td>\n",
       "      <td>host</td>\n",
       "    </tr>\n",
       "  </tbody>\n",
       "</table>\n",
       "</div>"
      ],
      "text/plain": [
       "   sid  eid         tid           aid actorType\n",
       "0    3   20  1978052013        Sun Ra     music\n",
       "1    3   18  1978042214  Steve Martin      host"
      ]
     },
     "execution_count": 7,
     "metadata": {},
     "output_type": "execute_result"
    }
   ],
   "source": [
    "dfat.head(2)"
   ]
  },
  {
   "cell_type": "code",
   "execution_count": 8,
   "metadata": {
    "collapsed": false
   },
   "outputs": [
    {
     "data": {
      "text/html": [
       "<div>\n",
       "<table border=\"1\" class=\"dataframe\">\n",
       "  <thead>\n",
       "    <tr style=\"text-align: right;\">\n",
       "      <th></th>\n",
       "      <th>sid</th>\n",
       "      <th>eid</th>\n",
       "      <th>1</th>\n",
       "      <th>10</th>\n",
       "      <th>2</th>\n",
       "      <th>3</th>\n",
       "      <th>4</th>\n",
       "      <th>5</th>\n",
       "      <th>6</th>\n",
       "      <th>7</th>\n",
       "      <th>...</th>\n",
       "      <th>Males Aged 45+_avg</th>\n",
       "      <th>Males under 18</th>\n",
       "      <th>Males under 18_avg</th>\n",
       "      <th>Males_avg</th>\n",
       "      <th>Non-US users</th>\n",
       "      <th>Non-US users_avg</th>\n",
       "      <th>Top 1000 voters</th>\n",
       "      <th>Top 1000 voters_avg</th>\n",
       "      <th>US users</th>\n",
       "      <th>US users_avg</th>\n",
       "    </tr>\n",
       "  </thead>\n",
       "  <tbody>\n",
       "    <tr>\n",
       "      <th>0</th>\n",
       "      <td>7</td>\n",
       "      <td>1</td>\n",
       "      <td>0</td>\n",
       "      <td>3</td>\n",
       "      <td>0</td>\n",
       "      <td>0</td>\n",
       "      <td>5</td>\n",
       "      <td>2</td>\n",
       "      <td>10</td>\n",
       "      <td>4</td>\n",
       "      <td>...</td>\n",
       "      <td>7.2</td>\n",
       "      <td>0</td>\n",
       "      <td>NaN</td>\n",
       "      <td>7.1</td>\n",
       "      <td>6</td>\n",
       "      <td>6.4</td>\n",
       "      <td>10</td>\n",
       "      <td>6.4</td>\n",
       "      <td>22</td>\n",
       "      <td>6.8</td>\n",
       "    </tr>\n",
       "    <tr>\n",
       "      <th>1</th>\n",
       "      <td>10</td>\n",
       "      <td>1</td>\n",
       "      <td>2</td>\n",
       "      <td>4</td>\n",
       "      <td>0</td>\n",
       "      <td>2</td>\n",
       "      <td>0</td>\n",
       "      <td>4</td>\n",
       "      <td>5</td>\n",
       "      <td>1</td>\n",
       "      <td>...</td>\n",
       "      <td>7.3</td>\n",
       "      <td>0</td>\n",
       "      <td>NaN</td>\n",
       "      <td>6.1</td>\n",
       "      <td>7</td>\n",
       "      <td>5.4</td>\n",
       "      <td>7</td>\n",
       "      <td>6.4</td>\n",
       "      <td>13</td>\n",
       "      <td>6.6</td>\n",
       "    </tr>\n",
       "  </tbody>\n",
       "</table>\n",
       "<p>2 rows × 50 columns</p>\n",
       "</div>"
      ],
      "text/plain": [
       "   sid  eid  1  10  2  3  4  5   6  7      ...       Males Aged 45+_avg  \\\n",
       "0    7    1  0   3  0  0  5  2  10  4      ...                      7.2   \n",
       "1   10    1  2   4  0  2  0  4   5  1      ...                      7.3   \n",
       "\n",
       "   Males under 18  Males under 18_avg  Males_avg  Non-US users  \\\n",
       "0               0                 NaN        7.1             6   \n",
       "1               0                 NaN        6.1             7   \n",
       "\n",
       "   Non-US users_avg  Top 1000 voters  Top 1000 voters_avg  US users  \\\n",
       "0               6.4               10                  6.4        22   \n",
       "1               5.4                7                  6.4        13   \n",
       "\n",
       "   US users_avg  \n",
       "0           6.8  \n",
       "1           6.6  \n",
       "\n",
       "[2 rows x 50 columns]"
      ]
     },
     "execution_count": 8,
     "metadata": {},
     "output_type": "execute_result"
    }
   ],
   "source": [
    "dfr.head(2)"
   ]
  },
  {
   "cell_type": "markdown",
   "metadata": {},
   "source": [
    "#### Combine episodes and ratings\n",
    "Since the ratings are for the episode we combine the two dataframes."
   ]
  },
  {
   "cell_type": "code",
   "execution_count": 9,
   "metadata": {
    "collapsed": false
   },
   "outputs": [],
   "source": [
    "dfer = pd.merge(dfe, dfr, on=['sid', 'eid'])"
   ]
  },
  {
   "cell_type": "markdown",
   "metadata": {},
   "source": [
    "#### Ratings over time (per episode)\n",
    "Now we can create our first graph. Let us look at the ratings over time. First sort the dataframe by season and episode."
   ]
  },
  {
   "cell_type": "code",
   "execution_count": 10,
   "metadata": {
    "collapsed": false
   },
   "outputs": [],
   "source": [
    "dfer = dfer.sort_values(['sid', 'eid'], ascending=[True, True]).reset_index(drop=True)"
   ]
  },
  {
   "cell_type": "code",
   "execution_count": 11,
   "metadata": {
    "collapsed": false
   },
   "outputs": [
    {
     "data": {
      "text/html": [
       "\n",
       "\n",
       "    <div class=\"bk-root\">\n",
       "        <div class=\"bk-plotdiv\" id=\"19a78a1b-4162-407d-94dd-9cd616a95f6e\"></div>\n",
       "    </div>\n",
       "<script type=\"text/javascript\">\n",
       "  \n",
       "  (function(global) {\n",
       "    function now() {\n",
       "      return new Date();\n",
       "    }\n",
       "  \n",
       "    var force = false;\n",
       "  \n",
       "    if (typeof (window._bokeh_onload_callbacks) === \"undefined\" || force === true) {\n",
       "      window._bokeh_onload_callbacks = [];\n",
       "      window._bokeh_is_loading = undefined;\n",
       "    }\n",
       "  \n",
       "  \n",
       "    \n",
       "    if (typeof (window._bokeh_timeout) === \"undefined\" || force === true) {\n",
       "      window._bokeh_timeout = Date.now() + 0;\n",
       "      window._bokeh_failed_load = false;\n",
       "    }\n",
       "  \n",
       "    var NB_LOAD_WARNING = {'data': {'text/html':\n",
       "       \"<div style='background-color: #fdd'>\\n\"+\n",
       "       \"<p>\\n\"+\n",
       "       \"BokehJS does not appear to have successfully loaded. If loading BokehJS from CDN, this \\n\"+\n",
       "       \"may be due to a slow or bad network connection. Possible fixes:\\n\"+\n",
       "       \"</p>\\n\"+\n",
       "       \"<ul>\\n\"+\n",
       "       \"<li>re-rerun `output_notebook()` to attempt to load from CDN again, or</li>\\n\"+\n",
       "       \"<li>use INLINE resources instead, as so:</li>\\n\"+\n",
       "       \"</ul>\\n\"+\n",
       "       \"<code>\\n\"+\n",
       "       \"from bokeh.resources import INLINE\\n\"+\n",
       "       \"output_notebook(resources=INLINE)\\n\"+\n",
       "       \"</code>\\n\"+\n",
       "       \"</div>\"}};\n",
       "  \n",
       "    function display_loaded() {\n",
       "      if (window.Bokeh !== undefined) {\n",
       "        document.getElementById(\"19a78a1b-4162-407d-94dd-9cd616a95f6e\").textContent = \"BokehJS successfully loaded.\";\n",
       "      } else if (Date.now() < window._bokeh_timeout) {\n",
       "        setTimeout(display_loaded, 100)\n",
       "      }\n",
       "    }if ((window.Jupyter !== undefined) && Jupyter.notebook.kernel) {\n",
       "      comm_manager = Jupyter.notebook.kernel.comm_manager\n",
       "      comm_manager.register_target(\"b79ba725-91e9-4c1b-8769-0895712fb5d9\", function () {});\n",
       "    }\n",
       "  \n",
       "    function run_callbacks() {\n",
       "      window._bokeh_onload_callbacks.forEach(function(callback) { callback() });\n",
       "      delete window._bokeh_onload_callbacks\n",
       "      console.info(\"Bokeh: all callbacks have finished\");\n",
       "    }\n",
       "  \n",
       "    function load_libs(js_urls, callback) {\n",
       "      window._bokeh_onload_callbacks.push(callback);\n",
       "      if (window._bokeh_is_loading > 0) {\n",
       "        console.log(\"Bokeh: BokehJS is being loaded, scheduling callback at\", now());\n",
       "        return null;\n",
       "      }\n",
       "      if (js_urls == null || js_urls.length === 0) {\n",
       "        run_callbacks();\n",
       "        return null;\n",
       "      }\n",
       "      console.log(\"Bokeh: BokehJS not loaded, scheduling load and callback at\", now());\n",
       "      window._bokeh_is_loading = js_urls.length;\n",
       "      for (var i = 0; i < js_urls.length; i++) {\n",
       "        var url = js_urls[i];\n",
       "        var s = document.createElement('script');\n",
       "        s.src = url;\n",
       "        s.async = false;\n",
       "        s.onreadystatechange = s.onload = function() {\n",
       "          window._bokeh_is_loading--;\n",
       "          if (window._bokeh_is_loading === 0) {\n",
       "            console.log(\"Bokeh: all BokehJS libraries loaded\");\n",
       "            run_callbacks()\n",
       "          }\n",
       "        };\n",
       "        s.onerror = function() {\n",
       "          console.warn(\"failed to load library \" + url);\n",
       "        };\n",
       "        console.log(\"Bokeh: injecting script tag for BokehJS library: \", url);\n",
       "        document.getElementsByTagName(\"head\")[0].appendChild(s);\n",
       "      }\n",
       "    };var element = document.getElementById(\"19a78a1b-4162-407d-94dd-9cd616a95f6e\");\n",
       "    if (element == null) {\n",
       "      console.log(\"Bokeh: ERROR: autoload.js configured with elementid '19a78a1b-4162-407d-94dd-9cd616a95f6e' but no matching script tag was found. \")\n",
       "      return false;\n",
       "    }\n",
       "  \n",
       "    var js_urls = [];\n",
       "  \n",
       "    var inline_js = [\n",
       "      function(Bokeh) {\n",
       "        (function() {\n",
       "          var fn = function() {\n",
       "            var docs_json = {\"1a276d48-2f8d-4797-ad9a-21006dcc0719\":{\"roots\":{\"references\":[{\"attributes\":{\"plot\":null,\"text\":\"\"},\"id\":\"90ca0a8d-a169-4a2e-8d19-17c2b1770d71\",\"type\":\"Title\"},{\"attributes\":{\"bottom_units\":\"screen\",\"fill_alpha\":{\"value\":0.5},\"fill_color\":{\"value\":\"lightgrey\"},\"left_units\":\"screen\",\"level\":\"overlay\",\"line_alpha\":{\"value\":1.0},\"line_color\":{\"value\":\"black\"},\"line_dash\":[4,4],\"line_width\":{\"value\":2},\"plot\":null,\"render_mode\":\"css\",\"right_units\":\"screen\",\"top_units\":\"screen\"},\"id\":\"5d7d1c23-91a9-4fe0-a8d0-9c7b75c92660\",\"type\":\"BoxAnnotation\"},{\"attributes\":{\"dimension\":1,\"plot\":{\"id\":\"719264f7-5b9c-4107-a50a-e5b1a2dd95f8\",\"subtype\":\"Figure\",\"type\":\"Plot\"},\"ticker\":{\"id\":\"46592979-ff87-4f44-80db-5b072ad22e53\",\"type\":\"BasicTicker\"}},\"id\":\"3224e571-8a0a-4c10-b0f7-c495f106eedb\",\"type\":\"Grid\"},{\"attributes\":{},\"id\":\"46592979-ff87-4f44-80db-5b072ad22e53\",\"type\":\"BasicTicker\"},{\"attributes\":{\"formatter\":{\"id\":\"b2921c16-43a8-4a07-bb48-8e8d71b5b774\",\"type\":\"BasicTickFormatter\"},\"plot\":{\"id\":\"719264f7-5b9c-4107-a50a-e5b1a2dd95f8\",\"subtype\":\"Figure\",\"type\":\"Plot\"},\"ticker\":{\"id\":\"46592979-ff87-4f44-80db-5b072ad22e53\",\"type\":\"BasicTicker\"}},\"id\":\"07d5e4b9-6728-4032-be50-223f80a6c7c3\",\"type\":\"LinearAxis\"},{\"attributes\":{\"plot\":{\"id\":\"719264f7-5b9c-4107-a50a-e5b1a2dd95f8\",\"subtype\":\"Figure\",\"type\":\"Plot\"},\"ticker\":{\"id\":\"5927d16c-8066-4a91-ae74-77a83039b916\",\"type\":\"BasicTicker\"}},\"id\":\"391c7cc6-bd67-484b-9f36-88db3e14a7db\",\"type\":\"Grid\"},{\"attributes\":{},\"id\":\"5927d16c-8066-4a91-ae74-77a83039b916\",\"type\":\"BasicTicker\"},{\"attributes\":{\"active_drag\":\"auto\",\"active_scroll\":\"auto\",\"active_tap\":\"auto\",\"tools\":[{\"id\":\"dc680f59-0aaf-486c-a999-f0822e4b8bf8\",\"type\":\"PanTool\"},{\"id\":\"b14ccca3-4e08-438d-a0ae-2634b9caa46a\",\"type\":\"WheelZoomTool\"},{\"id\":\"cb164c91-35e1-42b4-95c2-34aa690ced12\",\"type\":\"BoxZoomTool\"},{\"id\":\"4bbeb0f0-35b6-43db-b423-81cfd04a337d\",\"type\":\"SaveTool\"},{\"id\":\"50e67bb6-1ae5-4554-a0ff-11970e27f051\",\"type\":\"ResetTool\"},{\"id\":\"1e235738-8c9c-4223-85ef-3731cd8e31ed\",\"type\":\"HelpTool\"}]},\"id\":\"7ea45f78-f169-4d65-823f-44e437ca5f51\",\"type\":\"Toolbar\"},{\"attributes\":{\"formatter\":{\"id\":\"149e09de-fb9c-499a-94df-6d42055fb8e0\",\"type\":\"BasicTickFormatter\"},\"plot\":{\"id\":\"719264f7-5b9c-4107-a50a-e5b1a2dd95f8\",\"subtype\":\"Figure\",\"type\":\"Plot\"},\"ticker\":{\"id\":\"5927d16c-8066-4a91-ae74-77a83039b916\",\"type\":\"BasicTicker\"}},\"id\":\"8da39060-e15f-4c1a-ad3c-3ea3b8dd3a7d\",\"type\":\"LinearAxis\"},{\"attributes\":{\"data_source\":{\"id\":\"a3c307cf-abcc-4dba-a2af-5c3805f543db\",\"type\":\"ColumnDataSource\"},\"glyph\":{\"id\":\"85a53947-1bb7-46a2-920b-c99399a8a46b\",\"type\":\"MultiLine\"},\"hover_glyph\":null,\"nonselection_glyph\":{\"id\":\"96d8beef-725b-4bd4-8b07-f4dabe0d9387\",\"type\":\"MultiLine\"},\"selection_glyph\":null},\"id\":\"ee0f1350-dcc4-4a91-98ef-c91a3444363e\",\"type\":\"GlyphRenderer\"},{\"attributes\":{\"callback\":null},\"id\":\"7463e2f6-b7fa-4dd5-bfb9-d8dd1c7fb7bd\",\"type\":\"DataRange1d\"},{\"attributes\":{},\"id\":\"3e178551-c1fa-498f-bb82-75139f0457c1\",\"type\":\"ToolEvents\"},{\"attributes\":{},\"id\":\"b2921c16-43a8-4a07-bb48-8e8d71b5b774\",\"type\":\"BasicTickFormatter\"},{\"attributes\":{\"callback\":null,\"column_names\":[\"xs\",\"ys\",\"line_color\"],\"data\":{\"line_color\":[\"blue\",\"red\"],\"xs\":[[0,1,2,3,4,5,6,7,8,9,10,11,12,13,14,15,16,17,18,19,20,21,22,23,24,25,26,27,28,29,30,31,32,33,34,35,36,37,38,39,40,41,42,43,44,45,46,47,48,49,50,51,52,53,54,55,56,57,58,59,60,61,62,63,64,65,66,67,68,69,70,71,72,73,74,75,76,77,78,79,80,81,82,83,84,85,86,87,88,89,90,91,92,93,94,95,96,97,98,99,100,101,102,103,104,105,106,107,108,109,110,111,112,113,114,115,116,117,118,119,120,121,122,123,124,125,126,127,128,129,130,131,132,133,134,135,136,137,138,139,140,141,142,143,144,145,146,147,148,149,150,151,152,153,154,155,156,157,158,159,160,161,162,163,164,165,166,167,168,169,170,171,172,173,174,175,176,177,178,179,180,181,182,183,184,185,186,187,188,189,190,191,192,193,194,195,196,197,198,199,200,201,202,203,204,205,206,207,208,209,210,211,212,213,214,215,216,217,218,219,220,221,222,223,224,225,226,227,228,229,230,231,232,233,234,235,236,237,238,239,240,241,242,243,244,245,246,247,248,249,250,251,252,253,254,255,256,257,258,259,260,261,262,263,264,265,266,267,268,269,270,271,272,273,274,275,276,277,278,279,280,281,282,283,284,285,286,287,288,289,290,291,292,293,294,295,296,297,298,299,300,301,302,303,304,305,306,307,308,309,310,311,312,313,314,315,316,317,318,319,320,321,322,323,324,325,326,327,328,329,330,331,332,333,334,335,336,337,338,339,340,341,342,343,344,345,346,347,348,349,350,351,352,353,354,355,356,357,358,359,360,361,362,363,364,365,366,367,368,369,370,371,372,373,374,375,376,377,378,379,380,381,382,383,384,385,386,387,388,389,390,391,392,393,394,395,396,397,398,399,400,401,402,403,404,405,406,407,408,409,410,411,412,413,414,415,416,417,418,419,420,421,422,423,424,425,426,427,428,429,430,431,432,433,434,435,436,437,438,439,440,441,442,443,444,445,446,447,448,449,450,451,452,453,454,455,456,457,458,459,460,461,462,463,464,465,466,467,468,469,470,471,472,473,474,475,476,477,478,479,480,481,482,483,484,485,486,487,488,489,490,491,492,493,494,495,496,497,498,499,500,501,502,503,504,505,506,507,508,509,510,511,512,513,514,515,516,517,518,519,520,521,522,523,524,525,526,527,528,529,530,531,532,533,534,535,536,537,538,539,540,541,542,543,544,545,546,547,548,549,550,551,552,553,554,555,556,557,558,559,560,561,562,563,564,565,566,567,568,569,570,571,572,573,574,575,576,577,578,579,580,581,582,583,584,585,586,587,588,589,590,591,592,593,594,595,596,597,598,599,600,601,602,603,604,605,606,607,608,609,610,611,612,613,614,615,616,617,618,619,620,621,622,623,624,625,626,627,628,629,630,631,632,633,634,635,636,637,638,639,640,641,642,643,644,645,646,647,648,649,650,651,652,653,654,655,656,657,658,659,660,661,662,663,664,665,666,667,668,669,670,671,672,673,674,675,676,677,678,679,680,681,682,683,684,685,686,687,688,689,690,691,692,693,694,695,696,697,698,699,700,701,702,703,704,705,706,707,708,709,710,711,712,713,714,715,716,717,718,719,720,721,722,723,724,725,726,727,728,729,730,731,732,733,734,735,736,737,738,739,740,741,742,743,744,745,746,747,748,749,750,751,752,753,754,755,756,757,758,759,760,761,762,763,764,765,766,767,768,769,770,771,772,773,774,775,776,777,778,779,780,781,782,783,784,785,786,787,788,789,790,791,792,793,794,795,796,797,798,799,800,801,802,803,804,805,806,807,808,809,810,811,812,813,814,815,816,817,818,819],[0,1,2,3,4,5,6,7,8,9,10,11,12,13,14,15,16,17,18,19,20,21,22,23,24,25,26,27,28,29,30,31,32,33,34,35,36,37,38,39,40,41,42,43,44,45,46,47,48,49,50,51,52,53,54,55,56,57,58,59,60,61,62,63,64,65,66,67,68,69,70,71,72,73,74,75,76,77,78,79,80,81,82,83,84,85,86,87,88,89,90,91,92,93,94,95,96,97,98,99,100,101,102,103,104,105,106,107,108,109,110,111,112,113,114,115,116,117,118,119,120,121,122,123,124,125,126,127,128,129,130,131,132,133,134,135,136,137,138,139,140,141,142,143,144,145,146,147,148,149,150,151,152,153,154,155,156,157,158,159,160,161,162,163,164,165,166,167,168,169,170,171,172,173,174,175,176,177,178,179,180,181,182,183,184,185,186,187,188,189,190,191,192,193,194,195,196,197,198,199,200,201,202,203,204,205,206,207,208,209,210,211,212,213,214,215,216,217,218,219,220,221,222,223,224,225,226,227,228,229,230,231,232,233,234,235,236,237,238,239,240,241,242,243,244,245,246,247,248,249,250,251,252,253,254,255,256,257,258,259,260,261,262,263,264,265,266,267,268,269,270,271,272,273,274,275,276,277,278,279,280,281,282,283,284,285,286,287,288,289,290,291,292,293,294,295,296,297,298,299,300,301,302,303,304,305,306,307,308,309,310,311,312,313,314,315,316,317,318,319,320,321,322,323,324,325,326,327,328,329,330,331,332,333,334,335,336,337,338,339,340,341,342,343,344,345,346,347,348,349,350,351,352,353,354,355,356,357,358,359,360,361,362,363,364,365,366,367,368,369,370,371,372,373,374,375,376,377,378,379,380,381,382,383,384,385,386,387,388,389,390,391,392,393,394,395,396,397,398,399,400,401,402,403,404,405,406,407,408,409,410,411,412,413,414,415,416,417,418,419,420,421,422,423,424,425,426,427,428,429,430,431,432,433,434,435,436,437,438,439,440,441,442,443,444,445,446,447,448,449,450,451,452,453,454,455,456,457,458,459,460,461,462,463,464,465,466,467,468,469,470,471,472,473,474,475,476,477,478,479,480,481,482,483,484,485,486,487,488,489,490,491,492,493,494,495,496,497,498,499,500,501,502,503,504,505,506,507,508,509,510,511,512,513,514,515,516,517,518,519,520,521,522,523,524,525,526,527,528,529,530,531,532,533,534,535,536,537,538,539,540,541,542,543,544,545,546,547,548,549,550,551,552,553,554,555,556,557,558,559,560,561,562,563,564,565,566,567,568,569,570,571,572,573,574,575,576,577,578,579,580,581,582,583,584,585,586,587,588,589,590,591,592,593,594,595,596,597,598,599,600,601,602,603,604,605,606,607,608,609,610,611,612,613,614,615,616,617,618,619,620,621,622,623,624,625,626,627,628,629,630,631,632,633,634,635,636,637,638,639,640,641,642,643,644,645,646,647,648,649,650,651,652,653,654,655,656,657,658,659,660,661,662,663,664,665,666,667,668,669,670,671,672,673,674,675,676,677,678,679,680,681,682,683,684,685,686,687,688,689,690,691,692,693,694,695,696,697,698,699,700,701,702,703,704,705,706,707,708,709,710,711,712,713,714,715,716,717,718,719,720,721,722,723,724,725,726,727,728,729,730,731,732,733,734,735,736,737,738,739,740,741,742,743,744,745,746,747,748,749,750,751,752,753,754,755,756,757,758,759,760,761,762,763,764,765,766,767,768,769,770,771,772,773,774,775,776,777,778,779,780,781,782,783,784,785,786,787,788,789,790,791,792,793,794,795,796,797,798,799,800,801,802,803,804,805,806,807,808,809,810,811,812,813,814,815,816,817,818,819]],\"ys\":[{\"__ndarray__\":\"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\",\"dtype\":\"float64\",\"shape\":[820]},{\"__ndarray__\":\"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\",\"dtype\":\"float64\",\"shape\":[820]}]}},\"id\":\"a3c307cf-abcc-4dba-a2af-5c3805f543db\",\"type\":\"ColumnDataSource\"},{\"attributes\":{\"below\":[{\"id\":\"8da39060-e15f-4c1a-ad3c-3ea3b8dd3a7d\",\"type\":\"LinearAxis\"}],\"left\":[{\"id\":\"07d5e4b9-6728-4032-be50-223f80a6c7c3\",\"type\":\"LinearAxis\"}],\"plot_height\":200,\"plot_width\":800,\"renderers\":[{\"id\":\"8da39060-e15f-4c1a-ad3c-3ea3b8dd3a7d\",\"type\":\"LinearAxis\"},{\"id\":\"391c7cc6-bd67-484b-9f36-88db3e14a7db\",\"type\":\"Grid\"},{\"id\":\"07d5e4b9-6728-4032-be50-223f80a6c7c3\",\"type\":\"LinearAxis\"},{\"id\":\"3224e571-8a0a-4c10-b0f7-c495f106eedb\",\"type\":\"Grid\"},{\"id\":\"5d7d1c23-91a9-4fe0-a8d0-9c7b75c92660\",\"type\":\"BoxAnnotation\"},{\"id\":\"ee0f1350-dcc4-4a91-98ef-c91a3444363e\",\"type\":\"GlyphRenderer\"}],\"title\":{\"id\":\"90ca0a8d-a169-4a2e-8d19-17c2b1770d71\",\"type\":\"Title\"},\"tool_events\":{\"id\":\"3e178551-c1fa-498f-bb82-75139f0457c1\",\"type\":\"ToolEvents\"},\"toolbar\":{\"id\":\"7ea45f78-f169-4d65-823f-44e437ca5f51\",\"type\":\"Toolbar\"},\"x_range\":{\"id\":\"7463e2f6-b7fa-4dd5-bfb9-d8dd1c7fb7bd\",\"type\":\"DataRange1d\"},\"y_range\":{\"id\":\"c67e33c0-2c90-4d55-9cc9-09b57651a970\",\"type\":\"Range1d\"}},\"id\":\"719264f7-5b9c-4107-a50a-e5b1a2dd95f8\",\"subtype\":\"Figure\",\"type\":\"Plot\"},{\"attributes\":{\"plot\":{\"id\":\"719264f7-5b9c-4107-a50a-e5b1a2dd95f8\",\"subtype\":\"Figure\",\"type\":\"Plot\"}},\"id\":\"dc680f59-0aaf-486c-a999-f0822e4b8bf8\",\"type\":\"PanTool\"},{\"attributes\":{\"plot\":{\"id\":\"719264f7-5b9c-4107-a50a-e5b1a2dd95f8\",\"subtype\":\"Figure\",\"type\":\"Plot\"}},\"id\":\"b14ccca3-4e08-438d-a0ae-2634b9caa46a\",\"type\":\"WheelZoomTool\"},{\"attributes\":{\"overlay\":{\"id\":\"5d7d1c23-91a9-4fe0-a8d0-9c7b75c92660\",\"type\":\"BoxAnnotation\"},\"plot\":{\"id\":\"719264f7-5b9c-4107-a50a-e5b1a2dd95f8\",\"subtype\":\"Figure\",\"type\":\"Plot\"}},\"id\":\"cb164c91-35e1-42b4-95c2-34aa690ced12\",\"type\":\"BoxZoomTool\"},{\"attributes\":{\"plot\":{\"id\":\"719264f7-5b9c-4107-a50a-e5b1a2dd95f8\",\"subtype\":\"Figure\",\"type\":\"Plot\"}},\"id\":\"4bbeb0f0-35b6-43db-b423-81cfd04a337d\",\"type\":\"SaveTool\"},{\"attributes\":{\"line_alpha\":{\"value\":0.1},\"line_color\":{\"value\":\"#1f77b4\"},\"xs\":{\"field\":\"xs\"},\"ys\":{\"field\":\"ys\"}},\"id\":\"96d8beef-725b-4bd4-8b07-f4dabe0d9387\",\"type\":\"MultiLine\"},{\"attributes\":{\"plot\":{\"id\":\"719264f7-5b9c-4107-a50a-e5b1a2dd95f8\",\"subtype\":\"Figure\",\"type\":\"Plot\"}},\"id\":\"50e67bb6-1ae5-4554-a0ff-11970e27f051\",\"type\":\"ResetTool\"},{\"attributes\":{\"callback\":null,\"end\":10},\"id\":\"c67e33c0-2c90-4d55-9cc9-09b57651a970\",\"type\":\"Range1d\"},{\"attributes\":{\"plot\":{\"id\":\"719264f7-5b9c-4107-a50a-e5b1a2dd95f8\",\"subtype\":\"Figure\",\"type\":\"Plot\"}},\"id\":\"1e235738-8c9c-4223-85ef-3731cd8e31ed\",\"type\":\"HelpTool\"},{\"attributes\":{},\"id\":\"149e09de-fb9c-499a-94df-6d42055fb8e0\",\"type\":\"BasicTickFormatter\"},{\"attributes\":{\"line_color\":{\"field\":\"line_color\"},\"xs\":{\"field\":\"xs\"},\"ys\":{\"field\":\"ys\"}},\"id\":\"85a53947-1bb7-46a2-920b-c99399a8a46b\",\"type\":\"MultiLine\"}],\"root_ids\":[\"719264f7-5b9c-4107-a50a-e5b1a2dd95f8\"]},\"title\":\"Bokeh Application\",\"version\":\"0.12.4\"}};\n",
       "            var render_items = [{\"docid\":\"1a276d48-2f8d-4797-ad9a-21006dcc0719\",\"elementid\":\"19a78a1b-4162-407d-94dd-9cd616a95f6e\",\"modelid\":\"719264f7-5b9c-4107-a50a-e5b1a2dd95f8\",\"notebook_comms_target\":\"b79ba725-91e9-4c1b-8769-0895712fb5d9\"}];\n",
       "            \n",
       "            Bokeh.embed.embed_items(docs_json, render_items);\n",
       "          };\n",
       "          if (document.readyState != \"loading\") fn();\n",
       "          else document.addEventListener(\"DOMContentLoaded\", fn);\n",
       "        })();\n",
       "      },\n",
       "      function(Bokeh) {\n",
       "      }\n",
       "    ];\n",
       "  \n",
       "    function run_inline_js() {\n",
       "      \n",
       "      if ((window.Bokeh !== undefined) || (force === true)) {\n",
       "        for (var i = 0; i < inline_js.length; i++) {\n",
       "          inline_js[i](window.Bokeh);\n",
       "        }if (force === true) {\n",
       "          display_loaded();\n",
       "        }} else if (Date.now() < window._bokeh_timeout) {\n",
       "        setTimeout(run_inline_js, 100);\n",
       "      } else if (!window._bokeh_failed_load) {\n",
       "        console.log(\"Bokeh: BokehJS failed to load within specified timeout.\");\n",
       "        window._bokeh_failed_load = true;\n",
       "      } else if (force !== true) {\n",
       "        var cell = $(document.getElementById(\"19a78a1b-4162-407d-94dd-9cd616a95f6e\")).parents('.cell').data().cell;\n",
       "        cell.output_area.append_execute_result(NB_LOAD_WARNING)\n",
       "      }\n",
       "  \n",
       "    }\n",
       "  \n",
       "    if (window._bokeh_is_loading === 0) {\n",
       "      console.log(\"Bokeh: BokehJS loaded, going straight to plotting\");\n",
       "      run_inline_js();\n",
       "    } else {\n",
       "      load_libs(js_urls, function() {\n",
       "        console.log(\"Bokeh: BokehJS plotting callback run at\", now());\n",
       "        run_inline_js();\n",
       "      });\n",
       "    }\n",
       "  }(this));\n",
       "</script>"
      ]
     },
     "metadata": {},
     "output_type": "display_data"
    }
   ],
   "source": [
    "# plot a trend line, too\n",
    "trend = np.polyfit(dfer.index, dfer[\"IMDb users_avg\"].values, 10)\n",
    "trend_func = np.poly1d(trend)\n",
    "\n",
    "p = figure(plot_width=800, plot_height=200, y_range=(0,10))\n",
    "r = p.multi_line([dfer.index, dfer.index],[dfer[\"IMDb users_avg\"].values, trend_func(dfer.index)], color=['blue', 'red'])\n",
    "t = show(p, notebook_handle=True)"
   ]
  },
  {
   "cell_type": "markdown",
   "metadata": {},
   "source": [
    "#### Ratings over time (per season)\n",
    "It is also interesting to see how the average ratings of the season developed over the years."
   ]
  },
  {
   "cell_type": "code",
   "execution_count": 12,
   "metadata": {
    "collapsed": false
   },
   "outputs": [],
   "source": [
    "sSeasonRatingAverage = dfer.groupby(\"sid\")[\"IMDb users_avg\"].mean()"
   ]
  },
  {
   "cell_type": "code",
   "execution_count": 13,
   "metadata": {
    "collapsed": false
   },
   "outputs": [
    {
     "data": {
      "text/html": [
       "\n",
       "\n",
       "    <div class=\"bk-root\">\n",
       "        <div class=\"bk-plotdiv\" id=\"aa18c452-d68f-44d0-ae24-c5b8203d069f\"></div>\n",
       "    </div>\n",
       "<script type=\"text/javascript\">\n",
       "  \n",
       "  (function(global) {\n",
       "    function now() {\n",
       "      return new Date();\n",
       "    }\n",
       "  \n",
       "    var force = false;\n",
       "  \n",
       "    if (typeof (window._bokeh_onload_callbacks) === \"undefined\" || force === true) {\n",
       "      window._bokeh_onload_callbacks = [];\n",
       "      window._bokeh_is_loading = undefined;\n",
       "    }\n",
       "  \n",
       "  \n",
       "    \n",
       "    if (typeof (window._bokeh_timeout) === \"undefined\" || force === true) {\n",
       "      window._bokeh_timeout = Date.now() + 0;\n",
       "      window._bokeh_failed_load = false;\n",
       "    }\n",
       "  \n",
       "    var NB_LOAD_WARNING = {'data': {'text/html':\n",
       "       \"<div style='background-color: #fdd'>\\n\"+\n",
       "       \"<p>\\n\"+\n",
       "       \"BokehJS does not appear to have successfully loaded. If loading BokehJS from CDN, this \\n\"+\n",
       "       \"may be due to a slow or bad network connection. Possible fixes:\\n\"+\n",
       "       \"</p>\\n\"+\n",
       "       \"<ul>\\n\"+\n",
       "       \"<li>re-rerun `output_notebook()` to attempt to load from CDN again, or</li>\\n\"+\n",
       "       \"<li>use INLINE resources instead, as so:</li>\\n\"+\n",
       "       \"</ul>\\n\"+\n",
       "       \"<code>\\n\"+\n",
       "       \"from bokeh.resources import INLINE\\n\"+\n",
       "       \"output_notebook(resources=INLINE)\\n\"+\n",
       "       \"</code>\\n\"+\n",
       "       \"</div>\"}};\n",
       "  \n",
       "    function display_loaded() {\n",
       "      if (window.Bokeh !== undefined) {\n",
       "        document.getElementById(\"aa18c452-d68f-44d0-ae24-c5b8203d069f\").textContent = \"BokehJS successfully loaded.\";\n",
       "      } else if (Date.now() < window._bokeh_timeout) {\n",
       "        setTimeout(display_loaded, 100)\n",
       "      }\n",
       "    }if ((window.Jupyter !== undefined) && Jupyter.notebook.kernel) {\n",
       "      comm_manager = Jupyter.notebook.kernel.comm_manager\n",
       "      comm_manager.register_target(\"547a5b86-46ae-49ca-b861-6ca255c975ec\", function () {});\n",
       "    }\n",
       "  \n",
       "    function run_callbacks() {\n",
       "      window._bokeh_onload_callbacks.forEach(function(callback) { callback() });\n",
       "      delete window._bokeh_onload_callbacks\n",
       "      console.info(\"Bokeh: all callbacks have finished\");\n",
       "    }\n",
       "  \n",
       "    function load_libs(js_urls, callback) {\n",
       "      window._bokeh_onload_callbacks.push(callback);\n",
       "      if (window._bokeh_is_loading > 0) {\n",
       "        console.log(\"Bokeh: BokehJS is being loaded, scheduling callback at\", now());\n",
       "        return null;\n",
       "      }\n",
       "      if (js_urls == null || js_urls.length === 0) {\n",
       "        run_callbacks();\n",
       "        return null;\n",
       "      }\n",
       "      console.log(\"Bokeh: BokehJS not loaded, scheduling load and callback at\", now());\n",
       "      window._bokeh_is_loading = js_urls.length;\n",
       "      for (var i = 0; i < js_urls.length; i++) {\n",
       "        var url = js_urls[i];\n",
       "        var s = document.createElement('script');\n",
       "        s.src = url;\n",
       "        s.async = false;\n",
       "        s.onreadystatechange = s.onload = function() {\n",
       "          window._bokeh_is_loading--;\n",
       "          if (window._bokeh_is_loading === 0) {\n",
       "            console.log(\"Bokeh: all BokehJS libraries loaded\");\n",
       "            run_callbacks()\n",
       "          }\n",
       "        };\n",
       "        s.onerror = function() {\n",
       "          console.warn(\"failed to load library \" + url);\n",
       "        };\n",
       "        console.log(\"Bokeh: injecting script tag for BokehJS library: \", url);\n",
       "        document.getElementsByTagName(\"head\")[0].appendChild(s);\n",
       "      }\n",
       "    };var element = document.getElementById(\"aa18c452-d68f-44d0-ae24-c5b8203d069f\");\n",
       "    if (element == null) {\n",
       "      console.log(\"Bokeh: ERROR: autoload.js configured with elementid 'aa18c452-d68f-44d0-ae24-c5b8203d069f' but no matching script tag was found. \")\n",
       "      return false;\n",
       "    }\n",
       "  \n",
       "    var js_urls = [];\n",
       "  \n",
       "    var inline_js = [\n",
       "      function(Bokeh) {\n",
       "        (function() {\n",
       "          var fn = function() {\n",
       "            var docs_json = {\"27aab453-02df-48c8-8f7d-c576b4ccbbbe\":{\"roots\":{\"references\":[{\"attributes\":{\"line_alpha\":{\"value\":0.1},\"line_color\":{\"value\":\"#1f77b4\"},\"x\":{\"field\":\"x\"},\"y\":{\"field\":\"y\"}},\"id\":\"0d27709a-9a90-4952-854f-0f85b6b7863f\",\"type\":\"Line\"},{\"attributes\":{\"callback\":null,\"end\":10},\"id\":\"239f1f02-ee0c-4766-88c1-69e443a92807\",\"type\":\"Range1d\"},{\"attributes\":{},\"id\":\"86dbf327-ed05-4455-b4a5-a4ef63e9a3b1\",\"type\":\"BasicTicker\"},{\"attributes\":{\"plot\":{\"id\":\"f9cf3de1-1e92-49b9-8f11-7aabc8ae22b4\",\"subtype\":\"Figure\",\"type\":\"Plot\"}},\"id\":\"caafe88b-f1fe-449f-ba66-2ea77033351b\",\"type\":\"WheelZoomTool\"},{\"attributes\":{\"line_color\":{\"value\":\"#1f77b4\"},\"x\":{\"field\":\"x\"},\"y\":{\"field\":\"y\"}},\"id\":\"8e752f15-4cef-4f4d-a3f4-343ec27947b7\",\"type\":\"Line\"},{\"attributes\":{\"plot\":{\"id\":\"f9cf3de1-1e92-49b9-8f11-7aabc8ae22b4\",\"subtype\":\"Figure\",\"type\":\"Plot\"},\"ticker\":{\"id\":\"1bddc959-4bb1-4a13-8774-97d8d754d168\",\"type\":\"BasicTicker\"}},\"id\":\"52585ca1-56cb-45f9-9a5c-1d6db909069e\",\"type\":\"Grid\"},{\"attributes\":{\"dimension\":1,\"plot\":{\"id\":\"f9cf3de1-1e92-49b9-8f11-7aabc8ae22b4\",\"subtype\":\"Figure\",\"type\":\"Plot\"},\"ticker\":{\"id\":\"86dbf327-ed05-4455-b4a5-a4ef63e9a3b1\",\"type\":\"BasicTicker\"}},\"id\":\"5a08ab2f-d703-4206-93db-5c2f6f88e2c4\",\"type\":\"Grid\"},{\"attributes\":{\"plot\":null,\"text\":\"\"},\"id\":\"db72935f-fd0e-49d7-a213-7a9d8194e773\",\"type\":\"Title\"},{\"attributes\":{\"callback\":null,\"column_names\":[\"x\",\"y\"],\"data\":{\"x\":[1,2,3,4,5,6,7,8,9,10,11,12,13,14,15,16,17,18,19,20,21,22,23,24,25,26,27,28,29,30,31,32,33,34,35,36,37,38,39,40,41,42],\"y\":{\"__ndarray__\":\"ERERERGRHEDKzMzMzMwcQOtRuB6F6xxAwvUoXI/CHEAVrkfhehQbQH7gB37gBxpA2KNwPQrXGkATrkfhehQdQDWU11BeQxlAEhISEhISGkC4YAu2YAsZQAAAAAAAgBpARS/0Qi/0GEDgehSuR+EYQML1KFyPQhhArkfhehQuGkB7FK5H4focQJDC9ShcjxpAmpmZmZmZGECF61G4HoUbQK5H4XoUrhpA2aNwPQpXF0CamZmZmRkYQAgj7ViBMBhA1qNwPQpXGkBcj8L1KFwYQOtRuB6FaxhAH4XrUbieFUAK16NwPQoXQML1KFyPwhdAO1YgjLRjGUAqXI/C9agcQBERERERkR1AyVOCPCXIG0DcN6x9w9oaQH/D2jesfRtA5ClBnhLkHECGYRiGYRgcQGiN1miN1hxAZT/2Yz/2G0Dbtm3btm0bQHh3d3d39xtA\",\"dtype\":\"float64\",\"shape\":[42]}}},\"id\":\"ba758522-b8bb-44e8-91a6-921cef2ef23c\",\"type\":\"ColumnDataSource\"},{\"attributes\":{\"formatter\":{\"id\":\"dd1f2bfb-1088-4627-bbbb-18069562d545\",\"type\":\"BasicTickFormatter\"},\"plot\":{\"id\":\"f9cf3de1-1e92-49b9-8f11-7aabc8ae22b4\",\"subtype\":\"Figure\",\"type\":\"Plot\"},\"ticker\":{\"id\":\"1bddc959-4bb1-4a13-8774-97d8d754d168\",\"type\":\"BasicTicker\"}},\"id\":\"4b00dc96-2e89-416c-93f8-942f7d361c3a\",\"type\":\"LinearAxis\"},{\"attributes\":{},\"id\":\"8ce669a5-1e21-436b-8db1-0fba807418f0\",\"type\":\"BasicTickFormatter\"},{\"attributes\":{\"callback\":null},\"id\":\"97d9bb2d-9dc7-4f9b-9f43-c632f388496f\",\"type\":\"DataRange1d\"},{\"attributes\":{\"plot\":{\"id\":\"f9cf3de1-1e92-49b9-8f11-7aabc8ae22b4\",\"subtype\":\"Figure\",\"type\":\"Plot\"}},\"id\":\"e63aa66b-4ccd-44da-986d-1911a2e809b5\",\"type\":\"SaveTool\"},{\"attributes\":{\"plot\":{\"id\":\"f9cf3de1-1e92-49b9-8f11-7aabc8ae22b4\",\"subtype\":\"Figure\",\"type\":\"Plot\"}},\"id\":\"b305ed96-35ee-4ff9-940e-91fb3092cc96\",\"type\":\"PanTool\"},{\"attributes\":{\"overlay\":{\"id\":\"eb10c87f-6da1-4499-ab25-fd914b4a291a\",\"type\":\"BoxAnnotation\"},\"plot\":{\"id\":\"f9cf3de1-1e92-49b9-8f11-7aabc8ae22b4\",\"subtype\":\"Figure\",\"type\":\"Plot\"}},\"id\":\"913477ce-4b6d-4a77-80ad-929bef7d7f3c\",\"type\":\"BoxZoomTool\"},{\"attributes\":{},\"id\":\"dd1f2bfb-1088-4627-bbbb-18069562d545\",\"type\":\"BasicTickFormatter\"},{\"attributes\":{\"plot\":{\"id\":\"f9cf3de1-1e92-49b9-8f11-7aabc8ae22b4\",\"subtype\":\"Figure\",\"type\":\"Plot\"}},\"id\":\"33c2aebe-acc6-445d-a7de-5f059553eea3\",\"type\":\"HelpTool\"},{\"attributes\":{\"bottom_units\":\"screen\",\"fill_alpha\":{\"value\":0.5},\"fill_color\":{\"value\":\"lightgrey\"},\"left_units\":\"screen\",\"level\":\"overlay\",\"line_alpha\":{\"value\":1.0},\"line_color\":{\"value\":\"black\"},\"line_dash\":[4,4],\"line_width\":{\"value\":2},\"plot\":null,\"render_mode\":\"css\",\"right_units\":\"screen\",\"top_units\":\"screen\"},\"id\":\"eb10c87f-6da1-4499-ab25-fd914b4a291a\",\"type\":\"BoxAnnotation\"},{\"attributes\":{},\"id\":\"bf7ba664-b218-4b4e-b3cf-466ffa18672d\",\"type\":\"ToolEvents\"},{\"attributes\":{\"below\":[{\"id\":\"4b00dc96-2e89-416c-93f8-942f7d361c3a\",\"type\":\"LinearAxis\"}],\"left\":[{\"id\":\"61c6659c-8d69-45b4-9255-29b49f9af52f\",\"type\":\"LinearAxis\"}],\"plot_height\":200,\"plot_width\":800,\"renderers\":[{\"id\":\"4b00dc96-2e89-416c-93f8-942f7d361c3a\",\"type\":\"LinearAxis\"},{\"id\":\"52585ca1-56cb-45f9-9a5c-1d6db909069e\",\"type\":\"Grid\"},{\"id\":\"61c6659c-8d69-45b4-9255-29b49f9af52f\",\"type\":\"LinearAxis\"},{\"id\":\"5a08ab2f-d703-4206-93db-5c2f6f88e2c4\",\"type\":\"Grid\"},{\"id\":\"eb10c87f-6da1-4499-ab25-fd914b4a291a\",\"type\":\"BoxAnnotation\"},{\"id\":\"8b9c084b-e38f-4591-baab-af0830771c7f\",\"type\":\"GlyphRenderer\"}],\"title\":{\"id\":\"db72935f-fd0e-49d7-a213-7a9d8194e773\",\"type\":\"Title\"},\"tool_events\":{\"id\":\"bf7ba664-b218-4b4e-b3cf-466ffa18672d\",\"type\":\"ToolEvents\"},\"toolbar\":{\"id\":\"f616b411-f45b-4c5b-83a8-eb32680e2bdc\",\"type\":\"Toolbar\"},\"x_range\":{\"id\":\"97d9bb2d-9dc7-4f9b-9f43-c632f388496f\",\"type\":\"DataRange1d\"},\"y_range\":{\"id\":\"239f1f02-ee0c-4766-88c1-69e443a92807\",\"type\":\"Range1d\"}},\"id\":\"f9cf3de1-1e92-49b9-8f11-7aabc8ae22b4\",\"subtype\":\"Figure\",\"type\":\"Plot\"},{\"attributes\":{\"data_source\":{\"id\":\"ba758522-b8bb-44e8-91a6-921cef2ef23c\",\"type\":\"ColumnDataSource\"},\"glyph\":{\"id\":\"8e752f15-4cef-4f4d-a3f4-343ec27947b7\",\"type\":\"Line\"},\"hover_glyph\":null,\"nonselection_glyph\":{\"id\":\"0d27709a-9a90-4952-854f-0f85b6b7863f\",\"type\":\"Line\"},\"selection_glyph\":null},\"id\":\"8b9c084b-e38f-4591-baab-af0830771c7f\",\"type\":\"GlyphRenderer\"},{\"attributes\":{},\"id\":\"1bddc959-4bb1-4a13-8774-97d8d754d168\",\"type\":\"BasicTicker\"},{\"attributes\":{\"active_drag\":\"auto\",\"active_scroll\":\"auto\",\"active_tap\":\"auto\",\"tools\":[{\"id\":\"b305ed96-35ee-4ff9-940e-91fb3092cc96\",\"type\":\"PanTool\"},{\"id\":\"caafe88b-f1fe-449f-ba66-2ea77033351b\",\"type\":\"WheelZoomTool\"},{\"id\":\"913477ce-4b6d-4a77-80ad-929bef7d7f3c\",\"type\":\"BoxZoomTool\"},{\"id\":\"e63aa66b-4ccd-44da-986d-1911a2e809b5\",\"type\":\"SaveTool\"},{\"id\":\"a030da3e-8607-430e-8b2a-4338e0cb0ea7\",\"type\":\"ResetTool\"},{\"id\":\"33c2aebe-acc6-445d-a7de-5f059553eea3\",\"type\":\"HelpTool\"}]},\"id\":\"f616b411-f45b-4c5b-83a8-eb32680e2bdc\",\"type\":\"Toolbar\"},{\"attributes\":{\"formatter\":{\"id\":\"8ce669a5-1e21-436b-8db1-0fba807418f0\",\"type\":\"BasicTickFormatter\"},\"plot\":{\"id\":\"f9cf3de1-1e92-49b9-8f11-7aabc8ae22b4\",\"subtype\":\"Figure\",\"type\":\"Plot\"},\"ticker\":{\"id\":\"86dbf327-ed05-4455-b4a5-a4ef63e9a3b1\",\"type\":\"BasicTicker\"}},\"id\":\"61c6659c-8d69-45b4-9255-29b49f9af52f\",\"type\":\"LinearAxis\"},{\"attributes\":{\"plot\":{\"id\":\"f9cf3de1-1e92-49b9-8f11-7aabc8ae22b4\",\"subtype\":\"Figure\",\"type\":\"Plot\"}},\"id\":\"a030da3e-8607-430e-8b2a-4338e0cb0ea7\",\"type\":\"ResetTool\"}],\"root_ids\":[\"f9cf3de1-1e92-49b9-8f11-7aabc8ae22b4\"]},\"title\":\"Bokeh Application\",\"version\":\"0.12.4\"}};\n",
       "            var render_items = [{\"docid\":\"27aab453-02df-48c8-8f7d-c576b4ccbbbe\",\"elementid\":\"aa18c452-d68f-44d0-ae24-c5b8203d069f\",\"modelid\":\"f9cf3de1-1e92-49b9-8f11-7aabc8ae22b4\",\"notebook_comms_target\":\"547a5b86-46ae-49ca-b861-6ca255c975ec\"}];\n",
       "            \n",
       "            Bokeh.embed.embed_items(docs_json, render_items);\n",
       "          };\n",
       "          if (document.readyState != \"loading\") fn();\n",
       "          else document.addEventListener(\"DOMContentLoaded\", fn);\n",
       "        })();\n",
       "      },\n",
       "      function(Bokeh) {\n",
       "      }\n",
       "    ];\n",
       "  \n",
       "    function run_inline_js() {\n",
       "      \n",
       "      if ((window.Bokeh !== undefined) || (force === true)) {\n",
       "        for (var i = 0; i < inline_js.length; i++) {\n",
       "          inline_js[i](window.Bokeh);\n",
       "        }if (force === true) {\n",
       "          display_loaded();\n",
       "        }} else if (Date.now() < window._bokeh_timeout) {\n",
       "        setTimeout(run_inline_js, 100);\n",
       "      } else if (!window._bokeh_failed_load) {\n",
       "        console.log(\"Bokeh: BokehJS failed to load within specified timeout.\");\n",
       "        window._bokeh_failed_load = true;\n",
       "      } else if (force !== true) {\n",
       "        var cell = $(document.getElementById(\"aa18c452-d68f-44d0-ae24-c5b8203d069f\")).parents('.cell').data().cell;\n",
       "        cell.output_area.append_execute_result(NB_LOAD_WARNING)\n",
       "      }\n",
       "  \n",
       "    }\n",
       "  \n",
       "    if (window._bokeh_is_loading === 0) {\n",
       "      console.log(\"Bokeh: BokehJS loaded, going straight to plotting\");\n",
       "      run_inline_js();\n",
       "    } else {\n",
       "      load_libs(js_urls, function() {\n",
       "        console.log(\"Bokeh: BokehJS plotting callback run at\", now());\n",
       "        run_inline_js();\n",
       "      });\n",
       "    }\n",
       "  }(this));\n",
       "</script>"
      ]
     },
     "metadata": {},
     "output_type": "display_data"
    }
   ],
   "source": [
    "p = figure(plot_width=800, plot_height=200, y_range=(0,10))\n",
    "r = p.line(dfer.sid.unique(),sSeasonRatingAverage.values)\n",
    "t = show(p, notebook_handle=True)"
   ]
  },
  {
   "cell_type": "markdown",
   "metadata": {},
   "source": [
    "#### Ratings over time (conclusion)"
   ]
  },
  {
   "cell_type": "markdown",
   "metadata": {},
   "source": [
    "As you can see in the graphs there was a steep increase in quality between season 28 and 33. Since then the ratings are fairly constant. There were some quality highs in the mid 90s and 80s."
   ]
  },
  {
   "cell_type": "markdown",
   "metadata": {},
   "source": [
    "#### Moving on to the actors\n",
    "Now let us take a look at the actors. First it would be interesting to know which actors played in the most sketches and which of them were very present during their stay at the show (most sketches per episode). To do that we have to merge most of the dataframes."
   ]
  },
  {
   "cell_type": "code",
   "execution_count": 14,
   "metadata": {
    "collapsed": false
   },
   "outputs": [],
   "source": [
    "dfactors = pd.merge(pd.merge(dfat, dfer, on=['sid', 'eid']), dfa, on='aid')"
   ]
  },
  {
   "cell_type": "markdown",
   "metadata": {},
   "source": [
    "Now let's take a look at the Top 10 actors of SNL when it comes to appearances."
   ]
  },
  {
   "cell_type": "code",
   "execution_count": 15,
   "metadata": {
    "collapsed": false
   },
   "outputs": [
    {
     "data": {
      "text/plain": [
       "name\n",
       "Kenan Thompson     927\n",
       "Phil Hartman       913\n",
       "Darrell Hammond    765\n",
       "Fred Armisen       739\n",
       "Bill Hader         696\n",
       "Amy Poehler        687\n",
       "Will Ferrell       654\n",
       "Kevin Nealon       646\n",
       "Bobby Moynihan     638\n",
       "Kristen Wiig       633\n",
       "Name: sid, dtype: int64"
      ]
     },
     "execution_count": 15,
     "metadata": {},
     "output_type": "execute_result"
    }
   ],
   "source": [
    "sActorsAppearances = dfactors.groupby('name')['sid'].count().sort_values(ascending=False)\n",
    "sActorsAppearances.head(10)"
   ]
  },
  {
   "cell_type": "markdown",
   "metadata": {},
   "source": [
    "The Top 3 are: Kenan Thompson, Phil Hartman and Darrell Hammond. Since Kenan is still on the show he can further increase his lead. But does he also have the most appearances per episode?"
   ]
  },
  {
   "cell_type": "code",
   "execution_count": 16,
   "metadata": {
    "collapsed": false
   },
   "outputs": [
    {
     "data": {
      "text/html": [
       "<div>\n",
       "<table border=\"1\" class=\"dataframe\">\n",
       "  <thead>\n",
       "    <tr style=\"text-align: right;\">\n",
       "      <th></th>\n",
       "      <th>name</th>\n",
       "      <th>sid</th>\n",
       "      <th>eid</th>\n",
       "      <th>aid</th>\n",
       "    </tr>\n",
       "  </thead>\n",
       "  <tbody>\n",
       "    <tr>\n",
       "      <th>0</th>\n",
       "      <td>Ludacris</td>\n",
       "      <td>32</td>\n",
       "      <td>6</td>\n",
       "      <td>12</td>\n",
       "    </tr>\n",
       "    <tr>\n",
       "      <th>1</th>\n",
       "      <td>Richard Pryor</td>\n",
       "      <td>1</td>\n",
       "      <td>7</td>\n",
       "      <td>12</td>\n",
       "    </tr>\n",
       "    <tr>\n",
       "      <th>2</th>\n",
       "      <td>Ray Charles</td>\n",
       "      <td>3</td>\n",
       "      <td>5</td>\n",
       "      <td>12</td>\n",
       "    </tr>\n",
       "    <tr>\n",
       "      <th>3</th>\n",
       "      <td>Betty White</td>\n",
       "      <td>35</td>\n",
       "      <td>21</td>\n",
       "      <td>12</td>\n",
       "    </tr>\n",
       "    <tr>\n",
       "      <th>4</th>\n",
       "      <td>Jennifer Lopez</td>\n",
       "      <td>35</td>\n",
       "      <td>15</td>\n",
       "      <td>11</td>\n",
       "    </tr>\n",
       "    <tr>\n",
       "      <th>5</th>\n",
       "      <td>Josh Brolin</td>\n",
       "      <td>34</td>\n",
       "      <td>5</td>\n",
       "      <td>11</td>\n",
       "    </tr>\n",
       "    <tr>\n",
       "      <th>6</th>\n",
       "      <td>Kris Kristofferson</td>\n",
       "      <td>1</td>\n",
       "      <td>24</td>\n",
       "      <td>11</td>\n",
       "    </tr>\n",
       "    <tr>\n",
       "      <th>7</th>\n",
       "      <td>Steve Martin</td>\n",
       "      <td>31</td>\n",
       "      <td>12</td>\n",
       "      <td>11</td>\n",
       "    </tr>\n",
       "    <tr>\n",
       "      <th>8</th>\n",
       "      <td>Shia LaBeouf</td>\n",
       "      <td>33</td>\n",
       "      <td>11</td>\n",
       "      <td>11</td>\n",
       "    </tr>\n",
       "    <tr>\n",
       "      <th>9</th>\n",
       "      <td>Garth Brooks</td>\n",
       "      <td>25</td>\n",
       "      <td>5</td>\n",
       "      <td>11</td>\n",
       "    </tr>\n",
       "  </tbody>\n",
       "</table>\n",
       "</div>"
      ],
      "text/plain": [
       "                 name  sid  eid  aid\n",
       "0            Ludacris   32    6   12\n",
       "1       Richard Pryor    1    7   12\n",
       "2         Ray Charles    3    5   12\n",
       "3         Betty White   35   21   12\n",
       "4      Jennifer Lopez   35   15   11\n",
       "5         Josh Brolin   34    5   11\n",
       "6  Kris Kristofferson    1   24   11\n",
       "7        Steve Martin   31   12   11\n",
       "8        Shia LaBeouf   33   11   11\n",
       "9        Garth Brooks   25    5   11"
      ]
     },
     "execution_count": 16,
     "metadata": {},
     "output_type": "execute_result"
    }
   ],
   "source": [
    "dfActorsEpisodes = pd.DataFrame(dfactors.groupby(['name','sid', 'eid'])['aid'].count().sort_values(ascending=False)).reset_index()\n",
    "dfActorsEpisodes.head(10)"
   ]
  },
  {
   "cell_type": "markdown",
   "metadata": {},
   "source": [
    "In this category there are four actors that take the first place: Ludacris, Richard Pryor, Ray Charles and Betty White. They were all part of 12 titles in a single episode. But which actor had the biggest presence on set over several episodes? Of course it only makes sense to look at actors who appeared in more than one episode."
   ]
  },
  {
   "cell_type": "code",
   "execution_count": 17,
   "metadata": {
    "collapsed": false
   },
   "outputs": [],
   "source": [
    "# Define the aggregation calculations\n",
    "aggregations = {\n",
    "    'aid': {     # Now work on the \"date\" column\n",
    "        'titles': 'sum',   # Find the max, call the result \"max_date\"\n",
    "        'episodes': 'count'\n",
    "    }\n",
    "}\n",
    " \n",
    "# Perform groupby aggregation by \"month\", but only on the rows that are of type \"call\"\n",
    "dfActorsTitlePerEpisode = dfActorsEpisodes.groupby('name').agg(aggregations)\n",
    "dfActorsTitlePerEpisode.columns = dfActorsTitlePerEpisode.columns.droplevel()"
   ]
  },
  {
   "cell_type": "code",
   "execution_count": 18,
   "metadata": {
    "collapsed": false
   },
   "outputs": [],
   "source": [
    "dfActorsTitlePerEpisode[\"title_avg\"] = dfActorsTitlePerEpisode[\"titles\"] / dfActorsTitlePerEpisode[\"episodes\"]"
   ]
  },
  {
   "cell_type": "markdown",
   "metadata": {
    "collapsed": false
   },
   "source": [
    "Let's take a look at the actors with appearances in at least 3 episodes."
   ]
  },
  {
   "cell_type": "code",
   "execution_count": 19,
   "metadata": {
    "collapsed": false
   },
   "outputs": [
    {
     "data": {
      "text/html": [
       "<div>\n",
       "<table border=\"1\" class=\"dataframe\">\n",
       "  <thead>\n",
       "    <tr style=\"text-align: right;\">\n",
       "      <th></th>\n",
       "      <th>titles</th>\n",
       "      <th>episodes</th>\n",
       "      <th>title_avg</th>\n",
       "    </tr>\n",
       "    <tr>\n",
       "      <th>name</th>\n",
       "      <th></th>\n",
       "      <th></th>\n",
       "      <th></th>\n",
       "    </tr>\n",
       "  </thead>\n",
       "  <tbody>\n",
       "    <tr>\n",
       "      <th>Charles Barkley</th>\n",
       "      <td>25</td>\n",
       "      <td>3</td>\n",
       "      <td>8.333333</td>\n",
       "    </tr>\n",
       "    <tr>\n",
       "      <th>Zach Galifianakis</th>\n",
       "      <td>24</td>\n",
       "      <td>3</td>\n",
       "      <td>8.000000</td>\n",
       "    </tr>\n",
       "    <tr>\n",
       "      <th>Jack Black</th>\n",
       "      <td>23</td>\n",
       "      <td>3</td>\n",
       "      <td>7.666667</td>\n",
       "    </tr>\n",
       "    <tr>\n",
       "      <th>Louis C.K.</th>\n",
       "      <td>23</td>\n",
       "      <td>3</td>\n",
       "      <td>7.666667</td>\n",
       "    </tr>\n",
       "    <tr>\n",
       "      <th>Jennifer Lopez</th>\n",
       "      <td>22</td>\n",
       "      <td>3</td>\n",
       "      <td>7.333333</td>\n",
       "    </tr>\n",
       "    <tr>\n",
       "      <th>Drake</th>\n",
       "      <td>22</td>\n",
       "      <td>3</td>\n",
       "      <td>7.333333</td>\n",
       "    </tr>\n",
       "    <tr>\n",
       "      <th>Lily Tomlin</th>\n",
       "      <td>28</td>\n",
       "      <td>4</td>\n",
       "      <td>7.000000</td>\n",
       "    </tr>\n",
       "    <tr>\n",
       "      <th>Garth Brooks</th>\n",
       "      <td>21</td>\n",
       "      <td>3</td>\n",
       "      <td>7.000000</td>\n",
       "    </tr>\n",
       "    <tr>\n",
       "      <th>Charles Rocket</th>\n",
       "      <td>83</td>\n",
       "      <td>12</td>\n",
       "      <td>6.916667</td>\n",
       "    </tr>\n",
       "    <tr>\n",
       "      <th>Jonah Hill</th>\n",
       "      <td>27</td>\n",
       "      <td>4</td>\n",
       "      <td>6.750000</td>\n",
       "    </tr>\n",
       "  </tbody>\n",
       "</table>\n",
       "</div>"
      ],
      "text/plain": [
       "                   titles  episodes  title_avg\n",
       "name                                          \n",
       "Charles Barkley        25         3   8.333333\n",
       "Zach Galifianakis      24         3   8.000000\n",
       "Jack Black             23         3   7.666667\n",
       "Louis C.K.             23         3   7.666667\n",
       "Jennifer Lopez         22         3   7.333333\n",
       "Drake                  22         3   7.333333\n",
       "Lily Tomlin            28         4   7.000000\n",
       "Garth Brooks           21         3   7.000000\n",
       "Charles Rocket         83        12   6.916667\n",
       "Jonah Hill             27         4   6.750000"
      ]
     },
     "execution_count": 19,
     "metadata": {},
     "output_type": "execute_result"
    }
   ],
   "source": [
    "dfActorsTitlePerEpisode[dfActorsTitlePerEpisode.episodes>=3].sort_values('title_avg', ascending=False).head(10)"
   ]
  },
  {
   "cell_type": "markdown",
   "metadata": {
    "collapsed": true
   },
   "source": [
    "Charles Barkley wins with 8.3 titles per episode. What about 10 episodes?"
   ]
  },
  {
   "cell_type": "code",
   "execution_count": 20,
   "metadata": {
    "collapsed": false
   },
   "outputs": [
    {
     "data": {
      "text/html": [
       "<div>\n",
       "<table border=\"1\" class=\"dataframe\">\n",
       "  <thead>\n",
       "    <tr style=\"text-align: right;\">\n",
       "      <th></th>\n",
       "      <th>titles</th>\n",
       "      <th>episodes</th>\n",
       "      <th>title_avg</th>\n",
       "    </tr>\n",
       "    <tr>\n",
       "      <th>name</th>\n",
       "      <th></th>\n",
       "      <th></th>\n",
       "      <th></th>\n",
       "    </tr>\n",
       "  </thead>\n",
       "  <tbody>\n",
       "    <tr>\n",
       "      <th>Charles Rocket</th>\n",
       "      <td>83</td>\n",
       "      <td>12</td>\n",
       "      <td>6.916667</td>\n",
       "    </tr>\n",
       "    <tr>\n",
       "      <th>Phil Hartman</th>\n",
       "      <td>913</td>\n",
       "      <td>163</td>\n",
       "      <td>5.601227</td>\n",
       "    </tr>\n",
       "    <tr>\n",
       "      <th>Joe Piscopo</th>\n",
       "      <td>364</td>\n",
       "      <td>72</td>\n",
       "      <td>5.055556</td>\n",
       "    </tr>\n",
       "    <tr>\n",
       "      <th>Bill Murray</th>\n",
       "      <td>389</td>\n",
       "      <td>78</td>\n",
       "      <td>4.987179</td>\n",
       "    </tr>\n",
       "    <tr>\n",
       "      <th>Gail Matthius</th>\n",
       "      <td>62</td>\n",
       "      <td>13</td>\n",
       "      <td>4.769231</td>\n",
       "    </tr>\n",
       "    <tr>\n",
       "      <th>Amy Poehler</th>\n",
       "      <td>687</td>\n",
       "      <td>148</td>\n",
       "      <td>4.641892</td>\n",
       "    </tr>\n",
       "    <tr>\n",
       "      <th>Will Ferrell</th>\n",
       "      <td>654</td>\n",
       "      <td>143</td>\n",
       "      <td>4.573427</td>\n",
       "    </tr>\n",
       "    <tr>\n",
       "      <th>John Goodman</th>\n",
       "      <td>86</td>\n",
       "      <td>19</td>\n",
       "      <td>4.526316</td>\n",
       "    </tr>\n",
       "    <tr>\n",
       "      <th>Dan Aykroyd</th>\n",
       "      <td>415</td>\n",
       "      <td>92</td>\n",
       "      <td>4.510870</td>\n",
       "    </tr>\n",
       "    <tr>\n",
       "      <th>Kristen Wiig</th>\n",
       "      <td>633</td>\n",
       "      <td>141</td>\n",
       "      <td>4.489362</td>\n",
       "    </tr>\n",
       "  </tbody>\n",
       "</table>\n",
       "</div>"
      ],
      "text/plain": [
       "                titles  episodes  title_avg\n",
       "name                                       \n",
       "Charles Rocket      83        12   6.916667\n",
       "Phil Hartman       913       163   5.601227\n",
       "Joe Piscopo        364        72   5.055556\n",
       "Bill Murray        389        78   4.987179\n",
       "Gail Matthius       62        13   4.769231\n",
       "Amy Poehler        687       148   4.641892\n",
       "Will Ferrell       654       143   4.573427\n",
       "John Goodman        86        19   4.526316\n",
       "Dan Aykroyd        415        92   4.510870\n",
       "Kristen Wiig       633       141   4.489362"
      ]
     },
     "execution_count": 20,
     "metadata": {},
     "output_type": "execute_result"
    }
   ],
   "source": [
    "dfActorsTitlePerEpisode[dfActorsTitlePerEpisode.episodes>=10].sort_values('title_avg', ascending=False).head(10)"
   ]
  },
  {
   "cell_type": "markdown",
   "metadata": {},
   "source": [
    "Now let's look at people with at least 50 episodes under their belt. These are mostly cast members."
   ]
  },
  {
   "cell_type": "code",
   "execution_count": 21,
   "metadata": {
    "collapsed": false
   },
   "outputs": [
    {
     "data": {
      "text/html": [
       "<div>\n",
       "<table border=\"1\" class=\"dataframe\">\n",
       "  <thead>\n",
       "    <tr style=\"text-align: right;\">\n",
       "      <th></th>\n",
       "      <th>titles</th>\n",
       "      <th>episodes</th>\n",
       "      <th>title_avg</th>\n",
       "    </tr>\n",
       "    <tr>\n",
       "      <th>name</th>\n",
       "      <th></th>\n",
       "      <th></th>\n",
       "      <th></th>\n",
       "    </tr>\n",
       "  </thead>\n",
       "  <tbody>\n",
       "    <tr>\n",
       "      <th>Phil Hartman</th>\n",
       "      <td>913</td>\n",
       "      <td>163</td>\n",
       "      <td>5.601227</td>\n",
       "    </tr>\n",
       "    <tr>\n",
       "      <th>Joe Piscopo</th>\n",
       "      <td>364</td>\n",
       "      <td>72</td>\n",
       "      <td>5.055556</td>\n",
       "    </tr>\n",
       "    <tr>\n",
       "      <th>Bill Murray</th>\n",
       "      <td>389</td>\n",
       "      <td>78</td>\n",
       "      <td>4.987179</td>\n",
       "    </tr>\n",
       "    <tr>\n",
       "      <th>Amy Poehler</th>\n",
       "      <td>687</td>\n",
       "      <td>148</td>\n",
       "      <td>4.641892</td>\n",
       "    </tr>\n",
       "    <tr>\n",
       "      <th>Will Ferrell</th>\n",
       "      <td>654</td>\n",
       "      <td>143</td>\n",
       "      <td>4.573427</td>\n",
       "    </tr>\n",
       "    <tr>\n",
       "      <th>Dan Aykroyd</th>\n",
       "      <td>415</td>\n",
       "      <td>92</td>\n",
       "      <td>4.510870</td>\n",
       "    </tr>\n",
       "    <tr>\n",
       "      <th>Kristen Wiig</th>\n",
       "      <td>633</td>\n",
       "      <td>141</td>\n",
       "      <td>4.489362</td>\n",
       "    </tr>\n",
       "    <tr>\n",
       "      <th>Gilda Radner</th>\n",
       "      <td>464</td>\n",
       "      <td>106</td>\n",
       "      <td>4.377358</td>\n",
       "    </tr>\n",
       "    <tr>\n",
       "      <th>Tim Kazurinsky</th>\n",
       "      <td>260</td>\n",
       "      <td>60</td>\n",
       "      <td>4.333333</td>\n",
       "    </tr>\n",
       "    <tr>\n",
       "      <th>Bill Hader</th>\n",
       "      <td>696</td>\n",
       "      <td>162</td>\n",
       "      <td>4.296296</td>\n",
       "    </tr>\n",
       "  </tbody>\n",
       "</table>\n",
       "</div>"
      ],
      "text/plain": [
       "                titles  episodes  title_avg\n",
       "name                                       \n",
       "Phil Hartman       913       163   5.601227\n",
       "Joe Piscopo        364        72   5.055556\n",
       "Bill Murray        389        78   4.987179\n",
       "Amy Poehler        687       148   4.641892\n",
       "Will Ferrell       654       143   4.573427\n",
       "Dan Aykroyd        415        92   4.510870\n",
       "Kristen Wiig       633       141   4.489362\n",
       "Gilda Radner       464       106   4.377358\n",
       "Tim Kazurinsky     260        60   4.333333\n",
       "Bill Hader         696       162   4.296296"
      ]
     },
     "execution_count": 21,
     "metadata": {},
     "output_type": "execute_result"
    }
   ],
   "source": [
    "dfActorsTitlePerEpisode[dfActorsTitlePerEpisode.episodes>=50].sort_values('title_avg', ascending=False).head(10)"
   ]
  },
  {
   "cell_type": "markdown",
   "metadata": {
    "collapsed": true
   },
   "source": [
    "Here we see Phil Hartmans impressive record of having an average 5.6 titles per episode in over 160 episodes."
   ]
  },
  {
   "cell_type": "markdown",
   "metadata": {},
   "source": [
    "#### End of the initial analysis\n",
    "I hope I could spark your interest in this dataset. Maybe you have some ideas of interesting things to analyse about this TV show that is currently in its 42nd season. I will also add more data to this dataset if you point me towards a source of interesting data that would fit into it."
   ]
  }
 ],
 "metadata": {
  "anaconda-cloud": {},
  "kernelspec": {
   "display_name": "Python 3",
   "language": "python",
   "name": "python3"
  },
  "language_info": {
   "codemirror_mode": {
    "name": "ipython",
    "version": 3
   },
   "file_extension": ".py",
   "mimetype": "text/x-python",
   "name": "python",
   "nbconvert_exporter": "python",
   "pygments_lexer": "ipython3",
   "version": "3.6.0"
  }
 },
 "nbformat": 4,
 "nbformat_minor": 2
}
