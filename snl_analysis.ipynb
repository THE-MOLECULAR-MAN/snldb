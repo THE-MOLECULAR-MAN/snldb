{
 "cells": [
  {
   "cell_type": "markdown",
   "metadata": {},
   "source": [
    "### Analysis of the Saturday Night Live database\n",
    "\n",
    "If you have downloaded the snl database you have the following files available:\n",
    "\n",
    "* snl_season (sid, year)\n",
    "* snl_episode (sid, eid, year, aired)\n",
    "* snl_title (sid, eid, tid, title, titleType)\n",
    "* snl_actor (aid, name, isCast)\n",
    "* snl_actor_sketch (sid, eid, tid, aid, actorType)\n",
    "* snl_rating (lots of rating data from IMDb)\n",
    "\n",
    "In this notebook I want to have a first look at the data and show some interesting analysis that is possible with this dataset. Feel free to take your own look at it."
   ]
  },
  {
   "cell_type": "markdown",
   "metadata": {},
   "source": [
    "#### Imports & setup"
   ]
  },
  {
   "cell_type": "code",
   "execution_count": 1,
   "metadata": {
    "collapsed": false
   },
   "outputs": [
    {
     "data": {
      "text/html": [
       "\n",
       "    <div class=\"bk-root\">\n",
       "        <a href=\"http://bokeh.pydata.org\" target=\"_blank\" class=\"bk-logo bk-logo-small bk-logo-notebook\"></a>\n",
       "        <span id=\"756995c1-b005-4ac0-b212-5eff0692bd21\">Loading BokehJS ...</span>\n",
       "    </div>"
      ]
     },
     "metadata": {},
     "output_type": "display_data"
    },
    {
     "data": {
      "application/javascript": [
       "\n",
       "(function(global) {\n",
       "  function now() {\n",
       "    return new Date();\n",
       "  }\n",
       "\n",
       "  var force = true;\n",
       "\n",
       "  if (typeof (window._bokeh_onload_callbacks) === \"undefined\" || force === true) {\n",
       "    window._bokeh_onload_callbacks = [];\n",
       "    window._bokeh_is_loading = undefined;\n",
       "  }\n",
       "\n",
       "\n",
       "  \n",
       "  if (typeof (window._bokeh_timeout) === \"undefined\" || force === true) {\n",
       "    window._bokeh_timeout = Date.now() + 5000;\n",
       "    window._bokeh_failed_load = false;\n",
       "  }\n",
       "\n",
       "  var NB_LOAD_WARNING = {'data': {'text/html':\n",
       "     \"<div style='background-color: #fdd'>\\n\"+\n",
       "     \"<p>\\n\"+\n",
       "     \"BokehJS does not appear to have successfully loaded. If loading BokehJS from CDN, this \\n\"+\n",
       "     \"may be due to a slow or bad network connection. Possible fixes:\\n\"+\n",
       "     \"</p>\\n\"+\n",
       "     \"<ul>\\n\"+\n",
       "     \"<li>re-rerun `output_notebook()` to attempt to load from CDN again, or</li>\\n\"+\n",
       "     \"<li>use INLINE resources instead, as so:</li>\\n\"+\n",
       "     \"</ul>\\n\"+\n",
       "     \"<code>\\n\"+\n",
       "     \"from bokeh.resources import INLINE\\n\"+\n",
       "     \"output_notebook(resources=INLINE)\\n\"+\n",
       "     \"</code>\\n\"+\n",
       "     \"</div>\"}};\n",
       "\n",
       "  function display_loaded() {\n",
       "    if (window.Bokeh !== undefined) {\n",
       "      document.getElementById(\"756995c1-b005-4ac0-b212-5eff0692bd21\").textContent = \"BokehJS successfully loaded.\";\n",
       "    } else if (Date.now() < window._bokeh_timeout) {\n",
       "      setTimeout(display_loaded, 100)\n",
       "    }\n",
       "  }\n",
       "\n",
       "  function run_callbacks() {\n",
       "    window._bokeh_onload_callbacks.forEach(function(callback) { callback() });\n",
       "    delete window._bokeh_onload_callbacks\n",
       "    console.info(\"Bokeh: all callbacks have finished\");\n",
       "  }\n",
       "\n",
       "  function load_libs(js_urls, callback) {\n",
       "    window._bokeh_onload_callbacks.push(callback);\n",
       "    if (window._bokeh_is_loading > 0) {\n",
       "      console.log(\"Bokeh: BokehJS is being loaded, scheduling callback at\", now());\n",
       "      return null;\n",
       "    }\n",
       "    if (js_urls == null || js_urls.length === 0) {\n",
       "      run_callbacks();\n",
       "      return null;\n",
       "    }\n",
       "    console.log(\"Bokeh: BokehJS not loaded, scheduling load and callback at\", now());\n",
       "    window._bokeh_is_loading = js_urls.length;\n",
       "    for (var i = 0; i < js_urls.length; i++) {\n",
       "      var url = js_urls[i];\n",
       "      var s = document.createElement('script');\n",
       "      s.src = url;\n",
       "      s.async = false;\n",
       "      s.onreadystatechange = s.onload = function() {\n",
       "        window._bokeh_is_loading--;\n",
       "        if (window._bokeh_is_loading === 0) {\n",
       "          console.log(\"Bokeh: all BokehJS libraries loaded\");\n",
       "          run_callbacks()\n",
       "        }\n",
       "      };\n",
       "      s.onerror = function() {\n",
       "        console.warn(\"failed to load library \" + url);\n",
       "      };\n",
       "      console.log(\"Bokeh: injecting script tag for BokehJS library: \", url);\n",
       "      document.getElementsByTagName(\"head\")[0].appendChild(s);\n",
       "    }\n",
       "  };var element = document.getElementById(\"756995c1-b005-4ac0-b212-5eff0692bd21\");\n",
       "  if (element == null) {\n",
       "    console.log(\"Bokeh: ERROR: autoload.js configured with elementid '756995c1-b005-4ac0-b212-5eff0692bd21' but no matching script tag was found. \")\n",
       "    return false;\n",
       "  }\n",
       "\n",
       "  var js_urls = [\"https://cdn.pydata.org/bokeh/release/bokeh-0.12.4.min.js\", \"https://cdn.pydata.org/bokeh/release/bokeh-widgets-0.12.4.min.js\"];\n",
       "\n",
       "  var inline_js = [\n",
       "    function(Bokeh) {\n",
       "      Bokeh.set_log_level(\"info\");\n",
       "    },\n",
       "    \n",
       "    function(Bokeh) {\n",
       "      \n",
       "      document.getElementById(\"756995c1-b005-4ac0-b212-5eff0692bd21\").textContent = \"BokehJS is loading...\";\n",
       "    },\n",
       "    function(Bokeh) {\n",
       "      console.log(\"Bokeh: injecting CSS: https://cdn.pydata.org/bokeh/release/bokeh-0.12.4.min.css\");\n",
       "      Bokeh.embed.inject_css(\"https://cdn.pydata.org/bokeh/release/bokeh-0.12.4.min.css\");\n",
       "      console.log(\"Bokeh: injecting CSS: https://cdn.pydata.org/bokeh/release/bokeh-widgets-0.12.4.min.css\");\n",
       "      Bokeh.embed.inject_css(\"https://cdn.pydata.org/bokeh/release/bokeh-widgets-0.12.4.min.css\");\n",
       "    }\n",
       "  ];\n",
       "\n",
       "  function run_inline_js() {\n",
       "    \n",
       "    if ((window.Bokeh !== undefined) || (force === true)) {\n",
       "      for (var i = 0; i < inline_js.length; i++) {\n",
       "        inline_js[i](window.Bokeh);\n",
       "      }if (force === true) {\n",
       "        display_loaded();\n",
       "      }} else if (Date.now() < window._bokeh_timeout) {\n",
       "      setTimeout(run_inline_js, 100);\n",
       "    } else if (!window._bokeh_failed_load) {\n",
       "      console.log(\"Bokeh: BokehJS failed to load within specified timeout.\");\n",
       "      window._bokeh_failed_load = true;\n",
       "    } else if (force !== true) {\n",
       "      var cell = $(document.getElementById(\"756995c1-b005-4ac0-b212-5eff0692bd21\")).parents('.cell').data().cell;\n",
       "      cell.output_area.append_execute_result(NB_LOAD_WARNING)\n",
       "    }\n",
       "\n",
       "  }\n",
       "\n",
       "  if (window._bokeh_is_loading === 0) {\n",
       "    console.log(\"Bokeh: BokehJS loaded, going straight to plotting\");\n",
       "    run_inline_js();\n",
       "  } else {\n",
       "    load_libs(js_urls, function() {\n",
       "      console.log(\"Bokeh: BokehJS plotting callback run at\", now());\n",
       "      run_inline_js();\n",
       "    });\n",
       "  }\n",
       "}(this));"
      ]
     },
     "metadata": {},
     "output_type": "display_data"
    }
   ],
   "source": [
    "import pandas as pd\n",
    "import numpy as np\n",
    "import bokeh\n",
    "from bokeh.io import output_notebook\n",
    "from bokeh.plotting import figure, show\n",
    "output_notebook()"
   ]
  },
  {
   "cell_type": "markdown",
   "metadata": {},
   "source": [
    "#### Load the data"
   ]
  },
  {
   "cell_type": "code",
   "execution_count": 2,
   "metadata": {
    "collapsed": false
   },
   "outputs": [],
   "source": [
    "dfs = pd.read_csv('./db/snl_season.csv', encoding=\"utf-8\")\n",
    "dfe = pd.read_csv('./db/snl_episode.csv', encoding=\"utf-8\",parse_dates=['aired'])\n",
    "dft = pd.read_csv('./db/snl_title.csv', encoding=\"utf-8\")\n",
    "dfa = pd.read_csv('./db/snl_actor.csv', encoding=\"utf-8\")\n",
    "dfat = pd.read_csv('./db/snl_actor_title.csv', encoding=\"utf-8\")\n",
    "dfr = pd.read_csv('./db/snl_rating.csv', encoding=\"utf-8\")"
   ]
  },
  {
   "cell_type": "markdown",
   "metadata": {},
   "source": [
    "#### Have a look at the data"
   ]
  },
  {
   "cell_type": "code",
   "execution_count": 3,
   "metadata": {
    "collapsed": false
   },
   "outputs": [
    {
     "data": {
      "text/html": [
       "<div>\n",
       "<table border=\"1\" class=\"dataframe\">\n",
       "  <thead>\n",
       "    <tr style=\"text-align: right;\">\n",
       "      <th></th>\n",
       "      <th>sid</th>\n",
       "      <th>year</th>\n",
       "    </tr>\n",
       "  </thead>\n",
       "  <tbody>\n",
       "    <tr>\n",
       "      <th>0</th>\n",
       "      <td>1</td>\n",
       "      <td>1975</td>\n",
       "    </tr>\n",
       "    <tr>\n",
       "      <th>1</th>\n",
       "      <td>2</td>\n",
       "      <td>1976</td>\n",
       "    </tr>\n",
       "  </tbody>\n",
       "</table>\n",
       "</div>"
      ],
      "text/plain": [
       "   sid  year\n",
       "0    1  1975\n",
       "1    2  1976"
      ]
     },
     "execution_count": 3,
     "metadata": {},
     "output_type": "execute_result"
    }
   ],
   "source": [
    "dfs.head(2)"
   ]
  },
  {
   "cell_type": "code",
   "execution_count": 4,
   "metadata": {
    "collapsed": false
   },
   "outputs": [
    {
     "data": {
      "text/html": [
       "<div>\n",
       "<table border=\"1\" class=\"dataframe\">\n",
       "  <thead>\n",
       "    <tr style=\"text-align: right;\">\n",
       "      <th></th>\n",
       "      <th>sid</th>\n",
       "      <th>eid</th>\n",
       "      <th>year</th>\n",
       "      <th>aired</th>\n",
       "      <th>host</th>\n",
       "    </tr>\n",
       "  </thead>\n",
       "  <tbody>\n",
       "    <tr>\n",
       "      <th>0</th>\n",
       "      <td>3</td>\n",
       "      <td>20</td>\n",
       "      <td>1977</td>\n",
       "      <td>1978-05-20</td>\n",
       "      <td>Buck Henry</td>\n",
       "    </tr>\n",
       "    <tr>\n",
       "      <th>1</th>\n",
       "      <td>3</td>\n",
       "      <td>19</td>\n",
       "      <td>1977</td>\n",
       "      <td>1978-05-13</td>\n",
       "      <td>Richard Dreyfuss</td>\n",
       "    </tr>\n",
       "  </tbody>\n",
       "</table>\n",
       "</div>"
      ],
      "text/plain": [
       "   sid  eid  year      aired              host\n",
       "0    3   20  1977 1978-05-20        Buck Henry\n",
       "1    3   19  1977 1978-05-13  Richard Dreyfuss"
      ]
     },
     "execution_count": 4,
     "metadata": {},
     "output_type": "execute_result"
    }
   ],
   "source": [
    "dfe.head(2)"
   ]
  },
  {
   "cell_type": "code",
   "execution_count": 5,
   "metadata": {
    "collapsed": false
   },
   "outputs": [
    {
     "data": {
      "text/html": [
       "<div>\n",
       "<table border=\"1\" class=\"dataframe\">\n",
       "  <thead>\n",
       "    <tr style=\"text-align: right;\">\n",
       "      <th></th>\n",
       "      <th>sid</th>\n",
       "      <th>eid</th>\n",
       "      <th>tid</th>\n",
       "      <th>title</th>\n",
       "      <th>titleType</th>\n",
       "    </tr>\n",
       "  </thead>\n",
       "  <tbody>\n",
       "    <tr>\n",
       "      <th>0</th>\n",
       "      <td>5</td>\n",
       "      <td>18</td>\n",
       "      <td>1980051011</td>\n",
       "      <td>NaN</td>\n",
       "      <td>Goodnights</td>\n",
       "    </tr>\n",
       "    <tr>\n",
       "      <th>1</th>\n",
       "      <td>2</td>\n",
       "      <td>3</td>\n",
       "      <td>1976100224</td>\n",
       "      <td>NaN</td>\n",
       "      <td>Goodnights</td>\n",
       "    </tr>\n",
       "  </tbody>\n",
       "</table>\n",
       "</div>"
      ],
      "text/plain": [
       "   sid  eid         tid title   titleType\n",
       "0    5   18  1980051011   NaN  Goodnights\n",
       "1    2    3  1976100224   NaN  Goodnights"
      ]
     },
     "execution_count": 5,
     "metadata": {},
     "output_type": "execute_result"
    }
   ],
   "source": [
    "dft.head(2)"
   ]
  },
  {
   "cell_type": "code",
   "execution_count": 6,
   "metadata": {
    "collapsed": false
   },
   "outputs": [
    {
     "data": {
      "text/html": [
       "<div>\n",
       "<table border=\"1\" class=\"dataframe\">\n",
       "  <thead>\n",
       "    <tr style=\"text-align: right;\">\n",
       "      <th></th>\n",
       "      <th>aid</th>\n",
       "      <th>name</th>\n",
       "      <th>isCast</th>\n",
       "    </tr>\n",
       "  </thead>\n",
       "  <tbody>\n",
       "    <tr>\n",
       "      <th>0</th>\n",
       "      <td>Bob Newhart</td>\n",
       "      <td>Bob Newhart</td>\n",
       "      <td>0</td>\n",
       "    </tr>\n",
       "    <tr>\n",
       "      <th>1</th>\n",
       "      <td>JaCu</td>\n",
       "      <td>Jane Curtin</td>\n",
       "      <td>1</td>\n",
       "    </tr>\n",
       "  </tbody>\n",
       "</table>\n",
       "</div>"
      ],
      "text/plain": [
       "           aid         name  isCast\n",
       "0  Bob Newhart  Bob Newhart       0\n",
       "1         JaCu  Jane Curtin       1"
      ]
     },
     "execution_count": 6,
     "metadata": {},
     "output_type": "execute_result"
    }
   ],
   "source": [
    "dfa.head(2)"
   ]
  },
  {
   "cell_type": "code",
   "execution_count": 7,
   "metadata": {
    "collapsed": false
   },
   "outputs": [
    {
     "data": {
      "text/html": [
       "<div>\n",
       "<table border=\"1\" class=\"dataframe\">\n",
       "  <thead>\n",
       "    <tr style=\"text-align: right;\">\n",
       "      <th></th>\n",
       "      <th>sid</th>\n",
       "      <th>eid</th>\n",
       "      <th>tid</th>\n",
       "      <th>aid</th>\n",
       "      <th>actorType</th>\n",
       "    </tr>\n",
       "  </thead>\n",
       "  <tbody>\n",
       "    <tr>\n",
       "      <th>0</th>\n",
       "      <td>5</td>\n",
       "      <td>18</td>\n",
       "      <td>1980051010</td>\n",
       "      <td>Bob Newhart</td>\n",
       "      <td>host</td>\n",
       "    </tr>\n",
       "    <tr>\n",
       "      <th>1</th>\n",
       "      <td>5</td>\n",
       "      <td>18</td>\n",
       "      <td>1980051010</td>\n",
       "      <td>JaCu</td>\n",
       "      <td>cast</td>\n",
       "    </tr>\n",
       "  </tbody>\n",
       "</table>\n",
       "</div>"
      ],
      "text/plain": [
       "   sid  eid         tid          aid actorType\n",
       "0    5   18  1980051010  Bob Newhart      host\n",
       "1    5   18  1980051010         JaCu      cast"
      ]
     },
     "execution_count": 7,
     "metadata": {},
     "output_type": "execute_result"
    }
   ],
   "source": [
    "dfat.head(2)"
   ]
  },
  {
   "cell_type": "code",
   "execution_count": 8,
   "metadata": {
    "collapsed": false
   },
   "outputs": [
    {
     "data": {
      "text/html": [
       "<div>\n",
       "<table border=\"1\" class=\"dataframe\">\n",
       "  <thead>\n",
       "    <tr style=\"text-align: right;\">\n",
       "      <th></th>\n",
       "      <th>sid</th>\n",
       "      <th>eid</th>\n",
       "      <th>1</th>\n",
       "      <th>10</th>\n",
       "      <th>2</th>\n",
       "      <th>3</th>\n",
       "      <th>4</th>\n",
       "      <th>5</th>\n",
       "      <th>6</th>\n",
       "      <th>7</th>\n",
       "      <th>...</th>\n",
       "      <th>Males Aged 45+_avg</th>\n",
       "      <th>Males under 18</th>\n",
       "      <th>Males under 18_avg</th>\n",
       "      <th>Males_avg</th>\n",
       "      <th>Non-US users</th>\n",
       "      <th>Non-US users_avg</th>\n",
       "      <th>Top 1000 voters</th>\n",
       "      <th>Top 1000 voters_avg</th>\n",
       "      <th>US users</th>\n",
       "      <th>US users_avg</th>\n",
       "    </tr>\n",
       "  </thead>\n",
       "  <tbody>\n",
       "    <tr>\n",
       "      <th>0</th>\n",
       "      <td>2</td>\n",
       "      <td>21</td>\n",
       "      <td>0</td>\n",
       "      <td>10</td>\n",
       "      <td>0</td>\n",
       "      <td>0</td>\n",
       "      <td>4</td>\n",
       "      <td>2</td>\n",
       "      <td>4</td>\n",
       "      <td>9</td>\n",
       "      <td>...</td>\n",
       "      <td>7.2</td>\n",
       "      <td>0</td>\n",
       "      <td>NaN</td>\n",
       "      <td>7.5</td>\n",
       "      <td>12</td>\n",
       "      <td>7.8</td>\n",
       "      <td>13</td>\n",
       "      <td>7.6</td>\n",
       "      <td>21</td>\n",
       "      <td>7.4</td>\n",
       "    </tr>\n",
       "    <tr>\n",
       "      <th>1</th>\n",
       "      <td>5</td>\n",
       "      <td>1</td>\n",
       "      <td>1</td>\n",
       "      <td>13</td>\n",
       "      <td>0</td>\n",
       "      <td>2</td>\n",
       "      <td>0</td>\n",
       "      <td>2</td>\n",
       "      <td>6</td>\n",
       "      <td>11</td>\n",
       "      <td>...</td>\n",
       "      <td>7.9</td>\n",
       "      <td>0</td>\n",
       "      <td>NaN</td>\n",
       "      <td>7.9</td>\n",
       "      <td>11</td>\n",
       "      <td>7.2</td>\n",
       "      <td>16</td>\n",
       "      <td>6.9</td>\n",
       "      <td>28</td>\n",
       "      <td>7.8</td>\n",
       "    </tr>\n",
       "  </tbody>\n",
       "</table>\n",
       "<p>2 rows × 50 columns</p>\n",
       "</div>"
      ],
      "text/plain": [
       "   sid  eid  1  10  2  3  4  5  6   7      ...       Males Aged 45+_avg  \\\n",
       "0    2   21  0  10  0  0  4  2  4   9      ...                      7.2   \n",
       "1    5    1  1  13  0  2  0  2  6  11      ...                      7.9   \n",
       "\n",
       "   Males under 18  Males under 18_avg  Males_avg  Non-US users  \\\n",
       "0               0                 NaN        7.5            12   \n",
       "1               0                 NaN        7.9            11   \n",
       "\n",
       "   Non-US users_avg  Top 1000 voters  Top 1000 voters_avg  US users  \\\n",
       "0               7.8               13                  7.6        21   \n",
       "1               7.2               16                  6.9        28   \n",
       "\n",
       "   US users_avg  \n",
       "0           7.4  \n",
       "1           7.8  \n",
       "\n",
       "[2 rows x 50 columns]"
      ]
     },
     "execution_count": 8,
     "metadata": {},
     "output_type": "execute_result"
    }
   ],
   "source": [
    "dfr.head(2)"
   ]
  },
  {
   "cell_type": "markdown",
   "metadata": {},
   "source": [
    "#### Combine episodes and ratings\n",
    "Since the ratings are for the episode we combine the two dataframes."
   ]
  },
  {
   "cell_type": "code",
   "execution_count": 9,
   "metadata": {
    "collapsed": false
   },
   "outputs": [],
   "source": [
    "dfer = pd.merge(dfe, dfr, on=['sid', 'eid'])"
   ]
  },
  {
   "cell_type": "markdown",
   "metadata": {},
   "source": [
    "#### Ratings over time (per episode)\n",
    "Now we can create our first graph. Let us look at the ratings over time. First sort the dataframe by season and episode."
   ]
  },
  {
   "cell_type": "code",
   "execution_count": 10,
   "metadata": {
    "collapsed": false
   },
   "outputs": [],
   "source": [
    "dfer = dfer.sort_values(['sid', 'eid'], ascending=[True, True]).reset_index(drop=True)"
   ]
  },
  {
   "cell_type": "code",
   "execution_count": 11,
   "metadata": {
    "collapsed": false
   },
   "outputs": [
    {
     "data": {
      "text/html": [
       "\n",
       "\n",
       "    <div class=\"bk-root\">\n",
       "        <div class=\"bk-plotdiv\" id=\"a8fcd25c-44e5-43e3-be22-bfcad17020e8\"></div>\n",
       "    </div>\n",
       "<script type=\"text/javascript\">\n",
       "  \n",
       "  (function(global) {\n",
       "    function now() {\n",
       "      return new Date();\n",
       "    }\n",
       "  \n",
       "    var force = false;\n",
       "  \n",
       "    if (typeof (window._bokeh_onload_callbacks) === \"undefined\" || force === true) {\n",
       "      window._bokeh_onload_callbacks = [];\n",
       "      window._bokeh_is_loading = undefined;\n",
       "    }\n",
       "  \n",
       "  \n",
       "    \n",
       "    if (typeof (window._bokeh_timeout) === \"undefined\" || force === true) {\n",
       "      window._bokeh_timeout = Date.now() + 0;\n",
       "      window._bokeh_failed_load = false;\n",
       "    }\n",
       "  \n",
       "    var NB_LOAD_WARNING = {'data': {'text/html':\n",
       "       \"<div style='background-color: #fdd'>\\n\"+\n",
       "       \"<p>\\n\"+\n",
       "       \"BokehJS does not appear to have successfully loaded. If loading BokehJS from CDN, this \\n\"+\n",
       "       \"may be due to a slow or bad network connection. Possible fixes:\\n\"+\n",
       "       \"</p>\\n\"+\n",
       "       \"<ul>\\n\"+\n",
       "       \"<li>re-rerun `output_notebook()` to attempt to load from CDN again, or</li>\\n\"+\n",
       "       \"<li>use INLINE resources instead, as so:</li>\\n\"+\n",
       "       \"</ul>\\n\"+\n",
       "       \"<code>\\n\"+\n",
       "       \"from bokeh.resources import INLINE\\n\"+\n",
       "       \"output_notebook(resources=INLINE)\\n\"+\n",
       "       \"</code>\\n\"+\n",
       "       \"</div>\"}};\n",
       "  \n",
       "    function display_loaded() {\n",
       "      if (window.Bokeh !== undefined) {\n",
       "        document.getElementById(\"a8fcd25c-44e5-43e3-be22-bfcad17020e8\").textContent = \"BokehJS successfully loaded.\";\n",
       "      } else if (Date.now() < window._bokeh_timeout) {\n",
       "        setTimeout(display_loaded, 100)\n",
       "      }\n",
       "    }if ((window.Jupyter !== undefined) && Jupyter.notebook.kernel) {\n",
       "      comm_manager = Jupyter.notebook.kernel.comm_manager\n",
       "      comm_manager.register_target(\"915dd27c-7430-461f-93e5-e8b02ae97370\", function () {});\n",
       "    }\n",
       "  \n",
       "    function run_callbacks() {\n",
       "      window._bokeh_onload_callbacks.forEach(function(callback) { callback() });\n",
       "      delete window._bokeh_onload_callbacks\n",
       "      console.info(\"Bokeh: all callbacks have finished\");\n",
       "    }\n",
       "  \n",
       "    function load_libs(js_urls, callback) {\n",
       "      window._bokeh_onload_callbacks.push(callback);\n",
       "      if (window._bokeh_is_loading > 0) {\n",
       "        console.log(\"Bokeh: BokehJS is being loaded, scheduling callback at\", now());\n",
       "        return null;\n",
       "      }\n",
       "      if (js_urls == null || js_urls.length === 0) {\n",
       "        run_callbacks();\n",
       "        return null;\n",
       "      }\n",
       "      console.log(\"Bokeh: BokehJS not loaded, scheduling load and callback at\", now());\n",
       "      window._bokeh_is_loading = js_urls.length;\n",
       "      for (var i = 0; i < js_urls.length; i++) {\n",
       "        var url = js_urls[i];\n",
       "        var s = document.createElement('script');\n",
       "        s.src = url;\n",
       "        s.async = false;\n",
       "        s.onreadystatechange = s.onload = function() {\n",
       "          window._bokeh_is_loading--;\n",
       "          if (window._bokeh_is_loading === 0) {\n",
       "            console.log(\"Bokeh: all BokehJS libraries loaded\");\n",
       "            run_callbacks()\n",
       "          }\n",
       "        };\n",
       "        s.onerror = function() {\n",
       "          console.warn(\"failed to load library \" + url);\n",
       "        };\n",
       "        console.log(\"Bokeh: injecting script tag for BokehJS library: \", url);\n",
       "        document.getElementsByTagName(\"head\")[0].appendChild(s);\n",
       "      }\n",
       "    };var element = document.getElementById(\"a8fcd25c-44e5-43e3-be22-bfcad17020e8\");\n",
       "    if (element == null) {\n",
       "      console.log(\"Bokeh: ERROR: autoload.js configured with elementid 'a8fcd25c-44e5-43e3-be22-bfcad17020e8' but no matching script tag was found. \")\n",
       "      return false;\n",
       "    }\n",
       "  \n",
       "    var js_urls = [];\n",
       "  \n",
       "    var inline_js = [\n",
       "      function(Bokeh) {\n",
       "        (function() {\n",
       "          var fn = function() {\n",
       "            var docs_json = {\"269900d6-b9c3-451e-a03f-e938e05f2a09\":{\"roots\":{\"references\":[{\"attributes\":{\"callback\":null,\"column_names\":[\"ys\",\"xs\",\"line_color\"],\"data\":{\"line_color\":[\"blue\",\"red\"],\"xs\":[[0,1,2,3,4,5,6,7,8,9,10,11,12,13,14,15,16,17,18,19,20,21,22,23,24,25,26,27,28,29,30,31,32,33,34,35,36,37,38,39,40,41,42,43,44,45,46,47,48,49,50,51,52,53,54,55,56,57,58,59,60,61,62,63,64,65,66,67,68,69,70,71,72,73,74,75,76,77,78,79,80,81,82,83,84,85,86,87,88,89,90,91,92,93,94,95,96,97,98,99,100,101,102,103,104,105,106,107,108,109,110,111,112,113,114,115,116,117,118,119,120,121,122,123,124,125,126,127,128,129,130,131,132,133,134,135,136,137,138,139,140,141,142,143,144,145,146,147,148,149,150,151,152,153,154,155,156,157,158,159,160,161,162,163,164,165,166,167,168,169,170,171,172,173,174,175,176,177,178,179,180,181,182,183,184,185,186,187,188,189,190,191,192,193,194,195,196,197,198,199,200,201,202,203,204,205,206,207,208,209,210,211,212,213,214,215,216,217,218,219,220,221,222,223,224,225,226,227,228,229,230,231,232,233,234,235,236,237,238,239,240,241,242,243,244,245,246,247,248,249,250,251,252,253,254,255,256,257,258,259,260,261,262,263,264,265,266,267,268,269,270,271,272,273,274,275,276,277,278,279,280,281,282,283,284,285,286,287,288,289,290,291,292,293,294,295,296,297,298,299,300,301,302,303,304,305,306,307,308,309,310,311,312,313,314,315,316,317,318,319,320,321,322,323,324,325,326,327,328,329,330,331,332,333,334,335,336,337,338,339,340,341,342,343,344,345,346,347,348,349,350,351,352,353,354,355,356,357,358,359,360,361,362,363,364,365,366,367,368,369,370,371,372,373,374,375,376,377,378,379,380,381,382,383,384,385,386,387,388,389,390,391,392,393,394,395,396,397,398,399,400,401,402,403,404,405,406,407,408,409,410,411,412,413,414,415,416,417,418,419,420,421,422,423,424,425,426,427,428,429,430,431,432,433,434,435,436,437,438,439,440,441,442,443,444,445,446,447,448,449,450,451,452,453,454,455,456,457,458,459,460,461,462,463,464,465,466,467,468,469,470,471,472,473,474,475,476,477,478,479,480,481,482,483,484,485,486,487,488,489,490,491,492,493,494,495,496,497,498,499,500,501,502,503,504,505,506,507,508,509,510,511,512,513,514,515,516,517,518,519,520,521,522,523,524,525,526,527,528,529,530,531,532,533,534,535,536,537,538,539,540,541,542,543,544,545,546,547,548,549,550,551,552,553,554,555,556,557,558,559,560,561,562,563,564,565,566,567,568,569,570,571,572,573,574,575,576,577,578,579,580,581,582,583,584,585,586,587,588,589,590,591,592,593,594,595,596,597,598,599,600,601,602,603,604,605,606,607,608,609,610,611,612,613,614,615,616,617,618,619,620,621,622,623,624,625,626,627,628,629,630,631,632,633,634,635,636,637,638,639,640,641,642,643,644,645,646,647,648,649,650,651,652,653,654,655,656,657,658,659,660,661,662,663,664,665,666,667,668,669,670,671,672,673,674,675,676,677,678,679,680,681,682,683,684,685,686,687,688,689,690,691,692,693,694,695,696,697,698,699,700,701,702,703,704,705,706,707,708,709,710,711,712,713,714,715,716,717,718,719,720,721,722,723,724,725,726,727,728,729,730,731,732,733,734,735,736,737,738,739,740,741,742,743,744,745,746,747,748,749,750,751,752,753,754,755,756,757,758,759,760,761,762,763,764,765,766,767,768,769,770,771,772,773,774,775,776,777,778,779,780,781,782,783,784,785,786,787,788,789,790,791,792,793,794,795,796,797,798,799,800,801,802,803,804,805,806,807,808,809,810,811,812,813,814,815,816,817,818,819,820,821,822],[0,1,2,3,4,5,6,7,8,9,10,11,12,13,14,15,16,17,18,19,20,21,22,23,24,25,26,27,28,29,30,31,32,33,34,35,36,37,38,39,40,41,42,43,44,45,46,47,48,49,50,51,52,53,54,55,56,57,58,59,60,61,62,63,64,65,66,67,68,69,70,71,72,73,74,75,76,77,78,79,80,81,82,83,84,85,86,87,88,89,90,91,92,93,94,95,96,97,98,99,100,101,102,103,104,105,106,107,108,109,110,111,112,113,114,115,116,117,118,119,120,121,122,123,124,125,126,127,128,129,130,131,132,133,134,135,136,137,138,139,140,141,142,143,144,145,146,147,148,149,150,151,152,153,154,155,156,157,158,159,160,161,162,163,164,165,166,167,168,169,170,171,172,173,174,175,176,177,178,179,180,181,182,183,184,185,186,187,188,189,190,191,192,193,194,195,196,197,198,199,200,201,202,203,204,205,206,207,208,209,210,211,212,213,214,215,216,217,218,219,220,221,222,223,224,225,226,227,228,229,230,231,232,233,234,235,236,237,238,239,240,241,242,243,244,245,246,247,248,249,250,251,252,253,254,255,256,257,258,259,260,261,262,263,264,265,266,267,268,269,270,271,272,273,274,275,276,277,278,279,280,281,282,283,284,285,286,287,288,289,290,291,292,293,294,295,296,297,298,299,300,301,302,303,304,305,306,307,308,309,310,311,312,313,314,315,316,317,318,319,320,321,322,323,324,325,326,327,328,329,330,331,332,333,334,335,336,337,338,339,340,341,342,343,344,345,346,347,348,349,350,351,352,353,354,355,356,357,358,359,360,361,362,363,364,365,366,367,368,369,370,371,372,373,374,375,376,377,378,379,380,381,382,383,384,385,386,387,388,389,390,391,392,393,394,395,396,397,398,399,400,401,402,403,404,405,406,407,408,409,410,411,412,413,414,415,416,417,418,419,420,421,422,423,424,425,426,427,428,429,430,431,432,433,434,435,436,437,438,439,440,441,442,443,444,445,446,447,448,449,450,451,452,453,454,455,456,457,458,459,460,461,462,463,464,465,466,467,468,469,470,471,472,473,474,475,476,477,478,479,480,481,482,483,484,485,486,487,488,489,490,491,492,493,494,495,496,497,498,499,500,501,502,503,504,505,506,507,508,509,510,511,512,513,514,515,516,517,518,519,520,521,522,523,524,525,526,527,528,529,530,531,532,533,534,535,536,537,538,539,540,541,542,543,544,545,546,547,548,549,550,551,552,553,554,555,556,557,558,559,560,561,562,563,564,565,566,567,568,569,570,571,572,573,574,575,576,577,578,579,580,581,582,583,584,585,586,587,588,589,590,591,592,593,594,595,596,597,598,599,600,601,602,603,604,605,606,607,608,609,610,611,612,613,614,615,616,617,618,619,620,621,622,623,624,625,626,627,628,629,630,631,632,633,634,635,636,637,638,639,640,641,642,643,644,645,646,647,648,649,650,651,652,653,654,655,656,657,658,659,660,661,662,663,664,665,666,667,668,669,670,671,672,673,674,675,676,677,678,679,680,681,682,683,684,685,686,687,688,689,690,691,692,693,694,695,696,697,698,699,700,701,702,703,704,705,706,707,708,709,710,711,712,713,714,715,716,717,718,719,720,721,722,723,724,725,726,727,728,729,730,731,732,733,734,735,736,737,738,739,740,741,742,743,744,745,746,747,748,749,750,751,752,753,754,755,756,757,758,759,760,761,762,763,764,765,766,767,768,769,770,771,772,773,774,775,776,777,778,779,780,781,782,783,784,785,786,787,788,789,790,791,792,793,794,795,796,797,798,799,800,801,802,803,804,805,806,807,808,809,810,811,812,813,814,815,816,817,818,819,820,821,822]],\"ys\":[{\"__ndarray__\":\"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\",\"dtype\":\"float64\",\"shape\":[823]},{\"__ndarray__\":\"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\",\"dtype\":\"float64\",\"shape\":[823]}]}},\"id\":\"fc3c22d4-7fe8-4e75-831b-64c3c6bda16b\",\"type\":\"ColumnDataSource\"},{\"attributes\":{\"callback\":null},\"id\":\"e5aa5de9-f414-4e4e-a9a9-7075313c0262\",\"type\":\"DataRange1d\"},{\"attributes\":{\"line_alpha\":{\"value\":0.1},\"line_color\":{\"value\":\"#1f77b4\"},\"xs\":{\"field\":\"xs\"},\"ys\":{\"field\":\"ys\"}},\"id\":\"3aed6b49-7649-4aea-b61a-4f91e0a556e6\",\"type\":\"MultiLine\"},{\"attributes\":{\"line_color\":{\"field\":\"line_color\"},\"xs\":{\"field\":\"xs\"},\"ys\":{\"field\":\"ys\"}},\"id\":\"ff940a41-7e92-485a-8ce9-c9102c61db76\",\"type\":\"MultiLine\"},{\"attributes\":{},\"id\":\"e63bdd93-85a2-4dec-991d-ee4ef10dba97\",\"type\":\"BasicTicker\"},{\"attributes\":{},\"id\":\"0bba45b0-8abf-4003-a61f-3b0d49a2ae29\",\"type\":\"ToolEvents\"},{\"attributes\":{\"plot\":{\"id\":\"81a3ed39-6b66-4ca1-b261-9714b21c28ec\",\"subtype\":\"Figure\",\"type\":\"Plot\"}},\"id\":\"adc903ea-1d60-49cf-b959-c7c3aeec6948\",\"type\":\"HelpTool\"},{\"attributes\":{\"data_source\":{\"id\":\"fc3c22d4-7fe8-4e75-831b-64c3c6bda16b\",\"type\":\"ColumnDataSource\"},\"glyph\":{\"id\":\"ff940a41-7e92-485a-8ce9-c9102c61db76\",\"type\":\"MultiLine\"},\"hover_glyph\":null,\"nonselection_glyph\":{\"id\":\"3aed6b49-7649-4aea-b61a-4f91e0a556e6\",\"type\":\"MultiLine\"},\"selection_glyph\":null},\"id\":\"8f2696ae-e433-4a57-bdd6-e0c6dd639b43\",\"type\":\"GlyphRenderer\"},{\"attributes\":{\"formatter\":{\"id\":\"0d24da2c-db78-4fc3-a6cb-9816154bc4ec\",\"type\":\"BasicTickFormatter\"},\"plot\":{\"id\":\"81a3ed39-6b66-4ca1-b261-9714b21c28ec\",\"subtype\":\"Figure\",\"type\":\"Plot\"},\"ticker\":{\"id\":\"d6591d9e-005d-4c42-962a-3f5fcdd265f9\",\"type\":\"BasicTicker\"}},\"id\":\"13f118a2-5123-4f74-88b2-a688b59948d6\",\"type\":\"LinearAxis\"},{\"attributes\":{\"plot\":null,\"text\":\"\"},\"id\":\"3948c132-71e6-418d-841b-1b5d44b102eb\",\"type\":\"Title\"},{\"attributes\":{\"callback\":null,\"end\":10},\"id\":\"4944e603-4d60-4291-a44b-21890b76c963\",\"type\":\"Range1d\"},{\"attributes\":{\"plot\":{\"id\":\"81a3ed39-6b66-4ca1-b261-9714b21c28ec\",\"subtype\":\"Figure\",\"type\":\"Plot\"}},\"id\":\"41bf9859-143c-4c42-8ed4-d52d4f424878\",\"type\":\"WheelZoomTool\"},{\"attributes\":{\"dimension\":1,\"plot\":{\"id\":\"81a3ed39-6b66-4ca1-b261-9714b21c28ec\",\"subtype\":\"Figure\",\"type\":\"Plot\"},\"ticker\":{\"id\":\"d6591d9e-005d-4c42-962a-3f5fcdd265f9\",\"type\":\"BasicTicker\"}},\"id\":\"6949bccb-9ebf-4b43-8dd9-44886c5b0252\",\"type\":\"Grid\"},{\"attributes\":{\"overlay\":{\"id\":\"bbef1d0d-2b76-4599-a08a-d7f7e12677c7\",\"type\":\"BoxAnnotation\"},\"plot\":{\"id\":\"81a3ed39-6b66-4ca1-b261-9714b21c28ec\",\"subtype\":\"Figure\",\"type\":\"Plot\"}},\"id\":\"7204ce6e-9060-438a-b54c-c5ace09486a9\",\"type\":\"BoxZoomTool\"},{\"attributes\":{},\"id\":\"d6591d9e-005d-4c42-962a-3f5fcdd265f9\",\"type\":\"BasicTicker\"},{\"attributes\":{},\"id\":\"0d24da2c-db78-4fc3-a6cb-9816154bc4ec\",\"type\":\"BasicTickFormatter\"},{\"attributes\":{\"plot\":{\"id\":\"81a3ed39-6b66-4ca1-b261-9714b21c28ec\",\"subtype\":\"Figure\",\"type\":\"Plot\"}},\"id\":\"17475f69-0f6c-443c-b4d0-d7f9c6949b58\",\"type\":\"SaveTool\"},{\"attributes\":{\"plot\":{\"id\":\"81a3ed39-6b66-4ca1-b261-9714b21c28ec\",\"subtype\":\"Figure\",\"type\":\"Plot\"}},\"id\":\"7a4f0f0a-d415-4b49-b4af-8b843a7566ea\",\"type\":\"PanTool\"},{\"attributes\":{},\"id\":\"62171f34-2126-4cc0-b500-43eb42810fa6\",\"type\":\"BasicTickFormatter\"},{\"attributes\":{\"formatter\":{\"id\":\"62171f34-2126-4cc0-b500-43eb42810fa6\",\"type\":\"BasicTickFormatter\"},\"plot\":{\"id\":\"81a3ed39-6b66-4ca1-b261-9714b21c28ec\",\"subtype\":\"Figure\",\"type\":\"Plot\"},\"ticker\":{\"id\":\"e63bdd93-85a2-4dec-991d-ee4ef10dba97\",\"type\":\"BasicTicker\"}},\"id\":\"56879e99-f5aa-49f0-9e11-07243a1092f4\",\"type\":\"LinearAxis\"},{\"attributes\":{\"plot\":{\"id\":\"81a3ed39-6b66-4ca1-b261-9714b21c28ec\",\"subtype\":\"Figure\",\"type\":\"Plot\"},\"ticker\":{\"id\":\"e63bdd93-85a2-4dec-991d-ee4ef10dba97\",\"type\":\"BasicTicker\"}},\"id\":\"01d07a2c-8122-4d9c-9f4e-709f3651b740\",\"type\":\"Grid\"},{\"attributes\":{\"below\":[{\"id\":\"56879e99-f5aa-49f0-9e11-07243a1092f4\",\"type\":\"LinearAxis\"}],\"left\":[{\"id\":\"13f118a2-5123-4f74-88b2-a688b59948d6\",\"type\":\"LinearAxis\"}],\"plot_height\":200,\"plot_width\":800,\"renderers\":[{\"id\":\"56879e99-f5aa-49f0-9e11-07243a1092f4\",\"type\":\"LinearAxis\"},{\"id\":\"01d07a2c-8122-4d9c-9f4e-709f3651b740\",\"type\":\"Grid\"},{\"id\":\"13f118a2-5123-4f74-88b2-a688b59948d6\",\"type\":\"LinearAxis\"},{\"id\":\"6949bccb-9ebf-4b43-8dd9-44886c5b0252\",\"type\":\"Grid\"},{\"id\":\"bbef1d0d-2b76-4599-a08a-d7f7e12677c7\",\"type\":\"BoxAnnotation\"},{\"id\":\"8f2696ae-e433-4a57-bdd6-e0c6dd639b43\",\"type\":\"GlyphRenderer\"}],\"title\":{\"id\":\"3948c132-71e6-418d-841b-1b5d44b102eb\",\"type\":\"Title\"},\"tool_events\":{\"id\":\"0bba45b0-8abf-4003-a61f-3b0d49a2ae29\",\"type\":\"ToolEvents\"},\"toolbar\":{\"id\":\"4f2f8bd2-1912-45ce-9a04-9c7538d04a0a\",\"type\":\"Toolbar\"},\"x_range\":{\"id\":\"e5aa5de9-f414-4e4e-a9a9-7075313c0262\",\"type\":\"DataRange1d\"},\"y_range\":{\"id\":\"4944e603-4d60-4291-a44b-21890b76c963\",\"type\":\"Range1d\"}},\"id\":\"81a3ed39-6b66-4ca1-b261-9714b21c28ec\",\"subtype\":\"Figure\",\"type\":\"Plot\"},{\"attributes\":{\"bottom_units\":\"screen\",\"fill_alpha\":{\"value\":0.5},\"fill_color\":{\"value\":\"lightgrey\"},\"left_units\":\"screen\",\"level\":\"overlay\",\"line_alpha\":{\"value\":1.0},\"line_color\":{\"value\":\"black\"},\"line_dash\":[4,4],\"line_width\":{\"value\":2},\"plot\":null,\"render_mode\":\"css\",\"right_units\":\"screen\",\"top_units\":\"screen\"},\"id\":\"bbef1d0d-2b76-4599-a08a-d7f7e12677c7\",\"type\":\"BoxAnnotation\"},{\"attributes\":{\"plot\":{\"id\":\"81a3ed39-6b66-4ca1-b261-9714b21c28ec\",\"subtype\":\"Figure\",\"type\":\"Plot\"}},\"id\":\"ca11b626-9b49-4ba7-928e-53a3008e62e6\",\"type\":\"ResetTool\"},{\"attributes\":{\"active_drag\":\"auto\",\"active_scroll\":\"auto\",\"active_tap\":\"auto\",\"tools\":[{\"id\":\"7a4f0f0a-d415-4b49-b4af-8b843a7566ea\",\"type\":\"PanTool\"},{\"id\":\"41bf9859-143c-4c42-8ed4-d52d4f424878\",\"type\":\"WheelZoomTool\"},{\"id\":\"7204ce6e-9060-438a-b54c-c5ace09486a9\",\"type\":\"BoxZoomTool\"},{\"id\":\"17475f69-0f6c-443c-b4d0-d7f9c6949b58\",\"type\":\"SaveTool\"},{\"id\":\"ca11b626-9b49-4ba7-928e-53a3008e62e6\",\"type\":\"ResetTool\"},{\"id\":\"adc903ea-1d60-49cf-b959-c7c3aeec6948\",\"type\":\"HelpTool\"}]},\"id\":\"4f2f8bd2-1912-45ce-9a04-9c7538d04a0a\",\"type\":\"Toolbar\"}],\"root_ids\":[\"81a3ed39-6b66-4ca1-b261-9714b21c28ec\"]},\"title\":\"Bokeh Application\",\"version\":\"0.12.4\"}};\n",
       "            var render_items = [{\"docid\":\"269900d6-b9c3-451e-a03f-e938e05f2a09\",\"elementid\":\"a8fcd25c-44e5-43e3-be22-bfcad17020e8\",\"modelid\":\"81a3ed39-6b66-4ca1-b261-9714b21c28ec\",\"notebook_comms_target\":\"915dd27c-7430-461f-93e5-e8b02ae97370\"}];\n",
       "            \n",
       "            Bokeh.embed.embed_items(docs_json, render_items);\n",
       "          };\n",
       "          if (document.readyState != \"loading\") fn();\n",
       "          else document.addEventListener(\"DOMContentLoaded\", fn);\n",
       "        })();\n",
       "      },\n",
       "      function(Bokeh) {\n",
       "      }\n",
       "    ];\n",
       "  \n",
       "    function run_inline_js() {\n",
       "      \n",
       "      if ((window.Bokeh !== undefined) || (force === true)) {\n",
       "        for (var i = 0; i < inline_js.length; i++) {\n",
       "          inline_js[i](window.Bokeh);\n",
       "        }if (force === true) {\n",
       "          display_loaded();\n",
       "        }} else if (Date.now() < window._bokeh_timeout) {\n",
       "        setTimeout(run_inline_js, 100);\n",
       "      } else if (!window._bokeh_failed_load) {\n",
       "        console.log(\"Bokeh: BokehJS failed to load within specified timeout.\");\n",
       "        window._bokeh_failed_load = true;\n",
       "      } else if (force !== true) {\n",
       "        var cell = $(document.getElementById(\"a8fcd25c-44e5-43e3-be22-bfcad17020e8\")).parents('.cell').data().cell;\n",
       "        cell.output_area.append_execute_result(NB_LOAD_WARNING)\n",
       "      }\n",
       "  \n",
       "    }\n",
       "  \n",
       "    if (window._bokeh_is_loading === 0) {\n",
       "      console.log(\"Bokeh: BokehJS loaded, going straight to plotting\");\n",
       "      run_inline_js();\n",
       "    } else {\n",
       "      load_libs(js_urls, function() {\n",
       "        console.log(\"Bokeh: BokehJS plotting callback run at\", now());\n",
       "        run_inline_js();\n",
       "      });\n",
       "    }\n",
       "  }(this));\n",
       "</script>"
      ]
     },
     "metadata": {},
     "output_type": "display_data"
    }
   ],
   "source": [
    "# plot a trend line, too\n",
    "trend = np.polyfit(dfer.index, dfer[\"IMDb users_avg\"].values, 10)\n",
    "trend_func = np.poly1d(trend)\n",
    "\n",
    "p = figure(plot_width=800, plot_height=200, y_range=(0,10))\n",
    "r = p.multi_line([dfer.index, dfer.index],[dfer[\"IMDb users_avg\"].values, trend_func(dfer.index)], color=['blue', 'red'])\n",
    "t = show(p, notebook_handle=True)"
   ]
  },
  {
   "cell_type": "markdown",
   "metadata": {},
   "source": [
    "#### Ratings over time (per season)\n",
    "It is also interesting to see how the average ratings of the season developed over the years."
   ]
  },
  {
   "cell_type": "code",
   "execution_count": 12,
   "metadata": {
    "collapsed": false
   },
   "outputs": [],
   "source": [
    "sSeasonRatingAverage = dfer.groupby(\"sid\")[\"IMDb users_avg\"].mean()"
   ]
  },
  {
   "cell_type": "code",
   "execution_count": 13,
   "metadata": {
    "collapsed": false
   },
   "outputs": [
    {
     "data": {
      "text/html": [
       "\n",
       "\n",
       "    <div class=\"bk-root\">\n",
       "        <div class=\"bk-plotdiv\" id=\"a3a6f453-acae-4e40-af01-e2690e565b74\"></div>\n",
       "    </div>\n",
       "<script type=\"text/javascript\">\n",
       "  \n",
       "  (function(global) {\n",
       "    function now() {\n",
       "      return new Date();\n",
       "    }\n",
       "  \n",
       "    var force = false;\n",
       "  \n",
       "    if (typeof (window._bokeh_onload_callbacks) === \"undefined\" || force === true) {\n",
       "      window._bokeh_onload_callbacks = [];\n",
       "      window._bokeh_is_loading = undefined;\n",
       "    }\n",
       "  \n",
       "  \n",
       "    \n",
       "    if (typeof (window._bokeh_timeout) === \"undefined\" || force === true) {\n",
       "      window._bokeh_timeout = Date.now() + 0;\n",
       "      window._bokeh_failed_load = false;\n",
       "    }\n",
       "  \n",
       "    var NB_LOAD_WARNING = {'data': {'text/html':\n",
       "       \"<div style='background-color: #fdd'>\\n\"+\n",
       "       \"<p>\\n\"+\n",
       "       \"BokehJS does not appear to have successfully loaded. If loading BokehJS from CDN, this \\n\"+\n",
       "       \"may be due to a slow or bad network connection. Possible fixes:\\n\"+\n",
       "       \"</p>\\n\"+\n",
       "       \"<ul>\\n\"+\n",
       "       \"<li>re-rerun `output_notebook()` to attempt to load from CDN again, or</li>\\n\"+\n",
       "       \"<li>use INLINE resources instead, as so:</li>\\n\"+\n",
       "       \"</ul>\\n\"+\n",
       "       \"<code>\\n\"+\n",
       "       \"from bokeh.resources import INLINE\\n\"+\n",
       "       \"output_notebook(resources=INLINE)\\n\"+\n",
       "       \"</code>\\n\"+\n",
       "       \"</div>\"}};\n",
       "  \n",
       "    function display_loaded() {\n",
       "      if (window.Bokeh !== undefined) {\n",
       "        document.getElementById(\"a3a6f453-acae-4e40-af01-e2690e565b74\").textContent = \"BokehJS successfully loaded.\";\n",
       "      } else if (Date.now() < window._bokeh_timeout) {\n",
       "        setTimeout(display_loaded, 100)\n",
       "      }\n",
       "    }if ((window.Jupyter !== undefined) && Jupyter.notebook.kernel) {\n",
       "      comm_manager = Jupyter.notebook.kernel.comm_manager\n",
       "      comm_manager.register_target(\"494784d0-bc3c-4a93-8415-219a02e834fc\", function () {});\n",
       "    }\n",
       "  \n",
       "    function run_callbacks() {\n",
       "      window._bokeh_onload_callbacks.forEach(function(callback) { callback() });\n",
       "      delete window._bokeh_onload_callbacks\n",
       "      console.info(\"Bokeh: all callbacks have finished\");\n",
       "    }\n",
       "  \n",
       "    function load_libs(js_urls, callback) {\n",
       "      window._bokeh_onload_callbacks.push(callback);\n",
       "      if (window._bokeh_is_loading > 0) {\n",
       "        console.log(\"Bokeh: BokehJS is being loaded, scheduling callback at\", now());\n",
       "        return null;\n",
       "      }\n",
       "      if (js_urls == null || js_urls.length === 0) {\n",
       "        run_callbacks();\n",
       "        return null;\n",
       "      }\n",
       "      console.log(\"Bokeh: BokehJS not loaded, scheduling load and callback at\", now());\n",
       "      window._bokeh_is_loading = js_urls.length;\n",
       "      for (var i = 0; i < js_urls.length; i++) {\n",
       "        var url = js_urls[i];\n",
       "        var s = document.createElement('script');\n",
       "        s.src = url;\n",
       "        s.async = false;\n",
       "        s.onreadystatechange = s.onload = function() {\n",
       "          window._bokeh_is_loading--;\n",
       "          if (window._bokeh_is_loading === 0) {\n",
       "            console.log(\"Bokeh: all BokehJS libraries loaded\");\n",
       "            run_callbacks()\n",
       "          }\n",
       "        };\n",
       "        s.onerror = function() {\n",
       "          console.warn(\"failed to load library \" + url);\n",
       "        };\n",
       "        console.log(\"Bokeh: injecting script tag for BokehJS library: \", url);\n",
       "        document.getElementsByTagName(\"head\")[0].appendChild(s);\n",
       "      }\n",
       "    };var element = document.getElementById(\"a3a6f453-acae-4e40-af01-e2690e565b74\");\n",
       "    if (element == null) {\n",
       "      console.log(\"Bokeh: ERROR: autoload.js configured with elementid 'a3a6f453-acae-4e40-af01-e2690e565b74' but no matching script tag was found. \")\n",
       "      return false;\n",
       "    }\n",
       "  \n",
       "    var js_urls = [];\n",
       "  \n",
       "    var inline_js = [\n",
       "      function(Bokeh) {\n",
       "        (function() {\n",
       "          var fn = function() {\n",
       "            var docs_json = {\"9841d4fa-a47d-44f2-b320-1a726d3cbb5a\":{\"roots\":{\"references\":[{\"attributes\":{\"data_source\":{\"id\":\"e678fbc1-b028-47ca-bf85-d47ce8a017b5\",\"type\":\"ColumnDataSource\"},\"glyph\":{\"id\":\"454e0498-22fb-40e8-88ba-2d5505144bcc\",\"type\":\"Line\"},\"hover_glyph\":null,\"nonselection_glyph\":{\"id\":\"f2fda5c1-b6ad-4f5f-8ff9-aae186aa4a39\",\"type\":\"Line\"},\"selection_glyph\":null},\"id\":\"b6935e61-0f15-48dd-bf3a-d7ceed15a73a\",\"type\":\"GlyphRenderer\"},{\"attributes\":{},\"id\":\"134635f7-b842-45f6-8b1f-f86624fd8d63\",\"type\":\"BasicTicker\"},{\"attributes\":{\"line_alpha\":{\"value\":0.1},\"line_color\":{\"value\":\"#1f77b4\"},\"x\":{\"field\":\"x\"},\"y\":{\"field\":\"y\"}},\"id\":\"f2fda5c1-b6ad-4f5f-8ff9-aae186aa4a39\",\"type\":\"Line\"},{\"attributes\":{\"dimension\":1,\"plot\":{\"id\":\"077a5180-58da-4f55-a2e7-33c6bf1ae98e\",\"subtype\":\"Figure\",\"type\":\"Plot\"},\"ticker\":{\"id\":\"44440cd3-3bca-4c86-8fe1-599eb2b9d2a8\",\"type\":\"BasicTicker\"}},\"id\":\"1dfde080-fabf-451e-9cea-f4aab47be4c4\",\"type\":\"Grid\"},{\"attributes\":{\"bottom_units\":\"screen\",\"fill_alpha\":{\"value\":0.5},\"fill_color\":{\"value\":\"lightgrey\"},\"left_units\":\"screen\",\"level\":\"overlay\",\"line_alpha\":{\"value\":1.0},\"line_color\":{\"value\":\"black\"},\"line_dash\":[4,4],\"line_width\":{\"value\":2},\"plot\":null,\"render_mode\":\"css\",\"right_units\":\"screen\",\"top_units\":\"screen\"},\"id\":\"9a27a4b0-e01c-4387-95e1-5b431783b1ae\",\"type\":\"BoxAnnotation\"},{\"attributes\":{},\"id\":\"44440cd3-3bca-4c86-8fe1-599eb2b9d2a8\",\"type\":\"BasicTicker\"},{\"attributes\":{\"below\":[{\"id\":\"d19950b3-f637-4cb0-a4dd-ea356bb4180a\",\"type\":\"LinearAxis\"}],\"left\":[{\"id\":\"7ec3e804-e3fd-4321-b2db-9dd259f07114\",\"type\":\"LinearAxis\"}],\"plot_height\":200,\"plot_width\":800,\"renderers\":[{\"id\":\"d19950b3-f637-4cb0-a4dd-ea356bb4180a\",\"type\":\"LinearAxis\"},{\"id\":\"9ab18411-a4ba-46c4-88d4-7af97b1ef7ee\",\"type\":\"Grid\"},{\"id\":\"7ec3e804-e3fd-4321-b2db-9dd259f07114\",\"type\":\"LinearAxis\"},{\"id\":\"1dfde080-fabf-451e-9cea-f4aab47be4c4\",\"type\":\"Grid\"},{\"id\":\"9a27a4b0-e01c-4387-95e1-5b431783b1ae\",\"type\":\"BoxAnnotation\"},{\"id\":\"b6935e61-0f15-48dd-bf3a-d7ceed15a73a\",\"type\":\"GlyphRenderer\"}],\"title\":{\"id\":\"a47a4b46-c2f9-4181-9ecc-52a0036f90c3\",\"type\":\"Title\"},\"tool_events\":{\"id\":\"93eea6e8-f502-46f3-a1d3-d5ecd54b29d4\",\"type\":\"ToolEvents\"},\"toolbar\":{\"id\":\"c5726625-5b95-4608-a123-04e9d888fdbc\",\"type\":\"Toolbar\"},\"x_range\":{\"id\":\"869ef944-72cd-448e-ab0d-db67fccb3b70\",\"type\":\"DataRange1d\"},\"y_range\":{\"id\":\"308b0b80-c01d-4120-83a0-731981ba0dc4\",\"type\":\"Range1d\"}},\"id\":\"077a5180-58da-4f55-a2e7-33c6bf1ae98e\",\"subtype\":\"Figure\",\"type\":\"Plot\"},{\"attributes\":{\"line_color\":{\"value\":\"#1f77b4\"},\"x\":{\"field\":\"x\"},\"y\":{\"field\":\"y\"}},\"id\":\"454e0498-22fb-40e8-88ba-2d5505144bcc\",\"type\":\"Line\"},{\"attributes\":{\"plot\":{\"id\":\"077a5180-58da-4f55-a2e7-33c6bf1ae98e\",\"subtype\":\"Figure\",\"type\":\"Plot\"}},\"id\":\"facd0078-94fd-4614-abbd-8d7ae8a97916\",\"type\":\"WheelZoomTool\"},{\"attributes\":{\"plot\":{\"id\":\"077a5180-58da-4f55-a2e7-33c6bf1ae98e\",\"subtype\":\"Figure\",\"type\":\"Plot\"}},\"id\":\"8e34c977-c62d-4997-8039-e0717be2b486\",\"type\":\"ResetTool\"},{\"attributes\":{\"plot\":{\"id\":\"077a5180-58da-4f55-a2e7-33c6bf1ae98e\",\"subtype\":\"Figure\",\"type\":\"Plot\"}},\"id\":\"efeed475-1544-437f-8784-597320100073\",\"type\":\"SaveTool\"},{\"attributes\":{\"plot\":null,\"text\":\"\"},\"id\":\"a47a4b46-c2f9-4181-9ecc-52a0036f90c3\",\"type\":\"Title\"},{\"attributes\":{},\"id\":\"f7862df0-b7ff-4c80-9ded-592b28fc5913\",\"type\":\"BasicTickFormatter\"},{\"attributes\":{\"callback\":null},\"id\":\"869ef944-72cd-448e-ab0d-db67fccb3b70\",\"type\":\"DataRange1d\"},{\"attributes\":{\"plot\":{\"id\":\"077a5180-58da-4f55-a2e7-33c6bf1ae98e\",\"subtype\":\"Figure\",\"type\":\"Plot\"},\"ticker\":{\"id\":\"134635f7-b842-45f6-8b1f-f86624fd8d63\",\"type\":\"BasicTicker\"}},\"id\":\"9ab18411-a4ba-46c4-88d4-7af97b1ef7ee\",\"type\":\"Grid\"},{\"attributes\":{\"overlay\":{\"id\":\"9a27a4b0-e01c-4387-95e1-5b431783b1ae\",\"type\":\"BoxAnnotation\"},\"plot\":{\"id\":\"077a5180-58da-4f55-a2e7-33c6bf1ae98e\",\"subtype\":\"Figure\",\"type\":\"Plot\"}},\"id\":\"c8042d54-e254-4586-8e2b-c7f2be9f8257\",\"type\":\"BoxZoomTool\"},{\"attributes\":{\"plot\":{\"id\":\"077a5180-58da-4f55-a2e7-33c6bf1ae98e\",\"subtype\":\"Figure\",\"type\":\"Plot\"}},\"id\":\"5e487164-b146-4ef4-9480-e67182156567\",\"type\":\"PanTool\"},{\"attributes\":{\"plot\":{\"id\":\"077a5180-58da-4f55-a2e7-33c6bf1ae98e\",\"subtype\":\"Figure\",\"type\":\"Plot\"}},\"id\":\"15323861-bde3-4296-9400-78b38135a808\",\"type\":\"HelpTool\"},{\"attributes\":{\"callback\":null,\"end\":10},\"id\":\"308b0b80-c01d-4120-83a0-731981ba0dc4\",\"type\":\"Range1d\"},{\"attributes\":{},\"id\":\"93eea6e8-f502-46f3-a1d3-d5ecd54b29d4\",\"type\":\"ToolEvents\"},{\"attributes\":{\"active_drag\":\"auto\",\"active_scroll\":\"auto\",\"active_tap\":\"auto\",\"tools\":[{\"id\":\"5e487164-b146-4ef4-9480-e67182156567\",\"type\":\"PanTool\"},{\"id\":\"facd0078-94fd-4614-abbd-8d7ae8a97916\",\"type\":\"WheelZoomTool\"},{\"id\":\"c8042d54-e254-4586-8e2b-c7f2be9f8257\",\"type\":\"BoxZoomTool\"},{\"id\":\"efeed475-1544-437f-8784-597320100073\",\"type\":\"SaveTool\"},{\"id\":\"8e34c977-c62d-4997-8039-e0717be2b486\",\"type\":\"ResetTool\"},{\"id\":\"15323861-bde3-4296-9400-78b38135a808\",\"type\":\"HelpTool\"}]},\"id\":\"c5726625-5b95-4608-a123-04e9d888fdbc\",\"type\":\"Toolbar\"},{\"attributes\":{},\"id\":\"705ccecb-2a83-44ee-b915-213109391d7f\",\"type\":\"BasicTickFormatter\"},{\"attributes\":{\"formatter\":{\"id\":\"f7862df0-b7ff-4c80-9ded-592b28fc5913\",\"type\":\"BasicTickFormatter\"},\"plot\":{\"id\":\"077a5180-58da-4f55-a2e7-33c6bf1ae98e\",\"subtype\":\"Figure\",\"type\":\"Plot\"},\"ticker\":{\"id\":\"44440cd3-3bca-4c86-8fe1-599eb2b9d2a8\",\"type\":\"BasicTicker\"}},\"id\":\"7ec3e804-e3fd-4321-b2db-9dd259f07114\",\"type\":\"LinearAxis\"},{\"attributes\":{\"formatter\":{\"id\":\"705ccecb-2a83-44ee-b915-213109391d7f\",\"type\":\"BasicTickFormatter\"},\"plot\":{\"id\":\"077a5180-58da-4f55-a2e7-33c6bf1ae98e\",\"subtype\":\"Figure\",\"type\":\"Plot\"},\"ticker\":{\"id\":\"134635f7-b842-45f6-8b1f-f86624fd8d63\",\"type\":\"BasicTicker\"}},\"id\":\"d19950b3-f637-4cb0-a4dd-ea356bb4180a\",\"type\":\"LinearAxis\"},{\"attributes\":{\"callback\":null,\"column_names\":[\"x\",\"y\"],\"data\":{\"x\":[1,2,3,4,5,6,7,8,9,10,11,12,13,14,15,16,17,18,19,20,21,22,23,24,25,26,27,28,29,30,31,32,33,34,35,36,37,38,39,40,41,42],\"y\":{\"__ndarray__\":\"8O7u7u6uHEAT5ClBnhIdQKNwPQrXIx1AfRSuR+H6HECOwvUoXI8bQNzIjdzIjRpAcj0K16NwG0DC9Shcj8IdQFri1O+5JRpA2NjY2NjYGkBcsAVbsAUaQNajcD0KVxtAgR/4gR/4GUAzMzMzM7MZQArXo3A9ChlAKFyPwvWoGkA7CtejcD0dQBWuR+F6FBtAFa5H4XoUGUDVo3A9CtcbQM3MzMzMTBtAHoXrUbgeGEAoXI/C9agYQHkN5TWU1xhAwvUoXI/CGkDiehSuR+EYQGdmZmZm5hhAXY/C9ShcFkAK16NwPYoXQI/C9ShcDxhAn1vi1O+5GUBTuB6F69EcQDMzMzMzsx1A9JQgTwnyG0AK8pQgTwkbQIe1b1j7hhtA5ClBnhLkHEA4gRM4gRMcQBqt0Rqt0RxAT+AETuAEHECO1miN1mgbQEVERERERBxA\",\"dtype\":\"float64\",\"shape\":[42]}}},\"id\":\"e678fbc1-b028-47ca-bf85-d47ce8a017b5\",\"type\":\"ColumnDataSource\"}],\"root_ids\":[\"077a5180-58da-4f55-a2e7-33c6bf1ae98e\"]},\"title\":\"Bokeh Application\",\"version\":\"0.12.4\"}};\n",
       "            var render_items = [{\"docid\":\"9841d4fa-a47d-44f2-b320-1a726d3cbb5a\",\"elementid\":\"a3a6f453-acae-4e40-af01-e2690e565b74\",\"modelid\":\"077a5180-58da-4f55-a2e7-33c6bf1ae98e\",\"notebook_comms_target\":\"494784d0-bc3c-4a93-8415-219a02e834fc\"}];\n",
       "            \n",
       "            Bokeh.embed.embed_items(docs_json, render_items);\n",
       "          };\n",
       "          if (document.readyState != \"loading\") fn();\n",
       "          else document.addEventListener(\"DOMContentLoaded\", fn);\n",
       "        })();\n",
       "      },\n",
       "      function(Bokeh) {\n",
       "      }\n",
       "    ];\n",
       "  \n",
       "    function run_inline_js() {\n",
       "      \n",
       "      if ((window.Bokeh !== undefined) || (force === true)) {\n",
       "        for (var i = 0; i < inline_js.length; i++) {\n",
       "          inline_js[i](window.Bokeh);\n",
       "        }if (force === true) {\n",
       "          display_loaded();\n",
       "        }} else if (Date.now() < window._bokeh_timeout) {\n",
       "        setTimeout(run_inline_js, 100);\n",
       "      } else if (!window._bokeh_failed_load) {\n",
       "        console.log(\"Bokeh: BokehJS failed to load within specified timeout.\");\n",
       "        window._bokeh_failed_load = true;\n",
       "      } else if (force !== true) {\n",
       "        var cell = $(document.getElementById(\"a3a6f453-acae-4e40-af01-e2690e565b74\")).parents('.cell').data().cell;\n",
       "        cell.output_area.append_execute_result(NB_LOAD_WARNING)\n",
       "      }\n",
       "  \n",
       "    }\n",
       "  \n",
       "    if (window._bokeh_is_loading === 0) {\n",
       "      console.log(\"Bokeh: BokehJS loaded, going straight to plotting\");\n",
       "      run_inline_js();\n",
       "    } else {\n",
       "      load_libs(js_urls, function() {\n",
       "        console.log(\"Bokeh: BokehJS plotting callback run at\", now());\n",
       "        run_inline_js();\n",
       "      });\n",
       "    }\n",
       "  }(this));\n",
       "</script>"
      ]
     },
     "metadata": {},
     "output_type": "display_data"
    }
   ],
   "source": [
    "p = figure(plot_width=800, plot_height=200, y_range=(0,10))\n",
    "r = p.line(dfer.sid.unique(),sSeasonRatingAverage.values)\n",
    "t = show(p, notebook_handle=True)"
   ]
  },
  {
   "cell_type": "markdown",
   "metadata": {},
   "source": [
    "#### Ratings over time (conclusion)"
   ]
  },
  {
   "cell_type": "markdown",
   "metadata": {},
   "source": [
    "As you can see in the graphs there was a steep increase in quality between season 28 and 33. Since then the ratings are fairly constant. There were some quality highs in the mid 90s and 80s."
   ]
  },
  {
   "cell_type": "markdown",
   "metadata": {},
   "source": [
    "#### Moving on to the actors\n",
    "Now let us take a look at the actors. First it would be interesting to know which actors played in the most sketches and which of them were very present during their stay at the show (most sketches per episode). To do that we have to merge most of the dataframes."
   ]
  },
  {
   "cell_type": "code",
   "execution_count": 14,
   "metadata": {
    "collapsed": false
   },
   "outputs": [],
   "source": [
    "dfactors = pd.merge(pd.merge(dfat, dfer, on=['sid', 'eid']), dfa, on='aid')"
   ]
  },
  {
   "cell_type": "markdown",
   "metadata": {},
   "source": [
    "Now let's take a look at the Top 10 actors of SNL when it comes to appearances."
   ]
  },
  {
   "cell_type": "code",
   "execution_count": 15,
   "metadata": {
    "collapsed": false
   },
   "outputs": [
    {
     "data": {
      "text/plain": [
       "Kenan Thompson     933\n",
       "Phil Hartman       913\n",
       "Darrell Hammond    768\n",
       "Fred Armisen       739\n",
       "Bill Hader         696\n",
       "Amy Poehler        687\n",
       "Will Ferrell       654\n",
       "Kevin Nealon       646\n",
       "Bobby Moynihan     644\n",
       "Kristen Wiig       633\n",
       "Name: name, dtype: int64"
      ]
     },
     "execution_count": 15,
     "metadata": {},
     "output_type": "execute_result"
    }
   ],
   "source": [
    "sActorsAppearances = dfactors['name'].value_counts()\n",
    "sActorsAppearances.head(10)"
   ]
  },
  {
   "cell_type": "markdown",
   "metadata": {},
   "source": [
    "The Top 3 are: Kenan Thompson, Phil Hartman and Darrell Hammond. Since Kenan is still on the show he can further increase his lead. But does he also have the most appearances per episode?"
   ]
  },
  {
   "cell_type": "code",
   "execution_count": 16,
   "metadata": {
    "collapsed": false
   },
   "outputs": [
    {
     "data": {
      "text/html": [
       "<div>\n",
       "<table border=\"1\" class=\"dataframe\">\n",
       "  <thead>\n",
       "    <tr style=\"text-align: right;\">\n",
       "      <th></th>\n",
       "      <th>name</th>\n",
       "      <th>sid</th>\n",
       "      <th>eid</th>\n",
       "      <th>aid</th>\n",
       "    </tr>\n",
       "  </thead>\n",
       "  <tbody>\n",
       "    <tr>\n",
       "      <th>0</th>\n",
       "      <td>Ray Charles</td>\n",
       "      <td>3</td>\n",
       "      <td>5</td>\n",
       "      <td>12</td>\n",
       "    </tr>\n",
       "    <tr>\n",
       "      <th>1</th>\n",
       "      <td>Richard Pryor</td>\n",
       "      <td>1</td>\n",
       "      <td>7</td>\n",
       "      <td>12</td>\n",
       "    </tr>\n",
       "    <tr>\n",
       "      <th>2</th>\n",
       "      <td>Betty White</td>\n",
       "      <td>35</td>\n",
       "      <td>21</td>\n",
       "      <td>12</td>\n",
       "    </tr>\n",
       "    <tr>\n",
       "      <th>3</th>\n",
       "      <td>Ludacris</td>\n",
       "      <td>32</td>\n",
       "      <td>6</td>\n",
       "      <td>12</td>\n",
       "    </tr>\n",
       "    <tr>\n",
       "      <th>4</th>\n",
       "      <td>Justin Bieber</td>\n",
       "      <td>38</td>\n",
       "      <td>13</td>\n",
       "      <td>11</td>\n",
       "    </tr>\n",
       "    <tr>\n",
       "      <th>5</th>\n",
       "      <td>Josh Brolin</td>\n",
       "      <td>34</td>\n",
       "      <td>5</td>\n",
       "      <td>11</td>\n",
       "    </tr>\n",
       "    <tr>\n",
       "      <th>6</th>\n",
       "      <td>Steve Martin</td>\n",
       "      <td>31</td>\n",
       "      <td>12</td>\n",
       "      <td>11</td>\n",
       "    </tr>\n",
       "    <tr>\n",
       "      <th>7</th>\n",
       "      <td>Willie Nelson</td>\n",
       "      <td>12</td>\n",
       "      <td>12</td>\n",
       "      <td>11</td>\n",
       "    </tr>\n",
       "    <tr>\n",
       "      <th>8</th>\n",
       "      <td>Phil Hartman</td>\n",
       "      <td>17</td>\n",
       "      <td>7</td>\n",
       "      <td>11</td>\n",
       "    </tr>\n",
       "    <tr>\n",
       "      <th>9</th>\n",
       "      <td>Jennifer Lopez</td>\n",
       "      <td>35</td>\n",
       "      <td>15</td>\n",
       "      <td>11</td>\n",
       "    </tr>\n",
       "  </tbody>\n",
       "</table>\n",
       "</div>"
      ],
      "text/plain": [
       "             name  sid  eid  aid\n",
       "0     Ray Charles    3    5   12\n",
       "1   Richard Pryor    1    7   12\n",
       "2     Betty White   35   21   12\n",
       "3        Ludacris   32    6   12\n",
       "4   Justin Bieber   38   13   11\n",
       "5     Josh Brolin   34    5   11\n",
       "6    Steve Martin   31   12   11\n",
       "7   Willie Nelson   12   12   11\n",
       "8    Phil Hartman   17    7   11\n",
       "9  Jennifer Lopez   35   15   11"
      ]
     },
     "execution_count": 16,
     "metadata": {},
     "output_type": "execute_result"
    }
   ],
   "source": [
    "dfActorsEpisodes = pd.DataFrame(dfactors.groupby(['name','sid', 'eid'])['aid'].count().sort_values(ascending=False)).reset_index()\n",
    "dfActorsEpisodes.head(10)"
   ]
  },
  {
   "cell_type": "markdown",
   "metadata": {},
   "source": [
    "In this category there are four actors that take the first place: Ludacris, Richard Pryor, Ray Charles and Betty White. They were all part of 12 titles in a single episode. But which actor had the biggest presence on set over several episodes? Of course it only makes sense to look at actors who appeared in more than one episode."
   ]
  },
  {
   "cell_type": "code",
   "execution_count": 17,
   "metadata": {
    "collapsed": false
   },
   "outputs": [],
   "source": [
    "# Define the aggregation calculations\n",
    "aggregations = {\n",
    "    'aid': {     # Now work on the \"date\" column\n",
    "        'titles': 'sum',   # Find the max, call the result \"max_date\"\n",
    "        'episodes': 'count'\n",
    "    }\n",
    "}\n",
    " \n",
    "# Perform groupby aggregation by \"month\", but only on the rows that are of type \"call\"\n",
    "dfActorsTitlePerEpisode = dfActorsEpisodes.groupby('name').agg(aggregations)\n",
    "dfActorsTitlePerEpisode.columns = dfActorsTitlePerEpisode.columns.droplevel()"
   ]
  },
  {
   "cell_type": "code",
   "execution_count": 18,
   "metadata": {
    "collapsed": false
   },
   "outputs": [],
   "source": [
    "dfActorsTitlePerEpisode[\"title_avg\"] = dfActorsTitlePerEpisode[\"titles\"] / dfActorsTitlePerEpisode[\"episodes\"]"
   ]
  },
  {
   "cell_type": "markdown",
   "metadata": {
    "collapsed": false
   },
   "source": [
    "Let's take a look at the actors with appearances in at least 3 episodes."
   ]
  },
  {
   "cell_type": "code",
   "execution_count": 19,
   "metadata": {
    "collapsed": false
   },
   "outputs": [
    {
     "data": {
      "text/html": [
       "<div>\n",
       "<table border=\"1\" class=\"dataframe\">\n",
       "  <thead>\n",
       "    <tr style=\"text-align: right;\">\n",
       "      <th></th>\n",
       "      <th>episodes</th>\n",
       "      <th>titles</th>\n",
       "      <th>title_avg</th>\n",
       "    </tr>\n",
       "    <tr>\n",
       "      <th>name</th>\n",
       "      <th></th>\n",
       "      <th></th>\n",
       "      <th></th>\n",
       "    </tr>\n",
       "  </thead>\n",
       "  <tbody>\n",
       "    <tr>\n",
       "      <th>Charles Barkley</th>\n",
       "      <td>3</td>\n",
       "      <td>25</td>\n",
       "      <td>8.333333</td>\n",
       "    </tr>\n",
       "    <tr>\n",
       "      <th>Zach Galifianakis</th>\n",
       "      <td>3</td>\n",
       "      <td>24</td>\n",
       "      <td>8.000000</td>\n",
       "    </tr>\n",
       "    <tr>\n",
       "      <th>Louis C.K.</th>\n",
       "      <td>3</td>\n",
       "      <td>23</td>\n",
       "      <td>7.666667</td>\n",
       "    </tr>\n",
       "    <tr>\n",
       "      <th>Jack Black</th>\n",
       "      <td>3</td>\n",
       "      <td>23</td>\n",
       "      <td>7.666667</td>\n",
       "    </tr>\n",
       "    <tr>\n",
       "      <th>Drake</th>\n",
       "      <td>3</td>\n",
       "      <td>22</td>\n",
       "      <td>7.333333</td>\n",
       "    </tr>\n",
       "    <tr>\n",
       "      <th>Jennifer Lopez</th>\n",
       "      <td>3</td>\n",
       "      <td>22</td>\n",
       "      <td>7.333333</td>\n",
       "    </tr>\n",
       "    <tr>\n",
       "      <th>Garth Brooks</th>\n",
       "      <td>3</td>\n",
       "      <td>21</td>\n",
       "      <td>7.000000</td>\n",
       "    </tr>\n",
       "    <tr>\n",
       "      <th>Lily Tomlin</th>\n",
       "      <td>4</td>\n",
       "      <td>28</td>\n",
       "      <td>7.000000</td>\n",
       "    </tr>\n",
       "    <tr>\n",
       "      <th>Charles Rocket</th>\n",
       "      <td>12</td>\n",
       "      <td>83</td>\n",
       "      <td>6.916667</td>\n",
       "    </tr>\n",
       "    <tr>\n",
       "      <th>Jonah Hill</th>\n",
       "      <td>4</td>\n",
       "      <td>27</td>\n",
       "      <td>6.750000</td>\n",
       "    </tr>\n",
       "  </tbody>\n",
       "</table>\n",
       "</div>"
      ],
      "text/plain": [
       "                   episodes  titles  title_avg\n",
       "name                                          \n",
       "Charles Barkley           3      25   8.333333\n",
       "Zach Galifianakis         3      24   8.000000\n",
       "Louis C.K.                3      23   7.666667\n",
       "Jack Black                3      23   7.666667\n",
       "Drake                     3      22   7.333333\n",
       "Jennifer Lopez            3      22   7.333333\n",
       "Garth Brooks              3      21   7.000000\n",
       "Lily Tomlin               4      28   7.000000\n",
       "Charles Rocket           12      83   6.916667\n",
       "Jonah Hill                4      27   6.750000"
      ]
     },
     "execution_count": 19,
     "metadata": {},
     "output_type": "execute_result"
    }
   ],
   "source": [
    "dfActorsTitlePerEpisode[dfActorsTitlePerEpisode.episodes>=3].sort_values('title_avg', ascending=False).head(10)"
   ]
  },
  {
   "cell_type": "markdown",
   "metadata": {
    "collapsed": true
   },
   "source": [
    "Charles Barkley wins with 8.3 titles per episode. What about 10 episodes?"
   ]
  },
  {
   "cell_type": "code",
   "execution_count": 20,
   "metadata": {
    "collapsed": false
   },
   "outputs": [
    {
     "data": {
      "text/html": [
       "<div>\n",
       "<table border=\"1\" class=\"dataframe\">\n",
       "  <thead>\n",
       "    <tr style=\"text-align: right;\">\n",
       "      <th></th>\n",
       "      <th>episodes</th>\n",
       "      <th>titles</th>\n",
       "      <th>title_avg</th>\n",
       "    </tr>\n",
       "    <tr>\n",
       "      <th>name</th>\n",
       "      <th></th>\n",
       "      <th></th>\n",
       "      <th></th>\n",
       "    </tr>\n",
       "  </thead>\n",
       "  <tbody>\n",
       "    <tr>\n",
       "      <th>Charles Rocket</th>\n",
       "      <td>12</td>\n",
       "      <td>83</td>\n",
       "      <td>6.916667</td>\n",
       "    </tr>\n",
       "    <tr>\n",
       "      <th>Phil Hartman</th>\n",
       "      <td>163</td>\n",
       "      <td>913</td>\n",
       "      <td>5.601227</td>\n",
       "    </tr>\n",
       "    <tr>\n",
       "      <th>Joe Piscopo</th>\n",
       "      <td>72</td>\n",
       "      <td>364</td>\n",
       "      <td>5.055556</td>\n",
       "    </tr>\n",
       "    <tr>\n",
       "      <th>Bill Murray</th>\n",
       "      <td>78</td>\n",
       "      <td>389</td>\n",
       "      <td>4.987179</td>\n",
       "    </tr>\n",
       "    <tr>\n",
       "      <th>Gail Matthius</th>\n",
       "      <td>13</td>\n",
       "      <td>62</td>\n",
       "      <td>4.769231</td>\n",
       "    </tr>\n",
       "    <tr>\n",
       "      <th>Amy Poehler</th>\n",
       "      <td>148</td>\n",
       "      <td>687</td>\n",
       "      <td>4.641892</td>\n",
       "    </tr>\n",
       "    <tr>\n",
       "      <th>Will Ferrell</th>\n",
       "      <td>143</td>\n",
       "      <td>654</td>\n",
       "      <td>4.573427</td>\n",
       "    </tr>\n",
       "    <tr>\n",
       "      <th>John Goodman</th>\n",
       "      <td>19</td>\n",
       "      <td>86</td>\n",
       "      <td>4.526316</td>\n",
       "    </tr>\n",
       "    <tr>\n",
       "      <th>Dan Aykroyd</th>\n",
       "      <td>92</td>\n",
       "      <td>415</td>\n",
       "      <td>4.510870</td>\n",
       "    </tr>\n",
       "    <tr>\n",
       "      <th>Kristen Wiig</th>\n",
       "      <td>141</td>\n",
       "      <td>633</td>\n",
       "      <td>4.489362</td>\n",
       "    </tr>\n",
       "  </tbody>\n",
       "</table>\n",
       "</div>"
      ],
      "text/plain": [
       "                episodes  titles  title_avg\n",
       "name                                       \n",
       "Charles Rocket        12      83   6.916667\n",
       "Phil Hartman         163     913   5.601227\n",
       "Joe Piscopo           72     364   5.055556\n",
       "Bill Murray           78     389   4.987179\n",
       "Gail Matthius         13      62   4.769231\n",
       "Amy Poehler          148     687   4.641892\n",
       "Will Ferrell         143     654   4.573427\n",
       "John Goodman          19      86   4.526316\n",
       "Dan Aykroyd           92     415   4.510870\n",
       "Kristen Wiig         141     633   4.489362"
      ]
     },
     "execution_count": 20,
     "metadata": {},
     "output_type": "execute_result"
    }
   ],
   "source": [
    "dfActorsTitlePerEpisode[dfActorsTitlePerEpisode.episodes>=10].sort_values('title_avg', ascending=False).head(10)"
   ]
  },
  {
   "cell_type": "markdown",
   "metadata": {},
   "source": [
    "Now let's look at people with at least 50 episodes under their belt. These are mostly cast members."
   ]
  },
  {
   "cell_type": "code",
   "execution_count": 21,
   "metadata": {
    "collapsed": false
   },
   "outputs": [
    {
     "data": {
      "text/html": [
       "<div>\n",
       "<table border=\"1\" class=\"dataframe\">\n",
       "  <thead>\n",
       "    <tr style=\"text-align: right;\">\n",
       "      <th></th>\n",
       "      <th>episodes</th>\n",
       "      <th>titles</th>\n",
       "      <th>title_avg</th>\n",
       "    </tr>\n",
       "    <tr>\n",
       "      <th>name</th>\n",
       "      <th></th>\n",
       "      <th></th>\n",
       "      <th></th>\n",
       "    </tr>\n",
       "  </thead>\n",
       "  <tbody>\n",
       "    <tr>\n",
       "      <th>Phil Hartman</th>\n",
       "      <td>163</td>\n",
       "      <td>913</td>\n",
       "      <td>5.601227</td>\n",
       "    </tr>\n",
       "    <tr>\n",
       "      <th>Joe Piscopo</th>\n",
       "      <td>72</td>\n",
       "      <td>364</td>\n",
       "      <td>5.055556</td>\n",
       "    </tr>\n",
       "    <tr>\n",
       "      <th>Bill Murray</th>\n",
       "      <td>78</td>\n",
       "      <td>389</td>\n",
       "      <td>4.987179</td>\n",
       "    </tr>\n",
       "    <tr>\n",
       "      <th>Amy Poehler</th>\n",
       "      <td>148</td>\n",
       "      <td>687</td>\n",
       "      <td>4.641892</td>\n",
       "    </tr>\n",
       "    <tr>\n",
       "      <th>Will Ferrell</th>\n",
       "      <td>143</td>\n",
       "      <td>654</td>\n",
       "      <td>4.573427</td>\n",
       "    </tr>\n",
       "    <tr>\n",
       "      <th>Dan Aykroyd</th>\n",
       "      <td>92</td>\n",
       "      <td>415</td>\n",
       "      <td>4.510870</td>\n",
       "    </tr>\n",
       "    <tr>\n",
       "      <th>Kristen Wiig</th>\n",
       "      <td>141</td>\n",
       "      <td>633</td>\n",
       "      <td>4.489362</td>\n",
       "    </tr>\n",
       "    <tr>\n",
       "      <th>Gilda Radner</th>\n",
       "      <td>106</td>\n",
       "      <td>464</td>\n",
       "      <td>4.377358</td>\n",
       "    </tr>\n",
       "    <tr>\n",
       "      <th>Tim Kazurinsky</th>\n",
       "      <td>60</td>\n",
       "      <td>260</td>\n",
       "      <td>4.333333</td>\n",
       "    </tr>\n",
       "    <tr>\n",
       "      <th>Bill Hader</th>\n",
       "      <td>162</td>\n",
       "      <td>696</td>\n",
       "      <td>4.296296</td>\n",
       "    </tr>\n",
       "  </tbody>\n",
       "</table>\n",
       "</div>"
      ],
      "text/plain": [
       "                episodes  titles  title_avg\n",
       "name                                       \n",
       "Phil Hartman         163     913   5.601227\n",
       "Joe Piscopo           72     364   5.055556\n",
       "Bill Murray           78     389   4.987179\n",
       "Amy Poehler          148     687   4.641892\n",
       "Will Ferrell         143     654   4.573427\n",
       "Dan Aykroyd           92     415   4.510870\n",
       "Kristen Wiig         141     633   4.489362\n",
       "Gilda Radner         106     464   4.377358\n",
       "Tim Kazurinsky        60     260   4.333333\n",
       "Bill Hader           162     696   4.296296"
      ]
     },
     "execution_count": 21,
     "metadata": {},
     "output_type": "execute_result"
    }
   ],
   "source": [
    "dfActorsTitlePerEpisode[dfActorsTitlePerEpisode.episodes>=50].sort_values('title_avg', ascending=False).head(10)"
   ]
  },
  {
   "cell_type": "markdown",
   "metadata": {
    "collapsed": true
   },
   "source": [
    "Here we see Phil Hartmans impressive record of having an average 5.6 titles per episode in over 160 episodes."
   ]
  },
  {
   "cell_type": "markdown",
   "metadata": {},
   "source": [
    "#### End of the initial analysis\n",
    "I hope I could spark your interest in this dataset. Maybe you have some ideas of interesting things to analyse about this TV show that is currently in its 42nd season. I will also add more data to this dataset if you point me towards a source of interesting data that would fit into it."
   ]
  }
 ],
 "metadata": {
  "anaconda-cloud": {},
  "kernelspec": {
   "display_name": "Python [default]",
   "language": "python",
   "name": "python3"
  },
  "language_info": {
   "codemirror_mode": {
    "name": "ipython",
    "version": 3
   },
   "file_extension": ".py",
   "mimetype": "text/x-python",
   "name": "python",
   "nbconvert_exporter": "python",
   "pygments_lexer": "ipython3",
   "version": "3.5.2"
  }
 },
 "nbformat": 4,
 "nbformat_minor": 2
}
