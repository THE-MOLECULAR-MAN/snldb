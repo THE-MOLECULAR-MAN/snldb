{
 "cells": [
  {
   "cell_type": "markdown",
   "metadata": {},
   "source": [
    "### Analysis of the Saturday Night Live database\n",
    "\n",
    "If you have downloaded the snl database you have the following files available:\n",
    "\n",
    "* snl_season (sid, year)\n",
    "* snl_episode (sid, eid, year, aired)\n",
    "* snl_title (sid, eid, tid, title, titleType)\n",
    "* snl_actor (aid, name, isCast)\n",
    "* snl_actor_sketch (sid, eid, tid, aid, actorType)\n",
    "* snl_rating (lots of rating data from IMDb)\n",
    "\n",
    "In this notebook I want to have a first look at the data and show some interesting analysis that is possible with this dataset. Feel free to take your own look at it."
   ]
  },
  {
   "cell_type": "markdown",
   "metadata": {},
   "source": [
    "#### Imports & setup"
   ]
  },
  {
   "cell_type": "code",
   "execution_count": 1,
   "metadata": {
    "collapsed": false
   },
   "outputs": [
    {
     "data": {
      "text/html": [
       "\n",
       "    <div class=\"bk-root\">\n",
       "        <a href=\"http://bokeh.pydata.org\" target=\"_blank\" class=\"bk-logo bk-logo-small bk-logo-notebook\"></a>\n",
       "        <span id=\"d70920cc-635f-453e-8ca0-a7b3578a7c04\">Loading BokehJS ...</span>\n",
       "    </div>"
      ]
     },
     "metadata": {},
     "output_type": "display_data"
    },
    {
     "data": {
      "application/javascript": [
       "\n",
       "(function(global) {\n",
       "  function now() {\n",
       "    return new Date();\n",
       "  }\n",
       "\n",
       "  var force = true;\n",
       "\n",
       "  if (typeof (window._bokeh_onload_callbacks) === \"undefined\" || force === true) {\n",
       "    window._bokeh_onload_callbacks = [];\n",
       "    window._bokeh_is_loading = undefined;\n",
       "  }\n",
       "\n",
       "\n",
       "  \n",
       "  if (typeof (window._bokeh_timeout) === \"undefined\" || force === true) {\n",
       "    window._bokeh_timeout = Date.now() + 5000;\n",
       "    window._bokeh_failed_load = false;\n",
       "  }\n",
       "\n",
       "  var NB_LOAD_WARNING = {'data': {'text/html':\n",
       "     \"<div style='background-color: #fdd'>\\n\"+\n",
       "     \"<p>\\n\"+\n",
       "     \"BokehJS does not appear to have successfully loaded. If loading BokehJS from CDN, this \\n\"+\n",
       "     \"may be due to a slow or bad network connection. Possible fixes:\\n\"+\n",
       "     \"</p>\\n\"+\n",
       "     \"<ul>\\n\"+\n",
       "     \"<li>re-rerun `output_notebook()` to attempt to load from CDN again, or</li>\\n\"+\n",
       "     \"<li>use INLINE resources instead, as so:</li>\\n\"+\n",
       "     \"</ul>\\n\"+\n",
       "     \"<code>\\n\"+\n",
       "     \"from bokeh.resources import INLINE\\n\"+\n",
       "     \"output_notebook(resources=INLINE)\\n\"+\n",
       "     \"</code>\\n\"+\n",
       "     \"</div>\"}};\n",
       "\n",
       "  function display_loaded() {\n",
       "    if (window.Bokeh !== undefined) {\n",
       "      document.getElementById(\"d70920cc-635f-453e-8ca0-a7b3578a7c04\").textContent = \"BokehJS successfully loaded.\";\n",
       "    } else if (Date.now() < window._bokeh_timeout) {\n",
       "      setTimeout(display_loaded, 100)\n",
       "    }\n",
       "  }\n",
       "\n",
       "  function run_callbacks() {\n",
       "    window._bokeh_onload_callbacks.forEach(function(callback) { callback() });\n",
       "    delete window._bokeh_onload_callbacks\n",
       "    console.info(\"Bokeh: all callbacks have finished\");\n",
       "  }\n",
       "\n",
       "  function load_libs(js_urls, callback) {\n",
       "    window._bokeh_onload_callbacks.push(callback);\n",
       "    if (window._bokeh_is_loading > 0) {\n",
       "      console.log(\"Bokeh: BokehJS is being loaded, scheduling callback at\", now());\n",
       "      return null;\n",
       "    }\n",
       "    if (js_urls == null || js_urls.length === 0) {\n",
       "      run_callbacks();\n",
       "      return null;\n",
       "    }\n",
       "    console.log(\"Bokeh: BokehJS not loaded, scheduling load and callback at\", now());\n",
       "    window._bokeh_is_loading = js_urls.length;\n",
       "    for (var i = 0; i < js_urls.length; i++) {\n",
       "      var url = js_urls[i];\n",
       "      var s = document.createElement('script');\n",
       "      s.src = url;\n",
       "      s.async = false;\n",
       "      s.onreadystatechange = s.onload = function() {\n",
       "        window._bokeh_is_loading--;\n",
       "        if (window._bokeh_is_loading === 0) {\n",
       "          console.log(\"Bokeh: all BokehJS libraries loaded\");\n",
       "          run_callbacks()\n",
       "        }\n",
       "      };\n",
       "      s.onerror = function() {\n",
       "        console.warn(\"failed to load library \" + url);\n",
       "      };\n",
       "      console.log(\"Bokeh: injecting script tag for BokehJS library: \", url);\n",
       "      document.getElementsByTagName(\"head\")[0].appendChild(s);\n",
       "    }\n",
       "  };var element = document.getElementById(\"d70920cc-635f-453e-8ca0-a7b3578a7c04\");\n",
       "  if (element == null) {\n",
       "    console.log(\"Bokeh: ERROR: autoload.js configured with elementid 'd70920cc-635f-453e-8ca0-a7b3578a7c04' but no matching script tag was found. \")\n",
       "    return false;\n",
       "  }\n",
       "\n",
       "  var js_urls = [\"https://cdn.pydata.org/bokeh/release/bokeh-0.12.4.min.js\", \"https://cdn.pydata.org/bokeh/release/bokeh-widgets-0.12.4.min.js\"];\n",
       "\n",
       "  var inline_js = [\n",
       "    function(Bokeh) {\n",
       "      Bokeh.set_log_level(\"info\");\n",
       "    },\n",
       "    \n",
       "    function(Bokeh) {\n",
       "      \n",
       "      document.getElementById(\"d70920cc-635f-453e-8ca0-a7b3578a7c04\").textContent = \"BokehJS is loading...\";\n",
       "    },\n",
       "    function(Bokeh) {\n",
       "      console.log(\"Bokeh: injecting CSS: https://cdn.pydata.org/bokeh/release/bokeh-0.12.4.min.css\");\n",
       "      Bokeh.embed.inject_css(\"https://cdn.pydata.org/bokeh/release/bokeh-0.12.4.min.css\");\n",
       "      console.log(\"Bokeh: injecting CSS: https://cdn.pydata.org/bokeh/release/bokeh-widgets-0.12.4.min.css\");\n",
       "      Bokeh.embed.inject_css(\"https://cdn.pydata.org/bokeh/release/bokeh-widgets-0.12.4.min.css\");\n",
       "    }\n",
       "  ];\n",
       "\n",
       "  function run_inline_js() {\n",
       "    \n",
       "    if ((window.Bokeh !== undefined) || (force === true)) {\n",
       "      for (var i = 0; i < inline_js.length; i++) {\n",
       "        inline_js[i](window.Bokeh);\n",
       "      }if (force === true) {\n",
       "        display_loaded();\n",
       "      }} else if (Date.now() < window._bokeh_timeout) {\n",
       "      setTimeout(run_inline_js, 100);\n",
       "    } else if (!window._bokeh_failed_load) {\n",
       "      console.log(\"Bokeh: BokehJS failed to load within specified timeout.\");\n",
       "      window._bokeh_failed_load = true;\n",
       "    } else if (force !== true) {\n",
       "      var cell = $(document.getElementById(\"d70920cc-635f-453e-8ca0-a7b3578a7c04\")).parents('.cell').data().cell;\n",
       "      cell.output_area.append_execute_result(NB_LOAD_WARNING)\n",
       "    }\n",
       "\n",
       "  }\n",
       "\n",
       "  if (window._bokeh_is_loading === 0) {\n",
       "    console.log(\"Bokeh: BokehJS loaded, going straight to plotting\");\n",
       "    run_inline_js();\n",
       "  } else {\n",
       "    load_libs(js_urls, function() {\n",
       "      console.log(\"Bokeh: BokehJS plotting callback run at\", now());\n",
       "      run_inline_js();\n",
       "    });\n",
       "  }\n",
       "}(this));"
      ]
     },
     "metadata": {},
     "output_type": "display_data"
    }
   ],
   "source": [
    "import pandas as pd\n",
    "import numpy as np\n",
    "import bokeh\n",
    "from bokeh.io import output_notebook\n",
    "from bokeh.plotting import figure, show\n",
    "output_notebook()"
   ]
  },
  {
   "cell_type": "markdown",
   "metadata": {},
   "source": [
    "#### Load the data"
   ]
  },
  {
   "cell_type": "code",
   "execution_count": 2,
   "metadata": {
    "collapsed": false
   },
   "outputs": [],
   "source": [
    "dfs = pd.read_csv('./db/snl_season.csv', encoding=\"utf-8\")\n",
    "dfe = pd.read_csv('./db/snl_episode.csv', encoding=\"utf-8\",parse_dates=['aired'])\n",
    "dft = pd.read_csv('./db/snl_title.csv', encoding=\"utf-8\")\n",
    "dfa = pd.read_csv('./db/snl_actor.csv', encoding=\"utf-8\")\n",
    "dfas = pd.read_csv('./db/snl_actor_sketch.csv', encoding=\"utf-8\")\n",
    "dfr = pd.read_csv('./db/snl_rating.csv', encoding=\"utf-8\")"
   ]
  },
  {
   "cell_type": "markdown",
   "metadata": {},
   "source": [
    "#### Have a look at the data"
   ]
  },
  {
   "cell_type": "code",
   "execution_count": 3,
   "metadata": {
    "collapsed": false
   },
   "outputs": [
    {
     "data": {
      "text/html": [
       "<div>\n",
       "<table border=\"1\" class=\"dataframe\">\n",
       "  <thead>\n",
       "    <tr style=\"text-align: right;\">\n",
       "      <th></th>\n",
       "      <th>sid</th>\n",
       "      <th>year</th>\n",
       "    </tr>\n",
       "  </thead>\n",
       "  <tbody>\n",
       "    <tr>\n",
       "      <th>0</th>\n",
       "      <td>1</td>\n",
       "      <td>1975</td>\n",
       "    </tr>\n",
       "    <tr>\n",
       "      <th>1</th>\n",
       "      <td>2</td>\n",
       "      <td>1976</td>\n",
       "    </tr>\n",
       "  </tbody>\n",
       "</table>\n",
       "</div>"
      ],
      "text/plain": [
       "   sid  year\n",
       "0    1  1975\n",
       "1    2  1976"
      ]
     },
     "execution_count": 3,
     "metadata": {},
     "output_type": "execute_result"
    }
   ],
   "source": [
    "dfs.head(2)"
   ]
  },
  {
   "cell_type": "code",
   "execution_count": 4,
   "metadata": {
    "collapsed": false
   },
   "outputs": [
    {
     "data": {
      "text/html": [
       "<div>\n",
       "<table border=\"1\" class=\"dataframe\">\n",
       "  <thead>\n",
       "    <tr style=\"text-align: right;\">\n",
       "      <th></th>\n",
       "      <th>sid</th>\n",
       "      <th>eid</th>\n",
       "      <th>year</th>\n",
       "      <th>aired</th>\n",
       "    </tr>\n",
       "  </thead>\n",
       "  <tbody>\n",
       "    <tr>\n",
       "      <th>0</th>\n",
       "      <td>3</td>\n",
       "      <td>20</td>\n",
       "      <td>1977</td>\n",
       "      <td>1978-05-20</td>\n",
       "    </tr>\n",
       "    <tr>\n",
       "      <th>1</th>\n",
       "      <td>3</td>\n",
       "      <td>19</td>\n",
       "      <td>1977</td>\n",
       "      <td>1978-05-13</td>\n",
       "    </tr>\n",
       "  </tbody>\n",
       "</table>\n",
       "</div>"
      ],
      "text/plain": [
       "   sid  eid  year      aired\n",
       "0    3   20  1977 1978-05-20\n",
       "1    3   19  1977 1978-05-13"
      ]
     },
     "execution_count": 4,
     "metadata": {},
     "output_type": "execute_result"
    }
   ],
   "source": [
    "dfe.head(2)"
   ]
  },
  {
   "cell_type": "code",
   "execution_count": 5,
   "metadata": {
    "collapsed": false
   },
   "outputs": [
    {
     "data": {
      "text/html": [
       "<div>\n",
       "<table border=\"1\" class=\"dataframe\">\n",
       "  <thead>\n",
       "    <tr style=\"text-align: right;\">\n",
       "      <th></th>\n",
       "      <th>sid</th>\n",
       "      <th>eid</th>\n",
       "      <th>tid</th>\n",
       "      <th>title</th>\n",
       "      <th>titleType</th>\n",
       "    </tr>\n",
       "  </thead>\n",
       "  <tbody>\n",
       "    <tr>\n",
       "      <th>0</th>\n",
       "      <td>3</td>\n",
       "      <td>20</td>\n",
       "      <td>1978052013</td>\n",
       "      <td>\"Space is the Place\", \"Space-Loneliness\"</td>\n",
       "      <td>Musical Performance</td>\n",
       "    </tr>\n",
       "    <tr>\n",
       "      <th>1</th>\n",
       "      <td>2</td>\n",
       "      <td>21</td>\n",
       "      <td>1977051416</td>\n",
       "      <td>NaN</td>\n",
       "      <td>Goodnights</td>\n",
       "    </tr>\n",
       "  </tbody>\n",
       "</table>\n",
       "</div>"
      ],
      "text/plain": [
       "   sid  eid         tid                                     title  \\\n",
       "0    3   20  1978052013  \"Space is the Place\", \"Space-Loneliness\"   \n",
       "1    2   21  1977051416                                       NaN   \n",
       "\n",
       "             titleType  \n",
       "0  Musical Performance  \n",
       "1           Goodnights  "
      ]
     },
     "execution_count": 5,
     "metadata": {},
     "output_type": "execute_result"
    }
   ],
   "source": [
    "dft.head(2)"
   ]
  },
  {
   "cell_type": "code",
   "execution_count": 6,
   "metadata": {
    "collapsed": false
   },
   "outputs": [
    {
     "data": {
      "text/html": [
       "<div>\n",
       "<table border=\"1\" class=\"dataframe\">\n",
       "  <thead>\n",
       "    <tr style=\"text-align: right;\">\n",
       "      <th></th>\n",
       "      <th>aid</th>\n",
       "      <th>name</th>\n",
       "      <th>isCast</th>\n",
       "    </tr>\n",
       "  </thead>\n",
       "  <tbody>\n",
       "    <tr>\n",
       "      <th>0</th>\n",
       "      <td>Sun Ra</td>\n",
       "      <td>Sun Ra</td>\n",
       "      <td>0</td>\n",
       "    </tr>\n",
       "    <tr>\n",
       "      <th>1</th>\n",
       "      <td>Steve Martin</td>\n",
       "      <td>Steve Martin</td>\n",
       "      <td>0</td>\n",
       "    </tr>\n",
       "  </tbody>\n",
       "</table>\n",
       "</div>"
      ],
      "text/plain": [
       "            aid          name  isCast\n",
       "0        Sun Ra        Sun Ra       0\n",
       "1  Steve Martin  Steve Martin       0"
      ]
     },
     "execution_count": 6,
     "metadata": {},
     "output_type": "execute_result"
    }
   ],
   "source": [
    "dfa.head(2)"
   ]
  },
  {
   "cell_type": "code",
   "execution_count": 7,
   "metadata": {
    "collapsed": false
   },
   "outputs": [
    {
     "data": {
      "text/html": [
       "<div>\n",
       "<table border=\"1\" class=\"dataframe\">\n",
       "  <thead>\n",
       "    <tr style=\"text-align: right;\">\n",
       "      <th></th>\n",
       "      <th>sid</th>\n",
       "      <th>eid</th>\n",
       "      <th>tid</th>\n",
       "      <th>aid</th>\n",
       "      <th>actorType</th>\n",
       "    </tr>\n",
       "  </thead>\n",
       "  <tbody>\n",
       "    <tr>\n",
       "      <th>0</th>\n",
       "      <td>3</td>\n",
       "      <td>20</td>\n",
       "      <td>1978052013</td>\n",
       "      <td>Sun Ra</td>\n",
       "      <td>music</td>\n",
       "    </tr>\n",
       "    <tr>\n",
       "      <th>1</th>\n",
       "      <td>3</td>\n",
       "      <td>18</td>\n",
       "      <td>1978042214</td>\n",
       "      <td>Steve Martin</td>\n",
       "      <td>host</td>\n",
       "    </tr>\n",
       "  </tbody>\n",
       "</table>\n",
       "</div>"
      ],
      "text/plain": [
       "   sid  eid         tid           aid actorType\n",
       "0    3   20  1978052013        Sun Ra     music\n",
       "1    3   18  1978042214  Steve Martin      host"
      ]
     },
     "execution_count": 7,
     "metadata": {},
     "output_type": "execute_result"
    }
   ],
   "source": [
    "dfas.head(2)"
   ]
  },
  {
   "cell_type": "code",
   "execution_count": 8,
   "metadata": {
    "collapsed": false
   },
   "outputs": [
    {
     "data": {
      "text/html": [
       "<div>\n",
       "<table border=\"1\" class=\"dataframe\">\n",
       "  <thead>\n",
       "    <tr style=\"text-align: right;\">\n",
       "      <th></th>\n",
       "      <th>sid</th>\n",
       "      <th>eid</th>\n",
       "      <th>1</th>\n",
       "      <th>10</th>\n",
       "      <th>2</th>\n",
       "      <th>3</th>\n",
       "      <th>4</th>\n",
       "      <th>5</th>\n",
       "      <th>6</th>\n",
       "      <th>7</th>\n",
       "      <th>...</th>\n",
       "      <th>Males Aged 45+_avg</th>\n",
       "      <th>Males under 18</th>\n",
       "      <th>Males under 18_avg</th>\n",
       "      <th>Males_avg</th>\n",
       "      <th>Non-US users</th>\n",
       "      <th>Non-US users_avg</th>\n",
       "      <th>Top 1000 voters</th>\n",
       "      <th>Top 1000 voters_avg</th>\n",
       "      <th>US users</th>\n",
       "      <th>US users_avg</th>\n",
       "    </tr>\n",
       "  </thead>\n",
       "  <tbody>\n",
       "    <tr>\n",
       "      <th>0</th>\n",
       "      <td>7</td>\n",
       "      <td>1</td>\n",
       "      <td>0</td>\n",
       "      <td>3</td>\n",
       "      <td>0</td>\n",
       "      <td>0</td>\n",
       "      <td>5</td>\n",
       "      <td>2</td>\n",
       "      <td>10</td>\n",
       "      <td>4</td>\n",
       "      <td>...</td>\n",
       "      <td>7.2</td>\n",
       "      <td>0</td>\n",
       "      <td>NaN</td>\n",
       "      <td>7.1</td>\n",
       "      <td>6</td>\n",
       "      <td>6.4</td>\n",
       "      <td>10</td>\n",
       "      <td>6.4</td>\n",
       "      <td>22</td>\n",
       "      <td>6.8</td>\n",
       "    </tr>\n",
       "    <tr>\n",
       "      <th>1</th>\n",
       "      <td>10</td>\n",
       "      <td>1</td>\n",
       "      <td>2</td>\n",
       "      <td>4</td>\n",
       "      <td>0</td>\n",
       "      <td>2</td>\n",
       "      <td>0</td>\n",
       "      <td>4</td>\n",
       "      <td>5</td>\n",
       "      <td>1</td>\n",
       "      <td>...</td>\n",
       "      <td>7.3</td>\n",
       "      <td>0</td>\n",
       "      <td>NaN</td>\n",
       "      <td>6.1</td>\n",
       "      <td>7</td>\n",
       "      <td>5.4</td>\n",
       "      <td>7</td>\n",
       "      <td>6.4</td>\n",
       "      <td>13</td>\n",
       "      <td>6.6</td>\n",
       "    </tr>\n",
       "  </tbody>\n",
       "</table>\n",
       "<p>2 rows × 50 columns</p>\n",
       "</div>"
      ],
      "text/plain": [
       "   sid  eid  1  10  2  3  4  5   6  7      ...       Males Aged 45+_avg  \\\n",
       "0    7    1  0   3  0  0  5  2  10  4      ...                      7.2   \n",
       "1   10    1  2   4  0  2  0  4   5  1      ...                      7.3   \n",
       "\n",
       "   Males under 18  Males under 18_avg  Males_avg  Non-US users  \\\n",
       "0               0                 NaN        7.1             6   \n",
       "1               0                 NaN        6.1             7   \n",
       "\n",
       "   Non-US users_avg  Top 1000 voters  Top 1000 voters_avg  US users  \\\n",
       "0               6.4               10                  6.4        22   \n",
       "1               5.4                7                  6.4        13   \n",
       "\n",
       "   US users_avg  \n",
       "0           6.8  \n",
       "1           6.6  \n",
       "\n",
       "[2 rows x 50 columns]"
      ]
     },
     "execution_count": 8,
     "metadata": {},
     "output_type": "execute_result"
    }
   ],
   "source": [
    "dfr.head(2)"
   ]
  },
  {
   "cell_type": "markdown",
   "metadata": {},
   "source": [
    "#### Combine episodes and ratings\n",
    "Since the ratings are for the episode we combine the two dataframes."
   ]
  },
  {
   "cell_type": "code",
   "execution_count": 9,
   "metadata": {
    "collapsed": false
   },
   "outputs": [],
   "source": [
    "dfer = pd.merge(dfe, dfr, on=['sid', 'eid'])"
   ]
  },
  {
   "cell_type": "markdown",
   "metadata": {},
   "source": [
    "#### Ratings over time (per episode)\n",
    "Now we can create our first graph. Let us look at the ratings over time. First sort the dataframe by season and episode."
   ]
  },
  {
   "cell_type": "code",
   "execution_count": 10,
   "metadata": {
    "collapsed": false
   },
   "outputs": [],
   "source": [
    "dfer = dfer.sort_values(['sid', 'eid'], ascending=[True, True]).reset_index(drop=True)"
   ]
  },
  {
   "cell_type": "code",
   "execution_count": 11,
   "metadata": {
    "collapsed": false
   },
   "outputs": [
    {
     "data": {
      "text/html": [
       "\n",
       "\n",
       "    <div class=\"bk-root\">\n",
       "        <div class=\"bk-plotdiv\" id=\"36b7ab40-d18b-4354-8ab1-b0b90a4c9924\"></div>\n",
       "    </div>\n",
       "<script type=\"text/javascript\">\n",
       "  \n",
       "  (function(global) {\n",
       "    function now() {\n",
       "      return new Date();\n",
       "    }\n",
       "  \n",
       "    var force = false;\n",
       "  \n",
       "    if (typeof (window._bokeh_onload_callbacks) === \"undefined\" || force === true) {\n",
       "      window._bokeh_onload_callbacks = [];\n",
       "      window._bokeh_is_loading = undefined;\n",
       "    }\n",
       "  \n",
       "  \n",
       "    \n",
       "    if (typeof (window._bokeh_timeout) === \"undefined\" || force === true) {\n",
       "      window._bokeh_timeout = Date.now() + 0;\n",
       "      window._bokeh_failed_load = false;\n",
       "    }\n",
       "  \n",
       "    var NB_LOAD_WARNING = {'data': {'text/html':\n",
       "       \"<div style='background-color: #fdd'>\\n\"+\n",
       "       \"<p>\\n\"+\n",
       "       \"BokehJS does not appear to have successfully loaded. If loading BokehJS from CDN, this \\n\"+\n",
       "       \"may be due to a slow or bad network connection. Possible fixes:\\n\"+\n",
       "       \"</p>\\n\"+\n",
       "       \"<ul>\\n\"+\n",
       "       \"<li>re-rerun `output_notebook()` to attempt to load from CDN again, or</li>\\n\"+\n",
       "       \"<li>use INLINE resources instead, as so:</li>\\n\"+\n",
       "       \"</ul>\\n\"+\n",
       "       \"<code>\\n\"+\n",
       "       \"from bokeh.resources import INLINE\\n\"+\n",
       "       \"output_notebook(resources=INLINE)\\n\"+\n",
       "       \"</code>\\n\"+\n",
       "       \"</div>\"}};\n",
       "  \n",
       "    function display_loaded() {\n",
       "      if (window.Bokeh !== undefined) {\n",
       "        document.getElementById(\"36b7ab40-d18b-4354-8ab1-b0b90a4c9924\").textContent = \"BokehJS successfully loaded.\";\n",
       "      } else if (Date.now() < window._bokeh_timeout) {\n",
       "        setTimeout(display_loaded, 100)\n",
       "      }\n",
       "    }if ((window.Jupyter !== undefined) && Jupyter.notebook.kernel) {\n",
       "      comm_manager = Jupyter.notebook.kernel.comm_manager\n",
       "      comm_manager.register_target(\"a10bc9af-77cc-4730-a53b-14a3128f5d10\", function () {});\n",
       "    }\n",
       "  \n",
       "    function run_callbacks() {\n",
       "      window._bokeh_onload_callbacks.forEach(function(callback) { callback() });\n",
       "      delete window._bokeh_onload_callbacks\n",
       "      console.info(\"Bokeh: all callbacks have finished\");\n",
       "    }\n",
       "  \n",
       "    function load_libs(js_urls, callback) {\n",
       "      window._bokeh_onload_callbacks.push(callback);\n",
       "      if (window._bokeh_is_loading > 0) {\n",
       "        console.log(\"Bokeh: BokehJS is being loaded, scheduling callback at\", now());\n",
       "        return null;\n",
       "      }\n",
       "      if (js_urls == null || js_urls.length === 0) {\n",
       "        run_callbacks();\n",
       "        return null;\n",
       "      }\n",
       "      console.log(\"Bokeh: BokehJS not loaded, scheduling load and callback at\", now());\n",
       "      window._bokeh_is_loading = js_urls.length;\n",
       "      for (var i = 0; i < js_urls.length; i++) {\n",
       "        var url = js_urls[i];\n",
       "        var s = document.createElement('script');\n",
       "        s.src = url;\n",
       "        s.async = false;\n",
       "        s.onreadystatechange = s.onload = function() {\n",
       "          window._bokeh_is_loading--;\n",
       "          if (window._bokeh_is_loading === 0) {\n",
       "            console.log(\"Bokeh: all BokehJS libraries loaded\");\n",
       "            run_callbacks()\n",
       "          }\n",
       "        };\n",
       "        s.onerror = function() {\n",
       "          console.warn(\"failed to load library \" + url);\n",
       "        };\n",
       "        console.log(\"Bokeh: injecting script tag for BokehJS library: \", url);\n",
       "        document.getElementsByTagName(\"head\")[0].appendChild(s);\n",
       "      }\n",
       "    };var element = document.getElementById(\"36b7ab40-d18b-4354-8ab1-b0b90a4c9924\");\n",
       "    if (element == null) {\n",
       "      console.log(\"Bokeh: ERROR: autoload.js configured with elementid '36b7ab40-d18b-4354-8ab1-b0b90a4c9924' but no matching script tag was found. \")\n",
       "      return false;\n",
       "    }\n",
       "  \n",
       "    var js_urls = [];\n",
       "  \n",
       "    var inline_js = [\n",
       "      function(Bokeh) {\n",
       "        (function() {\n",
       "          var fn = function() {\n",
       "            var docs_json = {\"97a25065-c315-4443-a812-9e9da16f948f\":{\"roots\":{\"references\":[{\"attributes\":{\"plot\":{\"id\":\"9097275f-2a2f-4978-9455-cbd92581f185\",\"subtype\":\"Figure\",\"type\":\"Plot\"}},\"id\":\"d83d6ae8-4f0f-4407-9707-50209f03da4d\",\"type\":\"PanTool\"},{\"attributes\":{\"line_alpha\":{\"value\":0.1},\"line_color\":{\"value\":\"#1f77b4\"},\"xs\":{\"field\":\"xs\"},\"ys\":{\"field\":\"ys\"}},\"id\":\"59b3a802-813b-4ec9-be58-5748469b8653\",\"type\":\"MultiLine\"},{\"attributes\":{\"formatter\":{\"id\":\"7b24827f-e905-4a4a-85d8-8d5bf217a3c8\",\"type\":\"BasicTickFormatter\"},\"plot\":{\"id\":\"9097275f-2a2f-4978-9455-cbd92581f185\",\"subtype\":\"Figure\",\"type\":\"Plot\"},\"ticker\":{\"id\":\"1101248e-b158-4c18-9a64-ca014dad7f57\",\"type\":\"BasicTicker\"}},\"id\":\"1e8d2d67-e106-4cc6-aa15-ee6aba1564ef\",\"type\":\"LinearAxis\"},{\"attributes\":{\"callback\":null,\"end\":10},\"id\":\"4fb84ea4-0821-4097-87f5-9069119e72ec\",\"type\":\"Range1d\"},{\"attributes\":{\"dimension\":1,\"plot\":{\"id\":\"9097275f-2a2f-4978-9455-cbd92581f185\",\"subtype\":\"Figure\",\"type\":\"Plot\"},\"ticker\":{\"id\":\"305ab933-c78c-4f1d-8632-54fe52a03a17\",\"type\":\"BasicTicker\"}},\"id\":\"4c000b22-e614-47f8-80d8-ec1e89a77bf7\",\"type\":\"Grid\"},{\"attributes\":{},\"id\":\"7b24827f-e905-4a4a-85d8-8d5bf217a3c8\",\"type\":\"BasicTickFormatter\"},{\"attributes\":{\"overlay\":{\"id\":\"7282d128-f827-459d-97fb-9b5c40fb5065\",\"type\":\"BoxAnnotation\"},\"plot\":{\"id\":\"9097275f-2a2f-4978-9455-cbd92581f185\",\"subtype\":\"Figure\",\"type\":\"Plot\"}},\"id\":\"d0471166-c44d-4e9b-bd7b-7860aba83d88\",\"type\":\"BoxZoomTool\"},{\"attributes\":{\"callback\":null},\"id\":\"83b21474-8bb4-43e7-87b4-fcbf60ddd759\",\"type\":\"DataRange1d\"},{\"attributes\":{\"plot\":{\"id\":\"9097275f-2a2f-4978-9455-cbd92581f185\",\"subtype\":\"Figure\",\"type\":\"Plot\"}},\"id\":\"d11c91a3-c8c4-44d5-89b8-fa245654e36b\",\"type\":\"ResetTool\"},{\"attributes\":{\"data_source\":{\"id\":\"369f8964-599e-458c-a1ab-73f524de3252\",\"type\":\"ColumnDataSource\"},\"glyph\":{\"id\":\"7974cec7-61c1-450b-afc9-499ac2bc1e09\",\"type\":\"MultiLine\"},\"hover_glyph\":null,\"nonselection_glyph\":{\"id\":\"59b3a802-813b-4ec9-be58-5748469b8653\",\"type\":\"MultiLine\"},\"selection_glyph\":null},\"id\":\"260f624e-1387-4333-b936-537180e17b94\",\"type\":\"GlyphRenderer\"},{\"attributes\":{\"bottom_units\":\"screen\",\"fill_alpha\":{\"value\":0.5},\"fill_color\":{\"value\":\"lightgrey\"},\"left_units\":\"screen\",\"level\":\"overlay\",\"line_alpha\":{\"value\":1.0},\"line_color\":{\"value\":\"black\"},\"line_dash\":[4,4],\"line_width\":{\"value\":2},\"plot\":null,\"render_mode\":\"css\",\"right_units\":\"screen\",\"top_units\":\"screen\"},\"id\":\"7282d128-f827-459d-97fb-9b5c40fb5065\",\"type\":\"BoxAnnotation\"},{\"attributes\":{\"plot\":{\"id\":\"9097275f-2a2f-4978-9455-cbd92581f185\",\"subtype\":\"Figure\",\"type\":\"Plot\"},\"ticker\":{\"id\":\"1101248e-b158-4c18-9a64-ca014dad7f57\",\"type\":\"BasicTicker\"}},\"id\":\"27421cdd-a4b2-43a9-b0dc-27ae5b19343e\",\"type\":\"Grid\"},{\"attributes\":{\"plot\":null,\"text\":\"\"},\"id\":\"903fce21-3779-4c39-9250-a77e029cf97b\",\"type\":\"Title\"},{\"attributes\":{\"formatter\":{\"id\":\"ba0f06d2-70f6-4eaf-b904-713bd1e1656f\",\"type\":\"BasicTickFormatter\"},\"plot\":{\"id\":\"9097275f-2a2f-4978-9455-cbd92581f185\",\"subtype\":\"Figure\",\"type\":\"Plot\"},\"ticker\":{\"id\":\"305ab933-c78c-4f1d-8632-54fe52a03a17\",\"type\":\"BasicTicker\"}},\"id\":\"d447b6ec-f83d-4d48-b319-9e2612230bd0\",\"type\":\"LinearAxis\"},{\"attributes\":{},\"id\":\"1101248e-b158-4c18-9a64-ca014dad7f57\",\"type\":\"BasicTicker\"},{\"attributes\":{\"callback\":null,\"column_names\":[\"ys\",\"xs\",\"line_color\"],\"data\":{\"line_color\":[\"blue\",\"red\"],\"xs\":[[0,1,2,3,4,5,6,7,8,9,10,11,12,13,14,15,16,17,18,19,20,21,22,23,24,25,26,27,28,29,30,31,32,33,34,35,36,37,38,39,40,41,42,43,44,45,46,47,48,49,50,51,52,53,54,55,56,57,58,59,60,61,62,63,64,65,66,67,68,69,70,71,72,73,74,75,76,77,78,79,80,81,82,83,84,85,86,87,88,89,90,91,92,93,94,95,96,97,98,99,100,101,102,103,104,105,106,107,108,109,110,111,112,113,114,115,116,117,118,119,120,121,122,123,124,125,126,127,128,129,130,131,132,133,134,135,136,137,138,139,140,141,142,143,144,145,146,147,148,149,150,151,152,153,154,155,156,157,158,159,160,161,162,163,164,165,166,167,168,169,170,171,172,173,174,175,176,177,178,179,180,181,182,183,184,185,186,187,188,189,190,191,192,193,194,195,196,197,198,199,200,201,202,203,204,205,206,207,208,209,210,211,212,213,214,215,216,217,218,219,220,221,222,223,224,225,226,227,228,229,230,231,232,233,234,235,236,237,238,239,240,241,242,243,244,245,246,247,248,249,250,251,252,253,254,255,256,257,258,259,260,261,262,263,264,265,266,267,268,269,270,271,272,273,274,275,276,277,278,279,280,281,282,283,284,285,286,287,288,289,290,291,292,293,294,295,296,297,298,299,300,301,302,303,304,305,306,307,308,309,310,311,312,313,314,315,316,317,318,319,320,321,322,323,324,325,326,327,328,329,330,331,332,333,334,335,336,337,338,339,340,341,342,343,344,345,346,347,348,349,350,351,352,353,354,355,356,357,358,359,360,361,362,363,364,365,366,367,368,369,370,371,372,373,374,375,376,377,378,379,380,381,382,383,384,385,386,387,388,389,390,391,392,393,394,395,396,397,398,399,400,401,402,403,404,405,406,407,408,409,410,411,412,413,414,415,416,417,418,419,420,421,422,423,424,425,426,427,428,429,430,431,432,433,434,435,436,437,438,439,440,441,442,443,444,445,446,447,448,449,450,451,452,453,454,455,456,457,458,459,460,461,462,463,464,465,466,467,468,469,470,471,472,473,474,475,476,477,478,479,480,481,482,483,484,485,486,487,488,489,490,491,492,493,494,495,496,497,498,499,500,501,502,503,504,505,506,507,508,509,510,511,512,513,514,515,516,517,518,519,520,521,522,523,524,525,526,527,528,529,530,531,532,533,534,535,536,537,538,539,540,541,542,543,544,545,546,547,548,549,550,551,552,553,554,555,556,557,558,559,560,561,562,563,564,565,566,567,568,569,570,571,572,573,574,575,576,577,578,579,580,581,582,583,584,585,586,587,588,589,590,591,592,593,594,595,596,597,598,599,600,601,602,603,604,605,606,607,608,609,610,611,612,613,614,615,616,617,618,619,620,621,622,623,624,625,626,627,628,629,630,631,632,633,634,635,636,637,638,639,640,641,642,643,644,645,646,647,648,649,650,651,652,653,654,655,656,657,658,659,660,661,662,663,664,665,666,667,668,669,670,671,672,673,674,675,676,677,678,679,680,681,682,683,684,685,686,687,688,689,690,691,692,693,694,695,696,697,698,699,700,701,702,703,704,705,706,707,708,709,710,711,712,713,714,715,716,717,718,719,720,721,722,723,724,725,726,727,728,729,730,731,732,733,734,735,736,737,738,739,740,741,742,743,744,745,746,747,748,749,750,751,752,753,754,755,756,757,758,759,760,761,762,763,764,765,766,767,768,769,770,771,772,773,774,775,776,777,778,779,780,781,782,783,784,785,786,787,788,789,790,791,792,793,794,795,796,797,798,799,800,801,802,803,804,805,806,807,808,809,810,811,812,813,814,815,816,817,818,819],[0,1,2,3,4,5,6,7,8,9,10,11,12,13,14,15,16,17,18,19,20,21,22,23,24,25,26,27,28,29,30,31,32,33,34,35,36,37,38,39,40,41,42,43,44,45,46,47,48,49,50,51,52,53,54,55,56,57,58,59,60,61,62,63,64,65,66,67,68,69,70,71,72,73,74,75,76,77,78,79,80,81,82,83,84,85,86,87,88,89,90,91,92,93,94,95,96,97,98,99,100,101,102,103,104,105,106,107,108,109,110,111,112,113,114,115,116,117,118,119,120,121,122,123,124,125,126,127,128,129,130,131,132,133,134,135,136,137,138,139,140,141,142,143,144,145,146,147,148,149,150,151,152,153,154,155,156,157,158,159,160,161,162,163,164,165,166,167,168,169,170,171,172,173,174,175,176,177,178,179,180,181,182,183,184,185,186,187,188,189,190,191,192,193,194,195,196,197,198,199,200,201,202,203,204,205,206,207,208,209,210,211,212,213,214,215,216,217,218,219,220,221,222,223,224,225,226,227,228,229,230,231,232,233,234,235,236,237,238,239,240,241,242,243,244,245,246,247,248,249,250,251,252,253,254,255,256,257,258,259,260,261,262,263,264,265,266,267,268,269,270,271,272,273,274,275,276,277,278,279,280,281,282,283,284,285,286,287,288,289,290,291,292,293,294,295,296,297,298,299,300,301,302,303,304,305,306,307,308,309,310,311,312,313,314,315,316,317,318,319,320,321,322,323,324,325,326,327,328,329,330,331,332,333,334,335,336,337,338,339,340,341,342,343,344,345,346,347,348,349,350,351,352,353,354,355,356,357,358,359,360,361,362,363,364,365,366,367,368,369,370,371,372,373,374,375,376,377,378,379,380,381,382,383,384,385,386,387,388,389,390,391,392,393,394,395,396,397,398,399,400,401,402,403,404,405,406,407,408,409,410,411,412,413,414,415,416,417,418,419,420,421,422,423,424,425,426,427,428,429,430,431,432,433,434,435,436,437,438,439,440,441,442,443,444,445,446,447,448,449,450,451,452,453,454,455,456,457,458,459,460,461,462,463,464,465,466,467,468,469,470,471,472,473,474,475,476,477,478,479,480,481,482,483,484,485,486,487,488,489,490,491,492,493,494,495,496,497,498,499,500,501,502,503,504,505,506,507,508,509,510,511,512,513,514,515,516,517,518,519,520,521,522,523,524,525,526,527,528,529,530,531,532,533,534,535,536,537,538,539,540,541,542,543,544,545,546,547,548,549,550,551,552,553,554,555,556,557,558,559,560,561,562,563,564,565,566,567,568,569,570,571,572,573,574,575,576,577,578,579,580,581,582,583,584,585,586,587,588,589,590,591,592,593,594,595,596,597,598,599,600,601,602,603,604,605,606,607,608,609,610,611,612,613,614,615,616,617,618,619,620,621,622,623,624,625,626,627,628,629,630,631,632,633,634,635,636,637,638,639,640,641,642,643,644,645,646,647,648,649,650,651,652,653,654,655,656,657,658,659,660,661,662,663,664,665,666,667,668,669,670,671,672,673,674,675,676,677,678,679,680,681,682,683,684,685,686,687,688,689,690,691,692,693,694,695,696,697,698,699,700,701,702,703,704,705,706,707,708,709,710,711,712,713,714,715,716,717,718,719,720,721,722,723,724,725,726,727,728,729,730,731,732,733,734,735,736,737,738,739,740,741,742,743,744,745,746,747,748,749,750,751,752,753,754,755,756,757,758,759,760,761,762,763,764,765,766,767,768,769,770,771,772,773,774,775,776,777,778,779,780,781,782,783,784,785,786,787,788,789,790,791,792,793,794,795,796,797,798,799,800,801,802,803,804,805,806,807,808,809,810,811,812,813,814,815,816,817,818,819]],\"ys\":[{\"__ndarray__\":\"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\",\"dtype\":\"float64\",\"shape\":[820]},{\"__ndarray__\":\"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\",\"dtype\":\"float64\",\"shape\":[820]}]}},\"id\":\"369f8964-599e-458c-a1ab-73f524de3252\",\"type\":\"ColumnDataSource\"},{\"attributes\":{\"plot\":{\"id\":\"9097275f-2a2f-4978-9455-cbd92581f185\",\"subtype\":\"Figure\",\"type\":\"Plot\"}},\"id\":\"331bf76e-2b06-4326-84cb-3a165ab8012d\",\"type\":\"WheelZoomTool\"},{\"attributes\":{},\"id\":\"305ab933-c78c-4f1d-8632-54fe52a03a17\",\"type\":\"BasicTicker\"},{\"attributes\":{\"line_color\":{\"field\":\"line_color\"},\"xs\":{\"field\":\"xs\"},\"ys\":{\"field\":\"ys\"}},\"id\":\"7974cec7-61c1-450b-afc9-499ac2bc1e09\",\"type\":\"MultiLine\"},{\"attributes\":{},\"id\":\"ba0f06d2-70f6-4eaf-b904-713bd1e1656f\",\"type\":\"BasicTickFormatter\"},{\"attributes\":{},\"id\":\"5b72186b-f8ec-4f59-beec-04a6bea57f5d\",\"type\":\"ToolEvents\"},{\"attributes\":{\"below\":[{\"id\":\"1e8d2d67-e106-4cc6-aa15-ee6aba1564ef\",\"type\":\"LinearAxis\"}],\"left\":[{\"id\":\"d447b6ec-f83d-4d48-b319-9e2612230bd0\",\"type\":\"LinearAxis\"}],\"plot_height\":200,\"plot_width\":800,\"renderers\":[{\"id\":\"1e8d2d67-e106-4cc6-aa15-ee6aba1564ef\",\"type\":\"LinearAxis\"},{\"id\":\"27421cdd-a4b2-43a9-b0dc-27ae5b19343e\",\"type\":\"Grid\"},{\"id\":\"d447b6ec-f83d-4d48-b319-9e2612230bd0\",\"type\":\"LinearAxis\"},{\"id\":\"4c000b22-e614-47f8-80d8-ec1e89a77bf7\",\"type\":\"Grid\"},{\"id\":\"7282d128-f827-459d-97fb-9b5c40fb5065\",\"type\":\"BoxAnnotation\"},{\"id\":\"260f624e-1387-4333-b936-537180e17b94\",\"type\":\"GlyphRenderer\"}],\"title\":{\"id\":\"903fce21-3779-4c39-9250-a77e029cf97b\",\"type\":\"Title\"},\"tool_events\":{\"id\":\"5b72186b-f8ec-4f59-beec-04a6bea57f5d\",\"type\":\"ToolEvents\"},\"toolbar\":{\"id\":\"f1122aff-2bed-49ec-9dfd-2b506cfc46fd\",\"type\":\"Toolbar\"},\"x_range\":{\"id\":\"83b21474-8bb4-43e7-87b4-fcbf60ddd759\",\"type\":\"DataRange1d\"},\"y_range\":{\"id\":\"4fb84ea4-0821-4097-87f5-9069119e72ec\",\"type\":\"Range1d\"}},\"id\":\"9097275f-2a2f-4978-9455-cbd92581f185\",\"subtype\":\"Figure\",\"type\":\"Plot\"},{\"attributes\":{\"plot\":{\"id\":\"9097275f-2a2f-4978-9455-cbd92581f185\",\"subtype\":\"Figure\",\"type\":\"Plot\"}},\"id\":\"ce7da727-a6e0-4579-a908-da3ac5cfca17\",\"type\":\"HelpTool\"},{\"attributes\":{\"plot\":{\"id\":\"9097275f-2a2f-4978-9455-cbd92581f185\",\"subtype\":\"Figure\",\"type\":\"Plot\"}},\"id\":\"22279341-56bb-4e40-bd8a-606e613c5d8f\",\"type\":\"SaveTool\"},{\"attributes\":{\"active_drag\":\"auto\",\"active_scroll\":\"auto\",\"active_tap\":\"auto\",\"tools\":[{\"id\":\"d83d6ae8-4f0f-4407-9707-50209f03da4d\",\"type\":\"PanTool\"},{\"id\":\"331bf76e-2b06-4326-84cb-3a165ab8012d\",\"type\":\"WheelZoomTool\"},{\"id\":\"d0471166-c44d-4e9b-bd7b-7860aba83d88\",\"type\":\"BoxZoomTool\"},{\"id\":\"22279341-56bb-4e40-bd8a-606e613c5d8f\",\"type\":\"SaveTool\"},{\"id\":\"d11c91a3-c8c4-44d5-89b8-fa245654e36b\",\"type\":\"ResetTool\"},{\"id\":\"ce7da727-a6e0-4579-a908-da3ac5cfca17\",\"type\":\"HelpTool\"}]},\"id\":\"f1122aff-2bed-49ec-9dfd-2b506cfc46fd\",\"type\":\"Toolbar\"}],\"root_ids\":[\"9097275f-2a2f-4978-9455-cbd92581f185\"]},\"title\":\"Bokeh Application\",\"version\":\"0.12.4\"}};\n",
       "            var render_items = [{\"docid\":\"97a25065-c315-4443-a812-9e9da16f948f\",\"elementid\":\"36b7ab40-d18b-4354-8ab1-b0b90a4c9924\",\"modelid\":\"9097275f-2a2f-4978-9455-cbd92581f185\",\"notebook_comms_target\":\"a10bc9af-77cc-4730-a53b-14a3128f5d10\"}];\n",
       "            \n",
       "            Bokeh.embed.embed_items(docs_json, render_items);\n",
       "          };\n",
       "          if (document.readyState != \"loading\") fn();\n",
       "          else document.addEventListener(\"DOMContentLoaded\", fn);\n",
       "        })();\n",
       "      },\n",
       "      function(Bokeh) {\n",
       "      }\n",
       "    ];\n",
       "  \n",
       "    function run_inline_js() {\n",
       "      \n",
       "      if ((window.Bokeh !== undefined) || (force === true)) {\n",
       "        for (var i = 0; i < inline_js.length; i++) {\n",
       "          inline_js[i](window.Bokeh);\n",
       "        }if (force === true) {\n",
       "          display_loaded();\n",
       "        }} else if (Date.now() < window._bokeh_timeout) {\n",
       "        setTimeout(run_inline_js, 100);\n",
       "      } else if (!window._bokeh_failed_load) {\n",
       "        console.log(\"Bokeh: BokehJS failed to load within specified timeout.\");\n",
       "        window._bokeh_failed_load = true;\n",
       "      } else if (force !== true) {\n",
       "        var cell = $(document.getElementById(\"36b7ab40-d18b-4354-8ab1-b0b90a4c9924\")).parents('.cell').data().cell;\n",
       "        cell.output_area.append_execute_result(NB_LOAD_WARNING)\n",
       "      }\n",
       "  \n",
       "    }\n",
       "  \n",
       "    if (window._bokeh_is_loading === 0) {\n",
       "      console.log(\"Bokeh: BokehJS loaded, going straight to plotting\");\n",
       "      run_inline_js();\n",
       "    } else {\n",
       "      load_libs(js_urls, function() {\n",
       "        console.log(\"Bokeh: BokehJS plotting callback run at\", now());\n",
       "        run_inline_js();\n",
       "      });\n",
       "    }\n",
       "  }(this));\n",
       "</script>"
      ]
     },
     "metadata": {},
     "output_type": "display_data"
    }
   ],
   "source": [
    "# plot a trend line, too\n",
    "trend = np.polyfit(dfer.index, dfer[\"IMDb users_avg\"].values, 10)\n",
    "trend_func = np.poly1d(trend)\n",
    "\n",
    "p = figure(plot_width=800, plot_height=200, y_range=(0,10))\n",
    "r = p.multi_line([dfer.index, dfer.index],[dfer[\"IMDb users_avg\"].values, trend_func(dfer.index)], color=['blue', 'red'])\n",
    "t = show(p, notebook_handle=True)"
   ]
  },
  {
   "cell_type": "markdown",
   "metadata": {},
   "source": [
    "#### Ratings over time (per season)\n",
    "It is also interesting to see how the average ratings of the season developed over the years."
   ]
  },
  {
   "cell_type": "code",
   "execution_count": 12,
   "metadata": {
    "collapsed": false
   },
   "outputs": [],
   "source": [
    "sSeasonRatingAverage = dfer.groupby(\"sid\")[\"IMDb users_avg\"].mean()"
   ]
  },
  {
   "cell_type": "code",
   "execution_count": 13,
   "metadata": {
    "collapsed": false
   },
   "outputs": [
    {
     "data": {
      "text/html": [
       "\n",
       "\n",
       "    <div class=\"bk-root\">\n",
       "        <div class=\"bk-plotdiv\" id=\"a351123a-bea9-4e65-8254-e0d28180681c\"></div>\n",
       "    </div>\n",
       "<script type=\"text/javascript\">\n",
       "  \n",
       "  (function(global) {\n",
       "    function now() {\n",
       "      return new Date();\n",
       "    }\n",
       "  \n",
       "    var force = false;\n",
       "  \n",
       "    if (typeof (window._bokeh_onload_callbacks) === \"undefined\" || force === true) {\n",
       "      window._bokeh_onload_callbacks = [];\n",
       "      window._bokeh_is_loading = undefined;\n",
       "    }\n",
       "  \n",
       "  \n",
       "    \n",
       "    if (typeof (window._bokeh_timeout) === \"undefined\" || force === true) {\n",
       "      window._bokeh_timeout = Date.now() + 0;\n",
       "      window._bokeh_failed_load = false;\n",
       "    }\n",
       "  \n",
       "    var NB_LOAD_WARNING = {'data': {'text/html':\n",
       "       \"<div style='background-color: #fdd'>\\n\"+\n",
       "       \"<p>\\n\"+\n",
       "       \"BokehJS does not appear to have successfully loaded. If loading BokehJS from CDN, this \\n\"+\n",
       "       \"may be due to a slow or bad network connection. Possible fixes:\\n\"+\n",
       "       \"</p>\\n\"+\n",
       "       \"<ul>\\n\"+\n",
       "       \"<li>re-rerun `output_notebook()` to attempt to load from CDN again, or</li>\\n\"+\n",
       "       \"<li>use INLINE resources instead, as so:</li>\\n\"+\n",
       "       \"</ul>\\n\"+\n",
       "       \"<code>\\n\"+\n",
       "       \"from bokeh.resources import INLINE\\n\"+\n",
       "       \"output_notebook(resources=INLINE)\\n\"+\n",
       "       \"</code>\\n\"+\n",
       "       \"</div>\"}};\n",
       "  \n",
       "    function display_loaded() {\n",
       "      if (window.Bokeh !== undefined) {\n",
       "        document.getElementById(\"a351123a-bea9-4e65-8254-e0d28180681c\").textContent = \"BokehJS successfully loaded.\";\n",
       "      } else if (Date.now() < window._bokeh_timeout) {\n",
       "        setTimeout(display_loaded, 100)\n",
       "      }\n",
       "    }if ((window.Jupyter !== undefined) && Jupyter.notebook.kernel) {\n",
       "      comm_manager = Jupyter.notebook.kernel.comm_manager\n",
       "      comm_manager.register_target(\"8ad5667f-de51-40af-99c5-b825a17aeaea\", function () {});\n",
       "    }\n",
       "  \n",
       "    function run_callbacks() {\n",
       "      window._bokeh_onload_callbacks.forEach(function(callback) { callback() });\n",
       "      delete window._bokeh_onload_callbacks\n",
       "      console.info(\"Bokeh: all callbacks have finished\");\n",
       "    }\n",
       "  \n",
       "    function load_libs(js_urls, callback) {\n",
       "      window._bokeh_onload_callbacks.push(callback);\n",
       "      if (window._bokeh_is_loading > 0) {\n",
       "        console.log(\"Bokeh: BokehJS is being loaded, scheduling callback at\", now());\n",
       "        return null;\n",
       "      }\n",
       "      if (js_urls == null || js_urls.length === 0) {\n",
       "        run_callbacks();\n",
       "        return null;\n",
       "      }\n",
       "      console.log(\"Bokeh: BokehJS not loaded, scheduling load and callback at\", now());\n",
       "      window._bokeh_is_loading = js_urls.length;\n",
       "      for (var i = 0; i < js_urls.length; i++) {\n",
       "        var url = js_urls[i];\n",
       "        var s = document.createElement('script');\n",
       "        s.src = url;\n",
       "        s.async = false;\n",
       "        s.onreadystatechange = s.onload = function() {\n",
       "          window._bokeh_is_loading--;\n",
       "          if (window._bokeh_is_loading === 0) {\n",
       "            console.log(\"Bokeh: all BokehJS libraries loaded\");\n",
       "            run_callbacks()\n",
       "          }\n",
       "        };\n",
       "        s.onerror = function() {\n",
       "          console.warn(\"failed to load library \" + url);\n",
       "        };\n",
       "        console.log(\"Bokeh: injecting script tag for BokehJS library: \", url);\n",
       "        document.getElementsByTagName(\"head\")[0].appendChild(s);\n",
       "      }\n",
       "    };var element = document.getElementById(\"a351123a-bea9-4e65-8254-e0d28180681c\");\n",
       "    if (element == null) {\n",
       "      console.log(\"Bokeh: ERROR: autoload.js configured with elementid 'a351123a-bea9-4e65-8254-e0d28180681c' but no matching script tag was found. \")\n",
       "      return false;\n",
       "    }\n",
       "  \n",
       "    var js_urls = [];\n",
       "  \n",
       "    var inline_js = [\n",
       "      function(Bokeh) {\n",
       "        (function() {\n",
       "          var fn = function() {\n",
       "            var docs_json = {\"da0d5faa-d325-4758-b1ec-6fb150e36422\":{\"roots\":{\"references\":[{\"attributes\":{\"plot\":{\"id\":\"b642df54-7b6f-4095-80b5-ccef668cbf66\",\"subtype\":\"Figure\",\"type\":\"Plot\"}},\"id\":\"f4ca29c8-18fd-4b1f-bf87-b70fb8400885\",\"type\":\"ResetTool\"},{\"attributes\":{},\"id\":\"548aa614-17d7-45bd-8e05-d525af2470ee\",\"type\":\"ToolEvents\"},{\"attributes\":{\"plot\":{\"id\":\"b642df54-7b6f-4095-80b5-ccef668cbf66\",\"subtype\":\"Figure\",\"type\":\"Plot\"}},\"id\":\"1f3d072b-1bd5-4983-9baf-a49f78bde6fd\",\"type\":\"HelpTool\"},{\"attributes\":{\"callback\":null,\"column_names\":[\"y\",\"x\"],\"data\":{\"x\":[1,2,3,4,5,6,7,8,9,10,11,12,13,14,15,16,17,18,19,20,21,22,23,24,25,26,27,28,29,30,31,32,33,34,35,36,37,38,39,40,41,42],\"y\":{\"__ndarray__\":\"ERERERGRHEDKzMzMzMwcQOtRuB6F6xxAwvUoXI/CHEAVrkfhehQbQH7gB37gBxpA2KNwPQrXGkATrkfhehQdQDWU11BeQxlAEhISEhISGkC4YAu2YAsZQAAAAAAAgBpARS/0Qi/0GEDgehSuR+EYQML1KFyPQhhArkfhehQuGkB7FK5H4focQJDC9ShcjxpAmpmZmZmZGECF61G4HoUbQK5H4XoUrhpA2aNwPQpXF0CamZmZmRkYQAgj7ViBMBhA1qNwPQpXGkBcj8L1KFwYQOtRuB6FaxhAH4XrUbieFUAK16NwPQoXQML1KFyPwhdAO1YgjLRjGUAqXI/C9agcQBERERERkR1AyVOCPCXIG0DcN6x9w9oaQH/D2jesfRtA5ClBnhLkHECGYRiGYRgcQGiN1miN1hxAZT/2Yz/2G0Dbtm3btm0bQHh3d3d39xtA\",\"dtype\":\"float64\",\"shape\":[42]}}},\"id\":\"57a056f6-9399-4c5d-abd2-3ca76793dcce\",\"type\":\"ColumnDataSource\"},{\"attributes\":{},\"id\":\"2b2b2f82-2224-45e3-bd1d-cb22c1c381ab\",\"type\":\"BasicTicker\"},{\"attributes\":{\"plot\":{\"id\":\"b642df54-7b6f-4095-80b5-ccef668cbf66\",\"subtype\":\"Figure\",\"type\":\"Plot\"}},\"id\":\"b2a83d4d-0d25-44a2-b025-ad095e146374\",\"type\":\"SaveTool\"},{\"attributes\":{\"formatter\":{\"id\":\"f0f1a0af-bcbe-4016-8416-8d3934b3d5dd\",\"type\":\"BasicTickFormatter\"},\"plot\":{\"id\":\"b642df54-7b6f-4095-80b5-ccef668cbf66\",\"subtype\":\"Figure\",\"type\":\"Plot\"},\"ticker\":{\"id\":\"2b5de7b9-5f90-449b-8f94-6f57b1c2df2d\",\"type\":\"BasicTicker\"}},\"id\":\"05afc434-6bf9-4a37-9747-9fc86c5cbd9f\",\"type\":\"LinearAxis\"},{\"attributes\":{\"line_color\":{\"value\":\"#1f77b4\"},\"x\":{\"field\":\"x\"},\"y\":{\"field\":\"y\"}},\"id\":\"9af6659f-007e-4c4e-aa32-83e4523cc394\",\"type\":\"Line\"},{\"attributes\":{},\"id\":\"b6b2ae7d-9447-4cdc-8d88-d10aee86aaa2\",\"type\":\"BasicTickFormatter\"},{\"attributes\":{\"plot\":{\"id\":\"b642df54-7b6f-4095-80b5-ccef668cbf66\",\"subtype\":\"Figure\",\"type\":\"Plot\"}},\"id\":\"fa63266c-e150-438f-aed7-34685e3a43b2\",\"type\":\"PanTool\"},{\"attributes\":{\"bottom_units\":\"screen\",\"fill_alpha\":{\"value\":0.5},\"fill_color\":{\"value\":\"lightgrey\"},\"left_units\":\"screen\",\"level\":\"overlay\",\"line_alpha\":{\"value\":1.0},\"line_color\":{\"value\":\"black\"},\"line_dash\":[4,4],\"line_width\":{\"value\":2},\"plot\":null,\"render_mode\":\"css\",\"right_units\":\"screen\",\"top_units\":\"screen\"},\"id\":\"a224db89-46d2-4194-b10b-23e809292eac\",\"type\":\"BoxAnnotation\"},{\"attributes\":{\"dimension\":1,\"plot\":{\"id\":\"b642df54-7b6f-4095-80b5-ccef668cbf66\",\"subtype\":\"Figure\",\"type\":\"Plot\"},\"ticker\":{\"id\":\"2b2b2f82-2224-45e3-bd1d-cb22c1c381ab\",\"type\":\"BasicTicker\"}},\"id\":\"19df4bb7-cbb5-42c6-a3c2-842c1bc332b5\",\"type\":\"Grid\"},{\"attributes\":{\"active_drag\":\"auto\",\"active_scroll\":\"auto\",\"active_tap\":\"auto\",\"tools\":[{\"id\":\"fa63266c-e150-438f-aed7-34685e3a43b2\",\"type\":\"PanTool\"},{\"id\":\"d3810ebf-834a-4f63-9850-46f028d5b4d3\",\"type\":\"WheelZoomTool\"},{\"id\":\"ac843fae-9c36-475d-9951-28374c785b5b\",\"type\":\"BoxZoomTool\"},{\"id\":\"b2a83d4d-0d25-44a2-b025-ad095e146374\",\"type\":\"SaveTool\"},{\"id\":\"f4ca29c8-18fd-4b1f-bf87-b70fb8400885\",\"type\":\"ResetTool\"},{\"id\":\"1f3d072b-1bd5-4983-9baf-a49f78bde6fd\",\"type\":\"HelpTool\"}]},\"id\":\"09790cbd-bf57-4363-9a15-1dfde4cdb842\",\"type\":\"Toolbar\"},{\"attributes\":{\"plot\":{\"id\":\"b642df54-7b6f-4095-80b5-ccef668cbf66\",\"subtype\":\"Figure\",\"type\":\"Plot\"},\"ticker\":{\"id\":\"2b5de7b9-5f90-449b-8f94-6f57b1c2df2d\",\"type\":\"BasicTicker\"}},\"id\":\"85f69b4c-4949-45f5-8a81-6aa83ecd19b3\",\"type\":\"Grid\"},{\"attributes\":{},\"id\":\"2b5de7b9-5f90-449b-8f94-6f57b1c2df2d\",\"type\":\"BasicTicker\"},{\"attributes\":{\"plot\":null,\"text\":\"\"},\"id\":\"6e2eb171-0e54-4bfd-b892-38eccda6ccf6\",\"type\":\"Title\"},{\"attributes\":{\"callback\":null,\"end\":10},\"id\":\"d06984ff-26e4-421f-ab1d-7f7b7cf08c5a\",\"type\":\"Range1d\"},{\"attributes\":{\"callback\":null},\"id\":\"bbff0c07-31ed-49ff-b9c6-b132c61c386d\",\"type\":\"DataRange1d\"},{\"attributes\":{},\"id\":\"f0f1a0af-bcbe-4016-8416-8d3934b3d5dd\",\"type\":\"BasicTickFormatter\"},{\"attributes\":{\"formatter\":{\"id\":\"b6b2ae7d-9447-4cdc-8d88-d10aee86aaa2\",\"type\":\"BasicTickFormatter\"},\"plot\":{\"id\":\"b642df54-7b6f-4095-80b5-ccef668cbf66\",\"subtype\":\"Figure\",\"type\":\"Plot\"},\"ticker\":{\"id\":\"2b2b2f82-2224-45e3-bd1d-cb22c1c381ab\",\"type\":\"BasicTicker\"}},\"id\":\"627cac11-5ed0-4b55-a67b-78b20047f0ed\",\"type\":\"LinearAxis\"},{\"attributes\":{\"line_alpha\":{\"value\":0.1},\"line_color\":{\"value\":\"#1f77b4\"},\"x\":{\"field\":\"x\"},\"y\":{\"field\":\"y\"}},\"id\":\"57c942e0-5e0c-452b-bf2f-5053b4de304d\",\"type\":\"Line\"},{\"attributes\":{\"overlay\":{\"id\":\"a224db89-46d2-4194-b10b-23e809292eac\",\"type\":\"BoxAnnotation\"},\"plot\":{\"id\":\"b642df54-7b6f-4095-80b5-ccef668cbf66\",\"subtype\":\"Figure\",\"type\":\"Plot\"}},\"id\":\"ac843fae-9c36-475d-9951-28374c785b5b\",\"type\":\"BoxZoomTool\"},{\"attributes\":{\"data_source\":{\"id\":\"57a056f6-9399-4c5d-abd2-3ca76793dcce\",\"type\":\"ColumnDataSource\"},\"glyph\":{\"id\":\"9af6659f-007e-4c4e-aa32-83e4523cc394\",\"type\":\"Line\"},\"hover_glyph\":null,\"nonselection_glyph\":{\"id\":\"57c942e0-5e0c-452b-bf2f-5053b4de304d\",\"type\":\"Line\"},\"selection_glyph\":null},\"id\":\"60a5a354-6b6f-431e-bc3b-22f07419f4fc\",\"type\":\"GlyphRenderer\"},{\"attributes\":{\"below\":[{\"id\":\"05afc434-6bf9-4a37-9747-9fc86c5cbd9f\",\"type\":\"LinearAxis\"}],\"left\":[{\"id\":\"627cac11-5ed0-4b55-a67b-78b20047f0ed\",\"type\":\"LinearAxis\"}],\"plot_height\":200,\"plot_width\":800,\"renderers\":[{\"id\":\"05afc434-6bf9-4a37-9747-9fc86c5cbd9f\",\"type\":\"LinearAxis\"},{\"id\":\"85f69b4c-4949-45f5-8a81-6aa83ecd19b3\",\"type\":\"Grid\"},{\"id\":\"627cac11-5ed0-4b55-a67b-78b20047f0ed\",\"type\":\"LinearAxis\"},{\"id\":\"19df4bb7-cbb5-42c6-a3c2-842c1bc332b5\",\"type\":\"Grid\"},{\"id\":\"a224db89-46d2-4194-b10b-23e809292eac\",\"type\":\"BoxAnnotation\"},{\"id\":\"60a5a354-6b6f-431e-bc3b-22f07419f4fc\",\"type\":\"GlyphRenderer\"}],\"title\":{\"id\":\"6e2eb171-0e54-4bfd-b892-38eccda6ccf6\",\"type\":\"Title\"},\"tool_events\":{\"id\":\"548aa614-17d7-45bd-8e05-d525af2470ee\",\"type\":\"ToolEvents\"},\"toolbar\":{\"id\":\"09790cbd-bf57-4363-9a15-1dfde4cdb842\",\"type\":\"Toolbar\"},\"x_range\":{\"id\":\"bbff0c07-31ed-49ff-b9c6-b132c61c386d\",\"type\":\"DataRange1d\"},\"y_range\":{\"id\":\"d06984ff-26e4-421f-ab1d-7f7b7cf08c5a\",\"type\":\"Range1d\"}},\"id\":\"b642df54-7b6f-4095-80b5-ccef668cbf66\",\"subtype\":\"Figure\",\"type\":\"Plot\"},{\"attributes\":{\"plot\":{\"id\":\"b642df54-7b6f-4095-80b5-ccef668cbf66\",\"subtype\":\"Figure\",\"type\":\"Plot\"}},\"id\":\"d3810ebf-834a-4f63-9850-46f028d5b4d3\",\"type\":\"WheelZoomTool\"}],\"root_ids\":[\"b642df54-7b6f-4095-80b5-ccef668cbf66\"]},\"title\":\"Bokeh Application\",\"version\":\"0.12.4\"}};\n",
       "            var render_items = [{\"docid\":\"da0d5faa-d325-4758-b1ec-6fb150e36422\",\"elementid\":\"a351123a-bea9-4e65-8254-e0d28180681c\",\"modelid\":\"b642df54-7b6f-4095-80b5-ccef668cbf66\",\"notebook_comms_target\":\"8ad5667f-de51-40af-99c5-b825a17aeaea\"}];\n",
       "            \n",
       "            Bokeh.embed.embed_items(docs_json, render_items);\n",
       "          };\n",
       "          if (document.readyState != \"loading\") fn();\n",
       "          else document.addEventListener(\"DOMContentLoaded\", fn);\n",
       "        })();\n",
       "      },\n",
       "      function(Bokeh) {\n",
       "      }\n",
       "    ];\n",
       "  \n",
       "    function run_inline_js() {\n",
       "      \n",
       "      if ((window.Bokeh !== undefined) || (force === true)) {\n",
       "        for (var i = 0; i < inline_js.length; i++) {\n",
       "          inline_js[i](window.Bokeh);\n",
       "        }if (force === true) {\n",
       "          display_loaded();\n",
       "        }} else if (Date.now() < window._bokeh_timeout) {\n",
       "        setTimeout(run_inline_js, 100);\n",
       "      } else if (!window._bokeh_failed_load) {\n",
       "        console.log(\"Bokeh: BokehJS failed to load within specified timeout.\");\n",
       "        window._bokeh_failed_load = true;\n",
       "      } else if (force !== true) {\n",
       "        var cell = $(document.getElementById(\"a351123a-bea9-4e65-8254-e0d28180681c\")).parents('.cell').data().cell;\n",
       "        cell.output_area.append_execute_result(NB_LOAD_WARNING)\n",
       "      }\n",
       "  \n",
       "    }\n",
       "  \n",
       "    if (window._bokeh_is_loading === 0) {\n",
       "      console.log(\"Bokeh: BokehJS loaded, going straight to plotting\");\n",
       "      run_inline_js();\n",
       "    } else {\n",
       "      load_libs(js_urls, function() {\n",
       "        console.log(\"Bokeh: BokehJS plotting callback run at\", now());\n",
       "        run_inline_js();\n",
       "      });\n",
       "    }\n",
       "  }(this));\n",
       "</script>"
      ]
     },
     "metadata": {},
     "output_type": "display_data"
    }
   ],
   "source": [
    "p = figure(plot_width=800, plot_height=200, y_range=(0,10))\n",
    "r = p.line(dfer.sid.unique(),sSeasonRatingAverage.values)\n",
    "t = show(p, notebook_handle=True)"
   ]
  },
  {
   "cell_type": "markdown",
   "metadata": {},
   "source": [
    "#### Ratings over time (conclusion)"
   ]
  },
  {
   "cell_type": "markdown",
   "metadata": {},
   "source": [
    "As you can see in the graphs there was a steep increase in quality between season 28 and 33. Since then the ratings are fairly constant. There were some quality highs in the mid 90s and 80s."
   ]
  },
  {
   "cell_type": "markdown",
   "metadata": {},
   "source": [
    "#### Moving on to the actors\n",
    "Now let us take a look at the actors. First it would be interesting to know which actors played in the most sketches and which of them were very present during their stay at the show (most sketches per episode). To do that we have to merge most of the dataframes."
   ]
  },
  {
   "cell_type": "code",
   "execution_count": 14,
   "metadata": {
    "collapsed": false
   },
   "outputs": [],
   "source": [
    "dfactors = pd.merge(pd.merge(dfas, dfer, on=['sid', 'eid']), dfa, on='aid')"
   ]
  },
  {
   "cell_type": "markdown",
   "metadata": {},
   "source": [
    "Now let's take a look at the Top 10 actors of SNL when it comes to appearances. It seems that Darrell Hammond is the clear winner here."
   ]
  },
  {
   "cell_type": "code",
   "execution_count": 15,
   "metadata": {
    "collapsed": false
   },
   "outputs": [
    {
     "data": {
      "text/plain": [
       "name\n",
       "Kenan Thompson     927\n",
       "Phil Hartman       913\n",
       "Darrell Hammond    765\n",
       "Fred Armisen       739\n",
       "Bill Hader         696\n",
       "Amy Poehler        687\n",
       "Will Ferrell       654\n",
       "Kevin Nealon       646\n",
       "Bobby Moynihan     638\n",
       "Kristen Wiig       633\n",
       "Name: sid, dtype: int64"
      ]
     },
     "execution_count": 15,
     "metadata": {},
     "output_type": "execute_result"
    }
   ],
   "source": [
    "sActorsAppearances = dfactors.groupby('name')['sid'].count().sort_values(ascending=False)\n",
    "sActorsAppearances.head(10)"
   ]
  },
  {
   "cell_type": "markdown",
   "metadata": {},
   "source": [
    "But does Darrell also have the most appearances per episode?"
   ]
  },
  {
   "cell_type": "code",
   "execution_count": 24,
   "metadata": {
    "collapsed": false
   },
   "outputs": [
    {
     "data": {
      "text/html": [
       "<div>\n",
       "<table border=\"1\" class=\"dataframe\">\n",
       "  <thead>\n",
       "    <tr style=\"text-align: right;\">\n",
       "      <th></th>\n",
       "      <th>name</th>\n",
       "      <th>sid</th>\n",
       "      <th>eid</th>\n",
       "      <th>aid</th>\n",
       "    </tr>\n",
       "  </thead>\n",
       "  <tbody>\n",
       "    <tr>\n",
       "      <th>0</th>\n",
       "      <td>Ludacris</td>\n",
       "      <td>32</td>\n",
       "      <td>6</td>\n",
       "      <td>12</td>\n",
       "    </tr>\n",
       "    <tr>\n",
       "      <th>1</th>\n",
       "      <td>Richard Pryor</td>\n",
       "      <td>1</td>\n",
       "      <td>7</td>\n",
       "      <td>12</td>\n",
       "    </tr>\n",
       "    <tr>\n",
       "      <th>2</th>\n",
       "      <td>Ray Charles</td>\n",
       "      <td>3</td>\n",
       "      <td>5</td>\n",
       "      <td>12</td>\n",
       "    </tr>\n",
       "    <tr>\n",
       "      <th>3</th>\n",
       "      <td>Betty White</td>\n",
       "      <td>35</td>\n",
       "      <td>21</td>\n",
       "      <td>12</td>\n",
       "    </tr>\n",
       "    <tr>\n",
       "      <th>4</th>\n",
       "      <td>Jennifer Lopez</td>\n",
       "      <td>35</td>\n",
       "      <td>15</td>\n",
       "      <td>11</td>\n",
       "    </tr>\n",
       "    <tr>\n",
       "      <th>5</th>\n",
       "      <td>Josh Brolin</td>\n",
       "      <td>34</td>\n",
       "      <td>5</td>\n",
       "      <td>11</td>\n",
       "    </tr>\n",
       "    <tr>\n",
       "      <th>6</th>\n",
       "      <td>Kris Kristofferson</td>\n",
       "      <td>1</td>\n",
       "      <td>24</td>\n",
       "      <td>11</td>\n",
       "    </tr>\n",
       "    <tr>\n",
       "      <th>7</th>\n",
       "      <td>Steve Martin</td>\n",
       "      <td>31</td>\n",
       "      <td>12</td>\n",
       "      <td>11</td>\n",
       "    </tr>\n",
       "    <tr>\n",
       "      <th>8</th>\n",
       "      <td>Shia LaBeouf</td>\n",
       "      <td>33</td>\n",
       "      <td>11</td>\n",
       "      <td>11</td>\n",
       "    </tr>\n",
       "    <tr>\n",
       "      <th>9</th>\n",
       "      <td>Garth Brooks</td>\n",
       "      <td>25</td>\n",
       "      <td>5</td>\n",
       "      <td>11</td>\n",
       "    </tr>\n",
       "  </tbody>\n",
       "</table>\n",
       "</div>"
      ],
      "text/plain": [
       "                 name  sid  eid  aid\n",
       "0            Ludacris   32    6   12\n",
       "1       Richard Pryor    1    7   12\n",
       "2         Ray Charles    3    5   12\n",
       "3         Betty White   35   21   12\n",
       "4      Jennifer Lopez   35   15   11\n",
       "5         Josh Brolin   34    5   11\n",
       "6  Kris Kristofferson    1   24   11\n",
       "7        Steve Martin   31   12   11\n",
       "8        Shia LaBeouf   33   11   11\n",
       "9        Garth Brooks   25    5   11"
      ]
     },
     "execution_count": 24,
     "metadata": {},
     "output_type": "execute_result"
    }
   ],
   "source": [
    "dfActorsEpisodes = pd.DataFrame(dfactors.groupby(['name','sid', 'eid'])['aid'].count().sort_values(ascending=False)).reset_index()\n",
    "dfActorsEpisodes.head(10)"
   ]
  },
  {
   "cell_type": "markdown",
   "metadata": {},
   "source": [
    "In this category there are four actors that take the first place: Ludacris, Richard Pryor, Ray Charles and Betty White. They were all part of 12 titles in a single episode. But which actor had the biggest presence on set over several episodes? Of course it only makes sense to look at actors who appeared in more than one episode."
   ]
  },
  {
   "cell_type": "code",
   "execution_count": 17,
   "metadata": {
    "collapsed": false
   },
   "outputs": [],
   "source": [
    "# Define the aggregation calculations\n",
    "aggregations = {\n",
    "    'aid': {     # Now work on the \"date\" column\n",
    "        'titles': 'sum',   # Find the max, call the result \"max_date\"\n",
    "        'episodes': 'count'\n",
    "    }\n",
    "}\n",
    " \n",
    "# Perform groupby aggregation by \"month\", but only on the rows that are of type \"call\"\n",
    "dfActorsTitlePerEpisode = dfActorsEpisodes.groupby('name').agg(aggregations)\n",
    "dfActorsTitlePerEpisode.columns = dfActorsTitlePerEpisode.columns.droplevel()"
   ]
  },
  {
   "cell_type": "code",
   "execution_count": 18,
   "metadata": {
    "collapsed": false
   },
   "outputs": [],
   "source": [
    "dfActorsTitlePerEpisode[\"title_avg\"] = dfActorsTitlePerEpisode[\"titles\"] / dfActorsTitlePerEpisode[\"episodes\"]"
   ]
  },
  {
   "cell_type": "markdown",
   "metadata": {
    "collapsed": false
   },
   "source": [
    "Let's take a look at the actors with appearances in at least 3 episodes."
   ]
  },
  {
   "cell_type": "code",
   "execution_count": 19,
   "metadata": {
    "collapsed": false
   },
   "outputs": [
    {
     "data": {
      "text/html": [
       "<div>\n",
       "<table border=\"1\" class=\"dataframe\">\n",
       "  <thead>\n",
       "    <tr style=\"text-align: right;\">\n",
       "      <th></th>\n",
       "      <th>episodes</th>\n",
       "      <th>titles</th>\n",
       "      <th>title_avg</th>\n",
       "    </tr>\n",
       "    <tr>\n",
       "      <th>name</th>\n",
       "      <th></th>\n",
       "      <th></th>\n",
       "      <th></th>\n",
       "    </tr>\n",
       "  </thead>\n",
       "  <tbody>\n",
       "    <tr>\n",
       "      <th>Charles Barkley</th>\n",
       "      <td>3</td>\n",
       "      <td>25</td>\n",
       "      <td>8.333333</td>\n",
       "    </tr>\n",
       "    <tr>\n",
       "      <th>Zach Galifianakis</th>\n",
       "      <td>3</td>\n",
       "      <td>24</td>\n",
       "      <td>8.000000</td>\n",
       "    </tr>\n",
       "    <tr>\n",
       "      <th>Jack Black</th>\n",
       "      <td>3</td>\n",
       "      <td>23</td>\n",
       "      <td>7.666667</td>\n",
       "    </tr>\n",
       "    <tr>\n",
       "      <th>Louis C.K.</th>\n",
       "      <td>3</td>\n",
       "      <td>23</td>\n",
       "      <td>7.666667</td>\n",
       "    </tr>\n",
       "    <tr>\n",
       "      <th>Jennifer Lopez</th>\n",
       "      <td>3</td>\n",
       "      <td>22</td>\n",
       "      <td>7.333333</td>\n",
       "    </tr>\n",
       "    <tr>\n",
       "      <th>Drake</th>\n",
       "      <td>3</td>\n",
       "      <td>22</td>\n",
       "      <td>7.333333</td>\n",
       "    </tr>\n",
       "    <tr>\n",
       "      <th>Lily Tomlin</th>\n",
       "      <td>4</td>\n",
       "      <td>28</td>\n",
       "      <td>7.000000</td>\n",
       "    </tr>\n",
       "    <tr>\n",
       "      <th>Garth Brooks</th>\n",
       "      <td>3</td>\n",
       "      <td>21</td>\n",
       "      <td>7.000000</td>\n",
       "    </tr>\n",
       "    <tr>\n",
       "      <th>Charles Rocket</th>\n",
       "      <td>12</td>\n",
       "      <td>83</td>\n",
       "      <td>6.916667</td>\n",
       "    </tr>\n",
       "    <tr>\n",
       "      <th>Jonah Hill</th>\n",
       "      <td>4</td>\n",
       "      <td>27</td>\n",
       "      <td>6.750000</td>\n",
       "    </tr>\n",
       "  </tbody>\n",
       "</table>\n",
       "</div>"
      ],
      "text/plain": [
       "                   episodes  titles  title_avg\n",
       "name                                          \n",
       "Charles Barkley           3      25   8.333333\n",
       "Zach Galifianakis         3      24   8.000000\n",
       "Jack Black                3      23   7.666667\n",
       "Louis C.K.                3      23   7.666667\n",
       "Jennifer Lopez            3      22   7.333333\n",
       "Drake                     3      22   7.333333\n",
       "Lily Tomlin               4      28   7.000000\n",
       "Garth Brooks              3      21   7.000000\n",
       "Charles Rocket           12      83   6.916667\n",
       "Jonah Hill                4      27   6.750000"
      ]
     },
     "execution_count": 19,
     "metadata": {},
     "output_type": "execute_result"
    }
   ],
   "source": [
    "dfActorsTitlePerEpisode[dfActorsTitlePerEpisode.episodes>=3].sort_values('title_avg', ascending=False).head(10)"
   ]
  },
  {
   "cell_type": "markdown",
   "metadata": {
    "collapsed": true
   },
   "source": [
    "What about 10 episodes?"
   ]
  },
  {
   "cell_type": "code",
   "execution_count": 20,
   "metadata": {
    "collapsed": false
   },
   "outputs": [
    {
     "data": {
      "text/html": [
       "<div>\n",
       "<table border=\"1\" class=\"dataframe\">\n",
       "  <thead>\n",
       "    <tr style=\"text-align: right;\">\n",
       "      <th></th>\n",
       "      <th>episodes</th>\n",
       "      <th>titles</th>\n",
       "      <th>title_avg</th>\n",
       "    </tr>\n",
       "    <tr>\n",
       "      <th>name</th>\n",
       "      <th></th>\n",
       "      <th></th>\n",
       "      <th></th>\n",
       "    </tr>\n",
       "  </thead>\n",
       "  <tbody>\n",
       "    <tr>\n",
       "      <th>Charles Rocket</th>\n",
       "      <td>12</td>\n",
       "      <td>83</td>\n",
       "      <td>6.916667</td>\n",
       "    </tr>\n",
       "    <tr>\n",
       "      <th>Phil Hartman</th>\n",
       "      <td>163</td>\n",
       "      <td>913</td>\n",
       "      <td>5.601227</td>\n",
       "    </tr>\n",
       "    <tr>\n",
       "      <th>Joe Piscopo</th>\n",
       "      <td>72</td>\n",
       "      <td>364</td>\n",
       "      <td>5.055556</td>\n",
       "    </tr>\n",
       "    <tr>\n",
       "      <th>Bill Murray</th>\n",
       "      <td>78</td>\n",
       "      <td>389</td>\n",
       "      <td>4.987179</td>\n",
       "    </tr>\n",
       "    <tr>\n",
       "      <th>Gail Matthius</th>\n",
       "      <td>13</td>\n",
       "      <td>62</td>\n",
       "      <td>4.769231</td>\n",
       "    </tr>\n",
       "    <tr>\n",
       "      <th>Amy Poehler</th>\n",
       "      <td>148</td>\n",
       "      <td>687</td>\n",
       "      <td>4.641892</td>\n",
       "    </tr>\n",
       "    <tr>\n",
       "      <th>Will Ferrell</th>\n",
       "      <td>143</td>\n",
       "      <td>654</td>\n",
       "      <td>4.573427</td>\n",
       "    </tr>\n",
       "    <tr>\n",
       "      <th>John Goodman</th>\n",
       "      <td>19</td>\n",
       "      <td>86</td>\n",
       "      <td>4.526316</td>\n",
       "    </tr>\n",
       "    <tr>\n",
       "      <th>Dan Aykroyd</th>\n",
       "      <td>92</td>\n",
       "      <td>415</td>\n",
       "      <td>4.510870</td>\n",
       "    </tr>\n",
       "    <tr>\n",
       "      <th>Kristen Wiig</th>\n",
       "      <td>141</td>\n",
       "      <td>633</td>\n",
       "      <td>4.489362</td>\n",
       "    </tr>\n",
       "  </tbody>\n",
       "</table>\n",
       "</div>"
      ],
      "text/plain": [
       "                episodes  titles  title_avg\n",
       "name                                       \n",
       "Charles Rocket        12      83   6.916667\n",
       "Phil Hartman         163     913   5.601227\n",
       "Joe Piscopo           72     364   5.055556\n",
       "Bill Murray           78     389   4.987179\n",
       "Gail Matthius         13      62   4.769231\n",
       "Amy Poehler          148     687   4.641892\n",
       "Will Ferrell         143     654   4.573427\n",
       "John Goodman          19      86   4.526316\n",
       "Dan Aykroyd           92     415   4.510870\n",
       "Kristen Wiig         141     633   4.489362"
      ]
     },
     "execution_count": 20,
     "metadata": {},
     "output_type": "execute_result"
    }
   ],
   "source": [
    "dfActorsTitlePerEpisode[dfActorsTitlePerEpisode.episodes>=10].sort_values('title_avg', ascending=False).head(10)"
   ]
  },
  {
   "cell_type": "markdown",
   "metadata": {},
   "source": [
    "Now let's look at people with at least 50 episodes under their belt. These are mostly cast members."
   ]
  },
  {
   "cell_type": "code",
   "execution_count": 21,
   "metadata": {
    "collapsed": false
   },
   "outputs": [
    {
     "data": {
      "text/html": [
       "<div>\n",
       "<table border=\"1\" class=\"dataframe\">\n",
       "  <thead>\n",
       "    <tr style=\"text-align: right;\">\n",
       "      <th></th>\n",
       "      <th>episodes</th>\n",
       "      <th>titles</th>\n",
       "      <th>title_avg</th>\n",
       "    </tr>\n",
       "    <tr>\n",
       "      <th>name</th>\n",
       "      <th></th>\n",
       "      <th></th>\n",
       "      <th></th>\n",
       "    </tr>\n",
       "  </thead>\n",
       "  <tbody>\n",
       "    <tr>\n",
       "      <th>Phil Hartman</th>\n",
       "      <td>163</td>\n",
       "      <td>913</td>\n",
       "      <td>5.601227</td>\n",
       "    </tr>\n",
       "    <tr>\n",
       "      <th>Joe Piscopo</th>\n",
       "      <td>72</td>\n",
       "      <td>364</td>\n",
       "      <td>5.055556</td>\n",
       "    </tr>\n",
       "    <tr>\n",
       "      <th>Bill Murray</th>\n",
       "      <td>78</td>\n",
       "      <td>389</td>\n",
       "      <td>4.987179</td>\n",
       "    </tr>\n",
       "    <tr>\n",
       "      <th>Amy Poehler</th>\n",
       "      <td>148</td>\n",
       "      <td>687</td>\n",
       "      <td>4.641892</td>\n",
       "    </tr>\n",
       "    <tr>\n",
       "      <th>Will Ferrell</th>\n",
       "      <td>143</td>\n",
       "      <td>654</td>\n",
       "      <td>4.573427</td>\n",
       "    </tr>\n",
       "    <tr>\n",
       "      <th>Dan Aykroyd</th>\n",
       "      <td>92</td>\n",
       "      <td>415</td>\n",
       "      <td>4.510870</td>\n",
       "    </tr>\n",
       "    <tr>\n",
       "      <th>Kristen Wiig</th>\n",
       "      <td>141</td>\n",
       "      <td>633</td>\n",
       "      <td>4.489362</td>\n",
       "    </tr>\n",
       "    <tr>\n",
       "      <th>Gilda Radner</th>\n",
       "      <td>106</td>\n",
       "      <td>464</td>\n",
       "      <td>4.377358</td>\n",
       "    </tr>\n",
       "    <tr>\n",
       "      <th>Tim Kazurinsky</th>\n",
       "      <td>60</td>\n",
       "      <td>260</td>\n",
       "      <td>4.333333</td>\n",
       "    </tr>\n",
       "    <tr>\n",
       "      <th>Bill Hader</th>\n",
       "      <td>162</td>\n",
       "      <td>696</td>\n",
       "      <td>4.296296</td>\n",
       "    </tr>\n",
       "  </tbody>\n",
       "</table>\n",
       "</div>"
      ],
      "text/plain": [
       "                episodes  titles  title_avg\n",
       "name                                       \n",
       "Phil Hartman         163     913   5.601227\n",
       "Joe Piscopo           72     364   5.055556\n",
       "Bill Murray           78     389   4.987179\n",
       "Amy Poehler          148     687   4.641892\n",
       "Will Ferrell         143     654   4.573427\n",
       "Dan Aykroyd           92     415   4.510870\n",
       "Kristen Wiig         141     633   4.489362\n",
       "Gilda Radner         106     464   4.377358\n",
       "Tim Kazurinsky        60     260   4.333333\n",
       "Bill Hader           162     696   4.296296"
      ]
     },
     "execution_count": 21,
     "metadata": {},
     "output_type": "execute_result"
    }
   ],
   "source": [
    "dfActorsTitlePerEpisode[dfActorsTitlePerEpisode.episodes>=50].sort_values('title_avg', ascending=False).head(10)"
   ]
  },
  {
   "cell_type": "code",
   "execution_count": null,
   "metadata": {
    "collapsed": true
   },
   "outputs": [],
   "source": []
  }
 ],
 "metadata": {
  "anaconda-cloud": {},
  "kernelspec": {
   "display_name": "Python [conda env:ml]",
   "language": "python",
   "name": "conda-env-ml-py"
  },
  "language_info": {
   "codemirror_mode": {
    "name": "ipython",
    "version": 3
   },
   "file_extension": ".py",
   "mimetype": "text/x-python",
   "name": "python",
   "nbconvert_exporter": "python",
   "pygments_lexer": "ipython3",
   "version": "3.5.2"
  }
 },
 "nbformat": 4,
 "nbformat_minor": 2
}
