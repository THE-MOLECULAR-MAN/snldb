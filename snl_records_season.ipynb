{
 "cells": [
  {
   "cell_type": "markdown",
   "metadata": {},
   "source": [
    "### SNL Records by Season\n",
    "This notebook collects record by season."
   ]
  },
  {
   "cell_type": "code",
   "execution_count": 1,
   "metadata": {
    "collapsed": false
   },
   "outputs": [
    {
     "data": {
      "text/html": [
       "\n",
       "    <div class=\"bk-root\">\n",
       "        <a href=\"http://bokeh.pydata.org\" target=\"_blank\" class=\"bk-logo bk-logo-small bk-logo-notebook\"></a>\n",
       "        <span id=\"aff0ad69-e988-4149-b8dd-eee3422319bd\">Loading BokehJS ...</span>\n",
       "    </div>"
      ]
     },
     "metadata": {},
     "output_type": "display_data"
    },
    {
     "data": {
      "application/javascript": [
       "\n",
       "(function(global) {\n",
       "  function now() {\n",
       "    return new Date();\n",
       "  }\n",
       "\n",
       "  var force = true;\n",
       "\n",
       "  if (typeof (window._bokeh_onload_callbacks) === \"undefined\" || force === true) {\n",
       "    window._bokeh_onload_callbacks = [];\n",
       "    window._bokeh_is_loading = undefined;\n",
       "  }\n",
       "\n",
       "\n",
       "  \n",
       "  if (typeof (window._bokeh_timeout) === \"undefined\" || force === true) {\n",
       "    window._bokeh_timeout = Date.now() + 5000;\n",
       "    window._bokeh_failed_load = false;\n",
       "  }\n",
       "\n",
       "  var NB_LOAD_WARNING = {'data': {'text/html':\n",
       "     \"<div style='background-color: #fdd'>\\n\"+\n",
       "     \"<p>\\n\"+\n",
       "     \"BokehJS does not appear to have successfully loaded. If loading BokehJS from CDN, this \\n\"+\n",
       "     \"may be due to a slow or bad network connection. Possible fixes:\\n\"+\n",
       "     \"</p>\\n\"+\n",
       "     \"<ul>\\n\"+\n",
       "     \"<li>re-rerun `output_notebook()` to attempt to load from CDN again, or</li>\\n\"+\n",
       "     \"<li>use INLINE resources instead, as so:</li>\\n\"+\n",
       "     \"</ul>\\n\"+\n",
       "     \"<code>\\n\"+\n",
       "     \"from bokeh.resources import INLINE\\n\"+\n",
       "     \"output_notebook(resources=INLINE)\\n\"+\n",
       "     \"</code>\\n\"+\n",
       "     \"</div>\"}};\n",
       "\n",
       "  function display_loaded() {\n",
       "    if (window.Bokeh !== undefined) {\n",
       "      document.getElementById(\"aff0ad69-e988-4149-b8dd-eee3422319bd\").textContent = \"BokehJS successfully loaded.\";\n",
       "    } else if (Date.now() < window._bokeh_timeout) {\n",
       "      setTimeout(display_loaded, 100)\n",
       "    }\n",
       "  }\n",
       "\n",
       "  function run_callbacks() {\n",
       "    window._bokeh_onload_callbacks.forEach(function(callback) { callback() });\n",
       "    delete window._bokeh_onload_callbacks\n",
       "    console.info(\"Bokeh: all callbacks have finished\");\n",
       "  }\n",
       "\n",
       "  function load_libs(js_urls, callback) {\n",
       "    window._bokeh_onload_callbacks.push(callback);\n",
       "    if (window._bokeh_is_loading > 0) {\n",
       "      console.log(\"Bokeh: BokehJS is being loaded, scheduling callback at\", now());\n",
       "      return null;\n",
       "    }\n",
       "    if (js_urls == null || js_urls.length === 0) {\n",
       "      run_callbacks();\n",
       "      return null;\n",
       "    }\n",
       "    console.log(\"Bokeh: BokehJS not loaded, scheduling load and callback at\", now());\n",
       "    window._bokeh_is_loading = js_urls.length;\n",
       "    for (var i = 0; i < js_urls.length; i++) {\n",
       "      var url = js_urls[i];\n",
       "      var s = document.createElement('script');\n",
       "      s.src = url;\n",
       "      s.async = false;\n",
       "      s.onreadystatechange = s.onload = function() {\n",
       "        window._bokeh_is_loading--;\n",
       "        if (window._bokeh_is_loading === 0) {\n",
       "          console.log(\"Bokeh: all BokehJS libraries loaded\");\n",
       "          run_callbacks()\n",
       "        }\n",
       "      };\n",
       "      s.onerror = function() {\n",
       "        console.warn(\"failed to load library \" + url);\n",
       "      };\n",
       "      console.log(\"Bokeh: injecting script tag for BokehJS library: \", url);\n",
       "      document.getElementsByTagName(\"head\")[0].appendChild(s);\n",
       "    }\n",
       "  };var element = document.getElementById(\"aff0ad69-e988-4149-b8dd-eee3422319bd\");\n",
       "  if (element == null) {\n",
       "    console.log(\"Bokeh: ERROR: autoload.js configured with elementid 'aff0ad69-e988-4149-b8dd-eee3422319bd' but no matching script tag was found. \")\n",
       "    return false;\n",
       "  }\n",
       "\n",
       "  var js_urls = [\"https://cdn.pydata.org/bokeh/release/bokeh-0.12.4.min.js\", \"https://cdn.pydata.org/bokeh/release/bokeh-widgets-0.12.4.min.js\"];\n",
       "\n",
       "  var inline_js = [\n",
       "    function(Bokeh) {\n",
       "      Bokeh.set_log_level(\"info\");\n",
       "    },\n",
       "    \n",
       "    function(Bokeh) {\n",
       "      \n",
       "      document.getElementById(\"aff0ad69-e988-4149-b8dd-eee3422319bd\").textContent = \"BokehJS is loading...\";\n",
       "    },\n",
       "    function(Bokeh) {\n",
       "      console.log(\"Bokeh: injecting CSS: https://cdn.pydata.org/bokeh/release/bokeh-0.12.4.min.css\");\n",
       "      Bokeh.embed.inject_css(\"https://cdn.pydata.org/bokeh/release/bokeh-0.12.4.min.css\");\n",
       "      console.log(\"Bokeh: injecting CSS: https://cdn.pydata.org/bokeh/release/bokeh-widgets-0.12.4.min.css\");\n",
       "      Bokeh.embed.inject_css(\"https://cdn.pydata.org/bokeh/release/bokeh-widgets-0.12.4.min.css\");\n",
       "    }\n",
       "  ];\n",
       "\n",
       "  function run_inline_js() {\n",
       "    \n",
       "    if ((window.Bokeh !== undefined) || (force === true)) {\n",
       "      for (var i = 0; i < inline_js.length; i++) {\n",
       "        inline_js[i](window.Bokeh);\n",
       "      }if (force === true) {\n",
       "        display_loaded();\n",
       "      }} else if (Date.now() < window._bokeh_timeout) {\n",
       "      setTimeout(run_inline_js, 100);\n",
       "    } else if (!window._bokeh_failed_load) {\n",
       "      console.log(\"Bokeh: BokehJS failed to load within specified timeout.\");\n",
       "      window._bokeh_failed_load = true;\n",
       "    } else if (force !== true) {\n",
       "      var cell = $(document.getElementById(\"aff0ad69-e988-4149-b8dd-eee3422319bd\")).parents('.cell').data().cell;\n",
       "      cell.output_area.append_execute_result(NB_LOAD_WARNING)\n",
       "    }\n",
       "\n",
       "  }\n",
       "\n",
       "  if (window._bokeh_is_loading === 0) {\n",
       "    console.log(\"Bokeh: BokehJS loaded, going straight to plotting\");\n",
       "    run_inline_js();\n",
       "  } else {\n",
       "    load_libs(js_urls, function() {\n",
       "      console.log(\"Bokeh: BokehJS plotting callback run at\", now());\n",
       "      run_inline_js();\n",
       "    });\n",
       "  }\n",
       "}(this));"
      ]
     },
     "metadata": {},
     "output_type": "display_data"
    }
   ],
   "source": [
    "import pandas as pd\n",
    "import numpy as np\n",
    "import bokeh\n",
    "from bokeh.io import output_notebook\n",
    "from bokeh.plotting import figure, show\n",
    "from bokeh.models import HoverTool\n",
    "from bokeh.palettes import Spectral11\n",
    "from bokeh.embed import notebook_div\n",
    "output_notebook()"
   ]
  },
  {
   "cell_type": "code",
   "execution_count": 2,
   "metadata": {
    "collapsed": true
   },
   "outputs": [],
   "source": [
    "fs = pd.read_csv('./db/snl_season.csv', encoding=\"utf-8\")\n",
    "dfe = pd.read_csv('./db/snl_episode.csv', encoding=\"utf-8\",parse_dates=['aired'])\n",
    "dft = pd.read_csv('./db/snl_title.csv', encoding=\"utf-8\")\n",
    "dfa = pd.read_csv('./db/snl_actor.csv', encoding=\"utf-8\")\n",
    "dfat = pd.read_csv('./db/snl_actor_title.csv', encoding=\"utf-8\")\n",
    "dfr = pd.read_csv('./db/snl_rating.csv', encoding=\"utf-8\")"
   ]
  },
  {
   "cell_type": "code",
   "execution_count": 3,
   "metadata": {
    "collapsed": true
   },
   "outputs": [],
   "source": [
    "dfer = pd.merge(dfe, dfr, on=['sid', 'eid'])\n",
    "dfactors = pd.merge(pd.merge(dfat, dfer, on=['sid', 'eid']), dfa, on='aid')"
   ]
  },
  {
   "cell_type": "code",
   "execution_count": 4,
   "metadata": {
    "collapsed": false
   },
   "outputs": [],
   "source": [
    "df_sea_cat = pd.DataFrame(dfactors.groupby(['actorType','sid'])['aid'].count()).reset_index()\n",
    "df_sea_cat.columns = ['Type', 'Season', 'Appearances']\n",
    "for actorType in df_sea_cat.Type.unique():\n",
    "    df_sea_cat[actorType] = 0\n",
    "    df_sea_cat.loc[df_sea_cat.Type==actorType, actorType] = df_sea_cat['Appearances']\n",
    "    \n",
    "df_sea_cat = df_sea_cat.drop(['Type'],axis=1)\n",
    "df_sea_cat = df_sea_cat.groupby('Season').sum()"
   ]
  },
  {
   "cell_type": "code",
   "execution_count": 13,
   "metadata": {
    "collapsed": false
   },
   "outputs": [],
   "source": [
    "TOOLS=['pan','zoom_in','zoom_out','undo','redo','reset','save']\n",
    "p = figure(plot_width=800, plot_height=800, y_range=(-10,df_sea_cat['Appearances'].max()),x_range=(0,45), tools=TOOLS)\n",
    "#r = p.multi_line(['Season','Season','Season', 'Season', 'Season','Season','Season', 'Season', 'Season'],\n",
    " #                ['Appearances','cameo','cast','crew','filmed','guest','host','music','unknown'],\n",
    "#              line_width=4, source=df_sea_cat)\n",
    "numlines=len(df_sea_cat.columns)\n",
    "mypalette=Spectral11[0:numlines]\n",
    "\n",
    "for column in df_sea_cat.columns:\n",
    "    p.line(df_sea_cat.index,df_sea_cat[column], legend=column, line_color=Spectral11[df_sea_cat.columns.get_loc(column)], line_width=3)"
   ]
  },
  {
   "cell_type": "markdown",
   "metadata": {},
   "source": [
    "### Type of title per season (absolute)"
   ]
  },
  {
   "cell_type": "code",
   "execution_count": 14,
   "metadata": {
    "collapsed": false
   },
   "outputs": [
    {
     "data": {
      "text/html": [
       "\n",
       "\n",
       "    <div class=\"bk-root\">\n",
       "        <div class=\"bk-plotdiv\" id=\"c25b8845-3757-4f08-8e8e-0255729cd1fc\"></div>\n",
       "    </div>\n",
       "<script type=\"text/javascript\">\n",
       "  \n",
       "  (function(global) {\n",
       "    function now() {\n",
       "      return new Date();\n",
       "    }\n",
       "  \n",
       "    var force = false;\n",
       "  \n",
       "    if (typeof (window._bokeh_onload_callbacks) === \"undefined\" || force === true) {\n",
       "      window._bokeh_onload_callbacks = [];\n",
       "      window._bokeh_is_loading = undefined;\n",
       "    }\n",
       "  \n",
       "  \n",
       "    \n",
       "    if (typeof (window._bokeh_timeout) === \"undefined\" || force === true) {\n",
       "      window._bokeh_timeout = Date.now() + 0;\n",
       "      window._bokeh_failed_load = false;\n",
       "    }\n",
       "  \n",
       "    var NB_LOAD_WARNING = {'data': {'text/html':\n",
       "       \"<div style='background-color: #fdd'>\\n\"+\n",
       "       \"<p>\\n\"+\n",
       "       \"BokehJS does not appear to have successfully loaded. If loading BokehJS from CDN, this \\n\"+\n",
       "       \"may be due to a slow or bad network connection. Possible fixes:\\n\"+\n",
       "       \"</p>\\n\"+\n",
       "       \"<ul>\\n\"+\n",
       "       \"<li>re-rerun `output_notebook()` to attempt to load from CDN again, or</li>\\n\"+\n",
       "       \"<li>use INLINE resources instead, as so:</li>\\n\"+\n",
       "       \"</ul>\\n\"+\n",
       "       \"<code>\\n\"+\n",
       "       \"from bokeh.resources import INLINE\\n\"+\n",
       "       \"output_notebook(resources=INLINE)\\n\"+\n",
       "       \"</code>\\n\"+\n",
       "       \"</div>\"}};\n",
       "  \n",
       "    function display_loaded() {\n",
       "      if (window.Bokeh !== undefined) {\n",
       "        document.getElementById(\"c25b8845-3757-4f08-8e8e-0255729cd1fc\").textContent = \"BokehJS successfully loaded.\";\n",
       "      } else if (Date.now() < window._bokeh_timeout) {\n",
       "        setTimeout(display_loaded, 100)\n",
       "      }\n",
       "    }if ((window.Jupyter !== undefined) && Jupyter.notebook.kernel) {\n",
       "      comm_manager = Jupyter.notebook.kernel.comm_manager\n",
       "      comm_manager.register_target(\"b7963321-04e6-45f4-b38a-6c733c873ce4\", function () {});\n",
       "    }\n",
       "  \n",
       "    function run_callbacks() {\n",
       "      window._bokeh_onload_callbacks.forEach(function(callback) { callback() });\n",
       "      delete window._bokeh_onload_callbacks\n",
       "      console.info(\"Bokeh: all callbacks have finished\");\n",
       "    }\n",
       "  \n",
       "    function load_libs(js_urls, callback) {\n",
       "      window._bokeh_onload_callbacks.push(callback);\n",
       "      if (window._bokeh_is_loading > 0) {\n",
       "        console.log(\"Bokeh: BokehJS is being loaded, scheduling callback at\", now());\n",
       "        return null;\n",
       "      }\n",
       "      if (js_urls == null || js_urls.length === 0) {\n",
       "        run_callbacks();\n",
       "        return null;\n",
       "      }\n",
       "      console.log(\"Bokeh: BokehJS not loaded, scheduling load and callback at\", now());\n",
       "      window._bokeh_is_loading = js_urls.length;\n",
       "      for (var i = 0; i < js_urls.length; i++) {\n",
       "        var url = js_urls[i];\n",
       "        var s = document.createElement('script');\n",
       "        s.src = url;\n",
       "        s.async = false;\n",
       "        s.onreadystatechange = s.onload = function() {\n",
       "          window._bokeh_is_loading--;\n",
       "          if (window._bokeh_is_loading === 0) {\n",
       "            console.log(\"Bokeh: all BokehJS libraries loaded\");\n",
       "            run_callbacks()\n",
       "          }\n",
       "        };\n",
       "        s.onerror = function() {\n",
       "          console.warn(\"failed to load library \" + url);\n",
       "        };\n",
       "        console.log(\"Bokeh: injecting script tag for BokehJS library: \", url);\n",
       "        document.getElementsByTagName(\"head\")[0].appendChild(s);\n",
       "      }\n",
       "    };var element = document.getElementById(\"c25b8845-3757-4f08-8e8e-0255729cd1fc\");\n",
       "    if (element == null) {\n",
       "      console.log(\"Bokeh: ERROR: autoload.js configured with elementid 'c25b8845-3757-4f08-8e8e-0255729cd1fc' but no matching script tag was found. \")\n",
       "      return false;\n",
       "    }\n",
       "  \n",
       "    var js_urls = [];\n",
       "  \n",
       "    var inline_js = [\n",
       "      function(Bokeh) {\n",
       "        (function() {\n",
       "          var fn = function() {\n",
       "            var docs_json = {\"a3271044-b27a-452e-bd58-d90dcfb4985b\":{\"roots\":{\"references\":[{\"attributes\":{},\"id\":\"1b7b4301-0b65-415b-bfe1-d82bfddf65bb\",\"type\":\"BasicTicker\"},{\"attributes\":{\"callback\":null,\"end\":45},\"id\":\"b65e0b5d-0f5a-46a4-a12f-f7abb07717b4\",\"type\":\"Range1d\"},{\"attributes\":{\"active_drag\":\"auto\",\"active_scroll\":\"auto\",\"active_tap\":\"auto\",\"tools\":[{\"id\":\"e487b482-048e-4348-807f-7e99a32508cb\",\"type\":\"PanTool\"},{\"id\":\"03dd986d-c924-401d-bcd6-cb18f53ab740\",\"type\":\"ZoomInTool\"},{\"id\":\"81df912e-8f07-4091-b49a-e62ab9422b6f\",\"type\":\"ZoomOutTool\"},{\"id\":\"2e4bd2e3-f2eb-44f6-9365-4ff13a3c091d\",\"type\":\"UndoTool\"},{\"id\":\"4b3e0c4c-e141-4cd9-969d-cb4bf8899bdc\",\"type\":\"RedoTool\"},{\"id\":\"176decaf-ad21-43d2-91e3-bff8e0431fcc\",\"type\":\"ResetTool\"},{\"id\":\"2638c467-4080-41a4-96d7-a307f812622a\",\"type\":\"SaveTool\"}]},\"id\":\"16fe801a-ef0c-4f3a-949d-0700795bb17b\",\"type\":\"Toolbar\"},{\"attributes\":{\"below\":[{\"id\":\"7ab8fe10-0a90-406e-9b63-65fabc6f338d\",\"type\":\"LinearAxis\"}],\"left\":[{\"id\":\"1412d738-71d0-4361-8ff2-74fd7d74fa65\",\"type\":\"LinearAxis\"}],\"plot_height\":800,\"plot_width\":800,\"renderers\":[{\"id\":\"7ab8fe10-0a90-406e-9b63-65fabc6f338d\",\"type\":\"LinearAxis\"},{\"id\":\"b4d47e1e-8a1c-4494-875f-9812b038d7c5\",\"type\":\"Grid\"},{\"id\":\"1412d738-71d0-4361-8ff2-74fd7d74fa65\",\"type\":\"LinearAxis\"},{\"id\":\"1502bc51-c7e5-4ea0-9534-f2f72905486a\",\"type\":\"Grid\"},{\"id\":\"ed4b434c-59ae-4226-a285-f4b31cafa77f\",\"type\":\"Legend\"},{\"id\":\"4e78470b-ed87-4923-a93d-864e021e1ff2\",\"type\":\"GlyphRenderer\"},{\"id\":\"f603e60f-69c4-4130-84fd-983f3207258d\",\"type\":\"GlyphRenderer\"},{\"id\":\"1f2ae5e1-8f00-4aab-88a6-65463cafca69\",\"type\":\"GlyphRenderer\"},{\"id\":\"b0818826-d3b6-4af3-9b71-4f76aea58fe2\",\"type\":\"GlyphRenderer\"},{\"id\":\"c33225c8-a2ee-437c-9552-54ea31bb17cf\",\"type\":\"GlyphRenderer\"},{\"id\":\"4d5f2be8-2e3c-4302-a78e-3b0e6894a636\",\"type\":\"GlyphRenderer\"},{\"id\":\"502b3ef0-e74c-41cc-8772-a62d61d7b34c\",\"type\":\"GlyphRenderer\"},{\"id\":\"bd3c0f86-19db-4648-9e60-47feb2dda67c\",\"type\":\"GlyphRenderer\"},{\"id\":\"3a7eda57-8785-4a72-af0e-1f22f815a49e\",\"type\":\"GlyphRenderer\"}],\"title\":{\"id\":\"aa73bcfd-d5bd-4bf5-8950-f24a8fc70780\",\"type\":\"Title\"},\"tool_events\":{\"id\":\"6e225232-7a4d-43d0-889a-ed21cbf65dc8\",\"type\":\"ToolEvents\"},\"toolbar\":{\"id\":\"16fe801a-ef0c-4f3a-949d-0700795bb17b\",\"type\":\"Toolbar\"},\"x_range\":{\"id\":\"b65e0b5d-0f5a-46a4-a12f-f7abb07717b4\",\"type\":\"Range1d\"},\"y_range\":{\"id\":\"61b8dc3e-c06f-4d68-8986-240a4e97db50\",\"type\":\"Range1d\"}},\"id\":\"3aa98980-0362-4332-b14a-c946bcbdab63\",\"subtype\":\"Figure\",\"type\":\"Plot\"},{\"attributes\":{\"data_source\":{\"id\":\"ebeeb4cf-e1b9-4435-ae9c-8f681dee2b3b\",\"type\":\"ColumnDataSource\"},\"glyph\":{\"id\":\"5bdfa273-f3a1-425a-a3ce-4e15b465e8ef\",\"type\":\"Line\"},\"hover_glyph\":null,\"nonselection_glyph\":{\"id\":\"b1176cf4-004a-4254-9b2b-d1976161e738\",\"type\":\"Line\"},\"selection_glyph\":null},\"id\":\"b0818826-d3b6-4af3-9b71-4f76aea58fe2\",\"type\":\"GlyphRenderer\"},{\"attributes\":{\"label\":{\"value\":\"crew\"},\"renderers\":[{\"id\":\"b0818826-d3b6-4af3-9b71-4f76aea58fe2\",\"type\":\"GlyphRenderer\"}]},\"id\":\"787c0168-9e53-4b71-9efe-a38aabf9e26d\",\"type\":\"LegendItem\"},{\"attributes\":{\"callback\":null,\"column_names\":[\"x\",\"y\"],\"data\":{\"x\":[1,2,3,4,5,6,7,8,9,10,11,12,13,14,15,16,17,18,19,20,21,22,23,24,25,26,27,28,29,30,31,32,33,34,35,36,37,38,39,40,41,42],\"y\":[320,387,251,255,184,85,91,37,50,81,78,124,36,70,96,89,72,75,77,55,127,68,88,57,48,58,38,49,53,63,82,60,58,67,71,71,56,46,55,25,41,13]}},\"id\":\"ebeeb4cf-e1b9-4435-ae9c-8f681dee2b3b\",\"type\":\"ColumnDataSource\"},{\"attributes\":{\"callback\":null,\"column_names\":[\"x\",\"y\"],\"data\":{\"x\":[1,2,3,4,5,6,7,8,9,10,11,12,13,14,15,16,17,18,19,20,21,22,23,24,25,26,27,28,29,30,31,32,33,34,35,36,37,38,39,40,41,42],\"y\":[32,30,5,9,4,5,6,9,4,11,0,8,3,5,0,5,5,1,6,10,9,6,10,5,8,2,6,10,2,7,12,5,9,9,11,19,8,5,10,4,17,1]}},\"id\":\"6c5e4498-4e5d-4023-9826-bf33c109d744\",\"type\":\"ColumnDataSource\"},{\"attributes\":{\"label\":{\"value\":\"cast\"},\"renderers\":[{\"id\":\"1f2ae5e1-8f00-4aab-88a6-65463cafca69\",\"type\":\"GlyphRenderer\"}]},\"id\":\"42319b00-bd81-49c5-b1d0-f3b0396936a9\",\"type\":\"LegendItem\"},{\"attributes\":{\"line_alpha\":{\"value\":0.1},\"line_color\":{\"value\":\"#1f77b4\"},\"line_width\":{\"value\":3},\"x\":{\"field\":\"x\"},\"y\":{\"field\":\"y\"}},\"id\":\"abc1aa1c-71a5-4e64-a1a4-8b668b5dc28e\",\"type\":\"Line\"},{\"attributes\":{\"line_color\":{\"value\":\"#abdda4\"},\"line_width\":{\"value\":3},\"x\":{\"field\":\"x\"},\"y\":{\"field\":\"y\"}},\"id\":\"5bdfa273-f3a1-425a-a3ce-4e15b465e8ef\",\"type\":\"Line\"},{\"attributes\":{\"line_color\":{\"value\":\"#e6f598\"},\"line_width\":{\"value\":3},\"x\":{\"field\":\"x\"},\"y\":{\"field\":\"y\"}},\"id\":\"006a5c05-0015-4854-b089-9c2dbb32c894\",\"type\":\"Line\"},{\"attributes\":{\"label\":{\"value\":\"filmed\"},\"renderers\":[{\"id\":\"c33225c8-a2ee-437c-9552-54ea31bb17cf\",\"type\":\"GlyphRenderer\"}]},\"id\":\"5c34d1c7-d1af-4013-966a-d544362abdc9\",\"type\":\"LegendItem\"},{\"attributes\":{\"data_source\":{\"id\":\"6c5e4498-4e5d-4023-9826-bf33c109d744\",\"type\":\"ColumnDataSource\"},\"glyph\":{\"id\":\"006a5c05-0015-4854-b089-9c2dbb32c894\",\"type\":\"Line\"},\"hover_glyph\":null,\"nonselection_glyph\":{\"id\":\"abc1aa1c-71a5-4e64-a1a4-8b668b5dc28e\",\"type\":\"Line\"},\"selection_glyph\":null},\"id\":\"c33225c8-a2ee-437c-9552-54ea31bb17cf\",\"type\":\"GlyphRenderer\"},{\"attributes\":{\"line_color\":{\"value\":\"#66c2a5\"},\"line_width\":{\"value\":3},\"x\":{\"field\":\"x\"},\"y\":{\"field\":\"y\"}},\"id\":\"6c7d4329-f90e-43ef-a705-8ebf0432f98c\",\"type\":\"Line\"},{\"attributes\":{\"line_color\":{\"value\":\"#ffffbf\"},\"line_width\":{\"value\":3},\"x\":{\"field\":\"x\"},\"y\":{\"field\":\"y\"}},\"id\":\"2a36dc6b-2254-4bea-9ff3-08a79cd87287\",\"type\":\"Line\"},{\"attributes\":{\"data_source\":{\"id\":\"96865192-77eb-4bbc-8e8a-65c16ff6869d\",\"type\":\"ColumnDataSource\"},\"glyph\":{\"id\":\"6c7d4329-f90e-43ef-a705-8ebf0432f98c\",\"type\":\"Line\"},\"hover_glyph\":null,\"nonselection_glyph\":{\"id\":\"099b001e-d502-4537-b936-a1e0e6c36b44\",\"type\":\"Line\"},\"selection_glyph\":null},\"id\":\"1f2ae5e1-8f00-4aab-88a6-65463cafca69\",\"type\":\"GlyphRenderer\"},{\"attributes\":{\"data_source\":{\"id\":\"f06ff90f-54c2-49eb-aad1-429499335bd4\",\"type\":\"ColumnDataSource\"},\"glyph\":{\"id\":\"2a36dc6b-2254-4bea-9ff3-08a79cd87287\",\"type\":\"Line\"},\"hover_glyph\":null,\"nonselection_glyph\":{\"id\":\"1a4e9083-09ef-40af-a970-d0f7e2e4afea\",\"type\":\"Line\"},\"selection_glyph\":null},\"id\":\"4d5f2be8-2e3c-4302-a78e-3b0e6894a636\",\"type\":\"GlyphRenderer\"},{\"attributes\":{\"line_alpha\":{\"value\":0.1},\"line_color\":{\"value\":\"#1f77b4\"},\"line_width\":{\"value\":3},\"x\":{\"field\":\"x\"},\"y\":{\"field\":\"y\"}},\"id\":\"1a4e9083-09ef-40af-a970-d0f7e2e4afea\",\"type\":\"Line\"},{\"attributes\":{},\"id\":\"73132b2c-42b8-4cdc-88e4-1ffab5d79297\",\"type\":\"BasicTickFormatter\"},{\"attributes\":{\"callback\":null,\"column_names\":[\"x\",\"y\"],\"data\":{\"x\":[1,2,3,4,5,6,7,8,9,10,11,12,13,14,15,16,17,18,19,20,21,22,23,24,25,26,27,28,29,30,31,32,33,34,35,36,37,38,39,40,41,42],\"y\":[176,148,124,103,114,79,89,116,139,91,119,142,79,124,111,131,139,125,140,134,116,111,134,130,132,117,133,145,154,132,138,148,100,164,176,144,153,157,166,166,161,99]}},\"id\":\"35c4b1df-6c62-4ed1-8acb-359765747ae2\",\"type\":\"ColumnDataSource\"},{\"attributes\":{\"label\":{\"value\":\"guest\"},\"renderers\":[{\"id\":\"4d5f2be8-2e3c-4302-a78e-3b0e6894a636\",\"type\":\"GlyphRenderer\"}]},\"id\":\"6a4a67d8-7a15-4651-a4ec-da28716a7054\",\"type\":\"LegendItem\"},{\"attributes\":{\"line_alpha\":{\"value\":0.1},\"line_color\":{\"value\":\"#1f77b4\"},\"line_width\":{\"value\":3},\"x\":{\"field\":\"x\"},\"y\":{\"field\":\"y\"}},\"id\":\"866cd5af-b209-4681-b689-0d5f322ed613\",\"type\":\"Line\"},{\"attributes\":{\"line_alpha\":{\"value\":0.1},\"line_color\":{\"value\":\"#1f77b4\"},\"line_width\":{\"value\":3},\"x\":{\"field\":\"x\"},\"y\":{\"field\":\"y\"}},\"id\":\"099b001e-d502-4537-b936-a1e0e6c36b44\",\"type\":\"Line\"},{\"attributes\":{\"line_color\":{\"value\":\"#fee08b\"},\"line_width\":{\"value\":3},\"x\":{\"field\":\"x\"},\"y\":{\"field\":\"y\"}},\"id\":\"c1e3ac4b-e3bd-4258-be2f-4c847dd0e3db\",\"type\":\"Line\"},{\"attributes\":{\"label\":{\"value\":\"host\"},\"renderers\":[{\"id\":\"502b3ef0-e74c-41cc-8772-a62d61d7b34c\",\"type\":\"GlyphRenderer\"}]},\"id\":\"5a9c5a06-55aa-48e6-9614-4ef8b870ab40\",\"type\":\"LegendItem\"},{\"attributes\":{\"data_source\":{\"id\":\"35c4b1df-6c62-4ed1-8acb-359765747ae2\",\"type\":\"ColumnDataSource\"},\"glyph\":{\"id\":\"c1e3ac4b-e3bd-4258-be2f-4c847dd0e3db\",\"type\":\"Line\"},\"hover_glyph\":null,\"nonselection_glyph\":{\"id\":\"866cd5af-b209-4681-b689-0d5f322ed613\",\"type\":\"Line\"},\"selection_glyph\":null},\"id\":\"502b3ef0-e74c-41cc-8772-a62d61d7b34c\",\"type\":\"GlyphRenderer\"},{\"attributes\":{\"callback\":null,\"column_names\":[\"x\",\"y\"],\"data\":{\"x\":[1,2,3,4,5,6,7,8,9,10,11,12,13,14,15,16,17,18,19,20,21,22,23,24,25,26,27,28,29,30,31,32,33,34,35,36,37,38,39,40,41,42],\"y\":[53,60,44,35,51,35,47,38,39,35,38,44,31,43,67,45,40,52,48,42,39,41,25,35,47,46,40,45,38,41,43,38,27,56,53,61,58,43,44,51,46,32]}},\"id\":\"f082b47b-1560-41ab-9173-e5b01960a2e8\",\"type\":\"ColumnDataSource\"},{\"attributes\":{\"line_alpha\":{\"value\":0.1},\"line_color\":{\"value\":\"#1f77b4\"},\"line_width\":{\"value\":3},\"x\":{\"field\":\"x\"},\"y\":{\"field\":\"y\"}},\"id\":\"2aa30739-8aad-457f-be99-3a778c9c2ad6\",\"type\":\"Line\"},{\"attributes\":{\"plot\":{\"id\":\"3aa98980-0362-4332-b14a-c946bcbdab63\",\"subtype\":\"Figure\",\"type\":\"Plot\"}},\"id\":\"176decaf-ad21-43d2-91e3-bff8e0431fcc\",\"type\":\"ResetTool\"},{\"attributes\":{\"line_color\":{\"value\":\"#fdae61\"},\"line_width\":{\"value\":3},\"x\":{\"field\":\"x\"},\"y\":{\"field\":\"y\"}},\"id\":\"88417380-6b46-4057-8feb-fba945aa7cfe\",\"type\":\"Line\"},{\"attributes\":{\"label\":{\"value\":\"music\"},\"renderers\":[{\"id\":\"bd3c0f86-19db-4648-9e60-47feb2dda67c\",\"type\":\"GlyphRenderer\"}]},\"id\":\"ece074b4-3a1f-4325-8ea8-d3513aefe4e1\",\"type\":\"LegendItem\"},{\"attributes\":{\"data_source\":{\"id\":\"f082b47b-1560-41ab-9173-e5b01960a2e8\",\"type\":\"ColumnDataSource\"},\"glyph\":{\"id\":\"88417380-6b46-4057-8feb-fba945aa7cfe\",\"type\":\"Line\"},\"hover_glyph\":null,\"nonselection_glyph\":{\"id\":\"2aa30739-8aad-457f-be99-3a778c9c2ad6\",\"type\":\"Line\"},\"selection_glyph\":null},\"id\":\"bd3c0f86-19db-4648-9e60-47feb2dda67c\",\"type\":\"GlyphRenderer\"},{\"attributes\":{\"callback\":null,\"column_names\":[\"x\",\"y\"],\"data\":{\"x\":[1,2,3,4,5,6,7,8,9,10,11,12,13,14,15,16,17,18,19,20,21,22,23,24,25,26,27,28,29,30,31,32,33,34,35,36,37,38,39,40,41,42],\"y\":[0,0,0,0,0,0,0,0,0,0,0,2,1,1,3,25,29,28,7,13,17,0,12,0,0,0,14,3,0,0,0,0,0,0,0,0,1,3,0,0,1,0]}},\"id\":\"e5416c4f-290c-4f85-aa3b-833bc63fe619\",\"type\":\"ColumnDataSource\"},{\"attributes\":{\"line_alpha\":{\"value\":0.1},\"line_color\":{\"value\":\"#1f77b4\"},\"line_width\":{\"value\":3},\"x\":{\"field\":\"x\"},\"y\":{\"field\":\"y\"}},\"id\":\"742cc4c7-1621-46dc-8ac9-d8796c8f081a\",\"type\":\"Line\"},{\"attributes\":{\"line_color\":{\"value\":\"#f46d43\"},\"line_width\":{\"value\":3},\"x\":{\"field\":\"x\"},\"y\":{\"field\":\"y\"}},\"id\":\"a0a1f2be-97bf-4225-a9bb-310737be3435\",\"type\":\"Line\"},{\"attributes\":{\"label\":{\"value\":\"cameo\"},\"renderers\":[{\"id\":\"f603e60f-69c4-4130-84fd-983f3207258d\",\"type\":\"GlyphRenderer\"}]},\"id\":\"10da7a79-d599-496e-95f9-6a45fb5201bc\",\"type\":\"LegendItem\"},{\"attributes\":{\"label\":{\"value\":\"unknown\"},\"renderers\":[{\"id\":\"3a7eda57-8785-4a72-af0e-1f22f815a49e\",\"type\":\"GlyphRenderer\"}]},\"id\":\"cc7e242e-d471-4948-913c-9dd7f592d0e3\",\"type\":\"LegendItem\"},{\"attributes\":{\"data_source\":{\"id\":\"e5416c4f-290c-4f85-aa3b-833bc63fe619\",\"type\":\"ColumnDataSource\"},\"glyph\":{\"id\":\"a0a1f2be-97bf-4225-a9bb-310737be3435\",\"type\":\"Line\"},\"hover_glyph\":null,\"nonselection_glyph\":{\"id\":\"742cc4c7-1621-46dc-8ac9-d8796c8f081a\",\"type\":\"Line\"},\"selection_glyph\":null},\"id\":\"3a7eda57-8785-4a72-af0e-1f22f815a49e\",\"type\":\"GlyphRenderer\"},{\"attributes\":{\"line_color\":{\"value\":\"#3288bd\"},\"line_width\":{\"value\":3},\"x\":{\"field\":\"x\"},\"y\":{\"field\":\"y\"}},\"id\":\"c419acc5-df0f-4233-8d67-bc7bea8d5b25\",\"type\":\"Line\"},{\"attributes\":{\"callback\":null,\"column_names\":[\"x\",\"y\"],\"data\":{\"x\":[1,2,3,4,5,6,7,8,9,10,11,12,13,14,15,16,17,18,19,20,21,22,23,24,25,26,27,28,29,30,31,32,33,34,35,36,37,38,39,40,41,42],\"y\":[841,780,739,691,737,491,594,604,623,508,587,633,374,688,608,723,846,774,857,790,724,644,699,651,656,737,841,857,767,859,904,744,485,901,896,909,963,925,980,1014,1062,602]}},\"id\":\"96865192-77eb-4bbc-8e8a-65c16ff6869d\",\"type\":\"ColumnDataSource\"},{\"attributes\":{\"data_source\":{\"id\":\"cdcdc3e2-a294-4876-98af-02530ce4db0a\",\"type\":\"ColumnDataSource\"},\"glyph\":{\"id\":\"c419acc5-df0f-4233-8d67-bc7bea8d5b25\",\"type\":\"Line\"},\"hover_glyph\":null,\"nonselection_glyph\":{\"id\":\"ccca8124-fe54-4bbd-aca8-7c86ea60256f\",\"type\":\"Line\"},\"selection_glyph\":null},\"id\":\"f603e60f-69c4-4130-84fd-983f3207258d\",\"type\":\"GlyphRenderer\"},{\"attributes\":{\"plot\":{\"id\":\"3aa98980-0362-4332-b14a-c946bcbdab63\",\"subtype\":\"Figure\",\"type\":\"Plot\"}},\"id\":\"4b3e0c4c-e141-4cd9-969d-cb4bf8899bdc\",\"type\":\"RedoTool\"},{\"attributes\":{\"callback\":null,\"column_names\":[\"x\",\"y\"],\"data\":{\"x\":[1,2,3,4,5,6,7,8,9,10,11,12,13,14,15,16,17,18,19,20,21,22,23,24,25,26,27,28,29,30,31,32,33,34,35,36,37,38,39,40,41,42],\"y\":[14,17,71,17,24,21,23,22,18,23,6,22,18,13,8,17,26,14,19,17,33,22,35,27,32,36,21,22,27,19,19,18,19,43,37,34,54,54,33,41,44,20]}},\"id\":\"cdcdc3e2-a294-4876-98af-02530ce4db0a\",\"type\":\"ColumnDataSource\"},{\"attributes\":{},\"id\":\"6e225232-7a4d-43d0-889a-ed21cbf65dc8\",\"type\":\"ToolEvents\"},{\"attributes\":{\"callback\":null,\"column_names\":[\"x\",\"y\"],\"data\":{\"x\":[1,2,3,4,5,6,7,8,9,10,11,12,13,14,15,16,17,18,19,20,21,22,23,24,25,26,27,28,29,30,31,32,33,34,35,36,37,38,39,40,41,42],\"y\":[44,6,5,2,3,0,12,11,7,3,17,23,2,3,0,2,0,2,1,2,0,4,7,4,0,0,0,3,0,1,0,0,0,0,0,0,6,0,0,0,2,0]}},\"id\":\"f06ff90f-54c2-49eb-aad1-429499335bd4\",\"type\":\"ColumnDataSource\"},{\"attributes\":{\"plot\":{\"id\":\"3aa98980-0362-4332-b14a-c946bcbdab63\",\"subtype\":\"Figure\",\"type\":\"Plot\"}},\"id\":\"03dd986d-c924-401d-bcd6-cb18f53ab740\",\"type\":\"ZoomInTool\"},{\"attributes\":{\"plot\":{\"id\":\"3aa98980-0362-4332-b14a-c946bcbdab63\",\"subtype\":\"Figure\",\"type\":\"Plot\"}},\"id\":\"81df912e-8f07-4091-b49a-e62ab9422b6f\",\"type\":\"ZoomOutTool\"},{\"attributes\":{\"callback\":null,\"end\":1480,\"start\":-10},\"id\":\"61b8dc3e-c06f-4d68-8986-240a4e97db50\",\"type\":\"Range1d\"},{\"attributes\":{\"formatter\":{\"id\":\"73132b2c-42b8-4cdc-88e4-1ffab5d79297\",\"type\":\"BasicTickFormatter\"},\"plot\":{\"id\":\"3aa98980-0362-4332-b14a-c946bcbdab63\",\"subtype\":\"Figure\",\"type\":\"Plot\"},\"ticker\":{\"id\":\"1b7b4301-0b65-415b-bfe1-d82bfddf65bb\",\"type\":\"BasicTicker\"}},\"id\":\"7ab8fe10-0a90-406e-9b63-65fabc6f338d\",\"type\":\"LinearAxis\"},{\"attributes\":{\"line_alpha\":{\"value\":0.1},\"line_color\":{\"value\":\"#1f77b4\"},\"line_width\":{\"value\":3},\"x\":{\"field\":\"x\"},\"y\":{\"field\":\"y\"}},\"id\":\"3126021d-9fb6-4d9e-b3a9-12b551563d29\",\"type\":\"Line\"},{\"attributes\":{\"plot\":{\"id\":\"3aa98980-0362-4332-b14a-c946bcbdab63\",\"subtype\":\"Figure\",\"type\":\"Plot\"},\"ticker\":{\"id\":\"1b7b4301-0b65-415b-bfe1-d82bfddf65bb\",\"type\":\"BasicTicker\"}},\"id\":\"b4d47e1e-8a1c-4494-875f-9812b038d7c5\",\"type\":\"Grid\"},{\"attributes\":{\"formatter\":{\"id\":\"36d2ab88-0283-4f33-8eb1-a52d65533d33\",\"type\":\"BasicTickFormatter\"},\"plot\":{\"id\":\"3aa98980-0362-4332-b14a-c946bcbdab63\",\"subtype\":\"Figure\",\"type\":\"Plot\"},\"ticker\":{\"id\":\"e0db3ecf-ed56-4837-8e30-b483708eb6d7\",\"type\":\"BasicTicker\"}},\"id\":\"1412d738-71d0-4361-8ff2-74fd7d74fa65\",\"type\":\"LinearAxis\"},{\"attributes\":{},\"id\":\"e0db3ecf-ed56-4837-8e30-b483708eb6d7\",\"type\":\"BasicTicker\"},{\"attributes\":{\"dimension\":1,\"plot\":{\"id\":\"3aa98980-0362-4332-b14a-c946bcbdab63\",\"subtype\":\"Figure\",\"type\":\"Plot\"},\"ticker\":{\"id\":\"e0db3ecf-ed56-4837-8e30-b483708eb6d7\",\"type\":\"BasicTicker\"}},\"id\":\"1502bc51-c7e5-4ea0-9534-f2f72905486a\",\"type\":\"Grid\"},{\"attributes\":{\"data_source\":{\"id\":\"af65777b-b150-47d1-ad62-789c8d32e57c\",\"type\":\"ColumnDataSource\"},\"glyph\":{\"id\":\"553fd1fa-6cc2-4242-af76-690e2920ce39\",\"type\":\"Line\"},\"hover_glyph\":null,\"nonselection_glyph\":{\"id\":\"3126021d-9fb6-4d9e-b3a9-12b551563d29\",\"type\":\"Line\"},\"selection_glyph\":null},\"id\":\"4e78470b-ed87-4923-a93d-864e021e1ff2\",\"type\":\"GlyphRenderer\"},{\"attributes\":{\"line_color\":{\"value\":\"#5e4fa2\"},\"line_width\":{\"value\":3},\"x\":{\"field\":\"x\"},\"y\":{\"field\":\"y\"}},\"id\":\"553fd1fa-6cc2-4242-af76-690e2920ce39\",\"type\":\"Line\"},{\"attributes\":{\"line_alpha\":{\"value\":0.1},\"line_color\":{\"value\":\"#1f77b4\"},\"line_width\":{\"value\":3},\"x\":{\"field\":\"x\"},\"y\":{\"field\":\"y\"}},\"id\":\"b1176cf4-004a-4254-9b2b-d1976161e738\",\"type\":\"Line\"},{\"attributes\":{\"callback\":null,\"column_names\":[\"x\",\"y\"],\"data\":{\"x\":[1,2,3,4,5,6,7,8,9,10,11,12,13,14,15,16,17,18,19,20,21,22,23,24,25,26,27,28,29,30,31,32,33,34,35,36,37,38,39,40,41,42],\"y\":[1480,1428,1239,1112,1117,716,862,837,880,752,845,998,544,947,893,1037,1157,1071,1155,1063,1065,896,1010,909,923,996,1093,1134,1041,1122,1198,1013,698,1240,1244,1238,1299,1233,1288,1301,1374,767]}},\"id\":\"af65777b-b150-47d1-ad62-789c8d32e57c\",\"type\":\"ColumnDataSource\"},{\"attributes\":{\"line_alpha\":{\"value\":0.1},\"line_color\":{\"value\":\"#1f77b4\"},\"line_width\":{\"value\":3},\"x\":{\"field\":\"x\"},\"y\":{\"field\":\"y\"}},\"id\":\"ccca8124-fe54-4bbd-aca8-7c86ea60256f\",\"type\":\"Line\"},{\"attributes\":{},\"id\":\"36d2ab88-0283-4f33-8eb1-a52d65533d33\",\"type\":\"BasicTickFormatter\"},{\"attributes\":{\"plot\":{\"id\":\"3aa98980-0362-4332-b14a-c946bcbdab63\",\"subtype\":\"Figure\",\"type\":\"Plot\"}},\"id\":\"e487b482-048e-4348-807f-7e99a32508cb\",\"type\":\"PanTool\"},{\"attributes\":{\"plot\":{\"id\":\"3aa98980-0362-4332-b14a-c946bcbdab63\",\"subtype\":\"Figure\",\"type\":\"Plot\"}},\"id\":\"2638c467-4080-41a4-96d7-a307f812622a\",\"type\":\"SaveTool\"},{\"attributes\":{\"plot\":{\"id\":\"3aa98980-0362-4332-b14a-c946bcbdab63\",\"subtype\":\"Figure\",\"type\":\"Plot\"}},\"id\":\"2e4bd2e3-f2eb-44f6-9365-4ff13a3c091d\",\"type\":\"UndoTool\"},{\"attributes\":{\"plot\":null,\"text\":\"\"},\"id\":\"aa73bcfd-d5bd-4bf5-8950-f24a8fc70780\",\"type\":\"Title\"},{\"attributes\":{\"items\":[{\"id\":\"fb1cc3dc-c991-4694-b884-5664f609b4bd\",\"type\":\"LegendItem\"},{\"id\":\"10da7a79-d599-496e-95f9-6a45fb5201bc\",\"type\":\"LegendItem\"},{\"id\":\"42319b00-bd81-49c5-b1d0-f3b0396936a9\",\"type\":\"LegendItem\"},{\"id\":\"787c0168-9e53-4b71-9efe-a38aabf9e26d\",\"type\":\"LegendItem\"},{\"id\":\"5c34d1c7-d1af-4013-966a-d544362abdc9\",\"type\":\"LegendItem\"},{\"id\":\"6a4a67d8-7a15-4651-a4ec-da28716a7054\",\"type\":\"LegendItem\"},{\"id\":\"5a9c5a06-55aa-48e6-9614-4ef8b870ab40\",\"type\":\"LegendItem\"},{\"id\":\"ece074b4-3a1f-4325-8ea8-d3513aefe4e1\",\"type\":\"LegendItem\"},{\"id\":\"cc7e242e-d471-4948-913c-9dd7f592d0e3\",\"type\":\"LegendItem\"}],\"plot\":{\"id\":\"3aa98980-0362-4332-b14a-c946bcbdab63\",\"subtype\":\"Figure\",\"type\":\"Plot\"}},\"id\":\"ed4b434c-59ae-4226-a285-f4b31cafa77f\",\"type\":\"Legend\"},{\"attributes\":{\"label\":{\"value\":\"Appearances\"},\"renderers\":[{\"id\":\"4e78470b-ed87-4923-a93d-864e021e1ff2\",\"type\":\"GlyphRenderer\"}]},\"id\":\"fb1cc3dc-c991-4694-b884-5664f609b4bd\",\"type\":\"LegendItem\"}],\"root_ids\":[\"3aa98980-0362-4332-b14a-c946bcbdab63\"]},\"title\":\"Bokeh Application\",\"version\":\"0.12.4\"}};\n",
       "            var render_items = [{\"docid\":\"a3271044-b27a-452e-bd58-d90dcfb4985b\",\"elementid\":\"c25b8845-3757-4f08-8e8e-0255729cd1fc\",\"modelid\":\"3aa98980-0362-4332-b14a-c946bcbdab63\",\"notebook_comms_target\":\"b7963321-04e6-45f4-b38a-6c733c873ce4\"}];\n",
       "            \n",
       "            Bokeh.embed.embed_items(docs_json, render_items);\n",
       "          };\n",
       "          if (document.readyState != \"loading\") fn();\n",
       "          else document.addEventListener(\"DOMContentLoaded\", fn);\n",
       "        })();\n",
       "      },\n",
       "      function(Bokeh) {\n",
       "      }\n",
       "    ];\n",
       "  \n",
       "    function run_inline_js() {\n",
       "      \n",
       "      if ((window.Bokeh !== undefined) || (force === true)) {\n",
       "        for (var i = 0; i < inline_js.length; i++) {\n",
       "          inline_js[i](window.Bokeh);\n",
       "        }if (force === true) {\n",
       "          display_loaded();\n",
       "        }} else if (Date.now() < window._bokeh_timeout) {\n",
       "        setTimeout(run_inline_js, 100);\n",
       "      } else if (!window._bokeh_failed_load) {\n",
       "        console.log(\"Bokeh: BokehJS failed to load within specified timeout.\");\n",
       "        window._bokeh_failed_load = true;\n",
       "      } else if (force !== true) {\n",
       "        var cell = $(document.getElementById(\"c25b8845-3757-4f08-8e8e-0255729cd1fc\")).parents('.cell').data().cell;\n",
       "        cell.output_area.append_execute_result(NB_LOAD_WARNING)\n",
       "      }\n",
       "  \n",
       "    }\n",
       "  \n",
       "    if (window._bokeh_is_loading === 0) {\n",
       "      console.log(\"Bokeh: BokehJS loaded, going straight to plotting\");\n",
       "      run_inline_js();\n",
       "    } else {\n",
       "      load_libs(js_urls, function() {\n",
       "        console.log(\"Bokeh: BokehJS plotting callback run at\", now());\n",
       "        run_inline_js();\n",
       "      });\n",
       "    }\n",
       "  }(this));\n",
       "</script>"
      ]
     },
     "metadata": {},
     "output_type": "display_data"
    }
   ],
   "source": [
    "t = show(p, notebook_handle=True)"
   ]
  },
  {
   "cell_type": "code",
   "execution_count": 15,
   "metadata": {
    "collapsed": false
   },
   "outputs": [
    {
     "data": {
      "text/plain": [
       "'\\n\\n    <div class=\"bk-root\">\\n        <div class=\"bk-plotdiv\" id=\"230e8d1a-4dc4-4d5e-8386-33424acd7977\"></div>\\n    </div>\\n<script type=\"text/javascript\">\\n  \\n  (function(global) {\\n    function now() {\\n      return new Date();\\n    }\\n  \\n    var force = false;\\n  \\n    if (typeof (window._bokeh_onload_callbacks) === \"undefined\" || force === true) {\\n      window._bokeh_onload_callbacks = [];\\n      window._bokeh_is_loading = undefined;\\n    }\\n  \\n  \\n    \\n    if (typeof (window._bokeh_timeout) === \"undefined\" || force === true) {\\n      window._bokeh_timeout = Date.now() + 0;\\n      window._bokeh_failed_load = false;\\n    }\\n  \\n    var NB_LOAD_WARNING = {\\'data\\': {\\'text/html\\':\\n       \"<div style=\\'background-color: #fdd\\'>\\\\n\"+\\n       \"<p>\\\\n\"+\\n       \"BokehJS does not appear to have successfully loaded. If loading BokehJS from CDN, this \\\\n\"+\\n       \"may be due to a slow or bad network connection. Possible fixes:\\\\n\"+\\n       \"</p>\\\\n\"+\\n       \"<ul>\\\\n\"+\\n       \"<li>re-rerun `output_notebook()` to attempt to load from CDN again, or</li>\\\\n\"+\\n       \"<li>use INLINE resources instead, as so:</li>\\\\n\"+\\n       \"</ul>\\\\n\"+\\n       \"<code>\\\\n\"+\\n       \"from bokeh.resources import INLINE\\\\n\"+\\n       \"output_notebook(resources=INLINE)\\\\n\"+\\n       \"</code>\\\\n\"+\\n       \"</div>\"}};\\n  \\n    function display_loaded() {\\n      if (window.Bokeh !== undefined) {\\n        document.getElementById(\"230e8d1a-4dc4-4d5e-8386-33424acd7977\").textContent = \"BokehJS successfully loaded.\";\\n      } else if (Date.now() < window._bokeh_timeout) {\\n        setTimeout(display_loaded, 100)\\n      }\\n    }\\n  \\n    function run_callbacks() {\\n      window._bokeh_onload_callbacks.forEach(function(callback) { callback() });\\n      delete window._bokeh_onload_callbacks\\n      console.info(\"Bokeh: all callbacks have finished\");\\n    }\\n  \\n    function load_libs(js_urls, callback) {\\n      window._bokeh_onload_callbacks.push(callback);\\n      if (window._bokeh_is_loading > 0) {\\n        console.log(\"Bokeh: BokehJS is being loaded, scheduling callback at\", now());\\n        return null;\\n      }\\n      if (js_urls == null || js_urls.length === 0) {\\n        run_callbacks();\\n        return null;\\n      }\\n      console.log(\"Bokeh: BokehJS not loaded, scheduling load and callback at\", now());\\n      window._bokeh_is_loading = js_urls.length;\\n      for (var i = 0; i < js_urls.length; i++) {\\n        var url = js_urls[i];\\n        var s = document.createElement(\\'script\\');\\n        s.src = url;\\n        s.async = false;\\n        s.onreadystatechange = s.onload = function() {\\n          window._bokeh_is_loading--;\\n          if (window._bokeh_is_loading === 0) {\\n            console.log(\"Bokeh: all BokehJS libraries loaded\");\\n            run_callbacks()\\n          }\\n        };\\n        s.onerror = function() {\\n          console.warn(\"failed to load library \" + url);\\n        };\\n        console.log(\"Bokeh: injecting script tag for BokehJS library: \", url);\\n        document.getElementsByTagName(\"head\")[0].appendChild(s);\\n      }\\n    };var element = document.getElementById(\"230e8d1a-4dc4-4d5e-8386-33424acd7977\");\\n    if (element == null) {\\n      console.log(\"Bokeh: ERROR: autoload.js configured with elementid \\'230e8d1a-4dc4-4d5e-8386-33424acd7977\\' but no matching script tag was found. \")\\n      return false;\\n    }\\n  \\n    var js_urls = [];\\n  \\n    var inline_js = [\\n      function(Bokeh) {\\n        (function() {\\n          var fn = function() {\\n            var docs_json = {\"76b432e3-9ab4-4381-86fc-fdf94cbb5be6\":{\"roots\":{\"references\":[{\"attributes\":{},\"id\":\"1b7b4301-0b65-415b-bfe1-d82bfddf65bb\",\"type\":\"BasicTicker\"},{\"attributes\":{\"callback\":null,\"end\":45},\"id\":\"b65e0b5d-0f5a-46a4-a12f-f7abb07717b4\",\"type\":\"Range1d\"},{\"attributes\":{\"active_drag\":\"auto\",\"active_scroll\":\"auto\",\"active_tap\":\"auto\",\"tools\":[{\"id\":\"e487b482-048e-4348-807f-7e99a32508cb\",\"type\":\"PanTool\"},{\"id\":\"03dd986d-c924-401d-bcd6-cb18f53ab740\",\"type\":\"ZoomInTool\"},{\"id\":\"81df912e-8f07-4091-b49a-e62ab9422b6f\",\"type\":\"ZoomOutTool\"},{\"id\":\"2e4bd2e3-f2eb-44f6-9365-4ff13a3c091d\",\"type\":\"UndoTool\"},{\"id\":\"4b3e0c4c-e141-4cd9-969d-cb4bf8899bdc\",\"type\":\"RedoTool\"},{\"id\":\"176decaf-ad21-43d2-91e3-bff8e0431fcc\",\"type\":\"ResetTool\"},{\"id\":\"2638c467-4080-41a4-96d7-a307f812622a\",\"type\":\"SaveTool\"}]},\"id\":\"16fe801a-ef0c-4f3a-949d-0700795bb17b\",\"type\":\"Toolbar\"},{\"attributes\":{\"below\":[{\"id\":\"7ab8fe10-0a90-406e-9b63-65fabc6f338d\",\"type\":\"LinearAxis\"}],\"left\":[{\"id\":\"1412d738-71d0-4361-8ff2-74fd7d74fa65\",\"type\":\"LinearAxis\"}],\"plot_height\":800,\"plot_width\":800,\"renderers\":[{\"id\":\"7ab8fe10-0a90-406e-9b63-65fabc6f338d\",\"type\":\"LinearAxis\"},{\"id\":\"b4d47e1e-8a1c-4494-875f-9812b038d7c5\",\"type\":\"Grid\"},{\"id\":\"1412d738-71d0-4361-8ff2-74fd7d74fa65\",\"type\":\"LinearAxis\"},{\"id\":\"1502bc51-c7e5-4ea0-9534-f2f72905486a\",\"type\":\"Grid\"},{\"id\":\"ed4b434c-59ae-4226-a285-f4b31cafa77f\",\"type\":\"Legend\"},{\"id\":\"4e78470b-ed87-4923-a93d-864e021e1ff2\",\"type\":\"GlyphRenderer\"},{\"id\":\"f603e60f-69c4-4130-84fd-983f3207258d\",\"type\":\"GlyphRenderer\"},{\"id\":\"1f2ae5e1-8f00-4aab-88a6-65463cafca69\",\"type\":\"GlyphRenderer\"},{\"id\":\"b0818826-d3b6-4af3-9b71-4f76aea58fe2\",\"type\":\"GlyphRenderer\"},{\"id\":\"c33225c8-a2ee-437c-9552-54ea31bb17cf\",\"type\":\"GlyphRenderer\"},{\"id\":\"4d5f2be8-2e3c-4302-a78e-3b0e6894a636\",\"type\":\"GlyphRenderer\"},{\"id\":\"502b3ef0-e74c-41cc-8772-a62d61d7b34c\",\"type\":\"GlyphRenderer\"},{\"id\":\"bd3c0f86-19db-4648-9e60-47feb2dda67c\",\"type\":\"GlyphRenderer\"},{\"id\":\"3a7eda57-8785-4a72-af0e-1f22f815a49e\",\"type\":\"GlyphRenderer\"}],\"title\":{\"id\":\"aa73bcfd-d5bd-4bf5-8950-f24a8fc70780\",\"type\":\"Title\"},\"tool_events\":{\"id\":\"6e225232-7a4d-43d0-889a-ed21cbf65dc8\",\"type\":\"ToolEvents\"},\"toolbar\":{\"id\":\"16fe801a-ef0c-4f3a-949d-0700795bb17b\",\"type\":\"Toolbar\"},\"x_range\":{\"id\":\"b65e0b5d-0f5a-46a4-a12f-f7abb07717b4\",\"type\":\"Range1d\"},\"y_range\":{\"id\":\"61b8dc3e-c06f-4d68-8986-240a4e97db50\",\"type\":\"Range1d\"}},\"id\":\"3aa98980-0362-4332-b14a-c946bcbdab63\",\"subtype\":\"Figure\",\"type\":\"Plot\"},{\"attributes\":{\"data_source\":{\"id\":\"ebeeb4cf-e1b9-4435-ae9c-8f681dee2b3b\",\"type\":\"ColumnDataSource\"},\"glyph\":{\"id\":\"5bdfa273-f3a1-425a-a3ce-4e15b465e8ef\",\"type\":\"Line\"},\"hover_glyph\":null,\"nonselection_glyph\":{\"id\":\"b1176cf4-004a-4254-9b2b-d1976161e738\",\"type\":\"Line\"},\"selection_glyph\":null},\"id\":\"b0818826-d3b6-4af3-9b71-4f76aea58fe2\",\"type\":\"GlyphRenderer\"},{\"attributes\":{\"label\":{\"value\":\"crew\"},\"renderers\":[{\"id\":\"b0818826-d3b6-4af3-9b71-4f76aea58fe2\",\"type\":\"GlyphRenderer\"}]},\"id\":\"787c0168-9e53-4b71-9efe-a38aabf9e26d\",\"type\":\"LegendItem\"},{\"attributes\":{\"callback\":null,\"column_names\":[\"x\",\"y\"],\"data\":{\"x\":[1,2,3,4,5,6,7,8,9,10,11,12,13,14,15,16,17,18,19,20,21,22,23,24,25,26,27,28,29,30,31,32,33,34,35,36,37,38,39,40,41,42],\"y\":[320,387,251,255,184,85,91,37,50,81,78,124,36,70,96,89,72,75,77,55,127,68,88,57,48,58,38,49,53,63,82,60,58,67,71,71,56,46,55,25,41,13]}},\"id\":\"ebeeb4cf-e1b9-4435-ae9c-8f681dee2b3b\",\"type\":\"ColumnDataSource\"},{\"attributes\":{\"callback\":null,\"column_names\":[\"x\",\"y\"],\"data\":{\"x\":[1,2,3,4,5,6,7,8,9,10,11,12,13,14,15,16,17,18,19,20,21,22,23,24,25,26,27,28,29,30,31,32,33,34,35,36,37,38,39,40,41,42],\"y\":[32,30,5,9,4,5,6,9,4,11,0,8,3,5,0,5,5,1,6,10,9,6,10,5,8,2,6,10,2,7,12,5,9,9,11,19,8,5,10,4,17,1]}},\"id\":\"6c5e4498-4e5d-4023-9826-bf33c109d744\",\"type\":\"ColumnDataSource\"},{\"attributes\":{\"label\":{\"value\":\"cast\"},\"renderers\":[{\"id\":\"1f2ae5e1-8f00-4aab-88a6-65463cafca69\",\"type\":\"GlyphRenderer\"}]},\"id\":\"42319b00-bd81-49c5-b1d0-f3b0396936a9\",\"type\":\"LegendItem\"},{\"attributes\":{\"line_alpha\":{\"value\":0.1},\"line_color\":{\"value\":\"#1f77b4\"},\"line_width\":{\"value\":3},\"x\":{\"field\":\"x\"},\"y\":{\"field\":\"y\"}},\"id\":\"abc1aa1c-71a5-4e64-a1a4-8b668b5dc28e\",\"type\":\"Line\"},{\"attributes\":{\"line_color\":{\"value\":\"#abdda4\"},\"line_width\":{\"value\":3},\"x\":{\"field\":\"x\"},\"y\":{\"field\":\"y\"}},\"id\":\"5bdfa273-f3a1-425a-a3ce-4e15b465e8ef\",\"type\":\"Line\"},{\"attributes\":{\"line_color\":{\"value\":\"#e6f598\"},\"line_width\":{\"value\":3},\"x\":{\"field\":\"x\"},\"y\":{\"field\":\"y\"}},\"id\":\"006a5c05-0015-4854-b089-9c2dbb32c894\",\"type\":\"Line\"},{\"attributes\":{\"label\":{\"value\":\"filmed\"},\"renderers\":[{\"id\":\"c33225c8-a2ee-437c-9552-54ea31bb17cf\",\"type\":\"GlyphRenderer\"}]},\"id\":\"5c34d1c7-d1af-4013-966a-d544362abdc9\",\"type\":\"LegendItem\"},{\"attributes\":{\"data_source\":{\"id\":\"6c5e4498-4e5d-4023-9826-bf33c109d744\",\"type\":\"ColumnDataSource\"},\"glyph\":{\"id\":\"006a5c05-0015-4854-b089-9c2dbb32c894\",\"type\":\"Line\"},\"hover_glyph\":null,\"nonselection_glyph\":{\"id\":\"abc1aa1c-71a5-4e64-a1a4-8b668b5dc28e\",\"type\":\"Line\"},\"selection_glyph\":null},\"id\":\"c33225c8-a2ee-437c-9552-54ea31bb17cf\",\"type\":\"GlyphRenderer\"},{\"attributes\":{\"line_color\":{\"value\":\"#66c2a5\"},\"line_width\":{\"value\":3},\"x\":{\"field\":\"x\"},\"y\":{\"field\":\"y\"}},\"id\":\"6c7d4329-f90e-43ef-a705-8ebf0432f98c\",\"type\":\"Line\"},{\"attributes\":{\"line_color\":{\"value\":\"#ffffbf\"},\"line_width\":{\"value\":3},\"x\":{\"field\":\"x\"},\"y\":{\"field\":\"y\"}},\"id\":\"2a36dc6b-2254-4bea-9ff3-08a79cd87287\",\"type\":\"Line\"},{\"attributes\":{\"data_source\":{\"id\":\"96865192-77eb-4bbc-8e8a-65c16ff6869d\",\"type\":\"ColumnDataSource\"},\"glyph\":{\"id\":\"6c7d4329-f90e-43ef-a705-8ebf0432f98c\",\"type\":\"Line\"},\"hover_glyph\":null,\"nonselection_glyph\":{\"id\":\"099b001e-d502-4537-b936-a1e0e6c36b44\",\"type\":\"Line\"},\"selection_glyph\":null},\"id\":\"1f2ae5e1-8f00-4aab-88a6-65463cafca69\",\"type\":\"GlyphRenderer\"},{\"attributes\":{\"data_source\":{\"id\":\"f06ff90f-54c2-49eb-aad1-429499335bd4\",\"type\":\"ColumnDataSource\"},\"glyph\":{\"id\":\"2a36dc6b-2254-4bea-9ff3-08a79cd87287\",\"type\":\"Line\"},\"hover_glyph\":null,\"nonselection_glyph\":{\"id\":\"1a4e9083-09ef-40af-a970-d0f7e2e4afea\",\"type\":\"Line\"},\"selection_glyph\":null},\"id\":\"4d5f2be8-2e3c-4302-a78e-3b0e6894a636\",\"type\":\"GlyphRenderer\"},{\"attributes\":{\"line_alpha\":{\"value\":0.1},\"line_color\":{\"value\":\"#1f77b4\"},\"line_width\":{\"value\":3},\"x\":{\"field\":\"x\"},\"y\":{\"field\":\"y\"}},\"id\":\"1a4e9083-09ef-40af-a970-d0f7e2e4afea\",\"type\":\"Line\"},{\"attributes\":{},\"id\":\"73132b2c-42b8-4cdc-88e4-1ffab5d79297\",\"type\":\"BasicTickFormatter\"},{\"attributes\":{\"callback\":null,\"column_names\":[\"x\",\"y\"],\"data\":{\"x\":[1,2,3,4,5,6,7,8,9,10,11,12,13,14,15,16,17,18,19,20,21,22,23,24,25,26,27,28,29,30,31,32,33,34,35,36,37,38,39,40,41,42],\"y\":[176,148,124,103,114,79,89,116,139,91,119,142,79,124,111,131,139,125,140,134,116,111,134,130,132,117,133,145,154,132,138,148,100,164,176,144,153,157,166,166,161,99]}},\"id\":\"35c4b1df-6c62-4ed1-8acb-359765747ae2\",\"type\":\"ColumnDataSource\"},{\"attributes\":{\"label\":{\"value\":\"guest\"},\"renderers\":[{\"id\":\"4d5f2be8-2e3c-4302-a78e-3b0e6894a636\",\"type\":\"GlyphRenderer\"}]},\"id\":\"6a4a67d8-7a15-4651-a4ec-da28716a7054\",\"type\":\"LegendItem\"},{\"attributes\":{\"line_alpha\":{\"value\":0.1},\"line_color\":{\"value\":\"#1f77b4\"},\"line_width\":{\"value\":3},\"x\":{\"field\":\"x\"},\"y\":{\"field\":\"y\"}},\"id\":\"866cd5af-b209-4681-b689-0d5f322ed613\",\"type\":\"Line\"},{\"attributes\":{\"line_alpha\":{\"value\":0.1},\"line_color\":{\"value\":\"#1f77b4\"},\"line_width\":{\"value\":3},\"x\":{\"field\":\"x\"},\"y\":{\"field\":\"y\"}},\"id\":\"099b001e-d502-4537-b936-a1e0e6c36b44\",\"type\":\"Line\"},{\"attributes\":{\"line_color\":{\"value\":\"#fee08b\"},\"line_width\":{\"value\":3},\"x\":{\"field\":\"x\"},\"y\":{\"field\":\"y\"}},\"id\":\"c1e3ac4b-e3bd-4258-be2f-4c847dd0e3db\",\"type\":\"Line\"},{\"attributes\":{\"label\":{\"value\":\"host\"},\"renderers\":[{\"id\":\"502b3ef0-e74c-41cc-8772-a62d61d7b34c\",\"type\":\"GlyphRenderer\"}]},\"id\":\"5a9c5a06-55aa-48e6-9614-4ef8b870ab40\",\"type\":\"LegendItem\"},{\"attributes\":{\"data_source\":{\"id\":\"35c4b1df-6c62-4ed1-8acb-359765747ae2\",\"type\":\"ColumnDataSource\"},\"glyph\":{\"id\":\"c1e3ac4b-e3bd-4258-be2f-4c847dd0e3db\",\"type\":\"Line\"},\"hover_glyph\":null,\"nonselection_glyph\":{\"id\":\"866cd5af-b209-4681-b689-0d5f322ed613\",\"type\":\"Line\"},\"selection_glyph\":null},\"id\":\"502b3ef0-e74c-41cc-8772-a62d61d7b34c\",\"type\":\"GlyphRenderer\"},{\"attributes\":{\"callback\":null,\"column_names\":[\"x\",\"y\"],\"data\":{\"x\":[1,2,3,4,5,6,7,8,9,10,11,12,13,14,15,16,17,18,19,20,21,22,23,24,25,26,27,28,29,30,31,32,33,34,35,36,37,38,39,40,41,42],\"y\":[53,60,44,35,51,35,47,38,39,35,38,44,31,43,67,45,40,52,48,42,39,41,25,35,47,46,40,45,38,41,43,38,27,56,53,61,58,43,44,51,46,32]}},\"id\":\"f082b47b-1560-41ab-9173-e5b01960a2e8\",\"type\":\"ColumnDataSource\"},{\"attributes\":{\"line_alpha\":{\"value\":0.1},\"line_color\":{\"value\":\"#1f77b4\"},\"line_width\":{\"value\":3},\"x\":{\"field\":\"x\"},\"y\":{\"field\":\"y\"}},\"id\":\"2aa30739-8aad-457f-be99-3a778c9c2ad6\",\"type\":\"Line\"},{\"attributes\":{\"plot\":{\"id\":\"3aa98980-0362-4332-b14a-c946bcbdab63\",\"subtype\":\"Figure\",\"type\":\"Plot\"}},\"id\":\"176decaf-ad21-43d2-91e3-bff8e0431fcc\",\"type\":\"ResetTool\"},{\"attributes\":{\"line_color\":{\"value\":\"#fdae61\"},\"line_width\":{\"value\":3},\"x\":{\"field\":\"x\"},\"y\":{\"field\":\"y\"}},\"id\":\"88417380-6b46-4057-8feb-fba945aa7cfe\",\"type\":\"Line\"},{\"attributes\":{\"label\":{\"value\":\"music\"},\"renderers\":[{\"id\":\"bd3c0f86-19db-4648-9e60-47feb2dda67c\",\"type\":\"GlyphRenderer\"}]},\"id\":\"ece074b4-3a1f-4325-8ea8-d3513aefe4e1\",\"type\":\"LegendItem\"},{\"attributes\":{\"data_source\":{\"id\":\"f082b47b-1560-41ab-9173-e5b01960a2e8\",\"type\":\"ColumnDataSource\"},\"glyph\":{\"id\":\"88417380-6b46-4057-8feb-fba945aa7cfe\",\"type\":\"Line\"},\"hover_glyph\":null,\"nonselection_glyph\":{\"id\":\"2aa30739-8aad-457f-be99-3a778c9c2ad6\",\"type\":\"Line\"},\"selection_glyph\":null},\"id\":\"bd3c0f86-19db-4648-9e60-47feb2dda67c\",\"type\":\"GlyphRenderer\"},{\"attributes\":{\"callback\":null,\"column_names\":[\"x\",\"y\"],\"data\":{\"x\":[1,2,3,4,5,6,7,8,9,10,11,12,13,14,15,16,17,18,19,20,21,22,23,24,25,26,27,28,29,30,31,32,33,34,35,36,37,38,39,40,41,42],\"y\":[0,0,0,0,0,0,0,0,0,0,0,2,1,1,3,25,29,28,7,13,17,0,12,0,0,0,14,3,0,0,0,0,0,0,0,0,1,3,0,0,1,0]}},\"id\":\"e5416c4f-290c-4f85-aa3b-833bc63fe619\",\"type\":\"ColumnDataSource\"},{\"attributes\":{\"line_alpha\":{\"value\":0.1},\"line_color\":{\"value\":\"#1f77b4\"},\"line_width\":{\"value\":3},\"x\":{\"field\":\"x\"},\"y\":{\"field\":\"y\"}},\"id\":\"742cc4c7-1621-46dc-8ac9-d8796c8f081a\",\"type\":\"Line\"},{\"attributes\":{\"line_color\":{\"value\":\"#f46d43\"},\"line_width\":{\"value\":3},\"x\":{\"field\":\"x\"},\"y\":{\"field\":\"y\"}},\"id\":\"a0a1f2be-97bf-4225-a9bb-310737be3435\",\"type\":\"Line\"},{\"attributes\":{\"label\":{\"value\":\"cameo\"},\"renderers\":[{\"id\":\"f603e60f-69c4-4130-84fd-983f3207258d\",\"type\":\"GlyphRenderer\"}]},\"id\":\"10da7a79-d599-496e-95f9-6a45fb5201bc\",\"type\":\"LegendItem\"},{\"attributes\":{\"label\":{\"value\":\"unknown\"},\"renderers\":[{\"id\":\"3a7eda57-8785-4a72-af0e-1f22f815a49e\",\"type\":\"GlyphRenderer\"}]},\"id\":\"cc7e242e-d471-4948-913c-9dd7f592d0e3\",\"type\":\"LegendItem\"},{\"attributes\":{\"data_source\":{\"id\":\"e5416c4f-290c-4f85-aa3b-833bc63fe619\",\"type\":\"ColumnDataSource\"},\"glyph\":{\"id\":\"a0a1f2be-97bf-4225-a9bb-310737be3435\",\"type\":\"Line\"},\"hover_glyph\":null,\"nonselection_glyph\":{\"id\":\"742cc4c7-1621-46dc-8ac9-d8796c8f081a\",\"type\":\"Line\"},\"selection_glyph\":null},\"id\":\"3a7eda57-8785-4a72-af0e-1f22f815a49e\",\"type\":\"GlyphRenderer\"},{\"attributes\":{\"line_color\":{\"value\":\"#3288bd\"},\"line_width\":{\"value\":3},\"x\":{\"field\":\"x\"},\"y\":{\"field\":\"y\"}},\"id\":\"c419acc5-df0f-4233-8d67-bc7bea8d5b25\",\"type\":\"Line\"},{\"attributes\":{\"callback\":null,\"column_names\":[\"x\",\"y\"],\"data\":{\"x\":[1,2,3,4,5,6,7,8,9,10,11,12,13,14,15,16,17,18,19,20,21,22,23,24,25,26,27,28,29,30,31,32,33,34,35,36,37,38,39,40,41,42],\"y\":[841,780,739,691,737,491,594,604,623,508,587,633,374,688,608,723,846,774,857,790,724,644,699,651,656,737,841,857,767,859,904,744,485,901,896,909,963,925,980,1014,1062,602]}},\"id\":\"96865192-77eb-4bbc-8e8a-65c16ff6869d\",\"type\":\"ColumnDataSource\"},{\"attributes\":{\"data_source\":{\"id\":\"cdcdc3e2-a294-4876-98af-02530ce4db0a\",\"type\":\"ColumnDataSource\"},\"glyph\":{\"id\":\"c419acc5-df0f-4233-8d67-bc7bea8d5b25\",\"type\":\"Line\"},\"hover_glyph\":null,\"nonselection_glyph\":{\"id\":\"ccca8124-fe54-4bbd-aca8-7c86ea60256f\",\"type\":\"Line\"},\"selection_glyph\":null},\"id\":\"f603e60f-69c4-4130-84fd-983f3207258d\",\"type\":\"GlyphRenderer\"},{\"attributes\":{\"plot\":{\"id\":\"3aa98980-0362-4332-b14a-c946bcbdab63\",\"subtype\":\"Figure\",\"type\":\"Plot\"}},\"id\":\"4b3e0c4c-e141-4cd9-969d-cb4bf8899bdc\",\"type\":\"RedoTool\"},{\"attributes\":{\"callback\":null,\"column_names\":[\"x\",\"y\"],\"data\":{\"x\":[1,2,3,4,5,6,7,8,9,10,11,12,13,14,15,16,17,18,19,20,21,22,23,24,25,26,27,28,29,30,31,32,33,34,35,36,37,38,39,40,41,42],\"y\":[14,17,71,17,24,21,23,22,18,23,6,22,18,13,8,17,26,14,19,17,33,22,35,27,32,36,21,22,27,19,19,18,19,43,37,34,54,54,33,41,44,20]}},\"id\":\"cdcdc3e2-a294-4876-98af-02530ce4db0a\",\"type\":\"ColumnDataSource\"},{\"attributes\":{},\"id\":\"6e225232-7a4d-43d0-889a-ed21cbf65dc8\",\"type\":\"ToolEvents\"},{\"attributes\":{\"callback\":null,\"column_names\":[\"x\",\"y\"],\"data\":{\"x\":[1,2,3,4,5,6,7,8,9,10,11,12,13,14,15,16,17,18,19,20,21,22,23,24,25,26,27,28,29,30,31,32,33,34,35,36,37,38,39,40,41,42],\"y\":[44,6,5,2,3,0,12,11,7,3,17,23,2,3,0,2,0,2,1,2,0,4,7,4,0,0,0,3,0,1,0,0,0,0,0,0,6,0,0,0,2,0]}},\"id\":\"f06ff90f-54c2-49eb-aad1-429499335bd4\",\"type\":\"ColumnDataSource\"},{\"attributes\":{\"plot\":{\"id\":\"3aa98980-0362-4332-b14a-c946bcbdab63\",\"subtype\":\"Figure\",\"type\":\"Plot\"}},\"id\":\"03dd986d-c924-401d-bcd6-cb18f53ab740\",\"type\":\"ZoomInTool\"},{\"attributes\":{\"plot\":{\"id\":\"3aa98980-0362-4332-b14a-c946bcbdab63\",\"subtype\":\"Figure\",\"type\":\"Plot\"}},\"id\":\"81df912e-8f07-4091-b49a-e62ab9422b6f\",\"type\":\"ZoomOutTool\"},{\"attributes\":{\"callback\":null,\"end\":1480,\"start\":-10},\"id\":\"61b8dc3e-c06f-4d68-8986-240a4e97db50\",\"type\":\"Range1d\"},{\"attributes\":{\"formatter\":{\"id\":\"73132b2c-42b8-4cdc-88e4-1ffab5d79297\",\"type\":\"BasicTickFormatter\"},\"plot\":{\"id\":\"3aa98980-0362-4332-b14a-c946bcbdab63\",\"subtype\":\"Figure\",\"type\":\"Plot\"},\"ticker\":{\"id\":\"1b7b4301-0b65-415b-bfe1-d82bfddf65bb\",\"type\":\"BasicTicker\"}},\"id\":\"7ab8fe10-0a90-406e-9b63-65fabc6f338d\",\"type\":\"LinearAxis\"},{\"attributes\":{\"line_alpha\":{\"value\":0.1},\"line_color\":{\"value\":\"#1f77b4\"},\"line_width\":{\"value\":3},\"x\":{\"field\":\"x\"},\"y\":{\"field\":\"y\"}},\"id\":\"3126021d-9fb6-4d9e-b3a9-12b551563d29\",\"type\":\"Line\"},{\"attributes\":{\"plot\":{\"id\":\"3aa98980-0362-4332-b14a-c946bcbdab63\",\"subtype\":\"Figure\",\"type\":\"Plot\"},\"ticker\":{\"id\":\"1b7b4301-0b65-415b-bfe1-d82bfddf65bb\",\"type\":\"BasicTicker\"}},\"id\":\"b4d47e1e-8a1c-4494-875f-9812b038d7c5\",\"type\":\"Grid\"},{\"attributes\":{\"formatter\":{\"id\":\"36d2ab88-0283-4f33-8eb1-a52d65533d33\",\"type\":\"BasicTickFormatter\"},\"plot\":{\"id\":\"3aa98980-0362-4332-b14a-c946bcbdab63\",\"subtype\":\"Figure\",\"type\":\"Plot\"},\"ticker\":{\"id\":\"e0db3ecf-ed56-4837-8e30-b483708eb6d7\",\"type\":\"BasicTicker\"}},\"id\":\"1412d738-71d0-4361-8ff2-74fd7d74fa65\",\"type\":\"LinearAxis\"},{\"attributes\":{},\"id\":\"e0db3ecf-ed56-4837-8e30-b483708eb6d7\",\"type\":\"BasicTicker\"},{\"attributes\":{\"dimension\":1,\"plot\":{\"id\":\"3aa98980-0362-4332-b14a-c946bcbdab63\",\"subtype\":\"Figure\",\"type\":\"Plot\"},\"ticker\":{\"id\":\"e0db3ecf-ed56-4837-8e30-b483708eb6d7\",\"type\":\"BasicTicker\"}},\"id\":\"1502bc51-c7e5-4ea0-9534-f2f72905486a\",\"type\":\"Grid\"},{\"attributes\":{\"data_source\":{\"id\":\"af65777b-b150-47d1-ad62-789c8d32e57c\",\"type\":\"ColumnDataSource\"},\"glyph\":{\"id\":\"553fd1fa-6cc2-4242-af76-690e2920ce39\",\"type\":\"Line\"},\"hover_glyph\":null,\"nonselection_glyph\":{\"id\":\"3126021d-9fb6-4d9e-b3a9-12b551563d29\",\"type\":\"Line\"},\"selection_glyph\":null},\"id\":\"4e78470b-ed87-4923-a93d-864e021e1ff2\",\"type\":\"GlyphRenderer\"},{\"attributes\":{\"line_color\":{\"value\":\"#5e4fa2\"},\"line_width\":{\"value\":3},\"x\":{\"field\":\"x\"},\"y\":{\"field\":\"y\"}},\"id\":\"553fd1fa-6cc2-4242-af76-690e2920ce39\",\"type\":\"Line\"},{\"attributes\":{\"line_alpha\":{\"value\":0.1},\"line_color\":{\"value\":\"#1f77b4\"},\"line_width\":{\"value\":3},\"x\":{\"field\":\"x\"},\"y\":{\"field\":\"y\"}},\"id\":\"b1176cf4-004a-4254-9b2b-d1976161e738\",\"type\":\"Line\"},{\"attributes\":{\"callback\":null,\"column_names\":[\"x\",\"y\"],\"data\":{\"x\":[1,2,3,4,5,6,7,8,9,10,11,12,13,14,15,16,17,18,19,20,21,22,23,24,25,26,27,28,29,30,31,32,33,34,35,36,37,38,39,40,41,42],\"y\":[1480,1428,1239,1112,1117,716,862,837,880,752,845,998,544,947,893,1037,1157,1071,1155,1063,1065,896,1010,909,923,996,1093,1134,1041,1122,1198,1013,698,1240,1244,1238,1299,1233,1288,1301,1374,767]}},\"id\":\"af65777b-b150-47d1-ad62-789c8d32e57c\",\"type\":\"ColumnDataSource\"},{\"attributes\":{\"line_alpha\":{\"value\":0.1},\"line_color\":{\"value\":\"#1f77b4\"},\"line_width\":{\"value\":3},\"x\":{\"field\":\"x\"},\"y\":{\"field\":\"y\"}},\"id\":\"ccca8124-fe54-4bbd-aca8-7c86ea60256f\",\"type\":\"Line\"},{\"attributes\":{},\"id\":\"36d2ab88-0283-4f33-8eb1-a52d65533d33\",\"type\":\"BasicTickFormatter\"},{\"attributes\":{\"plot\":{\"id\":\"3aa98980-0362-4332-b14a-c946bcbdab63\",\"subtype\":\"Figure\",\"type\":\"Plot\"}},\"id\":\"e487b482-048e-4348-807f-7e99a32508cb\",\"type\":\"PanTool\"},{\"attributes\":{\"plot\":{\"id\":\"3aa98980-0362-4332-b14a-c946bcbdab63\",\"subtype\":\"Figure\",\"type\":\"Plot\"}},\"id\":\"2638c467-4080-41a4-96d7-a307f812622a\",\"type\":\"SaveTool\"},{\"attributes\":{\"plot\":{\"id\":\"3aa98980-0362-4332-b14a-c946bcbdab63\",\"subtype\":\"Figure\",\"type\":\"Plot\"}},\"id\":\"2e4bd2e3-f2eb-44f6-9365-4ff13a3c091d\",\"type\":\"UndoTool\"},{\"attributes\":{\"plot\":null,\"text\":\"\"},\"id\":\"aa73bcfd-d5bd-4bf5-8950-f24a8fc70780\",\"type\":\"Title\"},{\"attributes\":{\"items\":[{\"id\":\"fb1cc3dc-c991-4694-b884-5664f609b4bd\",\"type\":\"LegendItem\"},{\"id\":\"10da7a79-d599-496e-95f9-6a45fb5201bc\",\"type\":\"LegendItem\"},{\"id\":\"42319b00-bd81-49c5-b1d0-f3b0396936a9\",\"type\":\"LegendItem\"},{\"id\":\"787c0168-9e53-4b71-9efe-a38aabf9e26d\",\"type\":\"LegendItem\"},{\"id\":\"5c34d1c7-d1af-4013-966a-d544362abdc9\",\"type\":\"LegendItem\"},{\"id\":\"6a4a67d8-7a15-4651-a4ec-da28716a7054\",\"type\":\"LegendItem\"},{\"id\":\"5a9c5a06-55aa-48e6-9614-4ef8b870ab40\",\"type\":\"LegendItem\"},{\"id\":\"ece074b4-3a1f-4325-8ea8-d3513aefe4e1\",\"type\":\"LegendItem\"},{\"id\":\"cc7e242e-d471-4948-913c-9dd7f592d0e3\",\"type\":\"LegendItem\"}],\"plot\":{\"id\":\"3aa98980-0362-4332-b14a-c946bcbdab63\",\"subtype\":\"Figure\",\"type\":\"Plot\"}},\"id\":\"ed4b434c-59ae-4226-a285-f4b31cafa77f\",\"type\":\"Legend\"},{\"attributes\":{\"label\":{\"value\":\"Appearances\"},\"renderers\":[{\"id\":\"4e78470b-ed87-4923-a93d-864e021e1ff2\",\"type\":\"GlyphRenderer\"}]},\"id\":\"fb1cc3dc-c991-4694-b884-5664f609b4bd\",\"type\":\"LegendItem\"}],\"root_ids\":[\"3aa98980-0362-4332-b14a-c946bcbdab63\"]},\"title\":\"Bokeh Application\",\"version\":\"0.12.4\"}};\\n            var render_items = [{\"docid\":\"76b432e3-9ab4-4381-86fc-fdf94cbb5be6\",\"elementid\":\"230e8d1a-4dc4-4d5e-8386-33424acd7977\",\"modelid\":\"3aa98980-0362-4332-b14a-c946bcbdab63\"}];\\n            \\n            Bokeh.embed.embed_items(docs_json, render_items);\\n          };\\n          if (document.readyState != \"loading\") fn();\\n          else document.addEventListener(\"DOMContentLoaded\", fn);\\n        })();\\n      },\\n      function(Bokeh) {\\n      }\\n    ];\\n  \\n    function run_inline_js() {\\n      \\n      if ((window.Bokeh !== undefined) || (force === true)) {\\n        for (var i = 0; i < inline_js.length; i++) {\\n          inline_js[i](window.Bokeh);\\n        }if (force === true) {\\n          display_loaded();\\n        }} else if (Date.now() < window._bokeh_timeout) {\\n        setTimeout(run_inline_js, 100);\\n      } else if (!window._bokeh_failed_load) {\\n        console.log(\"Bokeh: BokehJS failed to load within specified timeout.\");\\n        window._bokeh_failed_load = true;\\n      } else if (force !== true) {\\n        var cell = $(document.getElementById(\"230e8d1a-4dc4-4d5e-8386-33424acd7977\")).parents(\\'.cell\\').data().cell;\\n        cell.output_area.append_execute_result(NB_LOAD_WARNING)\\n      }\\n  \\n    }\\n  \\n    if (window._bokeh_is_loading === 0) {\\n      console.log(\"Bokeh: BokehJS loaded, going straight to plotting\");\\n      run_inline_js();\\n    } else {\\n      load_libs(js_urls, function() {\\n        console.log(\"Bokeh: BokehJS plotting callback run at\", now());\\n        run_inline_js();\\n      });\\n    }\\n  }(this));\\n</script>'"
      ]
     },
     "execution_count": 15,
     "metadata": {},
     "output_type": "execute_result"
    }
   ],
   "source": [
    "notebook_div(p)"
   ]
  },
  {
   "cell_type": "code",
   "execution_count": 7,
   "metadata": {
    "collapsed": false
   },
   "outputs": [],
   "source": [
    "df_sea_cat_avg = df_sea_cat.copy()\n",
    "df_sea_cat_avg['Episodes'] = dfe.groupby(['sid'])['eid'].count()"
   ]
  },
  {
   "cell_type": "code",
   "execution_count": 8,
   "metadata": {
    "collapsed": false
   },
   "outputs": [],
   "source": [
    "for column in df_sea_cat_avg.columns:\n",
    "    if column != 'Episodes':\n",
    "        df_sea_cat_avg[column] = df_sea_cat_avg[column] / df_sea_cat_avg['Episodes']"
   ]
  },
  {
   "cell_type": "code",
   "execution_count": 9,
   "metadata": {
    "collapsed": false
   },
   "outputs": [],
   "source": [
    "TOOLS=['pan','zoom_in','zoom_out','undo','redo','reset','save']\n",
    "p = figure(plot_width=800, plot_height=800, y_range=(-10,df_sea_cat_avg['Appearances'].max()),x_range=(0,45), tools=TOOLS)\n",
    "\n",
    "for column in df_sea_cat_avg.columns:\n",
    "    p.line(df_sea_cat_avg.index,df_sea_cat_avg[column], legend=column, line_color=Spectral11[df_sea_cat_avg.columns.get_loc(column)], line_width=3)"
   ]
  },
  {
   "cell_type": "markdown",
   "metadata": {},
   "source": [
    "### Type of Title per Season (on average)"
   ]
  },
  {
   "cell_type": "code",
   "execution_count": 10,
   "metadata": {
    "collapsed": false
   },
   "outputs": [
    {
     "data": {
      "text/html": [
       "\n",
       "\n",
       "    <div class=\"bk-root\">\n",
       "        <div class=\"bk-plotdiv\" id=\"bcd7fa14-d9c0-4449-8972-9b7dd7cc996c\"></div>\n",
       "    </div>\n",
       "<script type=\"text/javascript\">\n",
       "  \n",
       "  (function(global) {\n",
       "    function now() {\n",
       "      return new Date();\n",
       "    }\n",
       "  \n",
       "    var force = false;\n",
       "  \n",
       "    if (typeof (window._bokeh_onload_callbacks) === \"undefined\" || force === true) {\n",
       "      window._bokeh_onload_callbacks = [];\n",
       "      window._bokeh_is_loading = undefined;\n",
       "    }\n",
       "  \n",
       "  \n",
       "    \n",
       "    if (typeof (window._bokeh_timeout) === \"undefined\" || force === true) {\n",
       "      window._bokeh_timeout = Date.now() + 0;\n",
       "      window._bokeh_failed_load = false;\n",
       "    }\n",
       "  \n",
       "    var NB_LOAD_WARNING = {'data': {'text/html':\n",
       "       \"<div style='background-color: #fdd'>\\n\"+\n",
       "       \"<p>\\n\"+\n",
       "       \"BokehJS does not appear to have successfully loaded. If loading BokehJS from CDN, this \\n\"+\n",
       "       \"may be due to a slow or bad network connection. Possible fixes:\\n\"+\n",
       "       \"</p>\\n\"+\n",
       "       \"<ul>\\n\"+\n",
       "       \"<li>re-rerun `output_notebook()` to attempt to load from CDN again, or</li>\\n\"+\n",
       "       \"<li>use INLINE resources instead, as so:</li>\\n\"+\n",
       "       \"</ul>\\n\"+\n",
       "       \"<code>\\n\"+\n",
       "       \"from bokeh.resources import INLINE\\n\"+\n",
       "       \"output_notebook(resources=INLINE)\\n\"+\n",
       "       \"</code>\\n\"+\n",
       "       \"</div>\"}};\n",
       "  \n",
       "    function display_loaded() {\n",
       "      if (window.Bokeh !== undefined) {\n",
       "        document.getElementById(\"bcd7fa14-d9c0-4449-8972-9b7dd7cc996c\").textContent = \"BokehJS successfully loaded.\";\n",
       "      } else if (Date.now() < window._bokeh_timeout) {\n",
       "        setTimeout(display_loaded, 100)\n",
       "      }\n",
       "    }if ((window.Jupyter !== undefined) && Jupyter.notebook.kernel) {\n",
       "      comm_manager = Jupyter.notebook.kernel.comm_manager\n",
       "      comm_manager.register_target(\"a4889fc8-85b7-4f20-8be9-1a6684eb4473\", function () {});\n",
       "    }\n",
       "  \n",
       "    function run_callbacks() {\n",
       "      window._bokeh_onload_callbacks.forEach(function(callback) { callback() });\n",
       "      delete window._bokeh_onload_callbacks\n",
       "      console.info(\"Bokeh: all callbacks have finished\");\n",
       "    }\n",
       "  \n",
       "    function load_libs(js_urls, callback) {\n",
       "      window._bokeh_onload_callbacks.push(callback);\n",
       "      if (window._bokeh_is_loading > 0) {\n",
       "        console.log(\"Bokeh: BokehJS is being loaded, scheduling callback at\", now());\n",
       "        return null;\n",
       "      }\n",
       "      if (js_urls == null || js_urls.length === 0) {\n",
       "        run_callbacks();\n",
       "        return null;\n",
       "      }\n",
       "      console.log(\"Bokeh: BokehJS not loaded, scheduling load and callback at\", now());\n",
       "      window._bokeh_is_loading = js_urls.length;\n",
       "      for (var i = 0; i < js_urls.length; i++) {\n",
       "        var url = js_urls[i];\n",
       "        var s = document.createElement('script');\n",
       "        s.src = url;\n",
       "        s.async = false;\n",
       "        s.onreadystatechange = s.onload = function() {\n",
       "          window._bokeh_is_loading--;\n",
       "          if (window._bokeh_is_loading === 0) {\n",
       "            console.log(\"Bokeh: all BokehJS libraries loaded\");\n",
       "            run_callbacks()\n",
       "          }\n",
       "        };\n",
       "        s.onerror = function() {\n",
       "          console.warn(\"failed to load library \" + url);\n",
       "        };\n",
       "        console.log(\"Bokeh: injecting script tag for BokehJS library: \", url);\n",
       "        document.getElementsByTagName(\"head\")[0].appendChild(s);\n",
       "      }\n",
       "    };var element = document.getElementById(\"bcd7fa14-d9c0-4449-8972-9b7dd7cc996c\");\n",
       "    if (element == null) {\n",
       "      console.log(\"Bokeh: ERROR: autoload.js configured with elementid 'bcd7fa14-d9c0-4449-8972-9b7dd7cc996c' but no matching script tag was found. \")\n",
       "      return false;\n",
       "    }\n",
       "  \n",
       "    var js_urls = [];\n",
       "  \n",
       "    var inline_js = [\n",
       "      function(Bokeh) {\n",
       "        (function() {\n",
       "          var fn = function() {\n",
       "            var docs_json = {\"b73b30b3-a973-43e4-a356-c786f61860d4\":{\"roots\":{\"references\":[{\"attributes\":{\"callback\":null,\"column_names\":[\"x\",\"y\"],\"data\":{\"x\":[1,2,3,4,5,6,7,8,9,10,11,12,13,14,15,16,17,18,19,20,21,22,23,24,25,26,27,28,29,30,31,32,33,34,35,36,37,38,39,40,41,42],\"y\":{\"__ndarray__\":\"q6qqqqqqAUDRRRdddNEFQJqZmZmZmQFAAAAAAAAA/D9mZmZmZmYEQJ7YiZ3YiQVAzczMzMzMAkBmZmZmZmb+P72G8hrKawBAeHh4eHh4AEA5juM4juMAQJqZmZmZmQFAO7ETO7ETA0AzMzMzMzMBQM3MzMzMzApAAAAAAAAAAkAAAAAAAAAAQM3MzMzMzARAMzMzMzMzA0DNzMzMzMwAQDMzMzMzM/8/ZmZmZmZmAEAAAAAAAAD0P5TXUF5Def0/zczMzMzMAkBmZmZmZmYCQAAAAAAAAABAAAAAAAAAAkBmZmZmZmb+P2ZmZmZmZgBAr6G8hvIaAkBmZmZmZmb+PwAAAAAAAAJAXXTRRRddBEBGF1100UUDQC+66KKLLgZAF1100UUXBUAYhmEYhmEAQDEMwzAMwwBA27Zt27ZtA0BiGIZhGIYBQJIkSZIkSQJA\",\"dtype\":\"float64\",\"shape\":[42]}}},\"id\":\"d0a12c4e-18ca-4321-a365-953cecbd4091\",\"type\":\"ColumnDataSource\"},{\"attributes\":{\"callback\":null,\"column_names\":[\"x\",\"y\"],\"data\":{\"x\":[1,2,3,4,5,6,7,8,9,10,11,12,13,14,15,16,17,18,19,20,21,22,23,24,25,26,27,28,29,30,31,32,33,34,35,36,37,38,39,40,41,42],\"y\":{\"__ndarray__\":\"AAAAAAAAAAAAAAAAAAAAAAAAAAAAAAAAAAAAAAAAAAAAAAAAAAAAAAAAAAAAAAAAAAAAAAAAAAAAAAAAAAAAAAAAAAAAAAAAAAAAAAAAAAAAAAAAAAAAAJqZmZmZmbk/FDuxEzuxsz+amZmZmZmpPzMzMzMzM8M/AAAAAAAA9D8zMzMzMzP3P2ZmZmZmZvY/ZmZmZmZm1j/NzMzMzMzkPzMzMzMzM+s/AAAAAAAAAAAzMzMzMzPjPwAAAAAAAAAAAAAAAAAAAAAAAAAAAAAAAGZmZmZmZuY/MzMzMzMzwz8AAAAAAAAAAAAAAAAAAAAAAAAAAAAAAAAAAAAAAAAAAAAAAAAAAAAAAAAAAAAAAAAAAAAAAAAAAAAAAAAAAAAARhdddNFFpz+SJEmSJEnCPwAAAAAAAAAAAAAAAAAAAAAYhmEYhmGoPwAAAAAAAAAA\",\"dtype\":\"float64\",\"shape\":[42]}}},\"id\":\"96dd6bc7-84cb-4e87-bce7-d41ba03ecffb\",\"type\":\"ColumnDataSource\"},{\"attributes\":{\"below\":[{\"id\":\"02327c6e-4a3e-4cfa-a04e-5047deb416ad\",\"type\":\"LinearAxis\"}],\"left\":[{\"id\":\"e5248dc1-52c2-4d61-913a-b367df21e706\",\"type\":\"LinearAxis\"}],\"plot_height\":800,\"plot_width\":800,\"renderers\":[{\"id\":\"02327c6e-4a3e-4cfa-a04e-5047deb416ad\",\"type\":\"LinearAxis\"},{\"id\":\"5a18483e-01b3-44f4-8349-3cdcda9820a1\",\"type\":\"Grid\"},{\"id\":\"e5248dc1-52c2-4d61-913a-b367df21e706\",\"type\":\"LinearAxis\"},{\"id\":\"74726cfd-a68e-4c8d-a4d8-93ce7930bf49\",\"type\":\"Grid\"},{\"id\":\"65f5a544-7119-4f3a-98df-d003e07f4f47\",\"type\":\"Legend\"},{\"id\":\"fb013cac-bd56-4f33-ae63-18e2e04333b6\",\"type\":\"GlyphRenderer\"},{\"id\":\"95a4ec87-fc6c-457a-a0d1-f6beefa5e2ea\",\"type\":\"GlyphRenderer\"},{\"id\":\"419bf6dc-af62-49ca-bde6-2fe748388950\",\"type\":\"GlyphRenderer\"},{\"id\":\"6ef06067-1bc4-4cd4-b3a8-60582a92a0c3\",\"type\":\"GlyphRenderer\"},{\"id\":\"829b428d-0290-4668-a4fe-b7ca9f040ad2\",\"type\":\"GlyphRenderer\"},{\"id\":\"75c1ede9-301a-4493-8653-09e53689e297\",\"type\":\"GlyphRenderer\"},{\"id\":\"25975e14-92c9-4306-9317-6df59471a633\",\"type\":\"GlyphRenderer\"},{\"id\":\"f346dd8b-7bcb-48b8-8dcc-3751798e6b0a\",\"type\":\"GlyphRenderer\"},{\"id\":\"dee184e0-a7cd-4d73-9aca-9052051940ec\",\"type\":\"GlyphRenderer\"},{\"id\":\"1f5cbdbf-ab30-471b-9bd8-b7ab923fefb0\",\"type\":\"GlyphRenderer\"}],\"title\":{\"id\":\"e23df84a-2025-45e7-9e35-4a970a716a3e\",\"type\":\"Title\"},\"tool_events\":{\"id\":\"989fd2ae-b84d-4c6c-bcb5-d29de5a20e44\",\"type\":\"ToolEvents\"},\"toolbar\":{\"id\":\"e6fdd105-f583-4b2d-93df-6734d64baba2\",\"type\":\"Toolbar\"},\"x_range\":{\"id\":\"d4c9a5db-aee8-4c8a-969a-db2158b494ad\",\"type\":\"Range1d\"},\"y_range\":{\"id\":\"2b5b652b-0138-4970-a2b0-1b04e216af0d\",\"type\":\"Range1d\"}},\"id\":\"6673ba6c-d665-4ce8-928e-2692531044fd\",\"subtype\":\"Figure\",\"type\":\"Plot\"},{\"attributes\":{\"line_color\":{\"value\":\"#fdae61\"},\"line_width\":{\"value\":3},\"x\":{\"field\":\"x\"},\"y\":{\"field\":\"y\"}},\"id\":\"e4d34382-428e-4c6f-80f3-909b1f8c36be\",\"type\":\"Line\"},{\"attributes\":{\"line_alpha\":{\"value\":0.1},\"line_color\":{\"value\":\"#1f77b4\"},\"line_width\":{\"value\":3},\"x\":{\"field\":\"x\"},\"y\":{\"field\":\"y\"}},\"id\":\"83b3efbe-51e9-48a1-a8cc-57a8f491580e\",\"type\":\"Line\"},{\"attributes\":{\"data_source\":{\"id\":\"d0a12c4e-18ca-4321-a365-953cecbd4091\",\"type\":\"ColumnDataSource\"},\"glyph\":{\"id\":\"e4d34382-428e-4c6f-80f3-909b1f8c36be\",\"type\":\"Line\"},\"hover_glyph\":null,\"nonselection_glyph\":{\"id\":\"83b3efbe-51e9-48a1-a8cc-57a8f491580e\",\"type\":\"Line\"},\"selection_glyph\":null},\"id\":\"f346dd8b-7bcb-48b8-8dcc-3751798e6b0a\",\"type\":\"GlyphRenderer\"},{\"attributes\":{\"label\":{\"value\":\"music\"},\"renderers\":[{\"id\":\"f346dd8b-7bcb-48b8-8dcc-3751798e6b0a\",\"type\":\"GlyphRenderer\"}]},\"id\":\"3b5a13fa-3414-4826-a9ac-e47267a9f338\",\"type\":\"LegendItem\"},{\"attributes\":{\"line_color\":{\"value\":\"#f46d43\"},\"line_width\":{\"value\":3},\"x\":{\"field\":\"x\"},\"y\":{\"field\":\"y\"}},\"id\":\"c11093ea-fc47-4553-9078-4ef03fc706af\",\"type\":\"Line\"},{\"attributes\":{\"callback\":null,\"column_names\":[\"x\",\"y\"],\"data\":{\"x\":[1,2,3,4,5,6,7,8,9,10,11,12,13,14,15,16,17,18,19,20,21,22,23,24,25,26,27,28,29,30,31,32,33,34,35,36,37,38,39,40,41,42],\"y\":[24,22,20,20,20,13,20,20,19,17,18,20,13,20,20,20,20,20,20,20,20,20,20,19,20,20,20,20,20,20,19,20,12,22,22,22,22,21,21,21,21,14]}},\"id\":\"72c67011-c488-43f6-b72a-a3d4d870e5df\",\"type\":\"ColumnDataSource\"},{\"attributes\":{\"data_source\":{\"id\":\"96dd6bc7-84cb-4e87-bce7-d41ba03ecffb\",\"type\":\"ColumnDataSource\"},\"glyph\":{\"id\":\"c11093ea-fc47-4553-9078-4ef03fc706af\",\"type\":\"Line\"},\"hover_glyph\":null,\"nonselection_glyph\":{\"id\":\"8663aacd-4a53-4bbb-b09d-e1a186ad396a\",\"type\":\"Line\"},\"selection_glyph\":null},\"id\":\"dee184e0-a7cd-4d73-9aca-9052051940ec\",\"type\":\"GlyphRenderer\"},{\"attributes\":{\"active_drag\":\"auto\",\"active_scroll\":\"auto\",\"active_tap\":\"auto\",\"tools\":[{\"id\":\"52b08576-f9a8-48c4-b0b5-f757868352e1\",\"type\":\"PanTool\"},{\"id\":\"7b928503-bb6d-4310-a45f-81e66f2d253f\",\"type\":\"ZoomInTool\"},{\"id\":\"6e226560-1c2d-4810-b81d-d47c6f850cee\",\"type\":\"ZoomOutTool\"},{\"id\":\"e440073c-352f-4e35-9025-3ecf772db008\",\"type\":\"UndoTool\"},{\"id\":\"dd6ffebc-cd2c-4942-984b-6bf918a7b83a\",\"type\":\"RedoTool\"},{\"id\":\"75dbb03b-4957-40f7-a6fd-023c5070e3bf\",\"type\":\"ResetTool\"},{\"id\":\"1a7827fa-f9cd-4ad6-b5f8-df04774dc2f2\",\"type\":\"SaveTool\"}]},\"id\":\"e6fdd105-f583-4b2d-93df-6734d64baba2\",\"type\":\"Toolbar\"},{\"attributes\":{\"line_alpha\":{\"value\":0.1},\"line_color\":{\"value\":\"#1f77b4\"},\"line_width\":{\"value\":3},\"x\":{\"field\":\"x\"},\"y\":{\"field\":\"y\"}},\"id\":\"8663aacd-4a53-4bbb-b09d-e1a186ad396a\",\"type\":\"Line\"},{\"attributes\":{\"label\":{\"value\":\"unknown\"},\"renderers\":[{\"id\":\"dee184e0-a7cd-4d73-9aca-9052051940ec\",\"type\":\"GlyphRenderer\"}]},\"id\":\"b898073c-3965-4b12-b924-43434940815b\",\"type\":\"LegendItem\"},{\"attributes\":{\"callback\":null,\"end\":45},\"id\":\"d4c9a5db-aee8-4c8a-969a-db2158b494ad\",\"type\":\"Range1d\"},{\"attributes\":{\"line_alpha\":{\"value\":0.1},\"line_color\":{\"value\":\"#1f77b4\"},\"line_width\":{\"value\":3},\"x\":{\"field\":\"x\"},\"y\":{\"field\":\"y\"}},\"id\":\"0e97aed8-946f-4034-8e00-a0c8d9ff92f9\",\"type\":\"Line\"},{\"attributes\":{\"line_color\":{\"value\":\"#d53e4f\"},\"line_width\":{\"value\":3},\"x\":{\"field\":\"x\"},\"y\":{\"field\":\"y\"}},\"id\":\"06ae1d61-1ed8-4526-bd2d-8ae7074da73e\",\"type\":\"Line\"},{\"attributes\":{\"formatter\":{\"id\":\"37edd089-6426-45a9-9c80-9c3df3ede064\",\"type\":\"BasicTickFormatter\"},\"plot\":{\"id\":\"6673ba6c-d665-4ce8-928e-2692531044fd\",\"subtype\":\"Figure\",\"type\":\"Plot\"},\"ticker\":{\"id\":\"b9c9789e-096e-4f65-b440-6331abcbadf5\",\"type\":\"BasicTicker\"}},\"id\":\"02327c6e-4a3e-4cfa-a04e-5047deb416ad\",\"type\":\"LinearAxis\"},{\"attributes\":{\"callback\":null,\"end\":65.42857142857143,\"start\":-10},\"id\":\"2b5b652b-0138-4970-a2b0-1b04e216af0d\",\"type\":\"Range1d\"},{\"attributes\":{\"data_source\":{\"id\":\"72c67011-c488-43f6-b72a-a3d4d870e5df\",\"type\":\"ColumnDataSource\"},\"glyph\":{\"id\":\"06ae1d61-1ed8-4526-bd2d-8ae7074da73e\",\"type\":\"Line\"},\"hover_glyph\":null,\"nonselection_glyph\":{\"id\":\"f74e19ff-d7ab-4af0-ad67-9ae96833dc4c\",\"type\":\"Line\"},\"selection_glyph\":null},\"id\":\"1f5cbdbf-ab30-471b-9bd8-b7ab923fefb0\",\"type\":\"GlyphRenderer\"},{\"attributes\":{},\"id\":\"b9c9789e-096e-4f65-b440-6331abcbadf5\",\"type\":\"BasicTicker\"},{\"attributes\":{\"line_alpha\":{\"value\":0.1},\"line_color\":{\"value\":\"#1f77b4\"},\"line_width\":{\"value\":3},\"x\":{\"field\":\"x\"},\"y\":{\"field\":\"y\"}},\"id\":\"f74e19ff-d7ab-4af0-ad67-9ae96833dc4c\",\"type\":\"Line\"},{\"attributes\":{\"plot\":{\"id\":\"6673ba6c-d665-4ce8-928e-2692531044fd\",\"subtype\":\"Figure\",\"type\":\"Plot\"},\"ticker\":{\"id\":\"b9c9789e-096e-4f65-b440-6331abcbadf5\",\"type\":\"BasicTicker\"}},\"id\":\"5a18483e-01b3-44f4-8349-3cdcda9820a1\",\"type\":\"Grid\"},{\"attributes\":{\"label\":{\"value\":\"Episodes\"},\"renderers\":[{\"id\":\"1f5cbdbf-ab30-471b-9bd8-b7ab923fefb0\",\"type\":\"GlyphRenderer\"}]},\"id\":\"de38494a-0bc2-4342-a52d-8442b5c37bbf\",\"type\":\"LegendItem\"},{\"attributes\":{\"formatter\":{\"id\":\"36a3976a-7654-4e43-b771-d82ecec17f01\",\"type\":\"BasicTickFormatter\"},\"plot\":{\"id\":\"6673ba6c-d665-4ce8-928e-2692531044fd\",\"subtype\":\"Figure\",\"type\":\"Plot\"},\"ticker\":{\"id\":\"4bc32f39-23b1-4f6c-b95f-ffe8983764bc\",\"type\":\"BasicTicker\"}},\"id\":\"e5248dc1-52c2-4d61-913a-b367df21e706\",\"type\":\"LinearAxis\"},{\"attributes\":{},\"id\":\"4bc32f39-23b1-4f6c-b95f-ffe8983764bc\",\"type\":\"BasicTicker\"},{\"attributes\":{\"dimension\":1,\"plot\":{\"id\":\"6673ba6c-d665-4ce8-928e-2692531044fd\",\"subtype\":\"Figure\",\"type\":\"Plot\"},\"ticker\":{\"id\":\"4bc32f39-23b1-4f6c-b95f-ffe8983764bc\",\"type\":\"BasicTicker\"}},\"id\":\"74726cfd-a68e-4c8d-a4d8-93ce7930bf49\",\"type\":\"Grid\"},{\"attributes\":{\"line_color\":{\"value\":\"#fee08b\"},\"line_width\":{\"value\":3},\"x\":{\"field\":\"x\"},\"y\":{\"field\":\"y\"}},\"id\":\"e893af61-8cfe-4154-a77b-fca8530d927a\",\"type\":\"Line\"},{\"attributes\":{\"data_source\":{\"id\":\"5fa43b7c-03a0-48fe-adb7-5795dc0ebb51\",\"type\":\"ColumnDataSource\"},\"glyph\":{\"id\":\"386d9eae-2731-4150-9031-139e89a01e0e\",\"type\":\"Line\"},\"hover_glyph\":null,\"nonselection_glyph\":{\"id\":\"0e97aed8-946f-4034-8e00-a0c8d9ff92f9\",\"type\":\"Line\"},\"selection_glyph\":null},\"id\":\"fb013cac-bd56-4f33-ae63-18e2e04333b6\",\"type\":\"GlyphRenderer\"},{\"attributes\":{\"line_color\":{\"value\":\"#5e4fa2\"},\"line_width\":{\"value\":3},\"x\":{\"field\":\"x\"},\"y\":{\"field\":\"y\"}},\"id\":\"386d9eae-2731-4150-9031-139e89a01e0e\",\"type\":\"Line\"},{\"attributes\":{},\"id\":\"989fd2ae-b84d-4c6c-bcb5-d29de5a20e44\",\"type\":\"ToolEvents\"},{\"attributes\":{\"callback\":null,\"column_names\":[\"x\",\"y\"],\"data\":{\"x\":[1,2,3,4,5,6,7,8,9,10,11,12,13,14,15,16,17,18,19,20,21,22,23,24,25,26,27,28,29,30,31,32,33,34,35,36,37,38,39,40,41,42],\"y\":{\"__ndarray__\":\"q6qqqqqq4j+66KKLLrroP2ZmZmZmZgxAMzMzMzMz6z8zMzMzMzPzP4qd2Imd2Pk/ZmZmZmZm8j+amZmZmZnxPw3lNZTXUO4/pqWlpaWl9T9VVVVVVVXVP5qZmZmZmfE/dmIndmIn9j/NzMzMzMzkP5qZmZmZmdk/MzMzMzMz6z/NzMzMzMz0P2ZmZmZmZuY/ZmZmZmZm7j8zMzMzMzPrP2ZmZmZmZvo/mpmZmZmZ8T8AAAAAAAD8P8prKK+hvPY/mpmZmZmZ+T/NzMzMzMz8P83MzMzMzPA/mpmZmZmZ8T+amZmZmZn1P2ZmZmZmZu4/AAAAAAAA8D/NzMzMzMzsP1VVVVVVVfk/RhdddNFF/z/poosuuuj6P7rooosuuvg/o4suuuiiA0AlSZIkSZIEQEmSJEmSJPk/z/M8z/M8/z8xDMMwDMMAQLdt27Zt2/Y/\",\"dtype\":\"float64\",\"shape\":[42]}}},\"id\":\"72a09d55-ca27-4b85-b2c1-c4e8beebf905\",\"type\":\"ColumnDataSource\"},{\"attributes\":{\"callback\":null,\"column_names\":[\"x\",\"y\"],\"data\":{\"x\":[1,2,3,4,5,6,7,8,9,10,11,12,13,14,15,16,17,18,19,20,21,22,23,24,25,26,27,28,29,30,31,32,33,34,35,36,37,38,39,40,41,42],\"y\":{\"__ndarray__\":\"VVVVVVXVTkC66KKLLjpQQJqZmZmZ+U5AzczMzMzMS0DNzMzMzOxLQJ7YiZ3YiUtAzczMzMyMRUDNzMzMzOxEQIfyGsprKEdAHh4eHh4eRkCO4ziO43hHQDMzMzMz80hAxU7sxE7sREDNzMzMzKxHQDMzMzMzU0ZAzczMzMzsSUDNzMzMzOxMQGZmZmZmxkpAAAAAAADgTEAzMzMzM5NKQAAAAAAAoEpAZmZmZmZmRkAAAAAAAEBJQL2G8hrK60dAMzMzMzMTR0BmZmZmZuZIQDMzMzMzU0tAmpmZmZlZTEBmZmZmZgZKQM3MzMzMDExAbCivobyGT0AzMzMzM1NJQFVVVVVVFU1AL7rooosuTEBGF1100UVMQKOLLrroIkxARhdddNGFTUC3bdu2bVtNQKuqqqqqqk5Anud5nuf5TkC3bdu2bVtQQEmSJEmSZEtA\",\"dtype\":\"float64\",\"shape\":[42]}}},\"id\":\"5fa43b7c-03a0-48fe-adb7-5795dc0ebb51\",\"type\":\"ColumnDataSource\"},{\"attributes\":{},\"id\":\"36a3976a-7654-4e43-b771-d82ecec17f01\",\"type\":\"BasicTickFormatter\"},{\"attributes\":{\"plot\":{\"id\":\"6673ba6c-d665-4ce8-928e-2692531044fd\",\"subtype\":\"Figure\",\"type\":\"Plot\"}},\"id\":\"52b08576-f9a8-48c4-b0b5-f757868352e1\",\"type\":\"PanTool\"},{\"attributes\":{},\"id\":\"37edd089-6426-45a9-9c80-9c3df3ede064\",\"type\":\"BasicTickFormatter\"},{\"attributes\":{\"plot\":{\"id\":\"6673ba6c-d665-4ce8-928e-2692531044fd\",\"subtype\":\"Figure\",\"type\":\"Plot\"}},\"id\":\"7b928503-bb6d-4310-a45f-81e66f2d253f\",\"type\":\"ZoomInTool\"},{\"attributes\":{\"plot\":{\"id\":\"6673ba6c-d665-4ce8-928e-2692531044fd\",\"subtype\":\"Figure\",\"type\":\"Plot\"}},\"id\":\"6e226560-1c2d-4810-b81d-d47c6f850cee\",\"type\":\"ZoomOutTool\"},{\"attributes\":{\"plot\":{\"id\":\"6673ba6c-d665-4ce8-928e-2692531044fd\",\"subtype\":\"Figure\",\"type\":\"Plot\"}},\"id\":\"e440073c-352f-4e35-9025-3ecf772db008\",\"type\":\"UndoTool\"},{\"attributes\":{\"plot\":{\"id\":\"6673ba6c-d665-4ce8-928e-2692531044fd\",\"subtype\":\"Figure\",\"type\":\"Plot\"}},\"id\":\"dd6ffebc-cd2c-4942-984b-6bf918a7b83a\",\"type\":\"RedoTool\"},{\"attributes\":{\"plot\":{\"id\":\"6673ba6c-d665-4ce8-928e-2692531044fd\",\"subtype\":\"Figure\",\"type\":\"Plot\"}},\"id\":\"75dbb03b-4957-40f7-a6fd-023c5070e3bf\",\"type\":\"ResetTool\"},{\"attributes\":{\"plot\":{\"id\":\"6673ba6c-d665-4ce8-928e-2692531044fd\",\"subtype\":\"Figure\",\"type\":\"Plot\"}},\"id\":\"1a7827fa-f9cd-4ad6-b5f8-df04774dc2f2\",\"type\":\"SaveTool\"},{\"attributes\":{\"plot\":null,\"text\":\"\"},\"id\":\"e23df84a-2025-45e7-9e35-4a970a716a3e\",\"type\":\"Title\"},{\"attributes\":{\"items\":[{\"id\":\"63e53d32-c773-4a16-aef2-d4953d507a94\",\"type\":\"LegendItem\"},{\"id\":\"4bfc0793-4527-4641-9629-606a92935e8e\",\"type\":\"LegendItem\"},{\"id\":\"8053405b-74d0-4647-9bea-6e9e7aa9ac9c\",\"type\":\"LegendItem\"},{\"id\":\"7904a845-4f7b-438c-834e-25dfde49b9c1\",\"type\":\"LegendItem\"},{\"id\":\"5d648970-6c22-4c5a-bfbd-5ff68f286ee6\",\"type\":\"LegendItem\"},{\"id\":\"11f09a11-0831-4751-9bac-ec2e313a3f96\",\"type\":\"LegendItem\"},{\"id\":\"827513b1-151a-43d9-94ee-337daa01bb9d\",\"type\":\"LegendItem\"},{\"id\":\"3b5a13fa-3414-4826-a9ac-e47267a9f338\",\"type\":\"LegendItem\"},{\"id\":\"b898073c-3965-4b12-b924-43434940815b\",\"type\":\"LegendItem\"},{\"id\":\"de38494a-0bc2-4342-a52d-8442b5c37bbf\",\"type\":\"LegendItem\"}],\"plot\":{\"id\":\"6673ba6c-d665-4ce8-928e-2692531044fd\",\"subtype\":\"Figure\",\"type\":\"Plot\"}},\"id\":\"65f5a544-7119-4f3a-98df-d003e07f4f47\",\"type\":\"Legend\"},{\"attributes\":{\"label\":{\"value\":\"Appearances\"},\"renderers\":[{\"id\":\"fb013cac-bd56-4f33-ae63-18e2e04333b6\",\"type\":\"GlyphRenderer\"}]},\"id\":\"63e53d32-c773-4a16-aef2-d4953d507a94\",\"type\":\"LegendItem\"},{\"attributes\":{\"line_color\":{\"value\":\"#3288bd\"},\"line_width\":{\"value\":3},\"x\":{\"field\":\"x\"},\"y\":{\"field\":\"y\"}},\"id\":\"4d676b33-a8d4-4c6f-b697-6688d7dfa248\",\"type\":\"Line\"},{\"attributes\":{\"callback\":null,\"column_names\":[\"x\",\"y\"],\"data\":{\"x\":[1,2,3,4,5,6,7,8,9,10,11,12,13,14,15,16,17,18,19,20,21,22,23,24,25,26,27,28,29,30,31,32,33,34,35,36,37,38,39,40,41,42],\"y\":{\"__ndarray__\":\"VVVVVVWFQUC66KKLLrpBQJqZmZmZeUJAZmZmZmZGQUDNzMzMzGxCQCd2Yid24kJAMzMzMzOzPUAzMzMzMzM+QFFeQ3kNZUBA4uHh4eHhPUDkOI7jOE5AQGZmZmZmpj9AT+zETuzEPEAzMzMzMzNBQGZmZmZmZj5AMzMzMzMTQkBmZmZmZiZFQJqZmZmZWUNAzczMzMxsRUAAAAAAAMBDQJqZmZmZGUJAmpmZmZkZQECamZmZmXlBQBvKayivIUFAZmZmZmZmQEDNzMzMzGxCQGZmZmZmBkVAzczMzMxsRUDNzMzMzCxDQJqZmZmZeUVAoryG8hrKR0CamZmZmZlCQFVVVVVVNURAuuiiiy56REBddNFFF11EQOmiiy66qERAo4suuujiRUBiGIZhGAZGQFVVVVVVVUdASZIkSZIkSECSJEmSJElJQAAAAAAAgEVA\",\"dtype\":\"float64\",\"shape\":[42]}}},\"id\":\"7a672f0f-8c54-449b-a360-059ec3a8a235\",\"type\":\"ColumnDataSource\"},{\"attributes\":{\"data_source\":{\"id\":\"72a09d55-ca27-4b85-b2c1-c4e8beebf905\",\"type\":\"ColumnDataSource\"},\"glyph\":{\"id\":\"4d676b33-a8d4-4c6f-b697-6688d7dfa248\",\"type\":\"Line\"},\"hover_glyph\":null,\"nonselection_glyph\":{\"id\":\"4561f1e4-adfc-4e8f-95aa-ff1f5f003a21\",\"type\":\"Line\"},\"selection_glyph\":null},\"id\":\"95a4ec87-fc6c-457a-a0d1-f6beefa5e2ea\",\"type\":\"GlyphRenderer\"},{\"attributes\":{\"line_alpha\":{\"value\":0.1},\"line_color\":{\"value\":\"#1f77b4\"},\"line_width\":{\"value\":3},\"x\":{\"field\":\"x\"},\"y\":{\"field\":\"y\"}},\"id\":\"4561f1e4-adfc-4e8f-95aa-ff1f5f003a21\",\"type\":\"Line\"},{\"attributes\":{\"label\":{\"value\":\"cameo\"},\"renderers\":[{\"id\":\"95a4ec87-fc6c-457a-a0d1-f6beefa5e2ea\",\"type\":\"GlyphRenderer\"}]},\"id\":\"4bfc0793-4527-4641-9629-606a92935e8e\",\"type\":\"LegendItem\"},{\"attributes\":{\"line_color\":{\"value\":\"#66c2a5\"},\"line_width\":{\"value\":3},\"x\":{\"field\":\"x\"},\"y\":{\"field\":\"y\"}},\"id\":\"06979bde-104e-4bf9-b9af-d192cd64f856\",\"type\":\"Line\"},{\"attributes\":{\"callback\":null,\"column_names\":[\"x\",\"y\"],\"data\":{\"x\":[1,2,3,4,5,6,7,8,9,10,11,12,13,14,15,16,17,18,19,20,21,22,23,24,25,26,27,28,29,30,31,32,33,34,35,36,37,38,39,40,41,42],\"y\":{\"__ndarray__\":\"q6qqqqqqKkAXXXTRRZcxQJqZmZmZGSlAAAAAAACAKUBmZmZmZmYiQHZiJ3ZiJxpAMzMzMzMzEkCamZmZmZn9P9hQXkN5DQVADw8PDw8PE0BVVVVVVVURQM3MzMzMzBhAdmIndmInBkAAAAAAAAAMQDMzMzMzMxNAzczMzMzMEUDNzMzMzMwMQAAAAAAAAA5AzczMzMzMDkAAAAAAAAAGQGZmZmZmZhlAMzMzMzMzC0CamZmZmZkRQAAAAAAAAAhAMzMzMzMzA0AzMzMzMzMHQGZmZmZmZv4/mpmZmZmZA0AzMzMzMzMFQDMzMzMzMwlANpTXUF5DEUAAAAAAAAAIQFVVVVVVVRNAXXTRRRddCEDRRRdddNEJQNFFF1100QlAXXTRRRddBEBiGIZhGIYBQD3P8zzP8wRAwzAMwzAM8z/P8zzP8zz/P27btm3btu0/\",\"dtype\":\"float64\",\"shape\":[42]}}},\"id\":\"558c98ad-8a34-4fbb-aace-80b1c7fcbb71\",\"type\":\"ColumnDataSource\"},{\"attributes\":{\"data_source\":{\"id\":\"7a672f0f-8c54-449b-a360-059ec3a8a235\",\"type\":\"ColumnDataSource\"},\"glyph\":{\"id\":\"06979bde-104e-4bf9-b9af-d192cd64f856\",\"type\":\"Line\"},\"hover_glyph\":null,\"nonselection_glyph\":{\"id\":\"33b2d2c9-e278-49eb-93f3-efbda0c1c479\",\"type\":\"Line\"},\"selection_glyph\":null},\"id\":\"419bf6dc-af62-49ca-bde6-2fe748388950\",\"type\":\"GlyphRenderer\"},{\"attributes\":{\"line_alpha\":{\"value\":0.1},\"line_color\":{\"value\":\"#1f77b4\"},\"line_width\":{\"value\":3},\"x\":{\"field\":\"x\"},\"y\":{\"field\":\"y\"}},\"id\":\"33b2d2c9-e278-49eb-93f3-efbda0c1c479\",\"type\":\"Line\"},{\"attributes\":{\"label\":{\"value\":\"cast\"},\"renderers\":[{\"id\":\"419bf6dc-af62-49ca-bde6-2fe748388950\",\"type\":\"GlyphRenderer\"}]},\"id\":\"8053405b-74d0-4647-9bea-6e9e7aa9ac9c\",\"type\":\"LegendItem\"},{\"attributes\":{\"line_color\":{\"value\":\"#abdda4\"},\"line_width\":{\"value\":3},\"x\":{\"field\":\"x\"},\"y\":{\"field\":\"y\"}},\"id\":\"d2c2d8d2-4990-4e00-8e1f-fb549699d437\",\"type\":\"Line\"},{\"attributes\":{\"callback\":null,\"column_names\":[\"x\",\"y\"],\"data\":{\"x\":[1,2,3,4,5,6,7,8,9,10,11,12,13,14,15,16,17,18,19,20,21,22,23,24,25,26,27,28,29,30,31,32,33,34,35,36,37,38,39,40,41,42],\"y\":{\"__ndarray__\":\"VVVVVVVV9T/RRRdddNH1PwAAAAAAANA/zczMzMzM3D+amZmZmZnJP9mJndiJndg/MzMzMzMz0z/NzMzMzMzcPyivobyG8so/tbS0tLS05D8AAAAAAAAAAJqZmZmZmdk/ntiJndiJzT8AAAAAAADQPwAAAAAAAAAAAAAAAAAA0D8AAAAAAADQP5qZmZmZmak/MzMzMzMz0z8AAAAAAADgP83MzMzMzNw/MzMzMzMz0z8AAAAAAADgP3kN5TWU19A/mpmZmZmZ2T+amZmZmZm5PzMzMzMzM9M/AAAAAAAA4D+amZmZmZm5P2ZmZmZmZtY/XkN5DeU15D8AAAAAAADQPwAAAAAAAOg/L7rooosu2j8AAAAAAADgP6OLLrroous/RhdddNFF1z+e53me53nOP57neZ7ned4/GIZhGIZhyD96nud5nufpP5IkSZIkSbI/\",\"dtype\":\"float64\",\"shape\":[42]}}},\"id\":\"5da29b07-df06-4de7-989e-e521728654a7\",\"type\":\"ColumnDataSource\"},{\"attributes\":{\"data_source\":{\"id\":\"558c98ad-8a34-4fbb-aace-80b1c7fcbb71\",\"type\":\"ColumnDataSource\"},\"glyph\":{\"id\":\"d2c2d8d2-4990-4e00-8e1f-fb549699d437\",\"type\":\"Line\"},\"hover_glyph\":null,\"nonselection_glyph\":{\"id\":\"a327bc4c-69b1-429a-895d-fecc74e0615a\",\"type\":\"Line\"},\"selection_glyph\":null},\"id\":\"6ef06067-1bc4-4cd4-b3a8-60582a92a0c3\",\"type\":\"GlyphRenderer\"},{\"attributes\":{\"line_alpha\":{\"value\":0.1},\"line_color\":{\"value\":\"#1f77b4\"},\"line_width\":{\"value\":3},\"x\":{\"field\":\"x\"},\"y\":{\"field\":\"y\"}},\"id\":\"a327bc4c-69b1-429a-895d-fecc74e0615a\",\"type\":\"Line\"},{\"attributes\":{\"label\":{\"value\":\"crew\"},\"renderers\":[{\"id\":\"6ef06067-1bc4-4cd4-b3a8-60582a92a0c3\",\"type\":\"GlyphRenderer\"}]},\"id\":\"7904a845-4f7b-438c-834e-25dfde49b9c1\",\"type\":\"LegendItem\"},{\"attributes\":{\"line_color\":{\"value\":\"#e6f598\"},\"line_width\":{\"value\":3},\"x\":{\"field\":\"x\"},\"y\":{\"field\":\"y\"}},\"id\":\"522914c8-0401-4b40-b992-a8ac6a152be5\",\"type\":\"Line\"},{\"attributes\":{\"data_source\":{\"id\":\"5da29b07-df06-4de7-989e-e521728654a7\",\"type\":\"ColumnDataSource\"},\"glyph\":{\"id\":\"522914c8-0401-4b40-b992-a8ac6a152be5\",\"type\":\"Line\"},\"hover_glyph\":null,\"nonselection_glyph\":{\"id\":\"8c29cdad-7046-43cd-926b-92e281170ad7\",\"type\":\"Line\"},\"selection_glyph\":null},\"id\":\"829b428d-0290-4668-a4fe-b7ca9f040ad2\",\"type\":\"GlyphRenderer\"},{\"attributes\":{\"line_alpha\":{\"value\":0.1},\"line_color\":{\"value\":\"#1f77b4\"},\"line_width\":{\"value\":3},\"x\":{\"field\":\"x\"},\"y\":{\"field\":\"y\"}},\"id\":\"8c29cdad-7046-43cd-926b-92e281170ad7\",\"type\":\"Line\"},{\"attributes\":{\"label\":{\"value\":\"filmed\"},\"renderers\":[{\"id\":\"829b428d-0290-4668-a4fe-b7ca9f040ad2\",\"type\":\"GlyphRenderer\"}]},\"id\":\"5d648970-6c22-4c5a-bfbd-5ff68f286ee6\",\"type\":\"LegendItem\"},{\"attributes\":{\"callback\":null,\"column_names\":[\"x\",\"y\"],\"data\":{\"x\":[1,2,3,4,5,6,7,8,9,10,11,12,13,14,15,16,17,18,19,20,21,22,23,24,25,26,27,28,29,30,31,32,33,34,35,36,37,38,39,40,41,42],\"y\":{\"__ndarray__\":\"VVVVVVVV/T900UUXXXTRPwAAAAAAANA/mpmZmZmZuT8zMzMzMzPDPwAAAAAAAAAAMzMzMzMz4z+amZmZmZnhP0N5DeU1lNc/l5aWlpaWxj+O4ziO4zjuP2ZmZmZmZvI/FDuxEzuxwz8zMzMzMzPDPwAAAAAAAAAAmpmZmZmZuT8AAAAAAAAAAJqZmZmZmbk/mpmZmZmZqT+amZmZmZm5PwAAAAAAAAAAmpmZmZmZyT9mZmZmZmbWPyivobyG8so/AAAAAAAAAAAAAAAAAAAAAAAAAAAAAAAAMzMzMzMzwz8AAAAAAAAAAJqZmZmZmak/AAAAAAAAAAAAAAAAAAAAAAAAAAAAAAAAAAAAAAAAAAAAAAAAAAAAAAAAAAAAAAAAdNFFF1100T8AAAAAAAAAAAAAAAAAAAAAAAAAAAAAAAAYhmEYhmG4PwAAAAAAAAAA\",\"dtype\":\"float64\",\"shape\":[42]}}},\"id\":\"7727c8c7-0c3c-461a-ac4e-4ade4021c173\",\"type\":\"ColumnDataSource\"},{\"attributes\":{\"line_color\":{\"value\":\"#ffffbf\"},\"line_width\":{\"value\":3},\"x\":{\"field\":\"x\"},\"y\":{\"field\":\"y\"}},\"id\":\"7e2d3687-2e35-411f-83fe-e0bce5c52ccf\",\"type\":\"Line\"},{\"attributes\":{\"callback\":null,\"column_names\":[\"x\",\"y\"],\"data\":{\"x\":[1,2,3,4,5,6,7,8,9,10,11,12,13,14,15,16,17,18,19,20,21,22,23,24,25,26,27,28,29,30,31,32,33,34,35,36,37,38,39,40,41,42],\"y\":{\"__ndarray__\":\"VVVVVVVVHUDpoosuuugaQM3MzMzMzBhAmpmZmZmZFEDNzMzMzMwWQOzETuzEThhAzczMzMzMEUAzMzMzMzMXQDaU11BeQx1AaWlpaWlpFUAcx3Ecx3EaQGZmZmZmZhxA7MRO7MROGEDNzMzMzMwYQDMzMzMzMxZAMzMzMzMzGkDNzMzMzMwbQAAAAAAAABlAAAAAAAAAHEDNzMzMzMwaQDMzMzMzMxdAMzMzMzMzFkDNzMzMzMwaQOU1lNdQXhtAZmZmZmZmGkBmZmZmZmYXQJqZmZmZmRpAAAAAAAAAHUDNzMzMzMweQGZmZmZmZhpA2FBeQ3kNHUCamZmZmZkdQKuqqqqqqiBA0UUXXXTRHUAAAAAAAAAgQC+66KKLLhpA0UUXXXTRG0B6nud5nucdQOh5nud5nh9A6Hme53meH0CrqqqqqqoeQJIkSZIkSRxA\",\"dtype\":\"float64\",\"shape\":[42]}}},\"id\":\"821166c7-d501-45b3-b7b5-0db3bff466c7\",\"type\":\"ColumnDataSource\"},{\"attributes\":{\"data_source\":{\"id\":\"7727c8c7-0c3c-461a-ac4e-4ade4021c173\",\"type\":\"ColumnDataSource\"},\"glyph\":{\"id\":\"7e2d3687-2e35-411f-83fe-e0bce5c52ccf\",\"type\":\"Line\"},\"hover_glyph\":null,\"nonselection_glyph\":{\"id\":\"32f5fd34-b8c5-45e5-a3f4-d5a6dcc9398b\",\"type\":\"Line\"},\"selection_glyph\":null},\"id\":\"75c1ede9-301a-4493-8653-09e53689e297\",\"type\":\"GlyphRenderer\"},{\"attributes\":{\"line_alpha\":{\"value\":0.1},\"line_color\":{\"value\":\"#1f77b4\"},\"line_width\":{\"value\":3},\"x\":{\"field\":\"x\"},\"y\":{\"field\":\"y\"}},\"id\":\"32f5fd34-b8c5-45e5-a3f4-d5a6dcc9398b\",\"type\":\"Line\"},{\"attributes\":{\"label\":{\"value\":\"guest\"},\"renderers\":[{\"id\":\"75c1ede9-301a-4493-8653-09e53689e297\",\"type\":\"GlyphRenderer\"}]},\"id\":\"11f09a11-0831-4751-9bac-ec2e313a3f96\",\"type\":\"LegendItem\"},{\"attributes\":{\"label\":{\"value\":\"host\"},\"renderers\":[{\"id\":\"25975e14-92c9-4306-9317-6df59471a633\",\"type\":\"GlyphRenderer\"}]},\"id\":\"827513b1-151a-43d9-94ee-337daa01bb9d\",\"type\":\"LegendItem\"},{\"attributes\":{\"data_source\":{\"id\":\"821166c7-d501-45b3-b7b5-0db3bff466c7\",\"type\":\"ColumnDataSource\"},\"glyph\":{\"id\":\"e893af61-8cfe-4154-a77b-fca8530d927a\",\"type\":\"Line\"},\"hover_glyph\":null,\"nonselection_glyph\":{\"id\":\"efce504b-9768-4a33-87f5-62086a4f997e\",\"type\":\"Line\"},\"selection_glyph\":null},\"id\":\"25975e14-92c9-4306-9317-6df59471a633\",\"type\":\"GlyphRenderer\"},{\"attributes\":{\"line_alpha\":{\"value\":0.1},\"line_color\":{\"value\":\"#1f77b4\"},\"line_width\":{\"value\":3},\"x\":{\"field\":\"x\"},\"y\":{\"field\":\"y\"}},\"id\":\"efce504b-9768-4a33-87f5-62086a4f997e\",\"type\":\"Line\"}],\"root_ids\":[\"6673ba6c-d665-4ce8-928e-2692531044fd\"]},\"title\":\"Bokeh Application\",\"version\":\"0.12.4\"}};\n",
       "            var render_items = [{\"docid\":\"b73b30b3-a973-43e4-a356-c786f61860d4\",\"elementid\":\"bcd7fa14-d9c0-4449-8972-9b7dd7cc996c\",\"modelid\":\"6673ba6c-d665-4ce8-928e-2692531044fd\",\"notebook_comms_target\":\"a4889fc8-85b7-4f20-8be9-1a6684eb4473\"}];\n",
       "            \n",
       "            Bokeh.embed.embed_items(docs_json, render_items);\n",
       "          };\n",
       "          if (document.readyState != \"loading\") fn();\n",
       "          else document.addEventListener(\"DOMContentLoaded\", fn);\n",
       "        })();\n",
       "      },\n",
       "      function(Bokeh) {\n",
       "      }\n",
       "    ];\n",
       "  \n",
       "    function run_inline_js() {\n",
       "      \n",
       "      if ((window.Bokeh !== undefined) || (force === true)) {\n",
       "        for (var i = 0; i < inline_js.length; i++) {\n",
       "          inline_js[i](window.Bokeh);\n",
       "        }if (force === true) {\n",
       "          display_loaded();\n",
       "        }} else if (Date.now() < window._bokeh_timeout) {\n",
       "        setTimeout(run_inline_js, 100);\n",
       "      } else if (!window._bokeh_failed_load) {\n",
       "        console.log(\"Bokeh: BokehJS failed to load within specified timeout.\");\n",
       "        window._bokeh_failed_load = true;\n",
       "      } else if (force !== true) {\n",
       "        var cell = $(document.getElementById(\"bcd7fa14-d9c0-4449-8972-9b7dd7cc996c\")).parents('.cell').data().cell;\n",
       "        cell.output_area.append_execute_result(NB_LOAD_WARNING)\n",
       "      }\n",
       "  \n",
       "    }\n",
       "  \n",
       "    if (window._bokeh_is_loading === 0) {\n",
       "      console.log(\"Bokeh: BokehJS loaded, going straight to plotting\");\n",
       "      run_inline_js();\n",
       "    } else {\n",
       "      load_libs(js_urls, function() {\n",
       "        console.log(\"Bokeh: BokehJS plotting callback run at\", now());\n",
       "        run_inline_js();\n",
       "      });\n",
       "    }\n",
       "  }(this));\n",
       "</script>"
      ]
     },
     "metadata": {},
     "output_type": "display_data"
    }
   ],
   "source": [
    "t = show(p, notebook_handle=True)"
   ]
  },
  {
   "cell_type": "code",
   "execution_count": 11,
   "metadata": {
    "collapsed": false
   },
   "outputs": [
    {
     "data": {
      "text/plain": [
       "'\\n\\n    <div class=\"bk-root\">\\n        <div class=\"bk-plotdiv\" id=\"f487cac6-5bd1-468a-8f1a-43cecea4cdc0\"></div>\\n    </div>\\n<script type=\"text/javascript\">\\n  \\n  (function(global) {\\n    function now() {\\n      return new Date();\\n    }\\n  \\n    var force = false;\\n  \\n    if (typeof (window._bokeh_onload_callbacks) === \"undefined\" || force === true) {\\n      window._bokeh_onload_callbacks = [];\\n      window._bokeh_is_loading = undefined;\\n    }\\n  \\n  \\n    \\n    if (typeof (window._bokeh_timeout) === \"undefined\" || force === true) {\\n      window._bokeh_timeout = Date.now() + 0;\\n      window._bokeh_failed_load = false;\\n    }\\n  \\n    var NB_LOAD_WARNING = {\\'data\\': {\\'text/html\\':\\n       \"<div style=\\'background-color: #fdd\\'>\\\\n\"+\\n       \"<p>\\\\n\"+\\n       \"BokehJS does not appear to have successfully loaded. If loading BokehJS from CDN, this \\\\n\"+\\n       \"may be due to a slow or bad network connection. Possible fixes:\\\\n\"+\\n       \"</p>\\\\n\"+\\n       \"<ul>\\\\n\"+\\n       \"<li>re-rerun `output_notebook()` to attempt to load from CDN again, or</li>\\\\n\"+\\n       \"<li>use INLINE resources instead, as so:</li>\\\\n\"+\\n       \"</ul>\\\\n\"+\\n       \"<code>\\\\n\"+\\n       \"from bokeh.resources import INLINE\\\\n\"+\\n       \"output_notebook(resources=INLINE)\\\\n\"+\\n       \"</code>\\\\n\"+\\n       \"</div>\"}};\\n  \\n    function display_loaded() {\\n      if (window.Bokeh !== undefined) {\\n        document.getElementById(\"f487cac6-5bd1-468a-8f1a-43cecea4cdc0\").textContent = \"BokehJS successfully loaded.\";\\n      } else if (Date.now() < window._bokeh_timeout) {\\n        setTimeout(display_loaded, 100)\\n      }\\n    }\\n  \\n    function run_callbacks() {\\n      window._bokeh_onload_callbacks.forEach(function(callback) { callback() });\\n      delete window._bokeh_onload_callbacks\\n      console.info(\"Bokeh: all callbacks have finished\");\\n    }\\n  \\n    function load_libs(js_urls, callback) {\\n      window._bokeh_onload_callbacks.push(callback);\\n      if (window._bokeh_is_loading > 0) {\\n        console.log(\"Bokeh: BokehJS is being loaded, scheduling callback at\", now());\\n        return null;\\n      }\\n      if (js_urls == null || js_urls.length === 0) {\\n        run_callbacks();\\n        return null;\\n      }\\n      console.log(\"Bokeh: BokehJS not loaded, scheduling load and callback at\", now());\\n      window._bokeh_is_loading = js_urls.length;\\n      for (var i = 0; i < js_urls.length; i++) {\\n        var url = js_urls[i];\\n        var s = document.createElement(\\'script\\');\\n        s.src = url;\\n        s.async = false;\\n        s.onreadystatechange = s.onload = function() {\\n          window._bokeh_is_loading--;\\n          if (window._bokeh_is_loading === 0) {\\n            console.log(\"Bokeh: all BokehJS libraries loaded\");\\n            run_callbacks()\\n          }\\n        };\\n        s.onerror = function() {\\n          console.warn(\"failed to load library \" + url);\\n        };\\n        console.log(\"Bokeh: injecting script tag for BokehJS library: \", url);\\n        document.getElementsByTagName(\"head\")[0].appendChild(s);\\n      }\\n    };var element = document.getElementById(\"f487cac6-5bd1-468a-8f1a-43cecea4cdc0\");\\n    if (element == null) {\\n      console.log(\"Bokeh: ERROR: autoload.js configured with elementid \\'f487cac6-5bd1-468a-8f1a-43cecea4cdc0\\' but no matching script tag was found. \")\\n      return false;\\n    }\\n  \\n    var js_urls = [];\\n  \\n    var inline_js = [\\n      function(Bokeh) {\\n        (function() {\\n          var fn = function() {\\n            var docs_json = {\"3e8ab8d8-e240-4035-98e9-f4483907bb7b\":{\"roots\":{\"references\":[{\"attributes\":{\"callback\":null,\"column_names\":[\"x\",\"y\"],\"data\":{\"x\":[1,2,3,4,5,6,7,8,9,10,11,12,13,14,15,16,17,18,19,20,21,22,23,24,25,26,27,28,29,30,31,32,33,34,35,36,37,38,39,40,41,42],\"y\":{\"__ndarray__\":\"q6qqqqqqAUDRRRdddNEFQJqZmZmZmQFAAAAAAAAA/D9mZmZmZmYEQJ7YiZ3YiQVAzczMzMzMAkBmZmZmZmb+P72G8hrKawBAeHh4eHh4AEA5juM4juMAQJqZmZmZmQFAO7ETO7ETA0AzMzMzMzMBQM3MzMzMzApAAAAAAAAAAkAAAAAAAAAAQM3MzMzMzARAMzMzMzMzA0DNzMzMzMwAQDMzMzMzM/8/ZmZmZmZmAEAAAAAAAAD0P5TXUF5Def0/zczMzMzMAkBmZmZmZmYCQAAAAAAAAABAAAAAAAAAAkBmZmZmZmb+P2ZmZmZmZgBAr6G8hvIaAkBmZmZmZmb+PwAAAAAAAAJAXXTRRRddBEBGF1100UUDQC+66KKLLgZAF1100UUXBUAYhmEYhmEAQDEMwzAMwwBA27Zt27ZtA0BiGIZhGIYBQJIkSZIkSQJA\",\"dtype\":\"float64\",\"shape\":[42]}}},\"id\":\"d0a12c4e-18ca-4321-a365-953cecbd4091\",\"type\":\"ColumnDataSource\"},{\"attributes\":{\"callback\":null,\"column_names\":[\"x\",\"y\"],\"data\":{\"x\":[1,2,3,4,5,6,7,8,9,10,11,12,13,14,15,16,17,18,19,20,21,22,23,24,25,26,27,28,29,30,31,32,33,34,35,36,37,38,39,40,41,42],\"y\":{\"__ndarray__\":\"AAAAAAAAAAAAAAAAAAAAAAAAAAAAAAAAAAAAAAAAAAAAAAAAAAAAAAAAAAAAAAAAAAAAAAAAAAAAAAAAAAAAAAAAAAAAAAAAAAAAAAAAAAAAAAAAAAAAAJqZmZmZmbk/FDuxEzuxsz+amZmZmZmpPzMzMzMzM8M/AAAAAAAA9D8zMzMzMzP3P2ZmZmZmZvY/ZmZmZmZm1j/NzMzMzMzkPzMzMzMzM+s/AAAAAAAAAAAzMzMzMzPjPwAAAAAAAAAAAAAAAAAAAAAAAAAAAAAAAGZmZmZmZuY/MzMzMzMzwz8AAAAAAAAAAAAAAAAAAAAAAAAAAAAAAAAAAAAAAAAAAAAAAAAAAAAAAAAAAAAAAAAAAAAAAAAAAAAAAAAAAAAARhdddNFFpz+SJEmSJEnCPwAAAAAAAAAAAAAAAAAAAAAYhmEYhmGoPwAAAAAAAAAA\",\"dtype\":\"float64\",\"shape\":[42]}}},\"id\":\"96dd6bc7-84cb-4e87-bce7-d41ba03ecffb\",\"type\":\"ColumnDataSource\"},{\"attributes\":{\"below\":[{\"id\":\"02327c6e-4a3e-4cfa-a04e-5047deb416ad\",\"type\":\"LinearAxis\"}],\"left\":[{\"id\":\"e5248dc1-52c2-4d61-913a-b367df21e706\",\"type\":\"LinearAxis\"}],\"plot_height\":800,\"plot_width\":800,\"renderers\":[{\"id\":\"02327c6e-4a3e-4cfa-a04e-5047deb416ad\",\"type\":\"LinearAxis\"},{\"id\":\"5a18483e-01b3-44f4-8349-3cdcda9820a1\",\"type\":\"Grid\"},{\"id\":\"e5248dc1-52c2-4d61-913a-b367df21e706\",\"type\":\"LinearAxis\"},{\"id\":\"74726cfd-a68e-4c8d-a4d8-93ce7930bf49\",\"type\":\"Grid\"},{\"id\":\"65f5a544-7119-4f3a-98df-d003e07f4f47\",\"type\":\"Legend\"},{\"id\":\"fb013cac-bd56-4f33-ae63-18e2e04333b6\",\"type\":\"GlyphRenderer\"},{\"id\":\"95a4ec87-fc6c-457a-a0d1-f6beefa5e2ea\",\"type\":\"GlyphRenderer\"},{\"id\":\"419bf6dc-af62-49ca-bde6-2fe748388950\",\"type\":\"GlyphRenderer\"},{\"id\":\"6ef06067-1bc4-4cd4-b3a8-60582a92a0c3\",\"type\":\"GlyphRenderer\"},{\"id\":\"829b428d-0290-4668-a4fe-b7ca9f040ad2\",\"type\":\"GlyphRenderer\"},{\"id\":\"75c1ede9-301a-4493-8653-09e53689e297\",\"type\":\"GlyphRenderer\"},{\"id\":\"25975e14-92c9-4306-9317-6df59471a633\",\"type\":\"GlyphRenderer\"},{\"id\":\"f346dd8b-7bcb-48b8-8dcc-3751798e6b0a\",\"type\":\"GlyphRenderer\"},{\"id\":\"dee184e0-a7cd-4d73-9aca-9052051940ec\",\"type\":\"GlyphRenderer\"},{\"id\":\"1f5cbdbf-ab30-471b-9bd8-b7ab923fefb0\",\"type\":\"GlyphRenderer\"}],\"title\":{\"id\":\"e23df84a-2025-45e7-9e35-4a970a716a3e\",\"type\":\"Title\"},\"tool_events\":{\"id\":\"989fd2ae-b84d-4c6c-bcb5-d29de5a20e44\",\"type\":\"ToolEvents\"},\"toolbar\":{\"id\":\"e6fdd105-f583-4b2d-93df-6734d64baba2\",\"type\":\"Toolbar\"},\"x_range\":{\"id\":\"d4c9a5db-aee8-4c8a-969a-db2158b494ad\",\"type\":\"Range1d\"},\"y_range\":{\"id\":\"2b5b652b-0138-4970-a2b0-1b04e216af0d\",\"type\":\"Range1d\"}},\"id\":\"6673ba6c-d665-4ce8-928e-2692531044fd\",\"subtype\":\"Figure\",\"type\":\"Plot\"},{\"attributes\":{\"line_color\":{\"value\":\"#fdae61\"},\"line_width\":{\"value\":3},\"x\":{\"field\":\"x\"},\"y\":{\"field\":\"y\"}},\"id\":\"e4d34382-428e-4c6f-80f3-909b1f8c36be\",\"type\":\"Line\"},{\"attributes\":{\"line_alpha\":{\"value\":0.1},\"line_color\":{\"value\":\"#1f77b4\"},\"line_width\":{\"value\":3},\"x\":{\"field\":\"x\"},\"y\":{\"field\":\"y\"}},\"id\":\"83b3efbe-51e9-48a1-a8cc-57a8f491580e\",\"type\":\"Line\"},{\"attributes\":{\"data_source\":{\"id\":\"d0a12c4e-18ca-4321-a365-953cecbd4091\",\"type\":\"ColumnDataSource\"},\"glyph\":{\"id\":\"e4d34382-428e-4c6f-80f3-909b1f8c36be\",\"type\":\"Line\"},\"hover_glyph\":null,\"nonselection_glyph\":{\"id\":\"83b3efbe-51e9-48a1-a8cc-57a8f491580e\",\"type\":\"Line\"},\"selection_glyph\":null},\"id\":\"f346dd8b-7bcb-48b8-8dcc-3751798e6b0a\",\"type\":\"GlyphRenderer\"},{\"attributes\":{\"label\":{\"value\":\"music\"},\"renderers\":[{\"id\":\"f346dd8b-7bcb-48b8-8dcc-3751798e6b0a\",\"type\":\"GlyphRenderer\"}]},\"id\":\"3b5a13fa-3414-4826-a9ac-e47267a9f338\",\"type\":\"LegendItem\"},{\"attributes\":{\"line_color\":{\"value\":\"#f46d43\"},\"line_width\":{\"value\":3},\"x\":{\"field\":\"x\"},\"y\":{\"field\":\"y\"}},\"id\":\"c11093ea-fc47-4553-9078-4ef03fc706af\",\"type\":\"Line\"},{\"attributes\":{\"callback\":null,\"column_names\":[\"x\",\"y\"],\"data\":{\"x\":[1,2,3,4,5,6,7,8,9,10,11,12,13,14,15,16,17,18,19,20,21,22,23,24,25,26,27,28,29,30,31,32,33,34,35,36,37,38,39,40,41,42],\"y\":[24,22,20,20,20,13,20,20,19,17,18,20,13,20,20,20,20,20,20,20,20,20,20,19,20,20,20,20,20,20,19,20,12,22,22,22,22,21,21,21,21,14]}},\"id\":\"72c67011-c488-43f6-b72a-a3d4d870e5df\",\"type\":\"ColumnDataSource\"},{\"attributes\":{\"data_source\":{\"id\":\"96dd6bc7-84cb-4e87-bce7-d41ba03ecffb\",\"type\":\"ColumnDataSource\"},\"glyph\":{\"id\":\"c11093ea-fc47-4553-9078-4ef03fc706af\",\"type\":\"Line\"},\"hover_glyph\":null,\"nonselection_glyph\":{\"id\":\"8663aacd-4a53-4bbb-b09d-e1a186ad396a\",\"type\":\"Line\"},\"selection_glyph\":null},\"id\":\"dee184e0-a7cd-4d73-9aca-9052051940ec\",\"type\":\"GlyphRenderer\"},{\"attributes\":{\"active_drag\":\"auto\",\"active_scroll\":\"auto\",\"active_tap\":\"auto\",\"tools\":[{\"id\":\"52b08576-f9a8-48c4-b0b5-f757868352e1\",\"type\":\"PanTool\"},{\"id\":\"7b928503-bb6d-4310-a45f-81e66f2d253f\",\"type\":\"ZoomInTool\"},{\"id\":\"6e226560-1c2d-4810-b81d-d47c6f850cee\",\"type\":\"ZoomOutTool\"},{\"id\":\"e440073c-352f-4e35-9025-3ecf772db008\",\"type\":\"UndoTool\"},{\"id\":\"dd6ffebc-cd2c-4942-984b-6bf918a7b83a\",\"type\":\"RedoTool\"},{\"id\":\"75dbb03b-4957-40f7-a6fd-023c5070e3bf\",\"type\":\"ResetTool\"},{\"id\":\"1a7827fa-f9cd-4ad6-b5f8-df04774dc2f2\",\"type\":\"SaveTool\"}]},\"id\":\"e6fdd105-f583-4b2d-93df-6734d64baba2\",\"type\":\"Toolbar\"},{\"attributes\":{\"line_alpha\":{\"value\":0.1},\"line_color\":{\"value\":\"#1f77b4\"},\"line_width\":{\"value\":3},\"x\":{\"field\":\"x\"},\"y\":{\"field\":\"y\"}},\"id\":\"8663aacd-4a53-4bbb-b09d-e1a186ad396a\",\"type\":\"Line\"},{\"attributes\":{\"label\":{\"value\":\"unknown\"},\"renderers\":[{\"id\":\"dee184e0-a7cd-4d73-9aca-9052051940ec\",\"type\":\"GlyphRenderer\"}]},\"id\":\"b898073c-3965-4b12-b924-43434940815b\",\"type\":\"LegendItem\"},{\"attributes\":{\"callback\":null,\"end\":45},\"id\":\"d4c9a5db-aee8-4c8a-969a-db2158b494ad\",\"type\":\"Range1d\"},{\"attributes\":{\"line_alpha\":{\"value\":0.1},\"line_color\":{\"value\":\"#1f77b4\"},\"line_width\":{\"value\":3},\"x\":{\"field\":\"x\"},\"y\":{\"field\":\"y\"}},\"id\":\"0e97aed8-946f-4034-8e00-a0c8d9ff92f9\",\"type\":\"Line\"},{\"attributes\":{\"line_color\":{\"value\":\"#d53e4f\"},\"line_width\":{\"value\":3},\"x\":{\"field\":\"x\"},\"y\":{\"field\":\"y\"}},\"id\":\"06ae1d61-1ed8-4526-bd2d-8ae7074da73e\",\"type\":\"Line\"},{\"attributes\":{\"formatter\":{\"id\":\"37edd089-6426-45a9-9c80-9c3df3ede064\",\"type\":\"BasicTickFormatter\"},\"plot\":{\"id\":\"6673ba6c-d665-4ce8-928e-2692531044fd\",\"subtype\":\"Figure\",\"type\":\"Plot\"},\"ticker\":{\"id\":\"b9c9789e-096e-4f65-b440-6331abcbadf5\",\"type\":\"BasicTicker\"}},\"id\":\"02327c6e-4a3e-4cfa-a04e-5047deb416ad\",\"type\":\"LinearAxis\"},{\"attributes\":{\"callback\":null,\"end\":65.42857142857143,\"start\":-10},\"id\":\"2b5b652b-0138-4970-a2b0-1b04e216af0d\",\"type\":\"Range1d\"},{\"attributes\":{\"data_source\":{\"id\":\"72c67011-c488-43f6-b72a-a3d4d870e5df\",\"type\":\"ColumnDataSource\"},\"glyph\":{\"id\":\"06ae1d61-1ed8-4526-bd2d-8ae7074da73e\",\"type\":\"Line\"},\"hover_glyph\":null,\"nonselection_glyph\":{\"id\":\"f74e19ff-d7ab-4af0-ad67-9ae96833dc4c\",\"type\":\"Line\"},\"selection_glyph\":null},\"id\":\"1f5cbdbf-ab30-471b-9bd8-b7ab923fefb0\",\"type\":\"GlyphRenderer\"},{\"attributes\":{},\"id\":\"b9c9789e-096e-4f65-b440-6331abcbadf5\",\"type\":\"BasicTicker\"},{\"attributes\":{\"line_alpha\":{\"value\":0.1},\"line_color\":{\"value\":\"#1f77b4\"},\"line_width\":{\"value\":3},\"x\":{\"field\":\"x\"},\"y\":{\"field\":\"y\"}},\"id\":\"f74e19ff-d7ab-4af0-ad67-9ae96833dc4c\",\"type\":\"Line\"},{\"attributes\":{\"plot\":{\"id\":\"6673ba6c-d665-4ce8-928e-2692531044fd\",\"subtype\":\"Figure\",\"type\":\"Plot\"},\"ticker\":{\"id\":\"b9c9789e-096e-4f65-b440-6331abcbadf5\",\"type\":\"BasicTicker\"}},\"id\":\"5a18483e-01b3-44f4-8349-3cdcda9820a1\",\"type\":\"Grid\"},{\"attributes\":{\"label\":{\"value\":\"Episodes\"},\"renderers\":[{\"id\":\"1f5cbdbf-ab30-471b-9bd8-b7ab923fefb0\",\"type\":\"GlyphRenderer\"}]},\"id\":\"de38494a-0bc2-4342-a52d-8442b5c37bbf\",\"type\":\"LegendItem\"},{\"attributes\":{\"formatter\":{\"id\":\"36a3976a-7654-4e43-b771-d82ecec17f01\",\"type\":\"BasicTickFormatter\"},\"plot\":{\"id\":\"6673ba6c-d665-4ce8-928e-2692531044fd\",\"subtype\":\"Figure\",\"type\":\"Plot\"},\"ticker\":{\"id\":\"4bc32f39-23b1-4f6c-b95f-ffe8983764bc\",\"type\":\"BasicTicker\"}},\"id\":\"e5248dc1-52c2-4d61-913a-b367df21e706\",\"type\":\"LinearAxis\"},{\"attributes\":{},\"id\":\"4bc32f39-23b1-4f6c-b95f-ffe8983764bc\",\"type\":\"BasicTicker\"},{\"attributes\":{\"dimension\":1,\"plot\":{\"id\":\"6673ba6c-d665-4ce8-928e-2692531044fd\",\"subtype\":\"Figure\",\"type\":\"Plot\"},\"ticker\":{\"id\":\"4bc32f39-23b1-4f6c-b95f-ffe8983764bc\",\"type\":\"BasicTicker\"}},\"id\":\"74726cfd-a68e-4c8d-a4d8-93ce7930bf49\",\"type\":\"Grid\"},{\"attributes\":{\"line_color\":{\"value\":\"#fee08b\"},\"line_width\":{\"value\":3},\"x\":{\"field\":\"x\"},\"y\":{\"field\":\"y\"}},\"id\":\"e893af61-8cfe-4154-a77b-fca8530d927a\",\"type\":\"Line\"},{\"attributes\":{\"data_source\":{\"id\":\"5fa43b7c-03a0-48fe-adb7-5795dc0ebb51\",\"type\":\"ColumnDataSource\"},\"glyph\":{\"id\":\"386d9eae-2731-4150-9031-139e89a01e0e\",\"type\":\"Line\"},\"hover_glyph\":null,\"nonselection_glyph\":{\"id\":\"0e97aed8-946f-4034-8e00-a0c8d9ff92f9\",\"type\":\"Line\"},\"selection_glyph\":null},\"id\":\"fb013cac-bd56-4f33-ae63-18e2e04333b6\",\"type\":\"GlyphRenderer\"},{\"attributes\":{\"line_color\":{\"value\":\"#5e4fa2\"},\"line_width\":{\"value\":3},\"x\":{\"field\":\"x\"},\"y\":{\"field\":\"y\"}},\"id\":\"386d9eae-2731-4150-9031-139e89a01e0e\",\"type\":\"Line\"},{\"attributes\":{},\"id\":\"989fd2ae-b84d-4c6c-bcb5-d29de5a20e44\",\"type\":\"ToolEvents\"},{\"attributes\":{\"callback\":null,\"column_names\":[\"x\",\"y\"],\"data\":{\"x\":[1,2,3,4,5,6,7,8,9,10,11,12,13,14,15,16,17,18,19,20,21,22,23,24,25,26,27,28,29,30,31,32,33,34,35,36,37,38,39,40,41,42],\"y\":{\"__ndarray__\":\"q6qqqqqq4j+66KKLLrroP2ZmZmZmZgxAMzMzMzMz6z8zMzMzMzPzP4qd2Imd2Pk/ZmZmZmZm8j+amZmZmZnxPw3lNZTXUO4/pqWlpaWl9T9VVVVVVVXVP5qZmZmZmfE/dmIndmIn9j/NzMzMzMzkP5qZmZmZmdk/MzMzMzMz6z/NzMzMzMz0P2ZmZmZmZuY/ZmZmZmZm7j8zMzMzMzPrP2ZmZmZmZvo/mpmZmZmZ8T8AAAAAAAD8P8prKK+hvPY/mpmZmZmZ+T/NzMzMzMz8P83MzMzMzPA/mpmZmZmZ8T+amZmZmZn1P2ZmZmZmZu4/AAAAAAAA8D/NzMzMzMzsP1VVVVVVVfk/RhdddNFF/z/poosuuuj6P7rooosuuvg/o4suuuiiA0AlSZIkSZIEQEmSJEmSJPk/z/M8z/M8/z8xDMMwDMMAQLdt27Zt2/Y/\",\"dtype\":\"float64\",\"shape\":[42]}}},\"id\":\"72a09d55-ca27-4b85-b2c1-c4e8beebf905\",\"type\":\"ColumnDataSource\"},{\"attributes\":{\"callback\":null,\"column_names\":[\"x\",\"y\"],\"data\":{\"x\":[1,2,3,4,5,6,7,8,9,10,11,12,13,14,15,16,17,18,19,20,21,22,23,24,25,26,27,28,29,30,31,32,33,34,35,36,37,38,39,40,41,42],\"y\":{\"__ndarray__\":\"VVVVVVXVTkC66KKLLjpQQJqZmZmZ+U5AzczMzMzMS0DNzMzMzOxLQJ7YiZ3YiUtAzczMzMyMRUDNzMzMzOxEQIfyGsprKEdAHh4eHh4eRkCO4ziO43hHQDMzMzMz80hAxU7sxE7sREDNzMzMzKxHQDMzMzMzU0ZAzczMzMzsSUDNzMzMzOxMQGZmZmZmxkpAAAAAAADgTEAzMzMzM5NKQAAAAAAAoEpAZmZmZmZmRkAAAAAAAEBJQL2G8hrK60dAMzMzMzMTR0BmZmZmZuZIQDMzMzMzU0tAmpmZmZlZTEBmZmZmZgZKQM3MzMzMDExAbCivobyGT0AzMzMzM1NJQFVVVVVVFU1AL7rooosuTEBGF1100UVMQKOLLrroIkxARhdddNGFTUC3bdu2bVtNQKuqqqqqqk5Anud5nuf5TkC3bdu2bVtQQEmSJEmSZEtA\",\"dtype\":\"float64\",\"shape\":[42]}}},\"id\":\"5fa43b7c-03a0-48fe-adb7-5795dc0ebb51\",\"type\":\"ColumnDataSource\"},{\"attributes\":{},\"id\":\"36a3976a-7654-4e43-b771-d82ecec17f01\",\"type\":\"BasicTickFormatter\"},{\"attributes\":{\"plot\":{\"id\":\"6673ba6c-d665-4ce8-928e-2692531044fd\",\"subtype\":\"Figure\",\"type\":\"Plot\"}},\"id\":\"52b08576-f9a8-48c4-b0b5-f757868352e1\",\"type\":\"PanTool\"},{\"attributes\":{},\"id\":\"37edd089-6426-45a9-9c80-9c3df3ede064\",\"type\":\"BasicTickFormatter\"},{\"attributes\":{\"plot\":{\"id\":\"6673ba6c-d665-4ce8-928e-2692531044fd\",\"subtype\":\"Figure\",\"type\":\"Plot\"}},\"id\":\"7b928503-bb6d-4310-a45f-81e66f2d253f\",\"type\":\"ZoomInTool\"},{\"attributes\":{\"plot\":{\"id\":\"6673ba6c-d665-4ce8-928e-2692531044fd\",\"subtype\":\"Figure\",\"type\":\"Plot\"}},\"id\":\"6e226560-1c2d-4810-b81d-d47c6f850cee\",\"type\":\"ZoomOutTool\"},{\"attributes\":{\"plot\":{\"id\":\"6673ba6c-d665-4ce8-928e-2692531044fd\",\"subtype\":\"Figure\",\"type\":\"Plot\"}},\"id\":\"e440073c-352f-4e35-9025-3ecf772db008\",\"type\":\"UndoTool\"},{\"attributes\":{\"plot\":{\"id\":\"6673ba6c-d665-4ce8-928e-2692531044fd\",\"subtype\":\"Figure\",\"type\":\"Plot\"}},\"id\":\"dd6ffebc-cd2c-4942-984b-6bf918a7b83a\",\"type\":\"RedoTool\"},{\"attributes\":{\"plot\":{\"id\":\"6673ba6c-d665-4ce8-928e-2692531044fd\",\"subtype\":\"Figure\",\"type\":\"Plot\"}},\"id\":\"75dbb03b-4957-40f7-a6fd-023c5070e3bf\",\"type\":\"ResetTool\"},{\"attributes\":{\"plot\":{\"id\":\"6673ba6c-d665-4ce8-928e-2692531044fd\",\"subtype\":\"Figure\",\"type\":\"Plot\"}},\"id\":\"1a7827fa-f9cd-4ad6-b5f8-df04774dc2f2\",\"type\":\"SaveTool\"},{\"attributes\":{\"plot\":null,\"text\":\"\"},\"id\":\"e23df84a-2025-45e7-9e35-4a970a716a3e\",\"type\":\"Title\"},{\"attributes\":{\"items\":[{\"id\":\"63e53d32-c773-4a16-aef2-d4953d507a94\",\"type\":\"LegendItem\"},{\"id\":\"4bfc0793-4527-4641-9629-606a92935e8e\",\"type\":\"LegendItem\"},{\"id\":\"8053405b-74d0-4647-9bea-6e9e7aa9ac9c\",\"type\":\"LegendItem\"},{\"id\":\"7904a845-4f7b-438c-834e-25dfde49b9c1\",\"type\":\"LegendItem\"},{\"id\":\"5d648970-6c22-4c5a-bfbd-5ff68f286ee6\",\"type\":\"LegendItem\"},{\"id\":\"11f09a11-0831-4751-9bac-ec2e313a3f96\",\"type\":\"LegendItem\"},{\"id\":\"827513b1-151a-43d9-94ee-337daa01bb9d\",\"type\":\"LegendItem\"},{\"id\":\"3b5a13fa-3414-4826-a9ac-e47267a9f338\",\"type\":\"LegendItem\"},{\"id\":\"b898073c-3965-4b12-b924-43434940815b\",\"type\":\"LegendItem\"},{\"id\":\"de38494a-0bc2-4342-a52d-8442b5c37bbf\",\"type\":\"LegendItem\"}],\"plot\":{\"id\":\"6673ba6c-d665-4ce8-928e-2692531044fd\",\"subtype\":\"Figure\",\"type\":\"Plot\"}},\"id\":\"65f5a544-7119-4f3a-98df-d003e07f4f47\",\"type\":\"Legend\"},{\"attributes\":{\"label\":{\"value\":\"Appearances\"},\"renderers\":[{\"id\":\"fb013cac-bd56-4f33-ae63-18e2e04333b6\",\"type\":\"GlyphRenderer\"}]},\"id\":\"63e53d32-c773-4a16-aef2-d4953d507a94\",\"type\":\"LegendItem\"},{\"attributes\":{\"line_color\":{\"value\":\"#3288bd\"},\"line_width\":{\"value\":3},\"x\":{\"field\":\"x\"},\"y\":{\"field\":\"y\"}},\"id\":\"4d676b33-a8d4-4c6f-b697-6688d7dfa248\",\"type\":\"Line\"},{\"attributes\":{\"callback\":null,\"column_names\":[\"x\",\"y\"],\"data\":{\"x\":[1,2,3,4,5,6,7,8,9,10,11,12,13,14,15,16,17,18,19,20,21,22,23,24,25,26,27,28,29,30,31,32,33,34,35,36,37,38,39,40,41,42],\"y\":{\"__ndarray__\":\"VVVVVVWFQUC66KKLLrpBQJqZmZmZeUJAZmZmZmZGQUDNzMzMzGxCQCd2Yid24kJAMzMzMzOzPUAzMzMzMzM+QFFeQ3kNZUBA4uHh4eHhPUDkOI7jOE5AQGZmZmZmpj9AT+zETuzEPEAzMzMzMzNBQGZmZmZmZj5AMzMzMzMTQkBmZmZmZiZFQJqZmZmZWUNAzczMzMxsRUAAAAAAAMBDQJqZmZmZGUJAmpmZmZkZQECamZmZmXlBQBvKayivIUFAZmZmZmZmQEDNzMzMzGxCQGZmZmZmBkVAzczMzMxsRUDNzMzMzCxDQJqZmZmZeUVAoryG8hrKR0CamZmZmZlCQFVVVVVVNURAuuiiiy56REBddNFFF11EQOmiiy66qERAo4suuujiRUBiGIZhGAZGQFVVVVVVVUdASZIkSZIkSECSJEmSJElJQAAAAAAAgEVA\",\"dtype\":\"float64\",\"shape\":[42]}}},\"id\":\"7a672f0f-8c54-449b-a360-059ec3a8a235\",\"type\":\"ColumnDataSource\"},{\"attributes\":{\"data_source\":{\"id\":\"72a09d55-ca27-4b85-b2c1-c4e8beebf905\",\"type\":\"ColumnDataSource\"},\"glyph\":{\"id\":\"4d676b33-a8d4-4c6f-b697-6688d7dfa248\",\"type\":\"Line\"},\"hover_glyph\":null,\"nonselection_glyph\":{\"id\":\"4561f1e4-adfc-4e8f-95aa-ff1f5f003a21\",\"type\":\"Line\"},\"selection_glyph\":null},\"id\":\"95a4ec87-fc6c-457a-a0d1-f6beefa5e2ea\",\"type\":\"GlyphRenderer\"},{\"attributes\":{\"line_alpha\":{\"value\":0.1},\"line_color\":{\"value\":\"#1f77b4\"},\"line_width\":{\"value\":3},\"x\":{\"field\":\"x\"},\"y\":{\"field\":\"y\"}},\"id\":\"4561f1e4-adfc-4e8f-95aa-ff1f5f003a21\",\"type\":\"Line\"},{\"attributes\":{\"label\":{\"value\":\"cameo\"},\"renderers\":[{\"id\":\"95a4ec87-fc6c-457a-a0d1-f6beefa5e2ea\",\"type\":\"GlyphRenderer\"}]},\"id\":\"4bfc0793-4527-4641-9629-606a92935e8e\",\"type\":\"LegendItem\"},{\"attributes\":{\"line_color\":{\"value\":\"#66c2a5\"},\"line_width\":{\"value\":3},\"x\":{\"field\":\"x\"},\"y\":{\"field\":\"y\"}},\"id\":\"06979bde-104e-4bf9-b9af-d192cd64f856\",\"type\":\"Line\"},{\"attributes\":{\"callback\":null,\"column_names\":[\"x\",\"y\"],\"data\":{\"x\":[1,2,3,4,5,6,7,8,9,10,11,12,13,14,15,16,17,18,19,20,21,22,23,24,25,26,27,28,29,30,31,32,33,34,35,36,37,38,39,40,41,42],\"y\":{\"__ndarray__\":\"q6qqqqqqKkAXXXTRRZcxQJqZmZmZGSlAAAAAAACAKUBmZmZmZmYiQHZiJ3ZiJxpAMzMzMzMzEkCamZmZmZn9P9hQXkN5DQVADw8PDw8PE0BVVVVVVVURQM3MzMzMzBhAdmIndmInBkAAAAAAAAAMQDMzMzMzMxNAzczMzMzMEUDNzMzMzMwMQAAAAAAAAA5AzczMzMzMDkAAAAAAAAAGQGZmZmZmZhlAMzMzMzMzC0CamZmZmZkRQAAAAAAAAAhAMzMzMzMzA0AzMzMzMzMHQGZmZmZmZv4/mpmZmZmZA0AzMzMzMzMFQDMzMzMzMwlANpTXUF5DEUAAAAAAAAAIQFVVVVVVVRNAXXTRRRddCEDRRRdddNEJQNFFF1100QlAXXTRRRddBEBiGIZhGIYBQD3P8zzP8wRAwzAMwzAM8z/P8zzP8zz/P27btm3btu0/\",\"dtype\":\"float64\",\"shape\":[42]}}},\"id\":\"558c98ad-8a34-4fbb-aace-80b1c7fcbb71\",\"type\":\"ColumnDataSource\"},{\"attributes\":{\"data_source\":{\"id\":\"7a672f0f-8c54-449b-a360-059ec3a8a235\",\"type\":\"ColumnDataSource\"},\"glyph\":{\"id\":\"06979bde-104e-4bf9-b9af-d192cd64f856\",\"type\":\"Line\"},\"hover_glyph\":null,\"nonselection_glyph\":{\"id\":\"33b2d2c9-e278-49eb-93f3-efbda0c1c479\",\"type\":\"Line\"},\"selection_glyph\":null},\"id\":\"419bf6dc-af62-49ca-bde6-2fe748388950\",\"type\":\"GlyphRenderer\"},{\"attributes\":{\"line_alpha\":{\"value\":0.1},\"line_color\":{\"value\":\"#1f77b4\"},\"line_width\":{\"value\":3},\"x\":{\"field\":\"x\"},\"y\":{\"field\":\"y\"}},\"id\":\"33b2d2c9-e278-49eb-93f3-efbda0c1c479\",\"type\":\"Line\"},{\"attributes\":{\"label\":{\"value\":\"cast\"},\"renderers\":[{\"id\":\"419bf6dc-af62-49ca-bde6-2fe748388950\",\"type\":\"GlyphRenderer\"}]},\"id\":\"8053405b-74d0-4647-9bea-6e9e7aa9ac9c\",\"type\":\"LegendItem\"},{\"attributes\":{\"line_color\":{\"value\":\"#abdda4\"},\"line_width\":{\"value\":3},\"x\":{\"field\":\"x\"},\"y\":{\"field\":\"y\"}},\"id\":\"d2c2d8d2-4990-4e00-8e1f-fb549699d437\",\"type\":\"Line\"},{\"attributes\":{\"callback\":null,\"column_names\":[\"x\",\"y\"],\"data\":{\"x\":[1,2,3,4,5,6,7,8,9,10,11,12,13,14,15,16,17,18,19,20,21,22,23,24,25,26,27,28,29,30,31,32,33,34,35,36,37,38,39,40,41,42],\"y\":{\"__ndarray__\":\"VVVVVVVV9T/RRRdddNH1PwAAAAAAANA/zczMzMzM3D+amZmZmZnJP9mJndiJndg/MzMzMzMz0z/NzMzMzMzcPyivobyG8so/tbS0tLS05D8AAAAAAAAAAJqZmZmZmdk/ntiJndiJzT8AAAAAAADQPwAAAAAAAAAAAAAAAAAA0D8AAAAAAADQP5qZmZmZmak/MzMzMzMz0z8AAAAAAADgP83MzMzMzNw/MzMzMzMz0z8AAAAAAADgP3kN5TWU19A/mpmZmZmZ2T+amZmZmZm5PzMzMzMzM9M/AAAAAAAA4D+amZmZmZm5P2ZmZmZmZtY/XkN5DeU15D8AAAAAAADQPwAAAAAAAOg/L7rooosu2j8AAAAAAADgP6OLLrroous/RhdddNFF1z+e53me53nOP57neZ7ned4/GIZhGIZhyD96nud5nufpP5IkSZIkSbI/\",\"dtype\":\"float64\",\"shape\":[42]}}},\"id\":\"5da29b07-df06-4de7-989e-e521728654a7\",\"type\":\"ColumnDataSource\"},{\"attributes\":{\"data_source\":{\"id\":\"558c98ad-8a34-4fbb-aace-80b1c7fcbb71\",\"type\":\"ColumnDataSource\"},\"glyph\":{\"id\":\"d2c2d8d2-4990-4e00-8e1f-fb549699d437\",\"type\":\"Line\"},\"hover_glyph\":null,\"nonselection_glyph\":{\"id\":\"a327bc4c-69b1-429a-895d-fecc74e0615a\",\"type\":\"Line\"},\"selection_glyph\":null},\"id\":\"6ef06067-1bc4-4cd4-b3a8-60582a92a0c3\",\"type\":\"GlyphRenderer\"},{\"attributes\":{\"line_alpha\":{\"value\":0.1},\"line_color\":{\"value\":\"#1f77b4\"},\"line_width\":{\"value\":3},\"x\":{\"field\":\"x\"},\"y\":{\"field\":\"y\"}},\"id\":\"a327bc4c-69b1-429a-895d-fecc74e0615a\",\"type\":\"Line\"},{\"attributes\":{\"label\":{\"value\":\"crew\"},\"renderers\":[{\"id\":\"6ef06067-1bc4-4cd4-b3a8-60582a92a0c3\",\"type\":\"GlyphRenderer\"}]},\"id\":\"7904a845-4f7b-438c-834e-25dfde49b9c1\",\"type\":\"LegendItem\"},{\"attributes\":{\"line_color\":{\"value\":\"#e6f598\"},\"line_width\":{\"value\":3},\"x\":{\"field\":\"x\"},\"y\":{\"field\":\"y\"}},\"id\":\"522914c8-0401-4b40-b992-a8ac6a152be5\",\"type\":\"Line\"},{\"attributes\":{\"data_source\":{\"id\":\"5da29b07-df06-4de7-989e-e521728654a7\",\"type\":\"ColumnDataSource\"},\"glyph\":{\"id\":\"522914c8-0401-4b40-b992-a8ac6a152be5\",\"type\":\"Line\"},\"hover_glyph\":null,\"nonselection_glyph\":{\"id\":\"8c29cdad-7046-43cd-926b-92e281170ad7\",\"type\":\"Line\"},\"selection_glyph\":null},\"id\":\"829b428d-0290-4668-a4fe-b7ca9f040ad2\",\"type\":\"GlyphRenderer\"},{\"attributes\":{\"line_alpha\":{\"value\":0.1},\"line_color\":{\"value\":\"#1f77b4\"},\"line_width\":{\"value\":3},\"x\":{\"field\":\"x\"},\"y\":{\"field\":\"y\"}},\"id\":\"8c29cdad-7046-43cd-926b-92e281170ad7\",\"type\":\"Line\"},{\"attributes\":{\"label\":{\"value\":\"filmed\"},\"renderers\":[{\"id\":\"829b428d-0290-4668-a4fe-b7ca9f040ad2\",\"type\":\"GlyphRenderer\"}]},\"id\":\"5d648970-6c22-4c5a-bfbd-5ff68f286ee6\",\"type\":\"LegendItem\"},{\"attributes\":{\"callback\":null,\"column_names\":[\"x\",\"y\"],\"data\":{\"x\":[1,2,3,4,5,6,7,8,9,10,11,12,13,14,15,16,17,18,19,20,21,22,23,24,25,26,27,28,29,30,31,32,33,34,35,36,37,38,39,40,41,42],\"y\":{\"__ndarray__\":\"VVVVVVVV/T900UUXXXTRPwAAAAAAANA/mpmZmZmZuT8zMzMzMzPDPwAAAAAAAAAAMzMzMzMz4z+amZmZmZnhP0N5DeU1lNc/l5aWlpaWxj+O4ziO4zjuP2ZmZmZmZvI/FDuxEzuxwz8zMzMzMzPDPwAAAAAAAAAAmpmZmZmZuT8AAAAAAAAAAJqZmZmZmbk/mpmZmZmZqT+amZmZmZm5PwAAAAAAAAAAmpmZmZmZyT9mZmZmZmbWPyivobyG8so/AAAAAAAAAAAAAAAAAAAAAAAAAAAAAAAAMzMzMzMzwz8AAAAAAAAAAJqZmZmZmak/AAAAAAAAAAAAAAAAAAAAAAAAAAAAAAAAAAAAAAAAAAAAAAAAAAAAAAAAAAAAAAAAdNFFF1100T8AAAAAAAAAAAAAAAAAAAAAAAAAAAAAAAAYhmEYhmG4PwAAAAAAAAAA\",\"dtype\":\"float64\",\"shape\":[42]}}},\"id\":\"7727c8c7-0c3c-461a-ac4e-4ade4021c173\",\"type\":\"ColumnDataSource\"},{\"attributes\":{\"line_color\":{\"value\":\"#ffffbf\"},\"line_width\":{\"value\":3},\"x\":{\"field\":\"x\"},\"y\":{\"field\":\"y\"}},\"id\":\"7e2d3687-2e35-411f-83fe-e0bce5c52ccf\",\"type\":\"Line\"},{\"attributes\":{\"callback\":null,\"column_names\":[\"x\",\"y\"],\"data\":{\"x\":[1,2,3,4,5,6,7,8,9,10,11,12,13,14,15,16,17,18,19,20,21,22,23,24,25,26,27,28,29,30,31,32,33,34,35,36,37,38,39,40,41,42],\"y\":{\"__ndarray__\":\"VVVVVVVVHUDpoosuuugaQM3MzMzMzBhAmpmZmZmZFEDNzMzMzMwWQOzETuzEThhAzczMzMzMEUAzMzMzMzMXQDaU11BeQx1AaWlpaWlpFUAcx3Ecx3EaQGZmZmZmZhxA7MRO7MROGEDNzMzMzMwYQDMzMzMzMxZAMzMzMzMzGkDNzMzMzMwbQAAAAAAAABlAAAAAAAAAHEDNzMzMzMwaQDMzMzMzMxdAMzMzMzMzFkDNzMzMzMwaQOU1lNdQXhtAZmZmZmZmGkBmZmZmZmYXQJqZmZmZmRpAAAAAAAAAHUDNzMzMzMweQGZmZmZmZhpA2FBeQ3kNHUCamZmZmZkdQKuqqqqqqiBA0UUXXXTRHUAAAAAAAAAgQC+66KKLLhpA0UUXXXTRG0B6nud5nucdQOh5nud5nh9A6Hme53meH0CrqqqqqqoeQJIkSZIkSRxA\",\"dtype\":\"float64\",\"shape\":[42]}}},\"id\":\"821166c7-d501-45b3-b7b5-0db3bff466c7\",\"type\":\"ColumnDataSource\"},{\"attributes\":{\"data_source\":{\"id\":\"7727c8c7-0c3c-461a-ac4e-4ade4021c173\",\"type\":\"ColumnDataSource\"},\"glyph\":{\"id\":\"7e2d3687-2e35-411f-83fe-e0bce5c52ccf\",\"type\":\"Line\"},\"hover_glyph\":null,\"nonselection_glyph\":{\"id\":\"32f5fd34-b8c5-45e5-a3f4-d5a6dcc9398b\",\"type\":\"Line\"},\"selection_glyph\":null},\"id\":\"75c1ede9-301a-4493-8653-09e53689e297\",\"type\":\"GlyphRenderer\"},{\"attributes\":{\"line_alpha\":{\"value\":0.1},\"line_color\":{\"value\":\"#1f77b4\"},\"line_width\":{\"value\":3},\"x\":{\"field\":\"x\"},\"y\":{\"field\":\"y\"}},\"id\":\"32f5fd34-b8c5-45e5-a3f4-d5a6dcc9398b\",\"type\":\"Line\"},{\"attributes\":{\"label\":{\"value\":\"guest\"},\"renderers\":[{\"id\":\"75c1ede9-301a-4493-8653-09e53689e297\",\"type\":\"GlyphRenderer\"}]},\"id\":\"11f09a11-0831-4751-9bac-ec2e313a3f96\",\"type\":\"LegendItem\"},{\"attributes\":{\"label\":{\"value\":\"host\"},\"renderers\":[{\"id\":\"25975e14-92c9-4306-9317-6df59471a633\",\"type\":\"GlyphRenderer\"}]},\"id\":\"827513b1-151a-43d9-94ee-337daa01bb9d\",\"type\":\"LegendItem\"},{\"attributes\":{\"data_source\":{\"id\":\"821166c7-d501-45b3-b7b5-0db3bff466c7\",\"type\":\"ColumnDataSource\"},\"glyph\":{\"id\":\"e893af61-8cfe-4154-a77b-fca8530d927a\",\"type\":\"Line\"},\"hover_glyph\":null,\"nonselection_glyph\":{\"id\":\"efce504b-9768-4a33-87f5-62086a4f997e\",\"type\":\"Line\"},\"selection_glyph\":null},\"id\":\"25975e14-92c9-4306-9317-6df59471a633\",\"type\":\"GlyphRenderer\"},{\"attributes\":{\"line_alpha\":{\"value\":0.1},\"line_color\":{\"value\":\"#1f77b4\"},\"line_width\":{\"value\":3},\"x\":{\"field\":\"x\"},\"y\":{\"field\":\"y\"}},\"id\":\"efce504b-9768-4a33-87f5-62086a4f997e\",\"type\":\"Line\"}],\"root_ids\":[\"6673ba6c-d665-4ce8-928e-2692531044fd\"]},\"title\":\"Bokeh Application\",\"version\":\"0.12.4\"}};\\n            var render_items = [{\"docid\":\"3e8ab8d8-e240-4035-98e9-f4483907bb7b\",\"elementid\":\"f487cac6-5bd1-468a-8f1a-43cecea4cdc0\",\"modelid\":\"6673ba6c-d665-4ce8-928e-2692531044fd\"}];\\n            \\n            Bokeh.embed.embed_items(docs_json, render_items);\\n          };\\n          if (document.readyState != \"loading\") fn();\\n          else document.addEventListener(\"DOMContentLoaded\", fn);\\n        })();\\n      },\\n      function(Bokeh) {\\n      }\\n    ];\\n  \\n    function run_inline_js() {\\n      \\n      if ((window.Bokeh !== undefined) || (force === true)) {\\n        for (var i = 0; i < inline_js.length; i++) {\\n          inline_js[i](window.Bokeh);\\n        }if (force === true) {\\n          display_loaded();\\n        }} else if (Date.now() < window._bokeh_timeout) {\\n        setTimeout(run_inline_js, 100);\\n      } else if (!window._bokeh_failed_load) {\\n        console.log(\"Bokeh: BokehJS failed to load within specified timeout.\");\\n        window._bokeh_failed_load = true;\\n      } else if (force !== true) {\\n        var cell = $(document.getElementById(\"f487cac6-5bd1-468a-8f1a-43cecea4cdc0\")).parents(\\'.cell\\').data().cell;\\n        cell.output_area.append_execute_result(NB_LOAD_WARNING)\\n      }\\n  \\n    }\\n  \\n    if (window._bokeh_is_loading === 0) {\\n      console.log(\"Bokeh: BokehJS loaded, going straight to plotting\");\\n      run_inline_js();\\n    } else {\\n      load_libs(js_urls, function() {\\n        console.log(\"Bokeh: BokehJS plotting callback run at\", now());\\n        run_inline_js();\\n      });\\n    }\\n  }(this));\\n</script>'"
      ]
     },
     "execution_count": 11,
     "metadata": {},
     "output_type": "execute_result"
    }
   ],
   "source": [
    "notebook_div(p)"
   ]
  },
  {
   "cell_type": "code",
   "execution_count": null,
   "metadata": {
    "collapsed": true
   },
   "outputs": [],
   "source": []
  }
 ],
 "metadata": {
  "kernelspec": {
   "display_name": "Python 3",
   "language": "python",
   "name": "python3"
  },
  "language_info": {
   "codemirror_mode": {
    "name": "ipython",
    "version": 3
   },
   "file_extension": ".py",
   "mimetype": "text/x-python",
   "name": "python",
   "nbconvert_exporter": "python",
   "pygments_lexer": "ipython3",
   "version": "3.6.0"
  }
 },
 "nbformat": 4,
 "nbformat_minor": 2
}
